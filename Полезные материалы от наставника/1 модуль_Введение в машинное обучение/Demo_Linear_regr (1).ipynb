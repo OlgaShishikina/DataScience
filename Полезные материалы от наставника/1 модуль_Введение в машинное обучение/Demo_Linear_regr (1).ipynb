{
  "nbformat": 4,
  "nbformat_minor": 0,
  "metadata": {
    "colab": {
      "provenance": []
    },
    "kernelspec": {
      "name": "python3",
      "display_name": "Python 3"
    },
    "language_info": {
      "name": "python"
    }
  },
  "cells": [
    {
      "cell_type": "code",
      "execution_count": null,
      "metadata": {
        "id": "m380qIGqAKnA"
      },
      "outputs": [],
      "source": [
        "import pandas as pd\n",
        "import numpy as np\n",
        "\n",
        "from sklearn.datasets import fetch_california_housing\n",
        "from sklearn.model_selection import train_test_split\n",
        "from sklearn.linear_model import LinearRegression, SGDRegressor\n",
        "from sklearn.preprocessing import PolynomialFeatures\n",
        "from sklearn.metrics import mean_squared_error\n",
        "\n",
        "from sklearn.preprocessing import StandardScaler\n",
        "\n",
        "\n",
        "import matplotlib.pyplot as plt\n",
        "import seaborn as sns\n"
      ]
    },
    {
      "cell_type": "code",
      "source": [
        "pd.set_option('display.max_columns', 50)\n",
        "pd.set_option('display.max_rows', 20)\n",
        "pd.options.display.float_format = '{:.2f}'.format\n",
        "pd.options.mode.use_inf_as_na = True\n",
        "\n",
        "\n",
        "\n",
        "%config InlineBackend.figure_format = 'svg'\n",
        "%matplotlib inline"
      ],
      "metadata": {
        "id": "8zb-HwIZBPwk"
      },
      "execution_count": null,
      "outputs": []
    },
    {
      "cell_type": "markdown",
      "source": [
        "# Рассмотрим пример с данными\n"
      ],
      "metadata": {
        "id": "j4MaSYYaBiJp"
      }
    },
    {
      "cell_type": "markdown",
      "source": [
        "**Линейная регрессия** &mdash; это модель следующего вида:\n",
        "$$a(x) = \\langle w, x \\rangle + w_0$$\n",
        "где $w \\in \\mathbb{R}^d$, $w_0 \\in \\mathbb{R}$. Обучить линейную регрессию &mdash; значит найти $w = [w_1, w_2, ... , w_n]$ и $w_0$."
      ],
      "metadata": {
        "id": "_2wWNO-jBSN3"
      }
    },
    {
      "cell_type": "markdown",
      "source": [
        "- MedInc: Медианная доходность района.\n",
        "- HouseAge: Медианный возраст домов в районе.\n",
        "- AveRooms: Среднее количество комнат в доме.\n",
        "- AveBedrms: Среднее количество спален в доме.\n",
        "- Population: Общая численность населения в районе.\n",
        "- AveOccup: Среднее количество людей, проживающих в доме.\n",
        "- Latitude: Широта координаты района.\n",
        "- Longitude: Долгота координаты района.\n",
        "\n",
        "\n",
        "\n",
        "Target (также называется MedHouseVal): Медианная стоимость домов в районе (целевая переменная)."
      ],
      "metadata": {
        "id": "3sbiXJNZBkzl"
      }
    },
    {
      "cell_type": "code",
      "source": [
        "data = fetch_california_housing(as_frame=True)\n",
        "df = data.frame"
      ],
      "metadata": {
        "id": "BuqY6y90B0zJ"
      },
      "execution_count": null,
      "outputs": []
    },
    {
      "cell_type": "code",
      "source": [
        "df.drop(columns=['Longitude', 'Latitude'], inplace=True)"
      ],
      "metadata": {
        "id": "IKpSn8eLdm8o"
      },
      "execution_count": null,
      "outputs": []
    },
    {
      "cell_type": "code",
      "source": [
        "target = df.MedHouseVal"
      ],
      "metadata": {
        "id": "XitGNSC2B2e1"
      },
      "execution_count": null,
      "outputs": []
    },
    {
      "cell_type": "code",
      "source": [
        "df.columns"
      ],
      "metadata": {
        "colab": {
          "base_uri": "https://localhost:8080/"
        },
        "id": "ZRqDqQK6B4W-",
        "outputId": "d14dce37-64e7-4c38-d116-731da544521a"
      },
      "execution_count": null,
      "outputs": [
        {
          "output_type": "execute_result",
          "data": {
            "text/plain": [
              "Index(['MedInc', 'HouseAge', 'AveRooms', 'AveBedrms', 'Population', 'AveOccup',\n",
              "       'MedHouseVal'],\n",
              "      dtype='object')"
            ]
          },
          "metadata": {},
          "execution_count": 6
        }
      ]
    },
    {
      "cell_type": "code",
      "source": [
        "df"
      ],
      "metadata": {
        "colab": {
          "base_uri": "https://localhost:8080/",
          "height": 424
        },
        "id": "l83P1HraFrPB",
        "outputId": "00c31b8e-9e1d-45b7-a2f3-330efc553d93"
      },
      "execution_count": null,
      "outputs": [
        {
          "output_type": "execute_result",
          "data": {
            "text/plain": [
              "       MedInc  HouseAge  AveRooms  AveBedrms  Population  AveOccup  \\\n",
              "0        8.33     41.00      6.98       1.02      322.00      2.56   \n",
              "1        8.30     21.00      6.24       0.97     2401.00      2.11   \n",
              "2        7.26     52.00      8.29       1.07      496.00      2.80   \n",
              "3        5.64     52.00      5.82       1.07      558.00      2.55   \n",
              "4        3.85     52.00      6.28       1.08      565.00      2.18   \n",
              "...       ...       ...       ...        ...         ...       ...   \n",
              "20635    1.56     25.00      5.05       1.13      845.00      2.56   \n",
              "20636    2.56     18.00      6.11       1.32      356.00      3.12   \n",
              "20637    1.70     17.00      5.21       1.12     1007.00      2.33   \n",
              "20638    1.87     18.00      5.33       1.17      741.00      2.12   \n",
              "20639    2.39     16.00      5.25       1.16     1387.00      2.62   \n",
              "\n",
              "       MedHouseVal  \n",
              "0             4.53  \n",
              "1             3.58  \n",
              "2             3.52  \n",
              "3             3.41  \n",
              "4             3.42  \n",
              "...            ...  \n",
              "20635         0.78  \n",
              "20636         0.77  \n",
              "20637         0.92  \n",
              "20638         0.85  \n",
              "20639         0.89  \n",
              "\n",
              "[20640 rows x 7 columns]"
            ],
            "text/html": [
              "\n",
              "  <div id=\"df-e7fec849-02a3-41ac-ba48-59a6e5763dc4\" class=\"colab-df-container\">\n",
              "    <div>\n",
              "<style scoped>\n",
              "    .dataframe tbody tr th:only-of-type {\n",
              "        vertical-align: middle;\n",
              "    }\n",
              "\n",
              "    .dataframe tbody tr th {\n",
              "        vertical-align: top;\n",
              "    }\n",
              "\n",
              "    .dataframe thead th {\n",
              "        text-align: right;\n",
              "    }\n",
              "</style>\n",
              "<table border=\"1\" class=\"dataframe\">\n",
              "  <thead>\n",
              "    <tr style=\"text-align: right;\">\n",
              "      <th></th>\n",
              "      <th>MedInc</th>\n",
              "      <th>HouseAge</th>\n",
              "      <th>AveRooms</th>\n",
              "      <th>AveBedrms</th>\n",
              "      <th>Population</th>\n",
              "      <th>AveOccup</th>\n",
              "      <th>MedHouseVal</th>\n",
              "    </tr>\n",
              "  </thead>\n",
              "  <tbody>\n",
              "    <tr>\n",
              "      <th>0</th>\n",
              "      <td>8.33</td>\n",
              "      <td>41.00</td>\n",
              "      <td>6.98</td>\n",
              "      <td>1.02</td>\n",
              "      <td>322.00</td>\n",
              "      <td>2.56</td>\n",
              "      <td>4.53</td>\n",
              "    </tr>\n",
              "    <tr>\n",
              "      <th>1</th>\n",
              "      <td>8.30</td>\n",
              "      <td>21.00</td>\n",
              "      <td>6.24</td>\n",
              "      <td>0.97</td>\n",
              "      <td>2401.00</td>\n",
              "      <td>2.11</td>\n",
              "      <td>3.58</td>\n",
              "    </tr>\n",
              "    <tr>\n",
              "      <th>2</th>\n",
              "      <td>7.26</td>\n",
              "      <td>52.00</td>\n",
              "      <td>8.29</td>\n",
              "      <td>1.07</td>\n",
              "      <td>496.00</td>\n",
              "      <td>2.80</td>\n",
              "      <td>3.52</td>\n",
              "    </tr>\n",
              "    <tr>\n",
              "      <th>3</th>\n",
              "      <td>5.64</td>\n",
              "      <td>52.00</td>\n",
              "      <td>5.82</td>\n",
              "      <td>1.07</td>\n",
              "      <td>558.00</td>\n",
              "      <td>2.55</td>\n",
              "      <td>3.41</td>\n",
              "    </tr>\n",
              "    <tr>\n",
              "      <th>4</th>\n",
              "      <td>3.85</td>\n",
              "      <td>52.00</td>\n",
              "      <td>6.28</td>\n",
              "      <td>1.08</td>\n",
              "      <td>565.00</td>\n",
              "      <td>2.18</td>\n",
              "      <td>3.42</td>\n",
              "    </tr>\n",
              "    <tr>\n",
              "      <th>...</th>\n",
              "      <td>...</td>\n",
              "      <td>...</td>\n",
              "      <td>...</td>\n",
              "      <td>...</td>\n",
              "      <td>...</td>\n",
              "      <td>...</td>\n",
              "      <td>...</td>\n",
              "    </tr>\n",
              "    <tr>\n",
              "      <th>20635</th>\n",
              "      <td>1.56</td>\n",
              "      <td>25.00</td>\n",
              "      <td>5.05</td>\n",
              "      <td>1.13</td>\n",
              "      <td>845.00</td>\n",
              "      <td>2.56</td>\n",
              "      <td>0.78</td>\n",
              "    </tr>\n",
              "    <tr>\n",
              "      <th>20636</th>\n",
              "      <td>2.56</td>\n",
              "      <td>18.00</td>\n",
              "      <td>6.11</td>\n",
              "      <td>1.32</td>\n",
              "      <td>356.00</td>\n",
              "      <td>3.12</td>\n",
              "      <td>0.77</td>\n",
              "    </tr>\n",
              "    <tr>\n",
              "      <th>20637</th>\n",
              "      <td>1.70</td>\n",
              "      <td>17.00</td>\n",
              "      <td>5.21</td>\n",
              "      <td>1.12</td>\n",
              "      <td>1007.00</td>\n",
              "      <td>2.33</td>\n",
              "      <td>0.92</td>\n",
              "    </tr>\n",
              "    <tr>\n",
              "      <th>20638</th>\n",
              "      <td>1.87</td>\n",
              "      <td>18.00</td>\n",
              "      <td>5.33</td>\n",
              "      <td>1.17</td>\n",
              "      <td>741.00</td>\n",
              "      <td>2.12</td>\n",
              "      <td>0.85</td>\n",
              "    </tr>\n",
              "    <tr>\n",
              "      <th>20639</th>\n",
              "      <td>2.39</td>\n",
              "      <td>16.00</td>\n",
              "      <td>5.25</td>\n",
              "      <td>1.16</td>\n",
              "      <td>1387.00</td>\n",
              "      <td>2.62</td>\n",
              "      <td>0.89</td>\n",
              "    </tr>\n",
              "  </tbody>\n",
              "</table>\n",
              "<p>20640 rows × 7 columns</p>\n",
              "</div>\n",
              "    <div class=\"colab-df-buttons\">\n",
              "\n",
              "  <div class=\"colab-df-container\">\n",
              "    <button class=\"colab-df-convert\" onclick=\"convertToInteractive('df-e7fec849-02a3-41ac-ba48-59a6e5763dc4')\"\n",
              "            title=\"Convert this dataframe to an interactive table.\"\n",
              "            style=\"display:none;\">\n",
              "\n",
              "  <svg xmlns=\"http://www.w3.org/2000/svg\" height=\"24px\" viewBox=\"0 -960 960 960\">\n",
              "    <path d=\"M120-120v-720h720v720H120Zm60-500h600v-160H180v160Zm220 220h160v-160H400v160Zm0 220h160v-160H400v160ZM180-400h160v-160H180v160Zm440 0h160v-160H620v160ZM180-180h160v-160H180v160Zm440 0h160v-160H620v160Z\"/>\n",
              "  </svg>\n",
              "    </button>\n",
              "\n",
              "  <style>\n",
              "    .colab-df-container {\n",
              "      display:flex;\n",
              "      gap: 12px;\n",
              "    }\n",
              "\n",
              "    .colab-df-convert {\n",
              "      background-color: #E8F0FE;\n",
              "      border: none;\n",
              "      border-radius: 50%;\n",
              "      cursor: pointer;\n",
              "      display: none;\n",
              "      fill: #1967D2;\n",
              "      height: 32px;\n",
              "      padding: 0 0 0 0;\n",
              "      width: 32px;\n",
              "    }\n",
              "\n",
              "    .colab-df-convert:hover {\n",
              "      background-color: #E2EBFA;\n",
              "      box-shadow: 0px 1px 2px rgba(60, 64, 67, 0.3), 0px 1px 3px 1px rgba(60, 64, 67, 0.15);\n",
              "      fill: #174EA6;\n",
              "    }\n",
              "\n",
              "    .colab-df-buttons div {\n",
              "      margin-bottom: 4px;\n",
              "    }\n",
              "\n",
              "    [theme=dark] .colab-df-convert {\n",
              "      background-color: #3B4455;\n",
              "      fill: #D2E3FC;\n",
              "    }\n",
              "\n",
              "    [theme=dark] .colab-df-convert:hover {\n",
              "      background-color: #434B5C;\n",
              "      box-shadow: 0px 1px 3px 1px rgba(0, 0, 0, 0.15);\n",
              "      filter: drop-shadow(0px 1px 2px rgba(0, 0, 0, 0.3));\n",
              "      fill: #FFFFFF;\n",
              "    }\n",
              "  </style>\n",
              "\n",
              "    <script>\n",
              "      const buttonEl =\n",
              "        document.querySelector('#df-e7fec849-02a3-41ac-ba48-59a6e5763dc4 button.colab-df-convert');\n",
              "      buttonEl.style.display =\n",
              "        google.colab.kernel.accessAllowed ? 'block' : 'none';\n",
              "\n",
              "      async function convertToInteractive(key) {\n",
              "        const element = document.querySelector('#df-e7fec849-02a3-41ac-ba48-59a6e5763dc4');\n",
              "        const dataTable =\n",
              "          await google.colab.kernel.invokeFunction('convertToInteractive',\n",
              "                                                    [key], {});\n",
              "        if (!dataTable) return;\n",
              "\n",
              "        const docLinkHtml = 'Like what you see? Visit the ' +\n",
              "          '<a target=\"_blank\" href=https://colab.research.google.com/notebooks/data_table.ipynb>data table notebook</a>'\n",
              "          + ' to learn more about interactive tables.';\n",
              "        element.innerHTML = '';\n",
              "        dataTable['output_type'] = 'display_data';\n",
              "        await google.colab.output.renderOutput(dataTable, element);\n",
              "        const docLink = document.createElement('div');\n",
              "        docLink.innerHTML = docLinkHtml;\n",
              "        element.appendChild(docLink);\n",
              "      }\n",
              "    </script>\n",
              "  </div>\n",
              "\n",
              "\n",
              "<div id=\"df-4d80bcbf-c27a-4070-86ed-2a24e5cd84b0\">\n",
              "  <button class=\"colab-df-quickchart\" onclick=\"quickchart('df-4d80bcbf-c27a-4070-86ed-2a24e5cd84b0')\"\n",
              "            title=\"Suggest charts\"\n",
              "            style=\"display:none;\">\n",
              "\n",
              "<svg xmlns=\"http://www.w3.org/2000/svg\" height=\"24px\"viewBox=\"0 0 24 24\"\n",
              "     width=\"24px\">\n",
              "    <g>\n",
              "        <path d=\"M19 3H5c-1.1 0-2 .9-2 2v14c0 1.1.9 2 2 2h14c1.1 0 2-.9 2-2V5c0-1.1-.9-2-2-2zM9 17H7v-7h2v7zm4 0h-2V7h2v10zm4 0h-2v-4h2v4z\"/>\n",
              "    </g>\n",
              "</svg>\n",
              "  </button>\n",
              "\n",
              "<style>\n",
              "  .colab-df-quickchart {\n",
              "      --bg-color: #E8F0FE;\n",
              "      --fill-color: #1967D2;\n",
              "      --hover-bg-color: #E2EBFA;\n",
              "      --hover-fill-color: #174EA6;\n",
              "      --disabled-fill-color: #AAA;\n",
              "      --disabled-bg-color: #DDD;\n",
              "  }\n",
              "\n",
              "  [theme=dark] .colab-df-quickchart {\n",
              "      --bg-color: #3B4455;\n",
              "      --fill-color: #D2E3FC;\n",
              "      --hover-bg-color: #434B5C;\n",
              "      --hover-fill-color: #FFFFFF;\n",
              "      --disabled-bg-color: #3B4455;\n",
              "      --disabled-fill-color: #666;\n",
              "  }\n",
              "\n",
              "  .colab-df-quickchart {\n",
              "    background-color: var(--bg-color);\n",
              "    border: none;\n",
              "    border-radius: 50%;\n",
              "    cursor: pointer;\n",
              "    display: none;\n",
              "    fill: var(--fill-color);\n",
              "    height: 32px;\n",
              "    padding: 0;\n",
              "    width: 32px;\n",
              "  }\n",
              "\n",
              "  .colab-df-quickchart:hover {\n",
              "    background-color: var(--hover-bg-color);\n",
              "    box-shadow: 0 1px 2px rgba(60, 64, 67, 0.3), 0 1px 3px 1px rgba(60, 64, 67, 0.15);\n",
              "    fill: var(--button-hover-fill-color);\n",
              "  }\n",
              "\n",
              "  .colab-df-quickchart-complete:disabled,\n",
              "  .colab-df-quickchart-complete:disabled:hover {\n",
              "    background-color: var(--disabled-bg-color);\n",
              "    fill: var(--disabled-fill-color);\n",
              "    box-shadow: none;\n",
              "  }\n",
              "\n",
              "  .colab-df-spinner {\n",
              "    border: 2px solid var(--fill-color);\n",
              "    border-color: transparent;\n",
              "    border-bottom-color: var(--fill-color);\n",
              "    animation:\n",
              "      spin 1s steps(1) infinite;\n",
              "  }\n",
              "\n",
              "  @keyframes spin {\n",
              "    0% {\n",
              "      border-color: transparent;\n",
              "      border-bottom-color: var(--fill-color);\n",
              "      border-left-color: var(--fill-color);\n",
              "    }\n",
              "    20% {\n",
              "      border-color: transparent;\n",
              "      border-left-color: var(--fill-color);\n",
              "      border-top-color: var(--fill-color);\n",
              "    }\n",
              "    30% {\n",
              "      border-color: transparent;\n",
              "      border-left-color: var(--fill-color);\n",
              "      border-top-color: var(--fill-color);\n",
              "      border-right-color: var(--fill-color);\n",
              "    }\n",
              "    40% {\n",
              "      border-color: transparent;\n",
              "      border-right-color: var(--fill-color);\n",
              "      border-top-color: var(--fill-color);\n",
              "    }\n",
              "    60% {\n",
              "      border-color: transparent;\n",
              "      border-right-color: var(--fill-color);\n",
              "    }\n",
              "    80% {\n",
              "      border-color: transparent;\n",
              "      border-right-color: var(--fill-color);\n",
              "      border-bottom-color: var(--fill-color);\n",
              "    }\n",
              "    90% {\n",
              "      border-color: transparent;\n",
              "      border-bottom-color: var(--fill-color);\n",
              "    }\n",
              "  }\n",
              "</style>\n",
              "\n",
              "  <script>\n",
              "    async function quickchart(key) {\n",
              "      const quickchartButtonEl =\n",
              "        document.querySelector('#' + key + ' button');\n",
              "      quickchartButtonEl.disabled = true;  // To prevent multiple clicks.\n",
              "      quickchartButtonEl.classList.add('colab-df-spinner');\n",
              "      try {\n",
              "        const charts = await google.colab.kernel.invokeFunction(\n",
              "            'suggestCharts', [key], {});\n",
              "      } catch (error) {\n",
              "        console.error('Error during call to suggestCharts:', error);\n",
              "      }\n",
              "      quickchartButtonEl.classList.remove('colab-df-spinner');\n",
              "      quickchartButtonEl.classList.add('colab-df-quickchart-complete');\n",
              "    }\n",
              "    (() => {\n",
              "      let quickchartButtonEl =\n",
              "        document.querySelector('#df-4d80bcbf-c27a-4070-86ed-2a24e5cd84b0 button');\n",
              "      quickchartButtonEl.style.display =\n",
              "        google.colab.kernel.accessAllowed ? 'block' : 'none';\n",
              "    })();\n",
              "  </script>\n",
              "</div>\n",
              "    </div>\n",
              "  </div>\n"
            ],
            "application/vnd.google.colaboratory.intrinsic+json": {
              "type": "dataframe",
              "variable_name": "df",
              "summary": "{\n  \"name\": \"df\",\n  \"rows\": 20640,\n  \"fields\": [\n    {\n      \"column\": \"MedInc\",\n      \"properties\": {\n        \"dtype\": \"number\",\n        \"std\": 1.8998217179452688,\n        \"min\": 0.4999,\n        \"max\": 15.0001,\n        \"num_unique_values\": 12928,\n        \"samples\": [\n          5.0286,\n          2.0433,\n          6.1228\n        ],\n        \"semantic_type\": \"\",\n        \"description\": \"\"\n      }\n    },\n    {\n      \"column\": \"HouseAge\",\n      \"properties\": {\n        \"dtype\": \"number\",\n        \"std\": 12.58555761211165,\n        \"min\": 1.0,\n        \"max\": 52.0,\n        \"num_unique_values\": 52,\n        \"samples\": [\n          35.0,\n          25.0,\n          7.0\n        ],\n        \"semantic_type\": \"\",\n        \"description\": \"\"\n      }\n    },\n    {\n      \"column\": \"AveRooms\",\n      \"properties\": {\n        \"dtype\": \"number\",\n        \"std\": 2.4741731394243187,\n        \"min\": 0.8461538461538461,\n        \"max\": 141.9090909090909,\n        \"num_unique_values\": 19392,\n        \"samples\": [\n          6.111269614835948,\n          5.912820512820513,\n          5.7924528301886795\n        ],\n        \"semantic_type\": \"\",\n        \"description\": \"\"\n      }\n    },\n    {\n      \"column\": \"AveBedrms\",\n      \"properties\": {\n        \"dtype\": \"number\",\n        \"std\": 0.473910856795466,\n        \"min\": 0.3333333333333333,\n        \"max\": 34.06666666666667,\n        \"num_unique_values\": 14233,\n        \"samples\": [\n          0.9906542056074766,\n          1.112099644128114,\n          1.0398230088495575\n        ],\n        \"semantic_type\": \"\",\n        \"description\": \"\"\n      }\n    },\n    {\n      \"column\": \"Population\",\n      \"properties\": {\n        \"dtype\": \"number\",\n        \"std\": 1132.462121765341,\n        \"min\": 3.0,\n        \"max\": 35682.0,\n        \"num_unique_values\": 3888,\n        \"samples\": [\n          4169.0,\n          636.0,\n          3367.0\n        ],\n        \"semantic_type\": \"\",\n        \"description\": \"\"\n      }\n    },\n    {\n      \"column\": \"AveOccup\",\n      \"properties\": {\n        \"dtype\": \"number\",\n        \"std\": 10.386049562213618,\n        \"min\": 0.6923076923076923,\n        \"max\": 1243.3333333333333,\n        \"num_unique_values\": 18841,\n        \"samples\": [\n          2.6939799331103678,\n          3.559375,\n          3.297082228116711\n        ],\n        \"semantic_type\": \"\",\n        \"description\": \"\"\n      }\n    },\n    {\n      \"column\": \"MedHouseVal\",\n      \"properties\": {\n        \"dtype\": \"number\",\n        \"std\": 1.1539561587441387,\n        \"min\": 0.14999,\n        \"max\": 5.00001,\n        \"num_unique_values\": 3842,\n        \"samples\": [\n          1.943,\n          3.79,\n          2.301\n        ],\n        \"semantic_type\": \"\",\n        \"description\": \"\"\n      }\n    }\n  ]\n}"
            }
          },
          "metadata": {},
          "execution_count": 7
        }
      ]
    },
    {
      "cell_type": "code",
      "source": [
        "# названия столбцов приведем к lowecase\n",
        "df.columns=[col.lower() for col in df.columns]"
      ],
      "metadata": {
        "id": "tYFTl-dlB580"
      },
      "execution_count": null,
      "outputs": []
    },
    {
      "cell_type": "code",
      "source": [
        "df.head()"
      ],
      "metadata": {
        "colab": {
          "base_uri": "https://localhost:8080/",
          "height": 206
        },
        "id": "nxyWWWBcB71j",
        "outputId": "c11a6a2b-52fa-410b-cc18-6a0e56d0675e"
      },
      "execution_count": null,
      "outputs": [
        {
          "output_type": "execute_result",
          "data": {
            "text/plain": [
              "   medinc  houseage  averooms  avebedrms  population  aveoccup  medhouseval\n",
              "0    8.33     41.00      6.98       1.02      322.00      2.56         4.53\n",
              "1    8.30     21.00      6.24       0.97     2401.00      2.11         3.58\n",
              "2    7.26     52.00      8.29       1.07      496.00      2.80         3.52\n",
              "3    5.64     52.00      5.82       1.07      558.00      2.55         3.41\n",
              "4    3.85     52.00      6.28       1.08      565.00      2.18         3.42"
            ],
            "text/html": [
              "\n",
              "  <div id=\"df-a99059c2-28b7-4d81-92dc-7daa4a00833d\" class=\"colab-df-container\">\n",
              "    <div>\n",
              "<style scoped>\n",
              "    .dataframe tbody tr th:only-of-type {\n",
              "        vertical-align: middle;\n",
              "    }\n",
              "\n",
              "    .dataframe tbody tr th {\n",
              "        vertical-align: top;\n",
              "    }\n",
              "\n",
              "    .dataframe thead th {\n",
              "        text-align: right;\n",
              "    }\n",
              "</style>\n",
              "<table border=\"1\" class=\"dataframe\">\n",
              "  <thead>\n",
              "    <tr style=\"text-align: right;\">\n",
              "      <th></th>\n",
              "      <th>medinc</th>\n",
              "      <th>houseage</th>\n",
              "      <th>averooms</th>\n",
              "      <th>avebedrms</th>\n",
              "      <th>population</th>\n",
              "      <th>aveoccup</th>\n",
              "      <th>medhouseval</th>\n",
              "    </tr>\n",
              "  </thead>\n",
              "  <tbody>\n",
              "    <tr>\n",
              "      <th>0</th>\n",
              "      <td>8.33</td>\n",
              "      <td>41.00</td>\n",
              "      <td>6.98</td>\n",
              "      <td>1.02</td>\n",
              "      <td>322.00</td>\n",
              "      <td>2.56</td>\n",
              "      <td>4.53</td>\n",
              "    </tr>\n",
              "    <tr>\n",
              "      <th>1</th>\n",
              "      <td>8.30</td>\n",
              "      <td>21.00</td>\n",
              "      <td>6.24</td>\n",
              "      <td>0.97</td>\n",
              "      <td>2401.00</td>\n",
              "      <td>2.11</td>\n",
              "      <td>3.58</td>\n",
              "    </tr>\n",
              "    <tr>\n",
              "      <th>2</th>\n",
              "      <td>7.26</td>\n",
              "      <td>52.00</td>\n",
              "      <td>8.29</td>\n",
              "      <td>1.07</td>\n",
              "      <td>496.00</td>\n",
              "      <td>2.80</td>\n",
              "      <td>3.52</td>\n",
              "    </tr>\n",
              "    <tr>\n",
              "      <th>3</th>\n",
              "      <td>5.64</td>\n",
              "      <td>52.00</td>\n",
              "      <td>5.82</td>\n",
              "      <td>1.07</td>\n",
              "      <td>558.00</td>\n",
              "      <td>2.55</td>\n",
              "      <td>3.41</td>\n",
              "    </tr>\n",
              "    <tr>\n",
              "      <th>4</th>\n",
              "      <td>3.85</td>\n",
              "      <td>52.00</td>\n",
              "      <td>6.28</td>\n",
              "      <td>1.08</td>\n",
              "      <td>565.00</td>\n",
              "      <td>2.18</td>\n",
              "      <td>3.42</td>\n",
              "    </tr>\n",
              "  </tbody>\n",
              "</table>\n",
              "</div>\n",
              "    <div class=\"colab-df-buttons\">\n",
              "\n",
              "  <div class=\"colab-df-container\">\n",
              "    <button class=\"colab-df-convert\" onclick=\"convertToInteractive('df-a99059c2-28b7-4d81-92dc-7daa4a00833d')\"\n",
              "            title=\"Convert this dataframe to an interactive table.\"\n",
              "            style=\"display:none;\">\n",
              "\n",
              "  <svg xmlns=\"http://www.w3.org/2000/svg\" height=\"24px\" viewBox=\"0 -960 960 960\">\n",
              "    <path d=\"M120-120v-720h720v720H120Zm60-500h600v-160H180v160Zm220 220h160v-160H400v160Zm0 220h160v-160H400v160ZM180-400h160v-160H180v160Zm440 0h160v-160H620v160ZM180-180h160v-160H180v160Zm440 0h160v-160H620v160Z\"/>\n",
              "  </svg>\n",
              "    </button>\n",
              "\n",
              "  <style>\n",
              "    .colab-df-container {\n",
              "      display:flex;\n",
              "      gap: 12px;\n",
              "    }\n",
              "\n",
              "    .colab-df-convert {\n",
              "      background-color: #E8F0FE;\n",
              "      border: none;\n",
              "      border-radius: 50%;\n",
              "      cursor: pointer;\n",
              "      display: none;\n",
              "      fill: #1967D2;\n",
              "      height: 32px;\n",
              "      padding: 0 0 0 0;\n",
              "      width: 32px;\n",
              "    }\n",
              "\n",
              "    .colab-df-convert:hover {\n",
              "      background-color: #E2EBFA;\n",
              "      box-shadow: 0px 1px 2px rgba(60, 64, 67, 0.3), 0px 1px 3px 1px rgba(60, 64, 67, 0.15);\n",
              "      fill: #174EA6;\n",
              "    }\n",
              "\n",
              "    .colab-df-buttons div {\n",
              "      margin-bottom: 4px;\n",
              "    }\n",
              "\n",
              "    [theme=dark] .colab-df-convert {\n",
              "      background-color: #3B4455;\n",
              "      fill: #D2E3FC;\n",
              "    }\n",
              "\n",
              "    [theme=dark] .colab-df-convert:hover {\n",
              "      background-color: #434B5C;\n",
              "      box-shadow: 0px 1px 3px 1px rgba(0, 0, 0, 0.15);\n",
              "      filter: drop-shadow(0px 1px 2px rgba(0, 0, 0, 0.3));\n",
              "      fill: #FFFFFF;\n",
              "    }\n",
              "  </style>\n",
              "\n",
              "    <script>\n",
              "      const buttonEl =\n",
              "        document.querySelector('#df-a99059c2-28b7-4d81-92dc-7daa4a00833d button.colab-df-convert');\n",
              "      buttonEl.style.display =\n",
              "        google.colab.kernel.accessAllowed ? 'block' : 'none';\n",
              "\n",
              "      async function convertToInteractive(key) {\n",
              "        const element = document.querySelector('#df-a99059c2-28b7-4d81-92dc-7daa4a00833d');\n",
              "        const dataTable =\n",
              "          await google.colab.kernel.invokeFunction('convertToInteractive',\n",
              "                                                    [key], {});\n",
              "        if (!dataTable) return;\n",
              "\n",
              "        const docLinkHtml = 'Like what you see? Visit the ' +\n",
              "          '<a target=\"_blank\" href=https://colab.research.google.com/notebooks/data_table.ipynb>data table notebook</a>'\n",
              "          + ' to learn more about interactive tables.';\n",
              "        element.innerHTML = '';\n",
              "        dataTable['output_type'] = 'display_data';\n",
              "        await google.colab.output.renderOutput(dataTable, element);\n",
              "        const docLink = document.createElement('div');\n",
              "        docLink.innerHTML = docLinkHtml;\n",
              "        element.appendChild(docLink);\n",
              "      }\n",
              "    </script>\n",
              "  </div>\n",
              "\n",
              "\n",
              "<div id=\"df-074abfdc-18d5-4a19-9271-c8036dfef562\">\n",
              "  <button class=\"colab-df-quickchart\" onclick=\"quickchart('df-074abfdc-18d5-4a19-9271-c8036dfef562')\"\n",
              "            title=\"Suggest charts\"\n",
              "            style=\"display:none;\">\n",
              "\n",
              "<svg xmlns=\"http://www.w3.org/2000/svg\" height=\"24px\"viewBox=\"0 0 24 24\"\n",
              "     width=\"24px\">\n",
              "    <g>\n",
              "        <path d=\"M19 3H5c-1.1 0-2 .9-2 2v14c0 1.1.9 2 2 2h14c1.1 0 2-.9 2-2V5c0-1.1-.9-2-2-2zM9 17H7v-7h2v7zm4 0h-2V7h2v10zm4 0h-2v-4h2v4z\"/>\n",
              "    </g>\n",
              "</svg>\n",
              "  </button>\n",
              "\n",
              "<style>\n",
              "  .colab-df-quickchart {\n",
              "      --bg-color: #E8F0FE;\n",
              "      --fill-color: #1967D2;\n",
              "      --hover-bg-color: #E2EBFA;\n",
              "      --hover-fill-color: #174EA6;\n",
              "      --disabled-fill-color: #AAA;\n",
              "      --disabled-bg-color: #DDD;\n",
              "  }\n",
              "\n",
              "  [theme=dark] .colab-df-quickchart {\n",
              "      --bg-color: #3B4455;\n",
              "      --fill-color: #D2E3FC;\n",
              "      --hover-bg-color: #434B5C;\n",
              "      --hover-fill-color: #FFFFFF;\n",
              "      --disabled-bg-color: #3B4455;\n",
              "      --disabled-fill-color: #666;\n",
              "  }\n",
              "\n",
              "  .colab-df-quickchart {\n",
              "    background-color: var(--bg-color);\n",
              "    border: none;\n",
              "    border-radius: 50%;\n",
              "    cursor: pointer;\n",
              "    display: none;\n",
              "    fill: var(--fill-color);\n",
              "    height: 32px;\n",
              "    padding: 0;\n",
              "    width: 32px;\n",
              "  }\n",
              "\n",
              "  .colab-df-quickchart:hover {\n",
              "    background-color: var(--hover-bg-color);\n",
              "    box-shadow: 0 1px 2px rgba(60, 64, 67, 0.3), 0 1px 3px 1px rgba(60, 64, 67, 0.15);\n",
              "    fill: var(--button-hover-fill-color);\n",
              "  }\n",
              "\n",
              "  .colab-df-quickchart-complete:disabled,\n",
              "  .colab-df-quickchart-complete:disabled:hover {\n",
              "    background-color: var(--disabled-bg-color);\n",
              "    fill: var(--disabled-fill-color);\n",
              "    box-shadow: none;\n",
              "  }\n",
              "\n",
              "  .colab-df-spinner {\n",
              "    border: 2px solid var(--fill-color);\n",
              "    border-color: transparent;\n",
              "    border-bottom-color: var(--fill-color);\n",
              "    animation:\n",
              "      spin 1s steps(1) infinite;\n",
              "  }\n",
              "\n",
              "  @keyframes spin {\n",
              "    0% {\n",
              "      border-color: transparent;\n",
              "      border-bottom-color: var(--fill-color);\n",
              "      border-left-color: var(--fill-color);\n",
              "    }\n",
              "    20% {\n",
              "      border-color: transparent;\n",
              "      border-left-color: var(--fill-color);\n",
              "      border-top-color: var(--fill-color);\n",
              "    }\n",
              "    30% {\n",
              "      border-color: transparent;\n",
              "      border-left-color: var(--fill-color);\n",
              "      border-top-color: var(--fill-color);\n",
              "      border-right-color: var(--fill-color);\n",
              "    }\n",
              "    40% {\n",
              "      border-color: transparent;\n",
              "      border-right-color: var(--fill-color);\n",
              "      border-top-color: var(--fill-color);\n",
              "    }\n",
              "    60% {\n",
              "      border-color: transparent;\n",
              "      border-right-color: var(--fill-color);\n",
              "    }\n",
              "    80% {\n",
              "      border-color: transparent;\n",
              "      border-right-color: var(--fill-color);\n",
              "      border-bottom-color: var(--fill-color);\n",
              "    }\n",
              "    90% {\n",
              "      border-color: transparent;\n",
              "      border-bottom-color: var(--fill-color);\n",
              "    }\n",
              "  }\n",
              "</style>\n",
              "\n",
              "  <script>\n",
              "    async function quickchart(key) {\n",
              "      const quickchartButtonEl =\n",
              "        document.querySelector('#' + key + ' button');\n",
              "      quickchartButtonEl.disabled = true;  // To prevent multiple clicks.\n",
              "      quickchartButtonEl.classList.add('colab-df-spinner');\n",
              "      try {\n",
              "        const charts = await google.colab.kernel.invokeFunction(\n",
              "            'suggestCharts', [key], {});\n",
              "      } catch (error) {\n",
              "        console.error('Error during call to suggestCharts:', error);\n",
              "      }\n",
              "      quickchartButtonEl.classList.remove('colab-df-spinner');\n",
              "      quickchartButtonEl.classList.add('colab-df-quickchart-complete');\n",
              "    }\n",
              "    (() => {\n",
              "      let quickchartButtonEl =\n",
              "        document.querySelector('#df-074abfdc-18d5-4a19-9271-c8036dfef562 button');\n",
              "      quickchartButtonEl.style.display =\n",
              "        google.colab.kernel.accessAllowed ? 'block' : 'none';\n",
              "    })();\n",
              "  </script>\n",
              "</div>\n",
              "    </div>\n",
              "  </div>\n"
            ],
            "application/vnd.google.colaboratory.intrinsic+json": {
              "type": "dataframe",
              "variable_name": "df",
              "summary": "{\n  \"name\": \"df\",\n  \"rows\": 20640,\n  \"fields\": [\n    {\n      \"column\": \"medinc\",\n      \"properties\": {\n        \"dtype\": \"number\",\n        \"std\": 1.8998217179452688,\n        \"min\": 0.4999,\n        \"max\": 15.0001,\n        \"num_unique_values\": 12928,\n        \"samples\": [\n          5.0286,\n          2.0433,\n          6.1228\n        ],\n        \"semantic_type\": \"\",\n        \"description\": \"\"\n      }\n    },\n    {\n      \"column\": \"houseage\",\n      \"properties\": {\n        \"dtype\": \"number\",\n        \"std\": 12.58555761211165,\n        \"min\": 1.0,\n        \"max\": 52.0,\n        \"num_unique_values\": 52,\n        \"samples\": [\n          35.0,\n          25.0,\n          7.0\n        ],\n        \"semantic_type\": \"\",\n        \"description\": \"\"\n      }\n    },\n    {\n      \"column\": \"averooms\",\n      \"properties\": {\n        \"dtype\": \"number\",\n        \"std\": 2.4741731394243187,\n        \"min\": 0.8461538461538461,\n        \"max\": 141.9090909090909,\n        \"num_unique_values\": 19392,\n        \"samples\": [\n          6.111269614835948,\n          5.912820512820513,\n          5.7924528301886795\n        ],\n        \"semantic_type\": \"\",\n        \"description\": \"\"\n      }\n    },\n    {\n      \"column\": \"avebedrms\",\n      \"properties\": {\n        \"dtype\": \"number\",\n        \"std\": 0.473910856795466,\n        \"min\": 0.3333333333333333,\n        \"max\": 34.06666666666667,\n        \"num_unique_values\": 14233,\n        \"samples\": [\n          0.9906542056074766,\n          1.112099644128114,\n          1.0398230088495575\n        ],\n        \"semantic_type\": \"\",\n        \"description\": \"\"\n      }\n    },\n    {\n      \"column\": \"population\",\n      \"properties\": {\n        \"dtype\": \"number\",\n        \"std\": 1132.462121765341,\n        \"min\": 3.0,\n        \"max\": 35682.0,\n        \"num_unique_values\": 3888,\n        \"samples\": [\n          4169.0,\n          636.0,\n          3367.0\n        ],\n        \"semantic_type\": \"\",\n        \"description\": \"\"\n      }\n    },\n    {\n      \"column\": \"aveoccup\",\n      \"properties\": {\n        \"dtype\": \"number\",\n        \"std\": 10.386049562213618,\n        \"min\": 0.6923076923076923,\n        \"max\": 1243.3333333333333,\n        \"num_unique_values\": 18841,\n        \"samples\": [\n          2.6939799331103678,\n          3.559375,\n          3.297082228116711\n        ],\n        \"semantic_type\": \"\",\n        \"description\": \"\"\n      }\n    },\n    {\n      \"column\": \"medhouseval\",\n      \"properties\": {\n        \"dtype\": \"number\",\n        \"std\": 1.1539561587441387,\n        \"min\": 0.14999,\n        \"max\": 5.00001,\n        \"num_unique_values\": 3842,\n        \"samples\": [\n          1.943,\n          3.79,\n          2.301\n        ],\n        \"semantic_type\": \"\",\n        \"description\": \"\"\n      }\n    }\n  ]\n}"
            }
          },
          "metadata": {},
          "execution_count": 9
        }
      ]
    },
    {
      "cell_type": "code",
      "source": [
        "sns.displot(df.medhouseval)"
      ],
      "metadata": {
        "colab": {
          "base_uri": "https://localhost:8080/",
          "height": 508
        },
        "id": "FUbxN1JeB9bx",
        "outputId": "cd6238ef-147f-4ad5-f3a9-1f5dc013bbfe"
      },
      "execution_count": null,
      "outputs": [
        {
          "output_type": "execute_result",
          "data": {
            "text/plain": [
              "<seaborn.axisgrid.FacetGrid at 0x7a7032e63ca0>"
            ]
          },
          "metadata": {},
          "execution_count": 10
        },
        {
          "output_type": "display_data",
          "data": {
            "text/plain": [
              "<Figure size 500x500 with 1 Axes>"
            ],
            "image/svg+xml": "<?xml version=\"1.0\" encoding=\"utf-8\" standalone=\"no\"?>\n<!DOCTYPE svg PUBLIC \"-//W3C//DTD SVG 1.1//EN\"\n  \"http://www.w3.org/Graphics/SVG/1.1/DTD/svg11.dtd\">\n<svg xmlns:xlink=\"http://www.w3.org/1999/xlink\" width=\"352.558125pt\" height=\"351.99625pt\" viewBox=\"0 0 352.558125 351.99625\" xmlns=\"http://www.w3.org/2000/svg\" version=\"1.1\">\n <metadata>\n  <rdf:RDF xmlns:dc=\"http://purl.org/dc/elements/1.1/\" xmlns:cc=\"http://creativecommons.org/ns#\" xmlns:rdf=\"http://www.w3.org/1999/02/22-rdf-syntax-ns#\">\n   <cc:Work>\n    <dc:type rdf:resource=\"http://purl.org/dc/dcmitype/StillImage\"/>\n    <dc:date>2024-04-23T15:45:22.392547</dc:date>\n    <dc:format>image/svg+xml</dc:format>\n    <dc:creator>\n     <cc:Agent>\n      <dc:title>Matplotlib v3.7.1, https://matplotlib.org/</dc:title>\n     </cc:Agent>\n    </dc:creator>\n   </cc:Work>\n  </rdf:RDF>\n </metadata>\n <defs>\n  <style type=\"text/css\">*{stroke-linejoin: round; stroke-linecap: butt}</style>\n </defs>\n <g id=\"figure_1\">\n  <g id=\"patch_1\">\n   <path d=\"M 0 351.99625 \nL 352.558125 351.99625 \nL 352.558125 0 \nL 0 0 \nz\n\" style=\"fill: #ffffff\"/>\n  </g>\n  <g id=\"axes_1\">\n   <g id=\"patch_2\">\n    <path d=\"M 53.328125 314.44 \nL 345.358125 314.44 \nL 345.358125 7.2 \nL 53.328125 7.2 \nz\n\" style=\"fill: #ffffff\"/>\n   </g>\n   <g id=\"patch_3\">\n    <path d=\"M 66.602216 314.44 \nL 72.37356 314.44 \nL 72.37356 311.82508 \nL 66.602216 311.82508 \nz\n\" clip-path=\"url(#p76daa3f3a0)\" style=\"fill: #1f77b4; fill-opacity: 0.75; stroke: #000000; stroke-width: 0.607984; stroke-linejoin: miter\"/>\n   </g>\n   <g id=\"patch_4\">\n    <path d=\"M 72.37356 314.44 \nL 78.144904 314.44 \nL 78.144904 310.256128 \nL 72.37356 310.256128 \nz\n\" clip-path=\"url(#p76daa3f3a0)\" style=\"fill: #1f77b4; fill-opacity: 0.75; stroke: #000000; stroke-width: 0.607984; stroke-linejoin: miter\"/>\n   </g>\n   <g id=\"patch_5\">\n    <path d=\"M 78.144904 314.44 \nL 83.916248 314.44 \nL 83.916248 291.428706 \nL 78.144904 291.428706 \nz\n\" clip-path=\"url(#p76daa3f3a0)\" style=\"fill: #1f77b4; fill-opacity: 0.75; stroke: #000000; stroke-width: 0.607984; stroke-linejoin: miter\"/>\n   </g>\n   <g id=\"patch_6\">\n    <path d=\"M 83.916248 314.44 \nL 89.687591 314.44 \nL 89.687591 208.012765 \nL 83.916248 208.012765 \nz\n\" clip-path=\"url(#p76daa3f3a0)\" style=\"fill: #1f77b4; fill-opacity: 0.75; stroke: #000000; stroke-width: 0.607984; stroke-linejoin: miter\"/>\n   </g>\n   <g id=\"patch_7\">\n    <path d=\"M 89.687591 314.44 \nL 95.458935 314.44 \nL 95.458935 148.131102 \nL 89.687591 148.131102 \nz\n\" clip-path=\"url(#p76daa3f3a0)\" style=\"fill: #1f77b4; fill-opacity: 0.75; stroke: #000000; stroke-width: 0.607984; stroke-linejoin: miter\"/>\n   </g>\n   <g id=\"patch_8\">\n    <path d=\"M 95.458935 314.44 \nL 101.230279 314.44 \nL 101.230279 141.593802 \nL 95.458935 141.593802 \nz\n\" clip-path=\"url(#p76daa3f3a0)\" style=\"fill: #1f77b4; fill-opacity: 0.75; stroke: #000000; stroke-width: 0.607984; stroke-linejoin: miter\"/>\n   </g>\n   <g id=\"patch_9\">\n    <path d=\"M 101.230279 314.44 \nL 107.001623 314.44 \nL 107.001623 111.260733 \nL 101.230279 111.260733 \nz\n\" clip-path=\"url(#p76daa3f3a0)\" style=\"fill: #1f77b4; fill-opacity: 0.75; stroke: #000000; stroke-width: 0.607984; stroke-linejoin: miter\"/>\n   </g>\n   <g id=\"patch_10\">\n    <path d=\"M 107.001623 314.44 \nL 112.772967 314.44 \nL 112.772967 61.838749 \nL 107.001623 61.838749 \nz\n\" clip-path=\"url(#p76daa3f3a0)\" style=\"fill: #1f77b4; fill-opacity: 0.75; stroke: #000000; stroke-width: 0.607984; stroke-linejoin: miter\"/>\n   </g>\n   <g id=\"patch_11\">\n    <path d=\"M 112.772967 314.44 \nL 118.544311 314.44 \nL 118.544311 114.92162 \nL 112.772967 114.92162 \nz\n\" clip-path=\"url(#p76daa3f3a0)\" style=\"fill: #1f77b4; fill-opacity: 0.75; stroke: #000000; stroke-width: 0.607984; stroke-linejoin: miter\"/>\n   </g>\n   <g id=\"patch_12\">\n    <path d=\"M 118.544311 314.44 \nL 124.315655 314.44 \nL 124.315655 81.712139 \nL 118.544311 81.712139 \nz\n\" clip-path=\"url(#p76daa3f3a0)\" style=\"fill: #1f77b4; fill-opacity: 0.75; stroke: #000000; stroke-width: 0.607984; stroke-linejoin: miter\"/>\n   </g>\n   <g id=\"patch_13\">\n    <path d=\"M 124.315655 314.44 \nL 130.086999 314.44 \nL 130.086999 115.444604 \nL 124.315655 115.444604 \nz\n\" clip-path=\"url(#p76daa3f3a0)\" style=\"fill: #1f77b4; fill-opacity: 0.75; stroke: #000000; stroke-width: 0.607984; stroke-linejoin: miter\"/>\n   </g>\n   <g id=\"patch_14\">\n    <path d=\"M 130.086999 314.44 \nL 135.858342 314.44 \nL 135.858342 75.17484 \nL 130.086999 75.17484 \nz\n\" clip-path=\"url(#p76daa3f3a0)\" style=\"fill: #1f77b4; fill-opacity: 0.75; stroke: #000000; stroke-width: 0.607984; stroke-linejoin: miter\"/>\n   </g>\n   <g id=\"patch_15\">\n    <path d=\"M 135.858342 314.44 \nL 141.629686 314.44 \nL 141.629686 82.758107 \nL 135.858342 82.758107 \nz\n\" clip-path=\"url(#p76daa3f3a0)\" style=\"fill: #1f77b4; fill-opacity: 0.75; stroke: #000000; stroke-width: 0.607984; stroke-linejoin: miter\"/>\n   </g>\n   <g id=\"patch_16\">\n    <path d=\"M 141.629686 314.44 \nL 147.40103 314.44 \nL 147.40103 21.830476 \nL 141.629686 21.830476 \nz\n\" clip-path=\"url(#p76daa3f3a0)\" style=\"fill: #1f77b4; fill-opacity: 0.75; stroke: #000000; stroke-width: 0.607984; stroke-linejoin: miter\"/>\n   </g>\n   <g id=\"patch_17\">\n    <path d=\"M 147.40103 314.44 \nL 153.172374 314.44 \nL 153.172374 82.235123 \nL 147.40103 82.235123 \nz\n\" clip-path=\"url(#p76daa3f3a0)\" style=\"fill: #1f77b4; fill-opacity: 0.75; stroke: #000000; stroke-width: 0.607984; stroke-linejoin: miter\"/>\n   </g>\n   <g id=\"patch_18\">\n    <path d=\"M 153.172374 314.44 \nL 158.943718 314.44 \nL 158.943718 91.648834 \nL 153.172374 91.648834 \nz\n\" clip-path=\"url(#p76daa3f3a0)\" style=\"fill: #1f77b4; fill-opacity: 0.75; stroke: #000000; stroke-width: 0.607984; stroke-linejoin: miter\"/>\n   </g>\n   <g id=\"patch_19\">\n    <path d=\"M 158.943718 314.44 \nL 164.715062 314.44 \nL 164.715062 78.051252 \nL 158.943718 78.051252 \nz\n\" clip-path=\"url(#p76daa3f3a0)\" style=\"fill: #1f77b4; fill-opacity: 0.75; stroke: #000000; stroke-width: 0.607984; stroke-linejoin: miter\"/>\n   </g>\n   <g id=\"patch_20\">\n    <path d=\"M 164.715062 314.44 \nL 170.486406 314.44 \nL 170.486406 154.929893 \nL 164.715062 154.929893 \nz\n\" clip-path=\"url(#p76daa3f3a0)\" style=\"fill: #1f77b4; fill-opacity: 0.75; stroke: #000000; stroke-width: 0.607984; stroke-linejoin: miter\"/>\n   </g>\n   <g id=\"patch_21\">\n    <path d=\"M 170.486406 314.44 \nL 176.25775 314.44 \nL 176.25775 156.498845 \nL 170.486406 156.498845 \nz\n\" clip-path=\"url(#p76daa3f3a0)\" style=\"fill: #1f77b4; fill-opacity: 0.75; stroke: #000000; stroke-width: 0.607984; stroke-linejoin: miter\"/>\n   </g>\n   <g id=\"patch_22\">\n    <path d=\"M 176.25775 314.44 \nL 182.029093 314.44 \nL 182.029093 121.981904 \nL 176.25775 121.981904 \nz\n\" clip-path=\"url(#p76daa3f3a0)\" style=\"fill: #1f77b4; fill-opacity: 0.75; stroke: #000000; stroke-width: 0.607984; stroke-linejoin: miter\"/>\n   </g>\n   <g id=\"patch_23\">\n    <path d=\"M 182.029093 314.44 \nL 187.800437 314.44 \nL 187.800437 149.438562 \nL 182.029093 149.438562 \nz\n\" clip-path=\"url(#p76daa3f3a0)\" style=\"fill: #1f77b4; fill-opacity: 0.75; stroke: #000000; stroke-width: 0.607984; stroke-linejoin: miter\"/>\n   </g>\n   <g id=\"patch_24\">\n    <path d=\"M 187.800437 314.44 \nL 193.571781 314.44 \nL 193.571781 166.174048 \nL 187.800437 166.174048 \nz\n\" clip-path=\"url(#p76daa3f3a0)\" style=\"fill: #1f77b4; fill-opacity: 0.75; stroke: #000000; stroke-width: 0.607984; stroke-linejoin: miter\"/>\n   </g>\n   <g id=\"patch_25\">\n    <path d=\"M 193.571781 314.44 \nL 199.343125 314.44 \nL 199.343125 191.277278 \nL 193.571781 191.277278 \nz\n\" clip-path=\"url(#p76daa3f3a0)\" style=\"fill: #1f77b4; fill-opacity: 0.75; stroke: #000000; stroke-width: 0.607984; stroke-linejoin: miter\"/>\n   </g>\n   <g id=\"patch_26\">\n    <path d=\"M 199.343125 314.44 \nL 205.114469 314.44 \nL 205.114469 189.446834 \nL 199.343125 189.446834 \nz\n\" clip-path=\"url(#p76daa3f3a0)\" style=\"fill: #1f77b4; fill-opacity: 0.75; stroke: #000000; stroke-width: 0.607984; stroke-linejoin: miter\"/>\n   </g>\n   <g id=\"patch_27\">\n    <path d=\"M 205.114469 314.44 \nL 210.885813 314.44 \nL 210.885813 188.92385 \nL 205.114469 188.92385 \nz\n\" clip-path=\"url(#p76daa3f3a0)\" style=\"fill: #1f77b4; fill-opacity: 0.75; stroke: #000000; stroke-width: 0.607984; stroke-linejoin: miter\"/>\n   </g>\n   <g id=\"patch_28\">\n    <path d=\"M 210.885813 314.44 \nL 216.657157 314.44 \nL 216.657157 218.472444 \nL 210.885813 218.472444 \nz\n\" clip-path=\"url(#p76daa3f3a0)\" style=\"fill: #1f77b4; fill-opacity: 0.75; stroke: #000000; stroke-width: 0.607984; stroke-linejoin: miter\"/>\n   </g>\n   <g id=\"patch_29\">\n    <path d=\"M 216.657157 314.44 \nL 222.4285 314.44 \nL 222.4285 238.607326 \nL 216.657157 238.607326 \nz\n\" clip-path=\"url(#p76daa3f3a0)\" style=\"fill: #1f77b4; fill-opacity: 0.75; stroke: #000000; stroke-width: 0.607984; stroke-linejoin: miter\"/>\n   </g>\n   <g id=\"patch_30\">\n    <path d=\"M 222.4285 314.44 \nL 228.199844 314.44 \nL 228.199844 251.158941 \nL 222.4285 251.158941 \nz\n\" clip-path=\"url(#p76daa3f3a0)\" style=\"fill: #1f77b4; fill-opacity: 0.75; stroke: #000000; stroke-width: 0.607984; stroke-linejoin: miter\"/>\n   </g>\n   <g id=\"patch_31\">\n    <path d=\"M 228.199844 314.44 \nL 233.971188 314.44 \nL 233.971188 249.851481 \nL 228.199844 249.851481 \nz\n\" clip-path=\"url(#p76daa3f3a0)\" style=\"fill: #1f77b4; fill-opacity: 0.75; stroke: #000000; stroke-width: 0.607984; stroke-linejoin: miter\"/>\n   </g>\n   <g id=\"patch_32\">\n    <path d=\"M 233.971188 314.44 \nL 239.742532 314.44 \nL 239.742532 245.144626 \nL 233.971188 245.144626 \nz\n\" clip-path=\"url(#p76daa3f3a0)\" style=\"fill: #1f77b4; fill-opacity: 0.75; stroke: #000000; stroke-width: 0.607984; stroke-linejoin: miter\"/>\n   </g>\n   <g id=\"patch_33\">\n    <path d=\"M 239.742532 314.44 \nL 245.513876 314.44 \nL 245.513876 240.960754 \nL 239.742532 240.960754 \nz\n\" clip-path=\"url(#p76daa3f3a0)\" style=\"fill: #1f77b4; fill-opacity: 0.75; stroke: #000000; stroke-width: 0.607984; stroke-linejoin: miter\"/>\n   </g>\n   <g id=\"patch_34\">\n    <path d=\"M 245.513876 314.44 \nL 251.28522 314.44 \nL 251.28522 234.423455 \nL 245.513876 234.423455 \nz\n\" clip-path=\"url(#p76daa3f3a0)\" style=\"fill: #1f77b4; fill-opacity: 0.75; stroke: #000000; stroke-width: 0.607984; stroke-linejoin: miter\"/>\n   </g>\n   <g id=\"patch_35\">\n    <path d=\"M 251.28522 314.44 \nL 257.056564 314.44 \nL 257.056564 255.342813 \nL 251.28522 255.342813 \nz\n\" clip-path=\"url(#p76daa3f3a0)\" style=\"fill: #1f77b4; fill-opacity: 0.75; stroke: #000000; stroke-width: 0.607984; stroke-linejoin: miter\"/>\n   </g>\n   <g id=\"patch_36\">\n    <path d=\"M 257.056564 314.44 \nL 262.827908 314.44 \nL 262.827908 269.201888 \nL 257.056564 269.201888 \nz\n\" clip-path=\"url(#p76daa3f3a0)\" style=\"fill: #1f77b4; fill-opacity: 0.75; stroke: #000000; stroke-width: 0.607984; stroke-linejoin: miter\"/>\n   </g>\n   <g id=\"patch_37\">\n    <path d=\"M 262.827908 314.44 \nL 268.599251 314.44 \nL 268.599251 272.601283 \nL 262.827908 272.601283 \nz\n\" clip-path=\"url(#p76daa3f3a0)\" style=\"fill: #1f77b4; fill-opacity: 0.75; stroke: #000000; stroke-width: 0.607984; stroke-linejoin: miter\"/>\n   </g>\n   <g id=\"patch_38\">\n    <path d=\"M 268.599251 314.44 \nL 274.370595 314.44 \nL 274.370595 279.400075 \nL 268.599251 279.400075 \nz\n\" clip-path=\"url(#p76daa3f3a0)\" style=\"fill: #1f77b4; fill-opacity: 0.75; stroke: #000000; stroke-width: 0.607984; stroke-linejoin: miter\"/>\n   </g>\n   <g id=\"patch_39\">\n    <path d=\"M 274.370595 314.44 \nL 280.141939 314.44 \nL 280.141939 280.707535 \nL 274.370595 280.707535 \nz\n\" clip-path=\"url(#p76daa3f3a0)\" style=\"fill: #1f77b4; fill-opacity: 0.75; stroke: #000000; stroke-width: 0.607984; stroke-linejoin: miter\"/>\n   </g>\n   <g id=\"patch_40\">\n    <path d=\"M 280.141939 314.44 \nL 285.913283 314.44 \nL 285.913283 285.41439 \nL 280.141939 285.41439 \nz\n\" clip-path=\"url(#p76daa3f3a0)\" style=\"fill: #1f77b4; fill-opacity: 0.75; stroke: #000000; stroke-width: 0.607984; stroke-linejoin: miter\"/>\n   </g>\n   <g id=\"patch_41\">\n    <path d=\"M 285.913283 314.44 \nL 291.684627 314.44 \nL 291.684627 285.937374 \nL 285.913283 285.937374 \nz\n\" clip-path=\"url(#p76daa3f3a0)\" style=\"fill: #1f77b4; fill-opacity: 0.75; stroke: #000000; stroke-width: 0.607984; stroke-linejoin: miter\"/>\n   </g>\n   <g id=\"patch_42\">\n    <path d=\"M 291.684627 314.44 \nL 297.455971 314.44 \nL 297.455971 289.859754 \nL 291.684627 289.859754 \nz\n\" clip-path=\"url(#p76daa3f3a0)\" style=\"fill: #1f77b4; fill-opacity: 0.75; stroke: #000000; stroke-width: 0.607984; stroke-linejoin: miter\"/>\n   </g>\n   <g id=\"patch_43\">\n    <path d=\"M 297.455971 314.44 \nL 303.227315 314.44 \nL 303.227315 290.905722 \nL 297.455971 290.905722 \nz\n\" clip-path=\"url(#p76daa3f3a0)\" style=\"fill: #1f77b4; fill-opacity: 0.75; stroke: #000000; stroke-width: 0.607984; stroke-linejoin: miter\"/>\n   </g>\n   <g id=\"patch_44\">\n    <path d=\"M 303.227315 314.44 \nL 308.998659 314.44 \nL 308.998659 287.244834 \nL 303.227315 287.244834 \nz\n\" clip-path=\"url(#p76daa3f3a0)\" style=\"fill: #1f77b4; fill-opacity: 0.75; stroke: #000000; stroke-width: 0.607984; stroke-linejoin: miter\"/>\n   </g>\n   <g id=\"patch_45\">\n    <path d=\"M 308.998659 314.44 \nL 314.770002 314.44 \nL 314.770002 300.580925 \nL 308.998659 300.580925 \nz\n\" clip-path=\"url(#p76daa3f3a0)\" style=\"fill: #1f77b4; fill-opacity: 0.75; stroke: #000000; stroke-width: 0.607984; stroke-linejoin: miter\"/>\n   </g>\n   <g id=\"patch_46\">\n    <path d=\"M 314.770002 314.44 \nL 320.541346 314.44 \nL 320.541346 298.488989 \nL 314.770002 298.488989 \nz\n\" clip-path=\"url(#p76daa3f3a0)\" style=\"fill: #1f77b4; fill-opacity: 0.75; stroke: #000000; stroke-width: 0.607984; stroke-linejoin: miter\"/>\n   </g>\n   <g id=\"patch_47\">\n    <path d=\"M 320.541346 314.44 \nL 326.31269 314.44 \nL 326.31269 301.888385 \nL 320.541346 301.888385 \nz\n\" clip-path=\"url(#p76daa3f3a0)\" style=\"fill: #1f77b4; fill-opacity: 0.75; stroke: #000000; stroke-width: 0.607984; stroke-linejoin: miter\"/>\n   </g>\n   <g id=\"patch_48\">\n    <path d=\"M 326.31269 314.44 \nL 332.084034 314.44 \nL 332.084034 44.057294 \nL 326.31269 44.057294 \nz\n\" clip-path=\"url(#p76daa3f3a0)\" style=\"fill: #1f77b4; fill-opacity: 0.75; stroke: #000000; stroke-width: 0.607984; stroke-linejoin: miter\"/>\n   </g>\n   <g id=\"matplotlib.axis_1\">\n    <g id=\"xtick_1\">\n     <g id=\"line2d_1\">\n      <defs>\n       <path id=\"m34f42e7353\" d=\"M 0 0 \nL 0 3.5 \n\" style=\"stroke: #000000; stroke-width: 0.8\"/>\n      </defs>\n      <g>\n       <use xlink:href=\"#m34f42e7353\" x=\"58.392019\" y=\"314.44\" style=\"stroke: #000000; stroke-width: 0.8\"/>\n      </g>\n     </g>\n     <g id=\"text_1\">\n      <!-- 0 -->\n      <g transform=\"translate(55.210769 329.038437) scale(0.1 -0.1)\">\n       <defs>\n        <path id=\"DejaVuSans-30\" d=\"M 2034 4250 \nQ 1547 4250 1301 3770 \nQ 1056 3291 1056 2328 \nQ 1056 1369 1301 889 \nQ 1547 409 2034 409 \nQ 2525 409 2770 889 \nQ 3016 1369 3016 2328 \nQ 3016 3291 2770 3770 \nQ 2525 4250 2034 4250 \nz\nM 2034 4750 \nQ 2819 4750 3233 4129 \nQ 3647 3509 3647 2328 \nQ 3647 1150 3233 529 \nQ 2819 -91 2034 -91 \nQ 1250 -91 836 529 \nQ 422 1150 422 2328 \nQ 422 3509 836 4129 \nQ 1250 4750 2034 4750 \nz\n\" transform=\"scale(0.015625)\"/>\n       </defs>\n       <use xlink:href=\"#DejaVuSans-30\"/>\n      </g>\n     </g>\n    </g>\n    <g id=\"xtick_2\">\n     <g id=\"line2d_2\">\n      <g>\n       <use xlink:href=\"#m34f42e7353\" x=\"113.130313\" y=\"314.44\" style=\"stroke: #000000; stroke-width: 0.8\"/>\n      </g>\n     </g>\n     <g id=\"text_2\">\n      <!-- 1 -->\n      <g transform=\"translate(109.949063 329.038437) scale(0.1 -0.1)\">\n       <defs>\n        <path id=\"DejaVuSans-31\" d=\"M 794 531 \nL 1825 531 \nL 1825 4091 \nL 703 3866 \nL 703 4441 \nL 1819 4666 \nL 2450 4666 \nL 2450 531 \nL 3481 531 \nL 3481 0 \nL 794 0 \nL 794 531 \nz\n\" transform=\"scale(0.015625)\"/>\n       </defs>\n       <use xlink:href=\"#DejaVuSans-31\"/>\n      </g>\n     </g>\n    </g>\n    <g id=\"xtick_3\">\n     <g id=\"line2d_3\">\n      <g>\n       <use xlink:href=\"#m34f42e7353\" x=\"167.868606\" y=\"314.44\" style=\"stroke: #000000; stroke-width: 0.8\"/>\n      </g>\n     </g>\n     <g id=\"text_3\">\n      <!-- 2 -->\n      <g transform=\"translate(164.687356 329.038437) scale(0.1 -0.1)\">\n       <defs>\n        <path id=\"DejaVuSans-32\" d=\"M 1228 531 \nL 3431 531 \nL 3431 0 \nL 469 0 \nL 469 531 \nQ 828 903 1448 1529 \nQ 2069 2156 2228 2338 \nQ 2531 2678 2651 2914 \nQ 2772 3150 2772 3378 \nQ 2772 3750 2511 3984 \nQ 2250 4219 1831 4219 \nQ 1534 4219 1204 4116 \nQ 875 4013 500 3803 \nL 500 4441 \nQ 881 4594 1212 4672 \nQ 1544 4750 1819 4750 \nQ 2544 4750 2975 4387 \nQ 3406 4025 3406 3419 \nQ 3406 3131 3298 2873 \nQ 3191 2616 2906 2266 \nQ 2828 2175 2409 1742 \nQ 1991 1309 1228 531 \nz\n\" transform=\"scale(0.015625)\"/>\n       </defs>\n       <use xlink:href=\"#DejaVuSans-32\"/>\n      </g>\n     </g>\n    </g>\n    <g id=\"xtick_4\">\n     <g id=\"line2d_4\">\n      <g>\n       <use xlink:href=\"#m34f42e7353\" x=\"222.6069\" y=\"314.44\" style=\"stroke: #000000; stroke-width: 0.8\"/>\n      </g>\n     </g>\n     <g id=\"text_4\">\n      <!-- 3 -->\n      <g transform=\"translate(219.42565 329.038437) scale(0.1 -0.1)\">\n       <defs>\n        <path id=\"DejaVuSans-33\" d=\"M 2597 2516 \nQ 3050 2419 3304 2112 \nQ 3559 1806 3559 1356 \nQ 3559 666 3084 287 \nQ 2609 -91 1734 -91 \nQ 1441 -91 1130 -33 \nQ 819 25 488 141 \nL 488 750 \nQ 750 597 1062 519 \nQ 1375 441 1716 441 \nQ 2309 441 2620 675 \nQ 2931 909 2931 1356 \nQ 2931 1769 2642 2001 \nQ 2353 2234 1838 2234 \nL 1294 2234 \nL 1294 2753 \nL 1863 2753 \nQ 2328 2753 2575 2939 \nQ 2822 3125 2822 3475 \nQ 2822 3834 2567 4026 \nQ 2313 4219 1838 4219 \nQ 1578 4219 1281 4162 \nQ 984 4106 628 3988 \nL 628 4550 \nQ 988 4650 1302 4700 \nQ 1616 4750 1894 4750 \nQ 2613 4750 3031 4423 \nQ 3450 4097 3450 3541 \nQ 3450 3153 3228 2886 \nQ 3006 2619 2597 2516 \nz\n\" transform=\"scale(0.015625)\"/>\n       </defs>\n       <use xlink:href=\"#DejaVuSans-33\"/>\n      </g>\n     </g>\n    </g>\n    <g id=\"xtick_5\">\n     <g id=\"line2d_5\">\n      <g>\n       <use xlink:href=\"#m34f42e7353\" x=\"277.345193\" y=\"314.44\" style=\"stroke: #000000; stroke-width: 0.8\"/>\n      </g>\n     </g>\n     <g id=\"text_5\">\n      <!-- 4 -->\n      <g transform=\"translate(274.163943 329.038437) scale(0.1 -0.1)\">\n       <defs>\n        <path id=\"DejaVuSans-34\" d=\"M 2419 4116 \nL 825 1625 \nL 2419 1625 \nL 2419 4116 \nz\nM 2253 4666 \nL 3047 4666 \nL 3047 1625 \nL 3713 1625 \nL 3713 1100 \nL 3047 1100 \nL 3047 0 \nL 2419 0 \nL 2419 1100 \nL 313 1100 \nL 313 1709 \nL 2253 4666 \nz\n\" transform=\"scale(0.015625)\"/>\n       </defs>\n       <use xlink:href=\"#DejaVuSans-34\"/>\n      </g>\n     </g>\n    </g>\n    <g id=\"xtick_6\">\n     <g id=\"line2d_6\">\n      <g>\n       <use xlink:href=\"#m34f42e7353\" x=\"332.083487\" y=\"314.44\" style=\"stroke: #000000; stroke-width: 0.8\"/>\n      </g>\n     </g>\n     <g id=\"text_6\">\n      <!-- 5 -->\n      <g transform=\"translate(328.902237 329.038437) scale(0.1 -0.1)\">\n       <defs>\n        <path id=\"DejaVuSans-35\" d=\"M 691 4666 \nL 3169 4666 \nL 3169 4134 \nL 1269 4134 \nL 1269 2991 \nQ 1406 3038 1543 3061 \nQ 1681 3084 1819 3084 \nQ 2600 3084 3056 2656 \nQ 3513 2228 3513 1497 \nQ 3513 744 3044 326 \nQ 2575 -91 1722 -91 \nQ 1428 -91 1123 -41 \nQ 819 9 494 109 \nL 494 744 \nQ 775 591 1075 516 \nQ 1375 441 1709 441 \nQ 2250 441 2565 725 \nQ 2881 1009 2881 1497 \nQ 2881 1984 2565 2268 \nQ 2250 2553 1709 2553 \nQ 1456 2553 1204 2497 \nQ 953 2441 691 2322 \nL 691 4666 \nz\n\" transform=\"scale(0.015625)\"/>\n       </defs>\n       <use xlink:href=\"#DejaVuSans-35\"/>\n      </g>\n     </g>\n    </g>\n    <g id=\"text_7\">\n     <!-- medhouseval -->\n     <g transform=\"translate(165.731406 342.716562) scale(0.1 -0.1)\">\n      <defs>\n       <path id=\"DejaVuSans-6d\" d=\"M 3328 2828 \nQ 3544 3216 3844 3400 \nQ 4144 3584 4550 3584 \nQ 5097 3584 5394 3201 \nQ 5691 2819 5691 2113 \nL 5691 0 \nL 5113 0 \nL 5113 2094 \nQ 5113 2597 4934 2840 \nQ 4756 3084 4391 3084 \nQ 3944 3084 3684 2787 \nQ 3425 2491 3425 1978 \nL 3425 0 \nL 2847 0 \nL 2847 2094 \nQ 2847 2600 2669 2842 \nQ 2491 3084 2119 3084 \nQ 1678 3084 1418 2786 \nQ 1159 2488 1159 1978 \nL 1159 0 \nL 581 0 \nL 581 3500 \nL 1159 3500 \nL 1159 2956 \nQ 1356 3278 1631 3431 \nQ 1906 3584 2284 3584 \nQ 2666 3584 2933 3390 \nQ 3200 3197 3328 2828 \nz\n\" transform=\"scale(0.015625)\"/>\n       <path id=\"DejaVuSans-65\" d=\"M 3597 1894 \nL 3597 1613 \nL 953 1613 \nQ 991 1019 1311 708 \nQ 1631 397 2203 397 \nQ 2534 397 2845 478 \nQ 3156 559 3463 722 \nL 3463 178 \nQ 3153 47 2828 -22 \nQ 2503 -91 2169 -91 \nQ 1331 -91 842 396 \nQ 353 884 353 1716 \nQ 353 2575 817 3079 \nQ 1281 3584 2069 3584 \nQ 2775 3584 3186 3129 \nQ 3597 2675 3597 1894 \nz\nM 3022 2063 \nQ 3016 2534 2758 2815 \nQ 2500 3097 2075 3097 \nQ 1594 3097 1305 2825 \nQ 1016 2553 972 2059 \nL 3022 2063 \nz\n\" transform=\"scale(0.015625)\"/>\n       <path id=\"DejaVuSans-64\" d=\"M 2906 2969 \nL 2906 4863 \nL 3481 4863 \nL 3481 0 \nL 2906 0 \nL 2906 525 \nQ 2725 213 2448 61 \nQ 2172 -91 1784 -91 \nQ 1150 -91 751 415 \nQ 353 922 353 1747 \nQ 353 2572 751 3078 \nQ 1150 3584 1784 3584 \nQ 2172 3584 2448 3432 \nQ 2725 3281 2906 2969 \nz\nM 947 1747 \nQ 947 1113 1208 752 \nQ 1469 391 1925 391 \nQ 2381 391 2643 752 \nQ 2906 1113 2906 1747 \nQ 2906 2381 2643 2742 \nQ 2381 3103 1925 3103 \nQ 1469 3103 1208 2742 \nQ 947 2381 947 1747 \nz\n\" transform=\"scale(0.015625)\"/>\n       <path id=\"DejaVuSans-68\" d=\"M 3513 2113 \nL 3513 0 \nL 2938 0 \nL 2938 2094 \nQ 2938 2591 2744 2837 \nQ 2550 3084 2163 3084 \nQ 1697 3084 1428 2787 \nQ 1159 2491 1159 1978 \nL 1159 0 \nL 581 0 \nL 581 4863 \nL 1159 4863 \nL 1159 2956 \nQ 1366 3272 1645 3428 \nQ 1925 3584 2291 3584 \nQ 2894 3584 3203 3211 \nQ 3513 2838 3513 2113 \nz\n\" transform=\"scale(0.015625)\"/>\n       <path id=\"DejaVuSans-6f\" d=\"M 1959 3097 \nQ 1497 3097 1228 2736 \nQ 959 2375 959 1747 \nQ 959 1119 1226 758 \nQ 1494 397 1959 397 \nQ 2419 397 2687 759 \nQ 2956 1122 2956 1747 \nQ 2956 2369 2687 2733 \nQ 2419 3097 1959 3097 \nz\nM 1959 3584 \nQ 2709 3584 3137 3096 \nQ 3566 2609 3566 1747 \nQ 3566 888 3137 398 \nQ 2709 -91 1959 -91 \nQ 1206 -91 779 398 \nQ 353 888 353 1747 \nQ 353 2609 779 3096 \nQ 1206 3584 1959 3584 \nz\n\" transform=\"scale(0.015625)\"/>\n       <path id=\"DejaVuSans-75\" d=\"M 544 1381 \nL 544 3500 \nL 1119 3500 \nL 1119 1403 \nQ 1119 906 1312 657 \nQ 1506 409 1894 409 \nQ 2359 409 2629 706 \nQ 2900 1003 2900 1516 \nL 2900 3500 \nL 3475 3500 \nL 3475 0 \nL 2900 0 \nL 2900 538 \nQ 2691 219 2414 64 \nQ 2138 -91 1772 -91 \nQ 1169 -91 856 284 \nQ 544 659 544 1381 \nz\nM 1991 3584 \nL 1991 3584 \nz\n\" transform=\"scale(0.015625)\"/>\n       <path id=\"DejaVuSans-73\" d=\"M 2834 3397 \nL 2834 2853 \nQ 2591 2978 2328 3040 \nQ 2066 3103 1784 3103 \nQ 1356 3103 1142 2972 \nQ 928 2841 928 2578 \nQ 928 2378 1081 2264 \nQ 1234 2150 1697 2047 \nL 1894 2003 \nQ 2506 1872 2764 1633 \nQ 3022 1394 3022 966 \nQ 3022 478 2636 193 \nQ 2250 -91 1575 -91 \nQ 1294 -91 989 -36 \nQ 684 19 347 128 \nL 347 722 \nQ 666 556 975 473 \nQ 1284 391 1588 391 \nQ 1994 391 2212 530 \nQ 2431 669 2431 922 \nQ 2431 1156 2273 1281 \nQ 2116 1406 1581 1522 \nL 1381 1569 \nQ 847 1681 609 1914 \nQ 372 2147 372 2553 \nQ 372 3047 722 3315 \nQ 1072 3584 1716 3584 \nQ 2034 3584 2315 3537 \nQ 2597 3491 2834 3397 \nz\n\" transform=\"scale(0.015625)\"/>\n       <path id=\"DejaVuSans-76\" d=\"M 191 3500 \nL 800 3500 \nL 1894 563 \nL 2988 3500 \nL 3597 3500 \nL 2284 0 \nL 1503 0 \nL 191 3500 \nz\n\" transform=\"scale(0.015625)\"/>\n       <path id=\"DejaVuSans-61\" d=\"M 2194 1759 \nQ 1497 1759 1228 1600 \nQ 959 1441 959 1056 \nQ 959 750 1161 570 \nQ 1363 391 1709 391 \nQ 2188 391 2477 730 \nQ 2766 1069 2766 1631 \nL 2766 1759 \nL 2194 1759 \nz\nM 3341 1997 \nL 3341 0 \nL 2766 0 \nL 2766 531 \nQ 2569 213 2275 61 \nQ 1981 -91 1556 -91 \nQ 1019 -91 701 211 \nQ 384 513 384 1019 \nQ 384 1609 779 1909 \nQ 1175 2209 1959 2209 \nL 2766 2209 \nL 2766 2266 \nQ 2766 2663 2505 2880 \nQ 2244 3097 1772 3097 \nQ 1472 3097 1187 3025 \nQ 903 2953 641 2809 \nL 641 3341 \nQ 956 3463 1253 3523 \nQ 1550 3584 1831 3584 \nQ 2591 3584 2966 3190 \nQ 3341 2797 3341 1997 \nz\n\" transform=\"scale(0.015625)\"/>\n       <path id=\"DejaVuSans-6c\" d=\"M 603 4863 \nL 1178 4863 \nL 1178 0 \nL 603 0 \nL 603 4863 \nz\n\" transform=\"scale(0.015625)\"/>\n      </defs>\n      <use xlink:href=\"#DejaVuSans-6d\"/>\n      <use xlink:href=\"#DejaVuSans-65\" x=\"97.412109\"/>\n      <use xlink:href=\"#DejaVuSans-64\" x=\"158.935547\"/>\n      <use xlink:href=\"#DejaVuSans-68\" x=\"222.412109\"/>\n      <use xlink:href=\"#DejaVuSans-6f\" x=\"285.791016\"/>\n      <use xlink:href=\"#DejaVuSans-75\" x=\"346.972656\"/>\n      <use xlink:href=\"#DejaVuSans-73\" x=\"410.351562\"/>\n      <use xlink:href=\"#DejaVuSans-65\" x=\"462.451172\"/>\n      <use xlink:href=\"#DejaVuSans-76\" x=\"523.974609\"/>\n      <use xlink:href=\"#DejaVuSans-61\" x=\"583.154297\"/>\n      <use xlink:href=\"#DejaVuSans-6c\" x=\"644.433594\"/>\n     </g>\n    </g>\n   </g>\n   <g id=\"matplotlib.axis_2\">\n    <g id=\"ytick_1\">\n     <g id=\"line2d_7\">\n      <defs>\n       <path id=\"me0a4bc07fb\" d=\"M 0 0 \nL -3.5 0 \n\" style=\"stroke: #000000; stroke-width: 0.8\"/>\n      </defs>\n      <g>\n       <use xlink:href=\"#me0a4bc07fb\" x=\"53.328125\" y=\"314.44\" style=\"stroke: #000000; stroke-width: 0.8\"/>\n      </g>\n     </g>\n     <g id=\"text_8\">\n      <!-- 0 -->\n      <g transform=\"translate(39.965625 318.239219) scale(0.1 -0.1)\">\n       <use xlink:href=\"#DejaVuSans-30\"/>\n      </g>\n     </g>\n    </g>\n    <g id=\"ytick_2\">\n     <g id=\"line2d_8\">\n      <g>\n       <use xlink:href=\"#me0a4bc07fb\" x=\"53.328125\" y=\"262.141604\" style=\"stroke: #000000; stroke-width: 0.8\"/>\n      </g>\n     </g>\n     <g id=\"text_9\">\n      <!-- 200 -->\n      <g transform=\"translate(27.240625 265.940823) scale(0.1 -0.1)\">\n       <use xlink:href=\"#DejaVuSans-32\"/>\n       <use xlink:href=\"#DejaVuSans-30\" x=\"63.623047\"/>\n       <use xlink:href=\"#DejaVuSans-30\" x=\"127.246094\"/>\n      </g>\n     </g>\n    </g>\n    <g id=\"ytick_3\">\n     <g id=\"line2d_9\">\n      <g>\n       <use xlink:href=\"#me0a4bc07fb\" x=\"53.328125\" y=\"209.843209\" style=\"stroke: #000000; stroke-width: 0.8\"/>\n      </g>\n     </g>\n     <g id=\"text_10\">\n      <!-- 400 -->\n      <g transform=\"translate(27.240625 213.642427) scale(0.1 -0.1)\">\n       <use xlink:href=\"#DejaVuSans-34\"/>\n       <use xlink:href=\"#DejaVuSans-30\" x=\"63.623047\"/>\n       <use xlink:href=\"#DejaVuSans-30\" x=\"127.246094\"/>\n      </g>\n     </g>\n    </g>\n    <g id=\"ytick_4\">\n     <g id=\"line2d_10\">\n      <g>\n       <use xlink:href=\"#me0a4bc07fb\" x=\"53.328125\" y=\"157.544813\" style=\"stroke: #000000; stroke-width: 0.8\"/>\n      </g>\n     </g>\n     <g id=\"text_11\">\n      <!-- 600 -->\n      <g transform=\"translate(27.240625 161.344032) scale(0.1 -0.1)\">\n       <defs>\n        <path id=\"DejaVuSans-36\" d=\"M 2113 2584 \nQ 1688 2584 1439 2293 \nQ 1191 2003 1191 1497 \nQ 1191 994 1439 701 \nQ 1688 409 2113 409 \nQ 2538 409 2786 701 \nQ 3034 994 3034 1497 \nQ 3034 2003 2786 2293 \nQ 2538 2584 2113 2584 \nz\nM 3366 4563 \nL 3366 3988 \nQ 3128 4100 2886 4159 \nQ 2644 4219 2406 4219 \nQ 1781 4219 1451 3797 \nQ 1122 3375 1075 2522 \nQ 1259 2794 1537 2939 \nQ 1816 3084 2150 3084 \nQ 2853 3084 3261 2657 \nQ 3669 2231 3669 1497 \nQ 3669 778 3244 343 \nQ 2819 -91 2113 -91 \nQ 1303 -91 875 529 \nQ 447 1150 447 2328 \nQ 447 3434 972 4092 \nQ 1497 4750 2381 4750 \nQ 2619 4750 2861 4703 \nQ 3103 4656 3366 4563 \nz\n\" transform=\"scale(0.015625)\"/>\n       </defs>\n       <use xlink:href=\"#DejaVuSans-36\"/>\n       <use xlink:href=\"#DejaVuSans-30\" x=\"63.623047\"/>\n       <use xlink:href=\"#DejaVuSans-30\" x=\"127.246094\"/>\n      </g>\n     </g>\n    </g>\n    <g id=\"ytick_5\">\n     <g id=\"line2d_11\">\n      <g>\n       <use xlink:href=\"#me0a4bc07fb\" x=\"53.328125\" y=\"105.246417\" style=\"stroke: #000000; stroke-width: 0.8\"/>\n      </g>\n     </g>\n     <g id=\"text_12\">\n      <!-- 800 -->\n      <g transform=\"translate(27.240625 109.045636) scale(0.1 -0.1)\">\n       <defs>\n        <path id=\"DejaVuSans-38\" d=\"M 2034 2216 \nQ 1584 2216 1326 1975 \nQ 1069 1734 1069 1313 \nQ 1069 891 1326 650 \nQ 1584 409 2034 409 \nQ 2484 409 2743 651 \nQ 3003 894 3003 1313 \nQ 3003 1734 2745 1975 \nQ 2488 2216 2034 2216 \nz\nM 1403 2484 \nQ 997 2584 770 2862 \nQ 544 3141 544 3541 \nQ 544 4100 942 4425 \nQ 1341 4750 2034 4750 \nQ 2731 4750 3128 4425 \nQ 3525 4100 3525 3541 \nQ 3525 3141 3298 2862 \nQ 3072 2584 2669 2484 \nQ 3125 2378 3379 2068 \nQ 3634 1759 3634 1313 \nQ 3634 634 3220 271 \nQ 2806 -91 2034 -91 \nQ 1263 -91 848 271 \nQ 434 634 434 1313 \nQ 434 1759 690 2068 \nQ 947 2378 1403 2484 \nz\nM 1172 3481 \nQ 1172 3119 1398 2916 \nQ 1625 2713 2034 2713 \nQ 2441 2713 2670 2916 \nQ 2900 3119 2900 3481 \nQ 2900 3844 2670 4047 \nQ 2441 4250 2034 4250 \nQ 1625 4250 1398 4047 \nQ 1172 3844 1172 3481 \nz\n\" transform=\"scale(0.015625)\"/>\n       </defs>\n       <use xlink:href=\"#DejaVuSans-38\"/>\n       <use xlink:href=\"#DejaVuSans-30\" x=\"63.623047\"/>\n       <use xlink:href=\"#DejaVuSans-30\" x=\"127.246094\"/>\n      </g>\n     </g>\n    </g>\n    <g id=\"ytick_6\">\n     <g id=\"line2d_12\">\n      <g>\n       <use xlink:href=\"#me0a4bc07fb\" x=\"53.328125\" y=\"52.948022\" style=\"stroke: #000000; stroke-width: 0.8\"/>\n      </g>\n     </g>\n     <g id=\"text_13\">\n      <!-- 1000 -->\n      <g transform=\"translate(20.878125 56.74724) scale(0.1 -0.1)\">\n       <use xlink:href=\"#DejaVuSans-31\"/>\n       <use xlink:href=\"#DejaVuSans-30\" x=\"63.623047\"/>\n       <use xlink:href=\"#DejaVuSans-30\" x=\"127.246094\"/>\n       <use xlink:href=\"#DejaVuSans-30\" x=\"190.869141\"/>\n      </g>\n     </g>\n    </g>\n    <g id=\"text_14\">\n     <!-- Count -->\n     <g transform=\"translate(14.798438 175.668438) rotate(-90) scale(0.1 -0.1)\">\n      <defs>\n       <path id=\"DejaVuSans-43\" d=\"M 4122 4306 \nL 4122 3641 \nQ 3803 3938 3442 4084 \nQ 3081 4231 2675 4231 \nQ 1875 4231 1450 3742 \nQ 1025 3253 1025 2328 \nQ 1025 1406 1450 917 \nQ 1875 428 2675 428 \nQ 3081 428 3442 575 \nQ 3803 722 4122 1019 \nL 4122 359 \nQ 3791 134 3420 21 \nQ 3050 -91 2638 -91 \nQ 1578 -91 968 557 \nQ 359 1206 359 2328 \nQ 359 3453 968 4101 \nQ 1578 4750 2638 4750 \nQ 3056 4750 3426 4639 \nQ 3797 4528 4122 4306 \nz\n\" transform=\"scale(0.015625)\"/>\n       <path id=\"DejaVuSans-6e\" d=\"M 3513 2113 \nL 3513 0 \nL 2938 0 \nL 2938 2094 \nQ 2938 2591 2744 2837 \nQ 2550 3084 2163 3084 \nQ 1697 3084 1428 2787 \nQ 1159 2491 1159 1978 \nL 1159 0 \nL 581 0 \nL 581 3500 \nL 1159 3500 \nL 1159 2956 \nQ 1366 3272 1645 3428 \nQ 1925 3584 2291 3584 \nQ 2894 3584 3203 3211 \nQ 3513 2838 3513 2113 \nz\n\" transform=\"scale(0.015625)\"/>\n       <path id=\"DejaVuSans-74\" d=\"M 1172 4494 \nL 1172 3500 \nL 2356 3500 \nL 2356 3053 \nL 1172 3053 \nL 1172 1153 \nQ 1172 725 1289 603 \nQ 1406 481 1766 481 \nL 2356 481 \nL 2356 0 \nL 1766 0 \nQ 1100 0 847 248 \nQ 594 497 594 1153 \nL 594 3053 \nL 172 3053 \nL 172 3500 \nL 594 3500 \nL 594 4494 \nL 1172 4494 \nz\n\" transform=\"scale(0.015625)\"/>\n      </defs>\n      <use xlink:href=\"#DejaVuSans-43\"/>\n      <use xlink:href=\"#DejaVuSans-6f\" x=\"69.824219\"/>\n      <use xlink:href=\"#DejaVuSans-75\" x=\"131.005859\"/>\n      <use xlink:href=\"#DejaVuSans-6e\" x=\"194.384766\"/>\n      <use xlink:href=\"#DejaVuSans-74\" x=\"257.763672\"/>\n     </g>\n    </g>\n   </g>\n   <g id=\"patch_49\">\n    <path d=\"M 53.328125 314.44 \nL 53.328125 7.2 \n\" style=\"fill: none; stroke: #000000; stroke-width: 0.8; stroke-linejoin: miter; stroke-linecap: square\"/>\n   </g>\n   <g id=\"patch_50\">\n    <path d=\"M 53.328125 314.44 \nL 345.358125 314.44 \n\" style=\"fill: none; stroke: #000000; stroke-width: 0.8; stroke-linejoin: miter; stroke-linecap: square\"/>\n   </g>\n  </g>\n </g>\n <defs>\n  <clipPath id=\"p76daa3f3a0\">\n   <rect x=\"53.328125\" y=\"7.2\" width=\"292.03\" height=\"307.24\"/>\n  </clipPath>\n </defs>\n</svg>\n"
          },
          "metadata": {}
        }
      ]
    },
    {
      "cell_type": "markdown",
      "source": [
        "Судя по гистограмме, у нас есть примеры с нетипично большой стоимостью, что может помешать нам, если наша функция потерь слишком чувствительна к выбросам."
      ],
      "metadata": {
        "id": "FNLjsEy9CSbx"
      }
    },
    {
      "cell_type": "code",
      "source": [
        "df['medhouseval'].describe(percentiles=[0.1, 0.25, 0.75, 0.95 ])"
      ],
      "metadata": {
        "colab": {
          "base_uri": "https://localhost:8080/"
        },
        "id": "pCdBAJJgCUaa",
        "outputId": "fff3b0c2-5c45-49b7-fdd9-5989f3fbb615"
      },
      "execution_count": null,
      "outputs": [
        {
          "output_type": "execute_result",
          "data": {
            "text/plain": [
              "count   20640.00\n",
              "mean        2.07\n",
              "std         1.15\n",
              "min         0.15\n",
              "10%         0.82\n",
              "25%         1.20\n",
              "50%         1.80\n",
              "75%         2.65\n",
              "95%         4.90\n",
              "max         5.00\n",
              "Name: medhouseval, dtype: float64"
            ]
          },
          "metadata": {},
          "execution_count": 11
        }
      ]
    },
    {
      "cell_type": "code",
      "source": [
        "# убираем выбросы\n",
        "Q3 = np.quantile(df['medhouseval'], 0.75, axis=0)\n",
        "Q1 = np.quantile(df['medhouseval'], 0.25, axis=0)\n",
        "IQR = Q3 - Q1\n",
        "upper = Q3 + 1.5 * IQR\n",
        "lower = Q1 - 1.5 * IQR\n",
        "df = df[(df['medhouseval']<=upper)&(df['medhouseval']>=lower)].copy()"
      ],
      "metadata": {
        "id": "i1Cx30g5CWOY"
      },
      "execution_count": null,
      "outputs": []
    },
    {
      "cell_type": "code",
      "source": [
        "sns.displot(df.medhouseval);"
      ],
      "metadata": {
        "colab": {
          "base_uri": "https://localhost:8080/",
          "height": 490
        },
        "id": "TlKIiLAiG4LI",
        "outputId": "0027e722-4f70-4910-868f-c1db1b3f113b"
      },
      "execution_count": null,
      "outputs": [
        {
          "output_type": "display_data",
          "data": {
            "text/plain": [
              "<Figure size 500x500 with 1 Axes>"
            ],
            "image/svg+xml": "<?xml version=\"1.0\" encoding=\"utf-8\" standalone=\"no\"?>\n<!DOCTYPE svg PUBLIC \"-//W3C//DTD SVG 1.1//EN\"\n  \"http://www.w3.org/Graphics/SVG/1.1/DTD/svg11.dtd\">\n<svg xmlns:xlink=\"http://www.w3.org/1999/xlink\" width=\"352.579938pt\" height=\"351.99625pt\" viewBox=\"0 0 352.579938 351.99625\" xmlns=\"http://www.w3.org/2000/svg\" version=\"1.1\">\n <metadata>\n  <rdf:RDF xmlns:dc=\"http://purl.org/dc/elements/1.1/\" xmlns:cc=\"http://creativecommons.org/ns#\" xmlns:rdf=\"http://www.w3.org/1999/02/22-rdf-syntax-ns#\">\n   <cc:Work>\n    <dc:type rdf:resource=\"http://purl.org/dc/dcmitype/StillImage\"/>\n    <dc:date>2024-04-23T15:45:24.032001</dc:date>\n    <dc:format>image/svg+xml</dc:format>\n    <dc:creator>\n     <cc:Agent>\n      <dc:title>Matplotlib v3.7.1, https://matplotlib.org/</dc:title>\n     </cc:Agent>\n    </dc:creator>\n   </cc:Work>\n  </rdf:RDF>\n </metadata>\n <defs>\n  <style type=\"text/css\">*{stroke-linejoin: round; stroke-linecap: butt}</style>\n </defs>\n <g id=\"figure_1\">\n  <g id=\"patch_1\">\n   <path d=\"M 0 351.99625 \nL 352.579938 351.99625 \nL 352.579938 0 \nL 0 0 \nz\n\" style=\"fill: #ffffff\"/>\n  </g>\n  <g id=\"axes_1\">\n   <g id=\"patch_2\">\n    <path d=\"M 53.328125 314.44 \nL 345.358125 314.44 \nL 345.358125 7.2 \nL 53.328125 7.2 \nz\n\" style=\"fill: #ffffff\"/>\n   </g>\n   <g id=\"patch_3\">\n    <path d=\"M 66.602216 314.44 \nL 72.020212 314.44 \nL 72.020212 311.86068 \nL 66.602216 311.86068 \nz\n\" clip-path=\"url(#pbe9f31ac48)\" style=\"fill: #1f77b4; fill-opacity: 0.75; stroke: #000000; stroke-width: 0.570761; stroke-linejoin: miter\"/>\n   </g>\n   <g id=\"patch_4\">\n    <path d=\"M 72.020212 314.44 \nL 77.438208 314.44 \nL 77.438208 310.714316 \nL 72.020212 310.714316 \nz\n\" clip-path=\"url(#pbe9f31ac48)\" style=\"fill: #1f77b4; fill-opacity: 0.75; stroke: #000000; stroke-width: 0.570761; stroke-linejoin: miter\"/>\n   </g>\n   <g id=\"patch_5\">\n    <path d=\"M 77.438208 314.44 \nL 82.856205 314.44 \nL 82.856205 298.96408 \nL 77.438208 298.96408 \nz\n\" clip-path=\"url(#pbe9f31ac48)\" style=\"fill: #1f77b4; fill-opacity: 0.75; stroke: #000000; stroke-width: 0.570761; stroke-linejoin: miter\"/>\n   </g>\n   <g id=\"patch_6\">\n    <path d=\"M 82.856205 314.44 \nL 88.274201 314.44 \nL 88.274201 245.658133 \nL 82.856205 245.658133 \nz\n\" clip-path=\"url(#pbe9f31ac48)\" style=\"fill: #1f77b4; fill-opacity: 0.75; stroke: #000000; stroke-width: 0.570761; stroke-linejoin: miter\"/>\n   </g>\n   <g id=\"patch_7\">\n    <path d=\"M 88.274201 314.44 \nL 93.692197 314.44 \nL 93.692197 166.558987 \nL 88.274201 166.558987 \nz\n\" clip-path=\"url(#pbe9f31ac48)\" style=\"fill: #1f77b4; fill-opacity: 0.75; stroke: #000000; stroke-width: 0.570761; stroke-linejoin: miter\"/>\n   </g>\n   <g id=\"patch_8\">\n    <path d=\"M 93.692197 314.44 \nL 99.110194 314.44 \nL 99.110194 129.875325 \nL 93.692197 129.875325 \nz\n\" clip-path=\"url(#pbe9f31ac48)\" style=\"fill: #1f77b4; fill-opacity: 0.75; stroke: #000000; stroke-width: 0.570761; stroke-linejoin: miter\"/>\n   </g>\n   <g id=\"patch_9\">\n    <path d=\"M 99.110194 314.44 \nL 104.52819 314.44 \nL 104.52819 156.528298 \nL 99.110194 156.528298 \nz\n\" clip-path=\"url(#pbe9f31ac48)\" style=\"fill: #1f77b4; fill-opacity: 0.75; stroke: #000000; stroke-width: 0.570761; stroke-linejoin: miter\"/>\n   </g>\n   <g id=\"patch_10\">\n    <path d=\"M 104.52819 314.44 \nL 109.946186 314.44 \nL 109.946186 94.051436 \nL 104.52819 94.051436 \nz\n\" clip-path=\"url(#pbe9f31ac48)\" style=\"fill: #1f77b4; fill-opacity: 0.75; stroke: #000000; stroke-width: 0.570761; stroke-linejoin: miter\"/>\n   </g>\n   <g id=\"patch_11\">\n    <path d=\"M 109.946186 314.44 \nL 115.364183 314.44 \nL 115.364183 57.654365 \nL 109.946186 57.654365 \nz\n\" clip-path=\"url(#pbe9f31ac48)\" style=\"fill: #1f77b4; fill-opacity: 0.75; stroke: #000000; stroke-width: 0.570761; stroke-linejoin: miter\"/>\n   </g>\n   <g id=\"patch_12\">\n    <path d=\"M 115.364183 314.44 \nL 120.782179 314.44 \nL 120.782179 122.710547 \nL 115.364183 122.710547 \nz\n\" clip-path=\"url(#pbe9f31ac48)\" style=\"fill: #1f77b4; fill-opacity: 0.75; stroke: #000000; stroke-width: 0.570761; stroke-linejoin: miter\"/>\n   </g>\n   <g id=\"patch_13\">\n    <path d=\"M 120.782179 314.44 \nL 126.200175 314.44 \nL 126.200175 82.014609 \nL 120.782179 82.014609 \nz\n\" clip-path=\"url(#pbe9f31ac48)\" style=\"fill: #1f77b4; fill-opacity: 0.75; stroke: #000000; stroke-width: 0.570761; stroke-linejoin: miter\"/>\n   </g>\n   <g id=\"patch_14\">\n    <path d=\"M 126.200175 314.44 \nL 131.618171 314.44 \nL 131.618171 113.826223 \nL 126.200175 113.826223 \nz\n\" clip-path=\"url(#pbe9f31ac48)\" style=\"fill: #1f77b4; fill-opacity: 0.75; stroke: #000000; stroke-width: 0.570761; stroke-linejoin: miter\"/>\n   </g>\n   <g id=\"patch_15\">\n    <path d=\"M 131.618171 314.44 \nL 137.036168 314.44 \nL 137.036168 86.886658 \nL 131.618171 86.886658 \nz\n\" clip-path=\"url(#pbe9f31ac48)\" style=\"fill: #1f77b4; fill-opacity: 0.75; stroke: #000000; stroke-width: 0.570761; stroke-linejoin: miter\"/>\n   </g>\n   <g id=\"patch_16\">\n    <path d=\"M 137.036168 314.44 \nL 142.454164 314.44 \nL 142.454164 82.014609 \nL 137.036168 82.014609 \nz\n\" clip-path=\"url(#pbe9f31ac48)\" style=\"fill: #1f77b4; fill-opacity: 0.75; stroke: #000000; stroke-width: 0.570761; stroke-linejoin: miter\"/>\n   </g>\n   <g id=\"patch_17\">\n    <path d=\"M 142.454164 314.44 \nL 147.87216 314.44 \nL 147.87216 69.691192 \nL 142.454164 69.691192 \nz\n\" clip-path=\"url(#pbe9f31ac48)\" style=\"fill: #1f77b4; fill-opacity: 0.75; stroke: #000000; stroke-width: 0.570761; stroke-linejoin: miter\"/>\n   </g>\n   <g id=\"patch_18\">\n    <path d=\"M 147.87216 314.44 \nL 153.290157 314.44 \nL 153.290157 21.830476 \nL 147.87216 21.830476 \nz\n\" clip-path=\"url(#pbe9f31ac48)\" style=\"fill: #1f77b4; fill-opacity: 0.75; stroke: #000000; stroke-width: 0.570761; stroke-linejoin: miter\"/>\n   </g>\n   <g id=\"patch_19\">\n    <path d=\"M 153.290157 314.44 \nL 158.708153 314.44 \nL 158.708153 97.203938 \nL 153.290157 97.203938 \nz\n\" clip-path=\"url(#pbe9f31ac48)\" style=\"fill: #1f77b4; fill-opacity: 0.75; stroke: #000000; stroke-width: 0.570761; stroke-linejoin: miter\"/>\n   </g>\n   <g id=\"patch_20\">\n    <path d=\"M 158.708153 314.44 \nL 164.126149 314.44 \nL 164.126149 90.03916 \nL 158.708153 90.03916 \nz\n\" clip-path=\"url(#pbe9f31ac48)\" style=\"fill: #1f77b4; fill-opacity: 0.75; stroke: #000000; stroke-width: 0.570761; stroke-linejoin: miter\"/>\n   </g>\n   <g id=\"patch_21\">\n    <path d=\"M 164.126149 314.44 \nL 169.544145 314.44 \nL 169.544145 91.185525 \nL 164.126149 91.185525 \nz\n\" clip-path=\"url(#pbe9f31ac48)\" style=\"fill: #1f77b4; fill-opacity: 0.75; stroke: #000000; stroke-width: 0.570761; stroke-linejoin: miter\"/>\n   </g>\n   <g id=\"patch_22\">\n    <path d=\"M 169.544145 314.44 \nL 174.962142 314.44 \nL 174.962142 163.119894 \nL 169.544145 163.119894 \nz\n\" clip-path=\"url(#pbe9f31ac48)\" style=\"fill: #1f77b4; fill-opacity: 0.75; stroke: #000000; stroke-width: 0.570761; stroke-linejoin: miter\"/>\n   </g>\n   <g id=\"patch_23\">\n    <path d=\"M 174.962142 314.44 \nL 180.380138 314.44 \nL 180.380138 157.388071 \nL 174.962142 157.388071 \nz\n\" clip-path=\"url(#pbe9f31ac48)\" style=\"fill: #1f77b4; fill-opacity: 0.75; stroke: #000000; stroke-width: 0.570761; stroke-linejoin: miter\"/>\n   </g>\n   <g id=\"patch_24\">\n    <path d=\"M 180.380138 314.44 \nL 185.798134 314.44 \nL 185.798134 141.62556 \nL 180.380138 141.62556 \nz\n\" clip-path=\"url(#pbe9f31ac48)\" style=\"fill: #1f77b4; fill-opacity: 0.75; stroke: #000000; stroke-width: 0.570761; stroke-linejoin: miter\"/>\n   </g>\n   <g id=\"patch_25\">\n    <path d=\"M 185.798134 314.44 \nL 191.216131 314.44 \nL 191.216131 128.72896 \nL 185.798134 128.72896 \nz\n\" clip-path=\"url(#pbe9f31ac48)\" style=\"fill: #1f77b4; fill-opacity: 0.75; stroke: #000000; stroke-width: 0.570761; stroke-linejoin: miter\"/>\n   </g>\n   <g id=\"patch_26\">\n    <path d=\"M 191.216131 314.44 \nL 196.634127 314.44 \nL 196.634127 157.10148 \nL 191.216131 157.10148 \nz\n\" clip-path=\"url(#pbe9f31ac48)\" style=\"fill: #1f77b4; fill-opacity: 0.75; stroke: #000000; stroke-width: 0.570761; stroke-linejoin: miter\"/>\n   </g>\n   <g id=\"patch_27\">\n    <path d=\"M 196.634127 314.44 \nL 202.052123 314.44 \nL 202.052123 190.059458 \nL 196.634127 190.059458 \nz\n\" clip-path=\"url(#pbe9f31ac48)\" style=\"fill: #1f77b4; fill-opacity: 0.75; stroke: #000000; stroke-width: 0.570761; stroke-linejoin: miter\"/>\n   </g>\n   <g id=\"patch_28\">\n    <path d=\"M 202.052123 314.44 \nL 207.470119 314.44 \nL 207.470119 195.218098 \nL 202.052123 195.218098 \nz\n\" clip-path=\"url(#pbe9f31ac48)\" style=\"fill: #1f77b4; fill-opacity: 0.75; stroke: #000000; stroke-width: 0.570761; stroke-linejoin: miter\"/>\n   </g>\n   <g id=\"patch_29\">\n    <path d=\"M 207.470119 314.44 \nL 212.888116 314.44 \nL 212.888116 188.626502 \nL 207.470119 188.626502 \nz\n\" clip-path=\"url(#pbe9f31ac48)\" style=\"fill: #1f77b4; fill-opacity: 0.75; stroke: #000000; stroke-width: 0.570761; stroke-linejoin: miter\"/>\n   </g>\n   <g id=\"patch_30\">\n    <path d=\"M 212.888116 314.44 \nL 218.306112 314.44 \nL 218.306112 198.943782 \nL 212.888116 198.943782 \nz\n\" clip-path=\"url(#pbe9f31ac48)\" style=\"fill: #1f77b4; fill-opacity: 0.75; stroke: #000000; stroke-width: 0.570761; stroke-linejoin: miter\"/>\n   </g>\n   <g id=\"patch_31\">\n    <path d=\"M 218.306112 314.44 \nL 223.724108 314.44 \nL 223.724108 221.297889 \nL 218.306112 221.297889 \nz\n\" clip-path=\"url(#pbe9f31ac48)\" style=\"fill: #1f77b4; fill-opacity: 0.75; stroke: #000000; stroke-width: 0.570761; stroke-linejoin: miter\"/>\n   </g>\n   <g id=\"patch_32\">\n    <path d=\"M 223.724108 314.44 \nL 229.142105 314.44 \nL 229.142105 241.645858 \nL 223.724108 241.645858 \nz\n\" clip-path=\"url(#pbe9f31ac48)\" style=\"fill: #1f77b4; fill-opacity: 0.75; stroke: #000000; stroke-width: 0.570761; stroke-linejoin: miter\"/>\n   </g>\n   <g id=\"patch_33\">\n    <path d=\"M 229.142105 314.44 \nL 234.560101 314.44 \nL 234.560101 257.121778 \nL 229.142105 257.121778 \nz\n\" clip-path=\"url(#pbe9f31ac48)\" style=\"fill: #1f77b4; fill-opacity: 0.75; stroke: #000000; stroke-width: 0.570761; stroke-linejoin: miter\"/>\n   </g>\n   <g id=\"patch_34\">\n    <path d=\"M 234.560101 314.44 \nL 239.978097 314.44 \nL 239.978097 249.670409 \nL 234.560101 249.670409 \nz\n\" clip-path=\"url(#pbe9f31ac48)\" style=\"fill: #1f77b4; fill-opacity: 0.75; stroke: #000000; stroke-width: 0.570761; stroke-linejoin: miter\"/>\n   </g>\n   <g id=\"patch_35\">\n    <path d=\"M 239.978097 314.44 \nL 245.396093 314.44 \nL 245.396093 247.950862 \nL 239.978097 247.950862 \nz\n\" clip-path=\"url(#pbe9f31ac48)\" style=\"fill: #1f77b4; fill-opacity: 0.75; stroke: #000000; stroke-width: 0.570761; stroke-linejoin: miter\"/>\n   </g>\n   <g id=\"patch_36\">\n    <path d=\"M 245.396093 314.44 \nL 250.81409 314.44 \nL 250.81409 242.21904 \nL 245.396093 242.21904 \nz\n\" clip-path=\"url(#pbe9f31ac48)\" style=\"fill: #1f77b4; fill-opacity: 0.75; stroke: #000000; stroke-width: 0.570761; stroke-linejoin: miter\"/>\n   </g>\n   <g id=\"patch_37\">\n    <path d=\"M 250.81409 314.44 \nL 256.232086 314.44 \nL 256.232086 245.944725 \nL 250.81409 245.944725 \nz\n\" clip-path=\"url(#pbe9f31ac48)\" style=\"fill: #1f77b4; fill-opacity: 0.75; stroke: #000000; stroke-width: 0.570761; stroke-linejoin: miter\"/>\n   </g>\n   <g id=\"patch_38\">\n    <path d=\"M 256.232086 314.44 \nL 261.650082 314.44 \nL 261.650082 238.206765 \nL 256.232086 238.206765 \nz\n\" clip-path=\"url(#pbe9f31ac48)\" style=\"fill: #1f77b4; fill-opacity: 0.75; stroke: #000000; stroke-width: 0.570761; stroke-linejoin: miter\"/>\n   </g>\n   <g id=\"patch_39\">\n    <path d=\"M 261.650082 314.44 \nL 267.068079 314.44 \nL 267.068079 257.121778 \nL 261.650082 257.121778 \nz\n\" clip-path=\"url(#pbe9f31ac48)\" style=\"fill: #1f77b4; fill-opacity: 0.75; stroke: #000000; stroke-width: 0.570761; stroke-linejoin: miter\"/>\n   </g>\n   <g id=\"patch_40\">\n    <path d=\"M 267.068079 314.44 \nL 272.486075 314.44 \nL 272.486075 270.018378 \nL 267.068079 270.018378 \nz\n\" clip-path=\"url(#pbe9f31ac48)\" style=\"fill: #1f77b4; fill-opacity: 0.75; stroke: #000000; stroke-width: 0.570761; stroke-linejoin: miter\"/>\n   </g>\n   <g id=\"patch_41\">\n    <path d=\"M 272.486075 314.44 \nL 277.904071 314.44 \nL 277.904071 280.049067 \nL 272.486075 280.049067 \nz\n\" clip-path=\"url(#pbe9f31ac48)\" style=\"fill: #1f77b4; fill-opacity: 0.75; stroke: #000000; stroke-width: 0.570761; stroke-linejoin: miter\"/>\n   </g>\n   <g id=\"patch_42\">\n    <path d=\"M 277.904071 314.44 \nL 283.322067 314.44 \nL 283.322067 280.622249 \nL 277.904071 280.622249 \nz\n\" clip-path=\"url(#pbe9f31ac48)\" style=\"fill: #1f77b4; fill-opacity: 0.75; stroke: #000000; stroke-width: 0.570761; stroke-linejoin: miter\"/>\n   </g>\n   <g id=\"patch_43\">\n    <path d=\"M 283.322067 314.44 \nL 288.740064 314.44 \nL 288.740064 279.475885 \nL 283.322067 279.475885 \nz\n\" clip-path=\"url(#pbe9f31ac48)\" style=\"fill: #1f77b4; fill-opacity: 0.75; stroke: #000000; stroke-width: 0.570761; stroke-linejoin: miter\"/>\n   </g>\n   <g id=\"patch_44\">\n    <path d=\"M 288.740064 314.44 \nL 294.15806 314.44 \nL 294.15806 286.640662 \nL 288.740064 286.640662 \nz\n\" clip-path=\"url(#pbe9f31ac48)\" style=\"fill: #1f77b4; fill-opacity: 0.75; stroke: #000000; stroke-width: 0.570761; stroke-linejoin: miter\"/>\n   </g>\n   <g id=\"patch_45\">\n    <path d=\"M 294.15806 314.44 \nL 299.576056 314.44 \nL 299.576056 288.6468 \nL 294.15806 288.6468 \nz\n\" clip-path=\"url(#pbe9f31ac48)\" style=\"fill: #1f77b4; fill-opacity: 0.75; stroke: #000000; stroke-width: 0.570761; stroke-linejoin: miter\"/>\n   </g>\n   <g id=\"patch_46\">\n    <path d=\"M 299.576056 314.44 \nL 304.994053 314.44 \nL 304.994053 288.933391 \nL 299.576056 288.933391 \nz\n\" clip-path=\"url(#pbe9f31ac48)\" style=\"fill: #1f77b4; fill-opacity: 0.75; stroke: #000000; stroke-width: 0.570761; stroke-linejoin: miter\"/>\n   </g>\n   <g id=\"patch_47\">\n    <path d=\"M 304.994053 314.44 \nL 310.412049 314.44 \nL 310.412049 289.506573 \nL 304.994053 289.506573 \nz\n\" clip-path=\"url(#pbe9f31ac48)\" style=\"fill: #1f77b4; fill-opacity: 0.75; stroke: #000000; stroke-width: 0.570761; stroke-linejoin: miter\"/>\n   </g>\n   <g id=\"patch_48\">\n    <path d=\"M 310.412049 314.44 \nL 315.830045 314.44 \nL 315.830045 286.354071 \nL 310.412049 286.354071 \nz\n\" clip-path=\"url(#pbe9f31ac48)\" style=\"fill: #1f77b4; fill-opacity: 0.75; stroke: #000000; stroke-width: 0.570761; stroke-linejoin: miter\"/>\n   </g>\n   <g id=\"patch_49\">\n    <path d=\"M 315.830045 314.44 \nL 321.248042 314.44 \nL 321.248042 296.671351 \nL 315.830045 296.671351 \nz\n\" clip-path=\"url(#pbe9f31ac48)\" style=\"fill: #1f77b4; fill-opacity: 0.75; stroke: #000000; stroke-width: 0.570761; stroke-linejoin: miter\"/>\n   </g>\n   <g id=\"patch_50\">\n    <path d=\"M 321.248042 314.44 \nL 326.666038 314.44 \nL 326.666038 300.970218 \nL 321.248042 300.970218 \nz\n\" clip-path=\"url(#pbe9f31ac48)\" style=\"fill: #1f77b4; fill-opacity: 0.75; stroke: #000000; stroke-width: 0.570761; stroke-linejoin: miter\"/>\n   </g>\n   <g id=\"patch_51\">\n    <path d=\"M 326.666038 314.44 \nL 332.084034 314.44 \nL 332.084034 300.110444 \nL 326.666038 300.110444 \nz\n\" clip-path=\"url(#pbe9f31ac48)\" style=\"fill: #1f77b4; fill-opacity: 0.75; stroke: #000000; stroke-width: 0.570761; stroke-linejoin: miter\"/>\n   </g>\n   <g id=\"matplotlib.axis_1\">\n    <g id=\"xtick_1\">\n     <g id=\"line2d_1\">\n      <defs>\n       <path id=\"m50f52659cc\" d=\"M 0 0 \nL 0 3.5 \n\" style=\"stroke: #000000; stroke-width: 0.8\"/>\n      </defs>\n      <g>\n       <use xlink:href=\"#m50f52659cc\" x=\"58.079199\" y=\"314.44\" style=\"stroke: #000000; stroke-width: 0.8\"/>\n      </g>\n     </g>\n     <g id=\"text_1\">\n      <!-- 0 -->\n      <g transform=\"translate(54.897949 329.038437) scale(0.1 -0.1)\">\n       <defs>\n        <path id=\"DejaVuSans-30\" d=\"M 2034 4250 \nQ 1547 4250 1301 3770 \nQ 1056 3291 1056 2328 \nQ 1056 1369 1301 889 \nQ 1547 409 2034 409 \nQ 2525 409 2770 889 \nQ 3016 1369 3016 2328 \nQ 3016 3291 2770 3770 \nQ 2525 4250 2034 4250 \nz\nM 2034 4750 \nQ 2819 4750 3233 4129 \nQ 3647 3509 3647 2328 \nQ 3647 1150 3233 529 \nQ 2819 -91 2034 -91 \nQ 1250 -91 836 529 \nQ 422 1150 422 2328 \nQ 422 3509 836 4129 \nQ 1250 4750 2034 4750 \nz\n\" transform=\"scale(0.015625)\"/>\n       </defs>\n       <use xlink:href=\"#DejaVuSans-30\"/>\n      </g>\n     </g>\n    </g>\n    <g id=\"xtick_2\">\n     <g id=\"line2d_2\">\n      <g>\n       <use xlink:href=\"#m50f52659cc\" x=\"114.903097\" y=\"314.44\" style=\"stroke: #000000; stroke-width: 0.8\"/>\n      </g>\n     </g>\n     <g id=\"text_2\">\n      <!-- 1 -->\n      <g transform=\"translate(111.721847 329.038437) scale(0.1 -0.1)\">\n       <defs>\n        <path id=\"DejaVuSans-31\" d=\"M 794 531 \nL 1825 531 \nL 1825 4091 \nL 703 3866 \nL 703 4441 \nL 1819 4666 \nL 2450 4666 \nL 2450 531 \nL 3481 531 \nL 3481 0 \nL 794 0 \nL 794 531 \nz\n\" transform=\"scale(0.015625)\"/>\n       </defs>\n       <use xlink:href=\"#DejaVuSans-31\"/>\n      </g>\n     </g>\n    </g>\n    <g id=\"xtick_3\">\n     <g id=\"line2d_3\">\n      <g>\n       <use xlink:href=\"#m50f52659cc\" x=\"171.726995\" y=\"314.44\" style=\"stroke: #000000; stroke-width: 0.8\"/>\n      </g>\n     </g>\n     <g id=\"text_3\">\n      <!-- 2 -->\n      <g transform=\"translate(168.545745 329.038437) scale(0.1 -0.1)\">\n       <defs>\n        <path id=\"DejaVuSans-32\" d=\"M 1228 531 \nL 3431 531 \nL 3431 0 \nL 469 0 \nL 469 531 \nQ 828 903 1448 1529 \nQ 2069 2156 2228 2338 \nQ 2531 2678 2651 2914 \nQ 2772 3150 2772 3378 \nQ 2772 3750 2511 3984 \nQ 2250 4219 1831 4219 \nQ 1534 4219 1204 4116 \nQ 875 4013 500 3803 \nL 500 4441 \nQ 881 4594 1212 4672 \nQ 1544 4750 1819 4750 \nQ 2544 4750 2975 4387 \nQ 3406 4025 3406 3419 \nQ 3406 3131 3298 2873 \nQ 3191 2616 2906 2266 \nQ 2828 2175 2409 1742 \nQ 1991 1309 1228 531 \nz\n\" transform=\"scale(0.015625)\"/>\n       </defs>\n       <use xlink:href=\"#DejaVuSans-32\"/>\n      </g>\n     </g>\n    </g>\n    <g id=\"xtick_4\">\n     <g id=\"line2d_4\">\n      <g>\n       <use xlink:href=\"#m50f52659cc\" x=\"228.550893\" y=\"314.44\" style=\"stroke: #000000; stroke-width: 0.8\"/>\n      </g>\n     </g>\n     <g id=\"text_4\">\n      <!-- 3 -->\n      <g transform=\"translate(225.369643 329.038437) scale(0.1 -0.1)\">\n       <defs>\n        <path id=\"DejaVuSans-33\" d=\"M 2597 2516 \nQ 3050 2419 3304 2112 \nQ 3559 1806 3559 1356 \nQ 3559 666 3084 287 \nQ 2609 -91 1734 -91 \nQ 1441 -91 1130 -33 \nQ 819 25 488 141 \nL 488 750 \nQ 750 597 1062 519 \nQ 1375 441 1716 441 \nQ 2309 441 2620 675 \nQ 2931 909 2931 1356 \nQ 2931 1769 2642 2001 \nQ 2353 2234 1838 2234 \nL 1294 2234 \nL 1294 2753 \nL 1863 2753 \nQ 2328 2753 2575 2939 \nQ 2822 3125 2822 3475 \nQ 2822 3834 2567 4026 \nQ 2313 4219 1838 4219 \nQ 1578 4219 1281 4162 \nQ 984 4106 628 3988 \nL 628 4550 \nQ 988 4650 1302 4700 \nQ 1616 4750 1894 4750 \nQ 2613 4750 3031 4423 \nQ 3450 4097 3450 3541 \nQ 3450 3153 3228 2886 \nQ 3006 2619 2597 2516 \nz\n\" transform=\"scale(0.015625)\"/>\n       </defs>\n       <use xlink:href=\"#DejaVuSans-33\"/>\n      </g>\n     </g>\n    </g>\n    <g id=\"xtick_5\">\n     <g id=\"line2d_5\">\n      <g>\n       <use xlink:href=\"#m50f52659cc\" x=\"285.37479\" y=\"314.44\" style=\"stroke: #000000; stroke-width: 0.8\"/>\n      </g>\n     </g>\n     <g id=\"text_5\">\n      <!-- 4 -->\n      <g transform=\"translate(282.19354 329.038437) scale(0.1 -0.1)\">\n       <defs>\n        <path id=\"DejaVuSans-34\" d=\"M 2419 4116 \nL 825 1625 \nL 2419 1625 \nL 2419 4116 \nz\nM 2253 4666 \nL 3047 4666 \nL 3047 1625 \nL 3713 1625 \nL 3713 1100 \nL 3047 1100 \nL 3047 0 \nL 2419 0 \nL 2419 1100 \nL 313 1100 \nL 313 1709 \nL 2253 4666 \nz\n\" transform=\"scale(0.015625)\"/>\n       </defs>\n       <use xlink:href=\"#DejaVuSans-34\"/>\n      </g>\n     </g>\n    </g>\n    <g id=\"xtick_6\">\n     <g id=\"line2d_6\">\n      <g>\n       <use xlink:href=\"#m50f52659cc\" x=\"342.198688\" y=\"314.44\" style=\"stroke: #000000; stroke-width: 0.8\"/>\n      </g>\n     </g>\n     <g id=\"text_6\">\n      <!-- 5 -->\n      <g transform=\"translate(339.017438 329.038437) scale(0.1 -0.1)\">\n       <defs>\n        <path id=\"DejaVuSans-35\" d=\"M 691 4666 \nL 3169 4666 \nL 3169 4134 \nL 1269 4134 \nL 1269 2991 \nQ 1406 3038 1543 3061 \nQ 1681 3084 1819 3084 \nQ 2600 3084 3056 2656 \nQ 3513 2228 3513 1497 \nQ 3513 744 3044 326 \nQ 2575 -91 1722 -91 \nQ 1428 -91 1123 -41 \nQ 819 9 494 109 \nL 494 744 \nQ 775 591 1075 516 \nQ 1375 441 1709 441 \nQ 2250 441 2565 725 \nQ 2881 1009 2881 1497 \nQ 2881 1984 2565 2268 \nQ 2250 2553 1709 2553 \nQ 1456 2553 1204 2497 \nQ 953 2441 691 2322 \nL 691 4666 \nz\n\" transform=\"scale(0.015625)\"/>\n       </defs>\n       <use xlink:href=\"#DejaVuSans-35\"/>\n      </g>\n     </g>\n    </g>\n    <g id=\"text_7\">\n     <!-- medhouseval -->\n     <g transform=\"translate(165.731406 342.716562) scale(0.1 -0.1)\">\n      <defs>\n       <path id=\"DejaVuSans-6d\" d=\"M 3328 2828 \nQ 3544 3216 3844 3400 \nQ 4144 3584 4550 3584 \nQ 5097 3584 5394 3201 \nQ 5691 2819 5691 2113 \nL 5691 0 \nL 5113 0 \nL 5113 2094 \nQ 5113 2597 4934 2840 \nQ 4756 3084 4391 3084 \nQ 3944 3084 3684 2787 \nQ 3425 2491 3425 1978 \nL 3425 0 \nL 2847 0 \nL 2847 2094 \nQ 2847 2600 2669 2842 \nQ 2491 3084 2119 3084 \nQ 1678 3084 1418 2786 \nQ 1159 2488 1159 1978 \nL 1159 0 \nL 581 0 \nL 581 3500 \nL 1159 3500 \nL 1159 2956 \nQ 1356 3278 1631 3431 \nQ 1906 3584 2284 3584 \nQ 2666 3584 2933 3390 \nQ 3200 3197 3328 2828 \nz\n\" transform=\"scale(0.015625)\"/>\n       <path id=\"DejaVuSans-65\" d=\"M 3597 1894 \nL 3597 1613 \nL 953 1613 \nQ 991 1019 1311 708 \nQ 1631 397 2203 397 \nQ 2534 397 2845 478 \nQ 3156 559 3463 722 \nL 3463 178 \nQ 3153 47 2828 -22 \nQ 2503 -91 2169 -91 \nQ 1331 -91 842 396 \nQ 353 884 353 1716 \nQ 353 2575 817 3079 \nQ 1281 3584 2069 3584 \nQ 2775 3584 3186 3129 \nQ 3597 2675 3597 1894 \nz\nM 3022 2063 \nQ 3016 2534 2758 2815 \nQ 2500 3097 2075 3097 \nQ 1594 3097 1305 2825 \nQ 1016 2553 972 2059 \nL 3022 2063 \nz\n\" transform=\"scale(0.015625)\"/>\n       <path id=\"DejaVuSans-64\" d=\"M 2906 2969 \nL 2906 4863 \nL 3481 4863 \nL 3481 0 \nL 2906 0 \nL 2906 525 \nQ 2725 213 2448 61 \nQ 2172 -91 1784 -91 \nQ 1150 -91 751 415 \nQ 353 922 353 1747 \nQ 353 2572 751 3078 \nQ 1150 3584 1784 3584 \nQ 2172 3584 2448 3432 \nQ 2725 3281 2906 2969 \nz\nM 947 1747 \nQ 947 1113 1208 752 \nQ 1469 391 1925 391 \nQ 2381 391 2643 752 \nQ 2906 1113 2906 1747 \nQ 2906 2381 2643 2742 \nQ 2381 3103 1925 3103 \nQ 1469 3103 1208 2742 \nQ 947 2381 947 1747 \nz\n\" transform=\"scale(0.015625)\"/>\n       <path id=\"DejaVuSans-68\" d=\"M 3513 2113 \nL 3513 0 \nL 2938 0 \nL 2938 2094 \nQ 2938 2591 2744 2837 \nQ 2550 3084 2163 3084 \nQ 1697 3084 1428 2787 \nQ 1159 2491 1159 1978 \nL 1159 0 \nL 581 0 \nL 581 4863 \nL 1159 4863 \nL 1159 2956 \nQ 1366 3272 1645 3428 \nQ 1925 3584 2291 3584 \nQ 2894 3584 3203 3211 \nQ 3513 2838 3513 2113 \nz\n\" transform=\"scale(0.015625)\"/>\n       <path id=\"DejaVuSans-6f\" d=\"M 1959 3097 \nQ 1497 3097 1228 2736 \nQ 959 2375 959 1747 \nQ 959 1119 1226 758 \nQ 1494 397 1959 397 \nQ 2419 397 2687 759 \nQ 2956 1122 2956 1747 \nQ 2956 2369 2687 2733 \nQ 2419 3097 1959 3097 \nz\nM 1959 3584 \nQ 2709 3584 3137 3096 \nQ 3566 2609 3566 1747 \nQ 3566 888 3137 398 \nQ 2709 -91 1959 -91 \nQ 1206 -91 779 398 \nQ 353 888 353 1747 \nQ 353 2609 779 3096 \nQ 1206 3584 1959 3584 \nz\n\" transform=\"scale(0.015625)\"/>\n       <path id=\"DejaVuSans-75\" d=\"M 544 1381 \nL 544 3500 \nL 1119 3500 \nL 1119 1403 \nQ 1119 906 1312 657 \nQ 1506 409 1894 409 \nQ 2359 409 2629 706 \nQ 2900 1003 2900 1516 \nL 2900 3500 \nL 3475 3500 \nL 3475 0 \nL 2900 0 \nL 2900 538 \nQ 2691 219 2414 64 \nQ 2138 -91 1772 -91 \nQ 1169 -91 856 284 \nQ 544 659 544 1381 \nz\nM 1991 3584 \nL 1991 3584 \nz\n\" transform=\"scale(0.015625)\"/>\n       <path id=\"DejaVuSans-73\" d=\"M 2834 3397 \nL 2834 2853 \nQ 2591 2978 2328 3040 \nQ 2066 3103 1784 3103 \nQ 1356 3103 1142 2972 \nQ 928 2841 928 2578 \nQ 928 2378 1081 2264 \nQ 1234 2150 1697 2047 \nL 1894 2003 \nQ 2506 1872 2764 1633 \nQ 3022 1394 3022 966 \nQ 3022 478 2636 193 \nQ 2250 -91 1575 -91 \nQ 1294 -91 989 -36 \nQ 684 19 347 128 \nL 347 722 \nQ 666 556 975 473 \nQ 1284 391 1588 391 \nQ 1994 391 2212 530 \nQ 2431 669 2431 922 \nQ 2431 1156 2273 1281 \nQ 2116 1406 1581 1522 \nL 1381 1569 \nQ 847 1681 609 1914 \nQ 372 2147 372 2553 \nQ 372 3047 722 3315 \nQ 1072 3584 1716 3584 \nQ 2034 3584 2315 3537 \nQ 2597 3491 2834 3397 \nz\n\" transform=\"scale(0.015625)\"/>\n       <path id=\"DejaVuSans-76\" d=\"M 191 3500 \nL 800 3500 \nL 1894 563 \nL 2988 3500 \nL 3597 3500 \nL 2284 0 \nL 1503 0 \nL 191 3500 \nz\n\" transform=\"scale(0.015625)\"/>\n       <path id=\"DejaVuSans-61\" d=\"M 2194 1759 \nQ 1497 1759 1228 1600 \nQ 959 1441 959 1056 \nQ 959 750 1161 570 \nQ 1363 391 1709 391 \nQ 2188 391 2477 730 \nQ 2766 1069 2766 1631 \nL 2766 1759 \nL 2194 1759 \nz\nM 3341 1997 \nL 3341 0 \nL 2766 0 \nL 2766 531 \nQ 2569 213 2275 61 \nQ 1981 -91 1556 -91 \nQ 1019 -91 701 211 \nQ 384 513 384 1019 \nQ 384 1609 779 1909 \nQ 1175 2209 1959 2209 \nL 2766 2209 \nL 2766 2266 \nQ 2766 2663 2505 2880 \nQ 2244 3097 1772 3097 \nQ 1472 3097 1187 3025 \nQ 903 2953 641 2809 \nL 641 3341 \nQ 956 3463 1253 3523 \nQ 1550 3584 1831 3584 \nQ 2591 3584 2966 3190 \nQ 3341 2797 3341 1997 \nz\n\" transform=\"scale(0.015625)\"/>\n       <path id=\"DejaVuSans-6c\" d=\"M 603 4863 \nL 1178 4863 \nL 1178 0 \nL 603 0 \nL 603 4863 \nz\n\" transform=\"scale(0.015625)\"/>\n      </defs>\n      <use xlink:href=\"#DejaVuSans-6d\"/>\n      <use xlink:href=\"#DejaVuSans-65\" x=\"97.412109\"/>\n      <use xlink:href=\"#DejaVuSans-64\" x=\"158.935547\"/>\n      <use xlink:href=\"#DejaVuSans-68\" x=\"222.412109\"/>\n      <use xlink:href=\"#DejaVuSans-6f\" x=\"285.791016\"/>\n      <use xlink:href=\"#DejaVuSans-75\" x=\"346.972656\"/>\n      <use xlink:href=\"#DejaVuSans-73\" x=\"410.351562\"/>\n      <use xlink:href=\"#DejaVuSans-65\" x=\"462.451172\"/>\n      <use xlink:href=\"#DejaVuSans-76\" x=\"523.974609\"/>\n      <use xlink:href=\"#DejaVuSans-61\" x=\"583.154297\"/>\n      <use xlink:href=\"#DejaVuSans-6c\" x=\"644.433594\"/>\n     </g>\n    </g>\n   </g>\n   <g id=\"matplotlib.axis_2\">\n    <g id=\"ytick_1\">\n     <g id=\"line2d_7\">\n      <defs>\n       <path id=\"mb4853fce0a\" d=\"M 0 0 \nL -3.5 0 \n\" style=\"stroke: #000000; stroke-width: 0.8\"/>\n      </defs>\n      <g>\n       <use xlink:href=\"#mb4853fce0a\" x=\"53.328125\" y=\"314.44\" style=\"stroke: #000000; stroke-width: 0.8\"/>\n      </g>\n     </g>\n     <g id=\"text_8\">\n      <!-- 0 -->\n      <g transform=\"translate(39.965625 318.239219) scale(0.1 -0.1)\">\n       <use xlink:href=\"#DejaVuSans-30\"/>\n      </g>\n     </g>\n    </g>\n    <g id=\"ytick_2\">\n     <g id=\"line2d_8\">\n      <g>\n       <use xlink:href=\"#mb4853fce0a\" x=\"53.328125\" y=\"257.121778\" style=\"stroke: #000000; stroke-width: 0.8\"/>\n      </g>\n     </g>\n     <g id=\"text_9\">\n      <!-- 200 -->\n      <g transform=\"translate(27.240625 260.920997) scale(0.1 -0.1)\">\n       <use xlink:href=\"#DejaVuSans-32\"/>\n       <use xlink:href=\"#DejaVuSans-30\" x=\"63.623047\"/>\n       <use xlink:href=\"#DejaVuSans-30\" x=\"127.246094\"/>\n      </g>\n     </g>\n    </g>\n    <g id=\"ytick_3\">\n     <g id=\"line2d_9\">\n      <g>\n       <use xlink:href=\"#mb4853fce0a\" x=\"53.328125\" y=\"199.803556\" style=\"stroke: #000000; stroke-width: 0.8\"/>\n      </g>\n     </g>\n     <g id=\"text_10\">\n      <!-- 400 -->\n      <g transform=\"translate(27.240625 203.602775) scale(0.1 -0.1)\">\n       <use xlink:href=\"#DejaVuSans-34\"/>\n       <use xlink:href=\"#DejaVuSans-30\" x=\"63.623047\"/>\n       <use xlink:href=\"#DejaVuSans-30\" x=\"127.246094\"/>\n      </g>\n     </g>\n    </g>\n    <g id=\"ytick_4\">\n     <g id=\"line2d_10\">\n      <g>\n       <use xlink:href=\"#mb4853fce0a\" x=\"53.328125\" y=\"142.485334\" style=\"stroke: #000000; stroke-width: 0.8\"/>\n      </g>\n     </g>\n     <g id=\"text_11\">\n      <!-- 600 -->\n      <g transform=\"translate(27.240625 146.284552) scale(0.1 -0.1)\">\n       <defs>\n        <path id=\"DejaVuSans-36\" d=\"M 2113 2584 \nQ 1688 2584 1439 2293 \nQ 1191 2003 1191 1497 \nQ 1191 994 1439 701 \nQ 1688 409 2113 409 \nQ 2538 409 2786 701 \nQ 3034 994 3034 1497 \nQ 3034 2003 2786 2293 \nQ 2538 2584 2113 2584 \nz\nM 3366 4563 \nL 3366 3988 \nQ 3128 4100 2886 4159 \nQ 2644 4219 2406 4219 \nQ 1781 4219 1451 3797 \nQ 1122 3375 1075 2522 \nQ 1259 2794 1537 2939 \nQ 1816 3084 2150 3084 \nQ 2853 3084 3261 2657 \nQ 3669 2231 3669 1497 \nQ 3669 778 3244 343 \nQ 2819 -91 2113 -91 \nQ 1303 -91 875 529 \nQ 447 1150 447 2328 \nQ 447 3434 972 4092 \nQ 1497 4750 2381 4750 \nQ 2619 4750 2861 4703 \nQ 3103 4656 3366 4563 \nz\n\" transform=\"scale(0.015625)\"/>\n       </defs>\n       <use xlink:href=\"#DejaVuSans-36\"/>\n       <use xlink:href=\"#DejaVuSans-30\" x=\"63.623047\"/>\n       <use xlink:href=\"#DejaVuSans-30\" x=\"127.246094\"/>\n      </g>\n     </g>\n    </g>\n    <g id=\"ytick_5\">\n     <g id=\"line2d_11\">\n      <g>\n       <use xlink:href=\"#mb4853fce0a\" x=\"53.328125\" y=\"85.167112\" style=\"stroke: #000000; stroke-width: 0.8\"/>\n      </g>\n     </g>\n     <g id=\"text_12\">\n      <!-- 800 -->\n      <g transform=\"translate(27.240625 88.96633) scale(0.1 -0.1)\">\n       <defs>\n        <path id=\"DejaVuSans-38\" d=\"M 2034 2216 \nQ 1584 2216 1326 1975 \nQ 1069 1734 1069 1313 \nQ 1069 891 1326 650 \nQ 1584 409 2034 409 \nQ 2484 409 2743 651 \nQ 3003 894 3003 1313 \nQ 3003 1734 2745 1975 \nQ 2488 2216 2034 2216 \nz\nM 1403 2484 \nQ 997 2584 770 2862 \nQ 544 3141 544 3541 \nQ 544 4100 942 4425 \nQ 1341 4750 2034 4750 \nQ 2731 4750 3128 4425 \nQ 3525 4100 3525 3541 \nQ 3525 3141 3298 2862 \nQ 3072 2584 2669 2484 \nQ 3125 2378 3379 2068 \nQ 3634 1759 3634 1313 \nQ 3634 634 3220 271 \nQ 2806 -91 2034 -91 \nQ 1263 -91 848 271 \nQ 434 634 434 1313 \nQ 434 1759 690 2068 \nQ 947 2378 1403 2484 \nz\nM 1172 3481 \nQ 1172 3119 1398 2916 \nQ 1625 2713 2034 2713 \nQ 2441 2713 2670 2916 \nQ 2900 3119 2900 3481 \nQ 2900 3844 2670 4047 \nQ 2441 4250 2034 4250 \nQ 1625 4250 1398 4047 \nQ 1172 3844 1172 3481 \nz\n\" transform=\"scale(0.015625)\"/>\n       </defs>\n       <use xlink:href=\"#DejaVuSans-38\"/>\n       <use xlink:href=\"#DejaVuSans-30\" x=\"63.623047\"/>\n       <use xlink:href=\"#DejaVuSans-30\" x=\"127.246094\"/>\n      </g>\n     </g>\n    </g>\n    <g id=\"ytick_6\">\n     <g id=\"line2d_12\">\n      <g>\n       <use xlink:href=\"#mb4853fce0a\" x=\"53.328125\" y=\"27.84889\" style=\"stroke: #000000; stroke-width: 0.8\"/>\n      </g>\n     </g>\n     <g id=\"text_13\">\n      <!-- 1000 -->\n      <g transform=\"translate(20.878125 31.648108) scale(0.1 -0.1)\">\n       <use xlink:href=\"#DejaVuSans-31\"/>\n       <use xlink:href=\"#DejaVuSans-30\" x=\"63.623047\"/>\n       <use xlink:href=\"#DejaVuSans-30\" x=\"127.246094\"/>\n       <use xlink:href=\"#DejaVuSans-30\" x=\"190.869141\"/>\n      </g>\n     </g>\n    </g>\n    <g id=\"text_14\">\n     <!-- Count -->\n     <g transform=\"translate(14.798438 175.668437) rotate(-90) scale(0.1 -0.1)\">\n      <defs>\n       <path id=\"DejaVuSans-43\" d=\"M 4122 4306 \nL 4122 3641 \nQ 3803 3938 3442 4084 \nQ 3081 4231 2675 4231 \nQ 1875 4231 1450 3742 \nQ 1025 3253 1025 2328 \nQ 1025 1406 1450 917 \nQ 1875 428 2675 428 \nQ 3081 428 3442 575 \nQ 3803 722 4122 1019 \nL 4122 359 \nQ 3791 134 3420 21 \nQ 3050 -91 2638 -91 \nQ 1578 -91 968 557 \nQ 359 1206 359 2328 \nQ 359 3453 968 4101 \nQ 1578 4750 2638 4750 \nQ 3056 4750 3426 4639 \nQ 3797 4528 4122 4306 \nz\n\" transform=\"scale(0.015625)\"/>\n       <path id=\"DejaVuSans-6e\" d=\"M 3513 2113 \nL 3513 0 \nL 2938 0 \nL 2938 2094 \nQ 2938 2591 2744 2837 \nQ 2550 3084 2163 3084 \nQ 1697 3084 1428 2787 \nQ 1159 2491 1159 1978 \nL 1159 0 \nL 581 0 \nL 581 3500 \nL 1159 3500 \nL 1159 2956 \nQ 1366 3272 1645 3428 \nQ 1925 3584 2291 3584 \nQ 2894 3584 3203 3211 \nQ 3513 2838 3513 2113 \nz\n\" transform=\"scale(0.015625)\"/>\n       <path id=\"DejaVuSans-74\" d=\"M 1172 4494 \nL 1172 3500 \nL 2356 3500 \nL 2356 3053 \nL 1172 3053 \nL 1172 1153 \nQ 1172 725 1289 603 \nQ 1406 481 1766 481 \nL 2356 481 \nL 2356 0 \nL 1766 0 \nQ 1100 0 847 248 \nQ 594 497 594 1153 \nL 594 3053 \nL 172 3053 \nL 172 3500 \nL 594 3500 \nL 594 4494 \nL 1172 4494 \nz\n\" transform=\"scale(0.015625)\"/>\n      </defs>\n      <use xlink:href=\"#DejaVuSans-43\"/>\n      <use xlink:href=\"#DejaVuSans-6f\" x=\"69.824219\"/>\n      <use xlink:href=\"#DejaVuSans-75\" x=\"131.005859\"/>\n      <use xlink:href=\"#DejaVuSans-6e\" x=\"194.384766\"/>\n      <use xlink:href=\"#DejaVuSans-74\" x=\"257.763672\"/>\n     </g>\n    </g>\n   </g>\n   <g id=\"patch_52\">\n    <path d=\"M 53.328125 314.44 \nL 53.328125 7.2 \n\" style=\"fill: none; stroke: #000000; stroke-width: 0.8; stroke-linejoin: miter; stroke-linecap: square\"/>\n   </g>\n   <g id=\"patch_53\">\n    <path d=\"M 53.328125 314.44 \nL 345.358125 314.44 \n\" style=\"fill: none; stroke: #000000; stroke-width: 0.8; stroke-linejoin: miter; stroke-linecap: square\"/>\n   </g>\n  </g>\n </g>\n <defs>\n  <clipPath id=\"pbe9f31ac48\">\n   <rect x=\"53.328125\" y=\"7.2\" width=\"292.03\" height=\"307.24\"/>\n  </clipPath>\n </defs>\n</svg>\n"
          },
          "metadata": {}
        }
      ]
    },
    {
      "cell_type": "code",
      "source": [
        "# проверим пропуски\n",
        "df.isna().mean().sort_values()"
      ],
      "metadata": {
        "colab": {
          "base_uri": "https://localhost:8080/"
        },
        "id": "CUNn1tZMG8TK",
        "outputId": "8a728b8e-6d6a-4e0a-8d3d-964275ecca81"
      },
      "execution_count": null,
      "outputs": [
        {
          "output_type": "execute_result",
          "data": {
            "text/plain": [
              "medinc        0.00\n",
              "houseage      0.00\n",
              "averooms      0.00\n",
              "avebedrms     0.00\n",
              "population    0.00\n",
              "aveoccup      0.00\n",
              "medhouseval   0.00\n",
              "dtype: float64"
            ]
          },
          "metadata": {},
          "execution_count": 14
        }
      ]
    },
    {
      "cell_type": "code",
      "source": [
        "# какие типы есть в датафрейме\n",
        "df.dtypes.value_counts()"
      ],
      "metadata": {
        "colab": {
          "base_uri": "https://localhost:8080/"
        },
        "id": "osrclw0mG8Wh",
        "outputId": "343f8f46-00e8-451a-ecfc-b797cf6121bd"
      },
      "execution_count": null,
      "outputs": [
        {
          "output_type": "execute_result",
          "data": {
            "text/plain": [
              "float64    7\n",
              "Name: count, dtype: int64"
            ]
          },
          "metadata": {},
          "execution_count": 15
        }
      ]
    },
    {
      "cell_type": "code",
      "source": [
        "# создадим новую переменную\n",
        "df['avebedrms_averooms'] = df['avebedrms'] / df['averooms']"
      ],
      "metadata": {
        "id": "vbqSDj7KG8Zc"
      },
      "execution_count": null,
      "outputs": []
    },
    {
      "cell_type": "code",
      "source": [
        "# посчитаем статистики для переменных\n",
        "df.describe(include='all')"
      ],
      "metadata": {
        "colab": {
          "base_uri": "https://localhost:8080/",
          "height": 300
        },
        "id": "cDeSvz9oG8cV",
        "outputId": "e8b265ef-c74f-46ed-8bff-2ae4f5d9742c"
      },
      "execution_count": null,
      "outputs": [
        {
          "output_type": "execute_result",
          "data": {
            "text/plain": [
              "        medinc  houseage  averooms  avebedrms  population  aveoccup  \\\n",
              "count 19569.00  19569.00  19569.00   19569.00    19569.00  19569.00   \n",
              "mean      3.67     28.35      5.36       1.10     1442.79      3.10   \n",
              "std       1.56     12.50      2.29       0.45     1145.01     10.66   \n",
              "min       0.50      1.00      0.85       0.33        3.00      0.69   \n",
              "25%       2.52     18.00      4.41       1.01      797.00      2.45   \n",
              "50%       3.44     28.00      5.18       1.05     1181.00      2.84   \n",
              "75%       4.57     37.00      5.97       1.10     1749.00      3.31   \n",
              "max      15.00     52.00    132.53      34.07    35682.00   1243.33   \n",
              "\n",
              "       medhouseval  avebedrms_averooms  \n",
              "count     19569.00            19569.00  \n",
              "mean          1.91                0.22  \n",
              "std           0.95                0.06  \n",
              "min           0.15                0.10  \n",
              "25%           1.16                0.18  \n",
              "50%           1.73                0.20  \n",
              "75%           2.47                0.24  \n",
              "max           4.82                1.00  "
            ],
            "text/html": [
              "\n",
              "  <div id=\"df-450927aa-6ad4-4121-9c44-ecf1983d37ba\" class=\"colab-df-container\">\n",
              "    <div>\n",
              "<style scoped>\n",
              "    .dataframe tbody tr th:only-of-type {\n",
              "        vertical-align: middle;\n",
              "    }\n",
              "\n",
              "    .dataframe tbody tr th {\n",
              "        vertical-align: top;\n",
              "    }\n",
              "\n",
              "    .dataframe thead th {\n",
              "        text-align: right;\n",
              "    }\n",
              "</style>\n",
              "<table border=\"1\" class=\"dataframe\">\n",
              "  <thead>\n",
              "    <tr style=\"text-align: right;\">\n",
              "      <th></th>\n",
              "      <th>medinc</th>\n",
              "      <th>houseage</th>\n",
              "      <th>averooms</th>\n",
              "      <th>avebedrms</th>\n",
              "      <th>population</th>\n",
              "      <th>aveoccup</th>\n",
              "      <th>medhouseval</th>\n",
              "      <th>avebedrms_averooms</th>\n",
              "    </tr>\n",
              "  </thead>\n",
              "  <tbody>\n",
              "    <tr>\n",
              "      <th>count</th>\n",
              "      <td>19569.00</td>\n",
              "      <td>19569.00</td>\n",
              "      <td>19569.00</td>\n",
              "      <td>19569.00</td>\n",
              "      <td>19569.00</td>\n",
              "      <td>19569.00</td>\n",
              "      <td>19569.00</td>\n",
              "      <td>19569.00</td>\n",
              "    </tr>\n",
              "    <tr>\n",
              "      <th>mean</th>\n",
              "      <td>3.67</td>\n",
              "      <td>28.35</td>\n",
              "      <td>5.36</td>\n",
              "      <td>1.10</td>\n",
              "      <td>1442.79</td>\n",
              "      <td>3.10</td>\n",
              "      <td>1.91</td>\n",
              "      <td>0.22</td>\n",
              "    </tr>\n",
              "    <tr>\n",
              "      <th>std</th>\n",
              "      <td>1.56</td>\n",
              "      <td>12.50</td>\n",
              "      <td>2.29</td>\n",
              "      <td>0.45</td>\n",
              "      <td>1145.01</td>\n",
              "      <td>10.66</td>\n",
              "      <td>0.95</td>\n",
              "      <td>0.06</td>\n",
              "    </tr>\n",
              "    <tr>\n",
              "      <th>min</th>\n",
              "      <td>0.50</td>\n",
              "      <td>1.00</td>\n",
              "      <td>0.85</td>\n",
              "      <td>0.33</td>\n",
              "      <td>3.00</td>\n",
              "      <td>0.69</td>\n",
              "      <td>0.15</td>\n",
              "      <td>0.10</td>\n",
              "    </tr>\n",
              "    <tr>\n",
              "      <th>25%</th>\n",
              "      <td>2.52</td>\n",
              "      <td>18.00</td>\n",
              "      <td>4.41</td>\n",
              "      <td>1.01</td>\n",
              "      <td>797.00</td>\n",
              "      <td>2.45</td>\n",
              "      <td>1.16</td>\n",
              "      <td>0.18</td>\n",
              "    </tr>\n",
              "    <tr>\n",
              "      <th>50%</th>\n",
              "      <td>3.44</td>\n",
              "      <td>28.00</td>\n",
              "      <td>5.18</td>\n",
              "      <td>1.05</td>\n",
              "      <td>1181.00</td>\n",
              "      <td>2.84</td>\n",
              "      <td>1.73</td>\n",
              "      <td>0.20</td>\n",
              "    </tr>\n",
              "    <tr>\n",
              "      <th>75%</th>\n",
              "      <td>4.57</td>\n",
              "      <td>37.00</td>\n",
              "      <td>5.97</td>\n",
              "      <td>1.10</td>\n",
              "      <td>1749.00</td>\n",
              "      <td>3.31</td>\n",
              "      <td>2.47</td>\n",
              "      <td>0.24</td>\n",
              "    </tr>\n",
              "    <tr>\n",
              "      <th>max</th>\n",
              "      <td>15.00</td>\n",
              "      <td>52.00</td>\n",
              "      <td>132.53</td>\n",
              "      <td>34.07</td>\n",
              "      <td>35682.00</td>\n",
              "      <td>1243.33</td>\n",
              "      <td>4.82</td>\n",
              "      <td>1.00</td>\n",
              "    </tr>\n",
              "  </tbody>\n",
              "</table>\n",
              "</div>\n",
              "    <div class=\"colab-df-buttons\">\n",
              "\n",
              "  <div class=\"colab-df-container\">\n",
              "    <button class=\"colab-df-convert\" onclick=\"convertToInteractive('df-450927aa-6ad4-4121-9c44-ecf1983d37ba')\"\n",
              "            title=\"Convert this dataframe to an interactive table.\"\n",
              "            style=\"display:none;\">\n",
              "\n",
              "  <svg xmlns=\"http://www.w3.org/2000/svg\" height=\"24px\" viewBox=\"0 -960 960 960\">\n",
              "    <path d=\"M120-120v-720h720v720H120Zm60-500h600v-160H180v160Zm220 220h160v-160H400v160Zm0 220h160v-160H400v160ZM180-400h160v-160H180v160Zm440 0h160v-160H620v160ZM180-180h160v-160H180v160Zm440 0h160v-160H620v160Z\"/>\n",
              "  </svg>\n",
              "    </button>\n",
              "\n",
              "  <style>\n",
              "    .colab-df-container {\n",
              "      display:flex;\n",
              "      gap: 12px;\n",
              "    }\n",
              "\n",
              "    .colab-df-convert {\n",
              "      background-color: #E8F0FE;\n",
              "      border: none;\n",
              "      border-radius: 50%;\n",
              "      cursor: pointer;\n",
              "      display: none;\n",
              "      fill: #1967D2;\n",
              "      height: 32px;\n",
              "      padding: 0 0 0 0;\n",
              "      width: 32px;\n",
              "    }\n",
              "\n",
              "    .colab-df-convert:hover {\n",
              "      background-color: #E2EBFA;\n",
              "      box-shadow: 0px 1px 2px rgba(60, 64, 67, 0.3), 0px 1px 3px 1px rgba(60, 64, 67, 0.15);\n",
              "      fill: #174EA6;\n",
              "    }\n",
              "\n",
              "    .colab-df-buttons div {\n",
              "      margin-bottom: 4px;\n",
              "    }\n",
              "\n",
              "    [theme=dark] .colab-df-convert {\n",
              "      background-color: #3B4455;\n",
              "      fill: #D2E3FC;\n",
              "    }\n",
              "\n",
              "    [theme=dark] .colab-df-convert:hover {\n",
              "      background-color: #434B5C;\n",
              "      box-shadow: 0px 1px 3px 1px rgba(0, 0, 0, 0.15);\n",
              "      filter: drop-shadow(0px 1px 2px rgba(0, 0, 0, 0.3));\n",
              "      fill: #FFFFFF;\n",
              "    }\n",
              "  </style>\n",
              "\n",
              "    <script>\n",
              "      const buttonEl =\n",
              "        document.querySelector('#df-450927aa-6ad4-4121-9c44-ecf1983d37ba button.colab-df-convert');\n",
              "      buttonEl.style.display =\n",
              "        google.colab.kernel.accessAllowed ? 'block' : 'none';\n",
              "\n",
              "      async function convertToInteractive(key) {\n",
              "        const element = document.querySelector('#df-450927aa-6ad4-4121-9c44-ecf1983d37ba');\n",
              "        const dataTable =\n",
              "          await google.colab.kernel.invokeFunction('convertToInteractive',\n",
              "                                                    [key], {});\n",
              "        if (!dataTable) return;\n",
              "\n",
              "        const docLinkHtml = 'Like what you see? Visit the ' +\n",
              "          '<a target=\"_blank\" href=https://colab.research.google.com/notebooks/data_table.ipynb>data table notebook</a>'\n",
              "          + ' to learn more about interactive tables.';\n",
              "        element.innerHTML = '';\n",
              "        dataTable['output_type'] = 'display_data';\n",
              "        await google.colab.output.renderOutput(dataTable, element);\n",
              "        const docLink = document.createElement('div');\n",
              "        docLink.innerHTML = docLinkHtml;\n",
              "        element.appendChild(docLink);\n",
              "      }\n",
              "    </script>\n",
              "  </div>\n",
              "\n",
              "\n",
              "<div id=\"df-c466fd12-e19f-4540-aae4-15381f14b19e\">\n",
              "  <button class=\"colab-df-quickchart\" onclick=\"quickchart('df-c466fd12-e19f-4540-aae4-15381f14b19e')\"\n",
              "            title=\"Suggest charts\"\n",
              "            style=\"display:none;\">\n",
              "\n",
              "<svg xmlns=\"http://www.w3.org/2000/svg\" height=\"24px\"viewBox=\"0 0 24 24\"\n",
              "     width=\"24px\">\n",
              "    <g>\n",
              "        <path d=\"M19 3H5c-1.1 0-2 .9-2 2v14c0 1.1.9 2 2 2h14c1.1 0 2-.9 2-2V5c0-1.1-.9-2-2-2zM9 17H7v-7h2v7zm4 0h-2V7h2v10zm4 0h-2v-4h2v4z\"/>\n",
              "    </g>\n",
              "</svg>\n",
              "  </button>\n",
              "\n",
              "<style>\n",
              "  .colab-df-quickchart {\n",
              "      --bg-color: #E8F0FE;\n",
              "      --fill-color: #1967D2;\n",
              "      --hover-bg-color: #E2EBFA;\n",
              "      --hover-fill-color: #174EA6;\n",
              "      --disabled-fill-color: #AAA;\n",
              "      --disabled-bg-color: #DDD;\n",
              "  }\n",
              "\n",
              "  [theme=dark] .colab-df-quickchart {\n",
              "      --bg-color: #3B4455;\n",
              "      --fill-color: #D2E3FC;\n",
              "      --hover-bg-color: #434B5C;\n",
              "      --hover-fill-color: #FFFFFF;\n",
              "      --disabled-bg-color: #3B4455;\n",
              "      --disabled-fill-color: #666;\n",
              "  }\n",
              "\n",
              "  .colab-df-quickchart {\n",
              "    background-color: var(--bg-color);\n",
              "    border: none;\n",
              "    border-radius: 50%;\n",
              "    cursor: pointer;\n",
              "    display: none;\n",
              "    fill: var(--fill-color);\n",
              "    height: 32px;\n",
              "    padding: 0;\n",
              "    width: 32px;\n",
              "  }\n",
              "\n",
              "  .colab-df-quickchart:hover {\n",
              "    background-color: var(--hover-bg-color);\n",
              "    box-shadow: 0 1px 2px rgba(60, 64, 67, 0.3), 0 1px 3px 1px rgba(60, 64, 67, 0.15);\n",
              "    fill: var(--button-hover-fill-color);\n",
              "  }\n",
              "\n",
              "  .colab-df-quickchart-complete:disabled,\n",
              "  .colab-df-quickchart-complete:disabled:hover {\n",
              "    background-color: var(--disabled-bg-color);\n",
              "    fill: var(--disabled-fill-color);\n",
              "    box-shadow: none;\n",
              "  }\n",
              "\n",
              "  .colab-df-spinner {\n",
              "    border: 2px solid var(--fill-color);\n",
              "    border-color: transparent;\n",
              "    border-bottom-color: var(--fill-color);\n",
              "    animation:\n",
              "      spin 1s steps(1) infinite;\n",
              "  }\n",
              "\n",
              "  @keyframes spin {\n",
              "    0% {\n",
              "      border-color: transparent;\n",
              "      border-bottom-color: var(--fill-color);\n",
              "      border-left-color: var(--fill-color);\n",
              "    }\n",
              "    20% {\n",
              "      border-color: transparent;\n",
              "      border-left-color: var(--fill-color);\n",
              "      border-top-color: var(--fill-color);\n",
              "    }\n",
              "    30% {\n",
              "      border-color: transparent;\n",
              "      border-left-color: var(--fill-color);\n",
              "      border-top-color: var(--fill-color);\n",
              "      border-right-color: var(--fill-color);\n",
              "    }\n",
              "    40% {\n",
              "      border-color: transparent;\n",
              "      border-right-color: var(--fill-color);\n",
              "      border-top-color: var(--fill-color);\n",
              "    }\n",
              "    60% {\n",
              "      border-color: transparent;\n",
              "      border-right-color: var(--fill-color);\n",
              "    }\n",
              "    80% {\n",
              "      border-color: transparent;\n",
              "      border-right-color: var(--fill-color);\n",
              "      border-bottom-color: var(--fill-color);\n",
              "    }\n",
              "    90% {\n",
              "      border-color: transparent;\n",
              "      border-bottom-color: var(--fill-color);\n",
              "    }\n",
              "  }\n",
              "</style>\n",
              "\n",
              "  <script>\n",
              "    async function quickchart(key) {\n",
              "      const quickchartButtonEl =\n",
              "        document.querySelector('#' + key + ' button');\n",
              "      quickchartButtonEl.disabled = true;  // To prevent multiple clicks.\n",
              "      quickchartButtonEl.classList.add('colab-df-spinner');\n",
              "      try {\n",
              "        const charts = await google.colab.kernel.invokeFunction(\n",
              "            'suggestCharts', [key], {});\n",
              "      } catch (error) {\n",
              "        console.error('Error during call to suggestCharts:', error);\n",
              "      }\n",
              "      quickchartButtonEl.classList.remove('colab-df-spinner');\n",
              "      quickchartButtonEl.classList.add('colab-df-quickchart-complete');\n",
              "    }\n",
              "    (() => {\n",
              "      let quickchartButtonEl =\n",
              "        document.querySelector('#df-c466fd12-e19f-4540-aae4-15381f14b19e button');\n",
              "      quickchartButtonEl.style.display =\n",
              "        google.colab.kernel.accessAllowed ? 'block' : 'none';\n",
              "    })();\n",
              "  </script>\n",
              "</div>\n",
              "    </div>\n",
              "  </div>\n"
            ],
            "application/vnd.google.colaboratory.intrinsic+json": {
              "type": "dataframe",
              "summary": "{\n  \"name\": \"df\",\n  \"rows\": 8,\n  \"fields\": [\n    {\n      \"column\": \"medinc\",\n      \"properties\": {\n        \"dtype\": \"number\",\n        \"std\": 6917.108909861504,\n        \"min\": 0.4999,\n        \"max\": 19569.0,\n        \"num_unique_values\": 8,\n        \"samples\": [\n          3.66556761203945,\n          3.4412,\n          19569.0\n        ],\n        \"semantic_type\": \"\",\n        \"description\": \"\"\n      }\n    },\n    {\n      \"column\": \"houseage\",\n      \"properties\": {\n        \"dtype\": \"number\",\n        \"std\": 6909.77130551224,\n        \"min\": 1.0,\n        \"max\": 19569.0,\n        \"num_unique_values\": 8,\n        \"samples\": [\n          28.352751801318412,\n          28.0,\n          19569.0\n        ],\n        \"semantic_type\": \"\",\n        \"description\": \"\"\n      }\n    },\n    {\n      \"column\": \"averooms\",\n      \"properties\": {\n        \"dtype\": \"number\",\n        \"std\": 6910.9237285082445,\n        \"min\": 0.8461538461538461,\n        \"max\": 19569.0,\n        \"num_unique_values\": 8,\n        \"samples\": [\n          5.357547717614512,\n          5.181818181818182,\n          19569.0\n        ],\n        \"semantic_type\": \"\",\n        \"description\": \"\"\n      }\n    },\n    {\n      \"column\": \"avebedrms\",\n      \"properties\": {\n        \"dtype\": \"number\",\n        \"std\": 6916.721060805079,\n        \"min\": 0.3333333333333333,\n        \"max\": 19569.0,\n        \"num_unique_values\": 8,\n        \"samples\": [\n          1.096694859885192,\n          1.048587570621469,\n          19569.0\n        ],\n        \"semantic_type\": \"\",\n        \"description\": \"\"\n      }\n    },\n    {\n      \"column\": \"population\",\n      \"properties\": {\n        \"dtype\": \"number\",\n        \"std\": 13042.747899428252,\n        \"min\": 3.0,\n        \"max\": 35682.0,\n        \"num_unique_values\": 8,\n        \"samples\": [\n          1442.7889519137411,\n          1181.0,\n          19569.0\n        ],\n        \"semantic_type\": \"\",\n        \"description\": \"\"\n      }\n    },\n    {\n      \"column\": \"aveoccup\",\n      \"properties\": {\n        \"dtype\": \"number\",\n        \"std\": 6868.433549474588,\n        \"min\": 0.6923076923076923,\n        \"max\": 19569.0,\n        \"num_unique_values\": 8,\n        \"samples\": [\n          3.0987596106153554,\n          2.8390092879256965,\n          19569.0\n        ],\n        \"semantic_type\": \"\",\n        \"description\": \"\"\n      }\n    },\n    {\n      \"column\": \"medhouseval\",\n      \"properties\": {\n        \"dtype\": \"number\",\n        \"std\": 6918.019945221478,\n        \"min\": 0.14999,\n        \"max\": 19569.0,\n        \"num_unique_values\": 8,\n        \"samples\": [\n          1.9085230190607596,\n          1.732,\n          19569.0\n        ],\n        \"semantic_type\": \"\",\n        \"description\": \"\"\n      }\n    },\n    {\n      \"column\": \"avebedrms_averooms\",\n      \"properties\": {\n        \"dtype\": \"number\",\n        \"std\": 6918.585516133684,\n        \"min\": 0.056968243211509666,\n        \"max\": 19569.0,\n        \"num_unique_values\": 8,\n        \"samples\": [\n          0.2151199150383312,\n          0.20468187274909963,\n          19569.0\n        ],\n        \"semantic_type\": \"\",\n        \"description\": \"\"\n      }\n    }\n  ]\n}"
            }
          },
          "metadata": {},
          "execution_count": 17
        }
      ]
    },
    {
      "cell_type": "markdown",
      "source": [
        ">В данных не обнаружены пропуски и выбросы"
      ],
      "metadata": {
        "id": "qBf8S8ICb3fV"
      }
    },
    {
      "cell_type": "markdown",
      "source": [
        "**Разделим данные на обучающую и тестовую выборки**"
      ],
      "metadata": {
        "id": "ackZomiiHLig"
      }
    },
    {
      "cell_type": "markdown",
      "source": [
        "**Вопрос**: Почему стоит дополнительно отделять тестовую выборку?\n",
        "\n",
        "**Вопрос**: Обратите внимание на фиксацию `random_state` при сплите данных. Почему это важно?"
      ],
      "metadata": {
        "id": "Zixzg1J9HN8U"
      }
    },
    {
      "cell_type": "code",
      "source": [
        "y = df['medhouseval']\n",
        "X = df.drop(columns= 'medhouseval')\n",
        "\n",
        "X_train_val, X_test, y_train_val, y_test = train_test_split(X, y, test_size=0.1, random_state=10)"
      ],
      "metadata": {
        "id": "IND1EGk6G8fQ"
      },
      "execution_count": null,
      "outputs": []
    },
    {
      "cell_type": "code",
      "source": [
        "X_train, X_val, y_train, y_val = train_test_split(X_train_val, y_train_val, test_size=0.2, random_state=10)"
      ],
      "metadata": {
        "id": "Z3WoZN8xFAE8"
      },
      "execution_count": null,
      "outputs": []
    },
    {
      "cell_type": "markdown",
      "source": [
        "Обучить линейную регрессию на признаках из нашего датасета.\n",
        "\n",
        "В `sklearn` есть несколько классов, реализующих линейную регрессию:\n",
        "* [`LinearRegression`](https://scikit-learn.org/stable/modules/generated/sklearn.linear_model.LinearRegression.html) &mdash; \"классическая\" линейная регрессия с оптимизацией MSE. Веса находятся как точное решение: $w^* = (X^TX)^{-1}X^Ty$\n",
        "\n",
        "У моделей из `sklearn` есть методы `fit` и `predict`.\n",
        "\n",
        "Метод `fit` принимает на вход обучающую выборку и вектор целевых переменных и обучает модель\n",
        "\n",
        "метод `predict` может быть вызван только после обучения модели, то есть только после метода `fit`, метод `predict` возвращает предсказание на выборке.\n",
        "\n",
        "Обучить нашу первую модель на числовых признаках"
      ],
      "metadata": {
        "id": "hy4vBUhZbixl"
      }
    },
    {
      "cell_type": "code",
      "source": [
        "model = LinearRegression()\n",
        "model.fit(X_train, y_train)\n",
        "\n",
        "\n",
        "y_pred = model.predict(X_test)\n",
        "y_train_pred = model.predict(X_train)\n",
        "\n",
        "print(\"Test RMSE = %.4f\" % mean_squared_error(y_test, y_pred, squared=False))\n",
        "print(\"Train RMSE = %.4f\" % mean_squared_error(y_train, y_train_pred, squared=False))"
      ],
      "metadata": {
        "colab": {
          "base_uri": "https://localhost:8080/"
        },
        "id": "ErRQXwKwbfkm",
        "outputId": "dd40e1ad-cbd2-494d-b2e5-648e422f4258"
      },
      "execution_count": null,
      "outputs": [
        {
          "output_type": "stream",
          "name": "stdout",
          "text": [
            "Test RMSE = 0.6632\n",
            "Train RMSE = 0.6701\n"
          ]
        }
      ]
    },
    {
      "cell_type": "code",
      "source": [
        "y_pred"
      ],
      "metadata": {
        "colab": {
          "base_uri": "https://localhost:8080/"
        },
        "id": "jzJq9ISRKTbq",
        "outputId": "59d423a3-7cd7-4a09-f9dc-1e03f1334c22"
      },
      "execution_count": null,
      "outputs": [
        {
          "output_type": "execute_result",
          "data": {
            "text/plain": [
              "array([2.54986716, 2.24006099, 2.24338025, ..., 1.18348502, 3.07727479,\n",
              "       1.03466967])"
            ]
          },
          "metadata": {},
          "execution_count": 20
        }
      ]
    },
    {
      "cell_type": "code",
      "source": [
        "y_test"
      ],
      "metadata": {
        "colab": {
          "base_uri": "https://localhost:8080/"
        },
        "id": "Bt1stT_VKVV7",
        "outputId": "702b4d60-14ba-4433-a1a2-922022fe0d1c"
      },
      "execution_count": null,
      "outputs": [
        {
          "output_type": "execute_result",
          "data": {
            "text/plain": [
              "18235   2.94\n",
              "19160   3.25\n",
              "11638   2.26\n",
              "13779   1.07\n",
              "17504   1.82\n",
              "        ... \n",
              "16599   0.91\n",
              "10262   2.72\n",
              "1798    0.87\n",
              "11470   2.85\n",
              "13907   0.84\n",
              "Name: medhouseval, Length: 5871, dtype: float64"
            ]
          },
          "metadata": {},
          "execution_count": 21
        }
      ]
    },
    {
      "cell_type": "markdown",
      "source": [
        "Давайте посмотрим на то, какие же признаки оказались самыми \"сильными\". Для этого визуализируем веса, соответствующие признакам. Чем больше вес &mdash; тем более сильным является признак.\n",
        "\n",
        "**Вопрос**: Почему это не совсем правда?"
      ],
      "metadata": {
        "id": "K_UpeGx_cJPo"
      }
    },
    {
      "cell_type": "code",
      "source": [
        "model.coef_"
      ],
      "metadata": {
        "colab": {
          "base_uri": "https://localhost:8080/"
        },
        "id": "uuKUHOAzKsvE",
        "outputId": "94dd23b7-2a3f-4116-9045-ba13c94f0fdf"
      },
      "execution_count": null,
      "outputs": [
        {
          "output_type": "execute_result",
          "data": {
            "text/plain": [
              "array([ 5.40138403e-01,  1.45875464e-02, -4.32843364e-02,  1.73200882e-01,\n",
              "        2.36337576e-05, -4.78098007e-03,  4.17389932e+00])"
            ]
          },
          "metadata": {},
          "execution_count": 22
        }
      ]
    },
    {
      "cell_type": "code",
      "source": [
        "def show_weights(features, weights, means, scales):\n",
        "    fig, axs = plt.subplots(figsize=(9, 5), ncols=3)\n",
        "    sorted_weights = sorted(zip(weights, features, means, scales), reverse=True)\n",
        "    weights, features, means, scales = zip(*sorted_weights)\n",
        "    features = list(features)\n",
        "\n",
        "    sns.barplot(y=features, x=list(weights), ax=axs[0])\n",
        "    axs[0].set_xlabel(\"Weight\")\n",
        "    sns.barplot(y=features, x=list(means), ax=axs[1])\n",
        "    axs[1].set_xlabel(\"Mean\")\n",
        "    sns.barplot(y=features, x=list(scales), ax=axs[2])\n",
        "    axs[2].set_xlabel(\"Scale\")\n",
        "    plt.tight_layout()"
      ],
      "metadata": {
        "id": "eY2zZuiObfoD"
      },
      "execution_count": null,
      "outputs": []
    },
    {
      "cell_type": "code",
      "source": [
        "show_weights(X_train.columns, model.coef_, X_train.mean(), X_train.std())"
      ],
      "metadata": {
        "colab": {
          "base_uri": "https://localhost:8080/",
          "height": 490
        },
        "id": "U8ZwUyFEbk2M",
        "outputId": "fa357ecc-4ff0-4495-8f59-ef67ec379f10"
      },
      "execution_count": null,
      "outputs": [
        {
          "output_type": "display_data",
          "data": {
            "text/plain": [
              "<Figure size 900x500 with 3 Axes>"
            ],
            "image/svg+xml": "<?xml version=\"1.0\" encoding=\"utf-8\" standalone=\"no\"?>\n<!DOCTYPE svg PUBLIC \"-//W3C//DTD SVG 1.1//EN\"\n  \"http://www.w3.org/Graphics/SVG/1.1/DTD/svg11.dtd\">\n<svg xmlns:xlink=\"http://www.w3.org/1999/xlink\" width=\"640.869888pt\" height=\"351.99625pt\" viewBox=\"0 0 640.869888 351.99625\" xmlns=\"http://www.w3.org/2000/svg\" version=\"1.1\">\n <metadata>\n  <rdf:RDF xmlns:dc=\"http://purl.org/dc/elements/1.1/\" xmlns:cc=\"http://creativecommons.org/ns#\" xmlns:rdf=\"http://www.w3.org/1999/02/22-rdf-syntax-ns#\">\n   <cc:Work>\n    <dc:type rdf:resource=\"http://purl.org/dc/dcmitype/StillImage\"/>\n    <dc:date>2024-04-23T15:45:27.363485</dc:date>\n    <dc:format>image/svg+xml</dc:format>\n    <dc:creator>\n     <cc:Agent>\n      <dc:title>Matplotlib v3.7.1, https://matplotlib.org/</dc:title>\n     </cc:Agent>\n    </dc:creator>\n   </cc:Work>\n  </rdf:RDF>\n </metadata>\n <defs>\n  <style type=\"text/css\">*{stroke-linejoin: round; stroke-linecap: butt}</style>\n </defs>\n <g id=\"figure_1\">\n  <g id=\"patch_1\">\n   <path d=\"M 0 351.99625 \nL 640.869888 351.99625 \nL 640.869888 0 \nL 0 0 \nz\n\" style=\"fill: #ffffff\"/>\n  </g>\n  <g id=\"axes_1\">\n   <g id=\"patch_2\">\n    <path d=\"M 124.409375 314.44 \nL 200.562431 314.44 \nL 200.562431 7.2 \nL 124.409375 7.2 \nz\n\" style=\"fill: #ffffff\"/>\n   </g>\n   <g id=\"patch_3\">\n    <path d=\"M 128.581441 11.589143 \nL 197.100928 11.589143 \nL 197.100928 46.702286 \nL 128.581441 46.702286 \nz\n\" clip-path=\"url(#p48ab2817a1)\" style=\"fill: #3274a1\"/>\n   </g>\n   <g id=\"patch_4\">\n    <path d=\"M 128.581441 55.480571 \nL 137.448451 55.480571 \nL 137.448451 90.593714 \nL 128.581441 90.593714 \nz\n\" clip-path=\"url(#p48ab2817a1)\" style=\"fill: #3274a1\"/>\n   </g>\n   <g id=\"patch_5\">\n    <path d=\"M 128.581441 99.372 \nL 131.424738 99.372 \nL 131.424738 134.485143 \nL 128.581441 134.485143 \nz\n\" clip-path=\"url(#p48ab2817a1)\" style=\"fill: #3274a1\"/>\n   </g>\n   <g id=\"patch_6\">\n    <path d=\"M 128.581441 143.263429 \nL 128.820913 143.263429 \nL 128.820913 178.376571 \nL 128.581441 178.376571 \nz\n\" clip-path=\"url(#p48ab2817a1)\" style=\"fill: #3274a1\"/>\n   </g>\n   <g id=\"patch_7\">\n    <path d=\"M 128.581441 187.154857 \nL 128.581829 187.154857 \nL 128.581829 222.268 \nL 128.581441 222.268 \nz\n\" clip-path=\"url(#p48ab2817a1)\" style=\"fill: #3274a1\"/>\n   </g>\n   <g id=\"patch_8\">\n    <path d=\"M 128.581441 231.046286 \nL 128.502956 231.046286 \nL 128.502956 266.159429 \nL 128.581441 266.159429 \nz\n\" clip-path=\"url(#p48ab2817a1)\" style=\"fill: #3274a1\"/>\n   </g>\n   <g id=\"patch_9\">\n    <path d=\"M 128.581441 274.937714 \nL 127.870878 274.937714 \nL 127.870878 310.050857 \nL 128.581441 310.050857 \nz\n\" clip-path=\"url(#p48ab2817a1)\" style=\"fill: #3274a1\"/>\n   </g>\n   <g id=\"matplotlib.axis_1\">\n    <g id=\"xtick_1\">\n     <g id=\"line2d_1\">\n      <defs>\n       <path id=\"mb0a6a43667\" d=\"M 0 0 \nL 0 3.5 \n\" style=\"stroke: #000000; stroke-width: 0.8\"/>\n      </defs>\n      <g>\n       <use xlink:href=\"#mb0a6a43667\" x=\"128.581441\" y=\"314.44\" style=\"stroke: #000000; stroke-width: 0.8\"/>\n      </g>\n     </g>\n     <g id=\"text_1\">\n      <!-- 0.0 -->\n      <g transform=\"translate(120.629879 329.038437) scale(0.1 -0.1)\">\n       <defs>\n        <path id=\"DejaVuSans-30\" d=\"M 2034 4250 \nQ 1547 4250 1301 3770 \nQ 1056 3291 1056 2328 \nQ 1056 1369 1301 889 \nQ 1547 409 2034 409 \nQ 2525 409 2770 889 \nQ 3016 1369 3016 2328 \nQ 3016 3291 2770 3770 \nQ 2525 4250 2034 4250 \nz\nM 2034 4750 \nQ 2819 4750 3233 4129 \nQ 3647 3509 3647 2328 \nQ 3647 1150 3233 529 \nQ 2819 -91 2034 -91 \nQ 1250 -91 836 529 \nQ 422 1150 422 2328 \nQ 422 3509 836 4129 \nQ 1250 4750 2034 4750 \nz\n\" transform=\"scale(0.015625)\"/>\n        <path id=\"DejaVuSans-2e\" d=\"M 684 794 \nL 1344 794 \nL 1344 0 \nL 684 0 \nL 684 794 \nz\n\" transform=\"scale(0.015625)\"/>\n       </defs>\n       <use xlink:href=\"#DejaVuSans-30\"/>\n       <use xlink:href=\"#DejaVuSans-2e\" x=\"63.623047\"/>\n       <use xlink:href=\"#DejaVuSans-30\" x=\"95.410156\"/>\n      </g>\n     </g>\n    </g>\n    <g id=\"xtick_2\">\n     <g id=\"line2d_2\">\n      <g>\n       <use xlink:href=\"#mb0a6a43667\" x=\"169.621894\" y=\"314.44\" style=\"stroke: #000000; stroke-width: 0.8\"/>\n      </g>\n     </g>\n     <g id=\"text_2\">\n      <!-- 2.5 -->\n      <g transform=\"translate(161.670331 329.038437) scale(0.1 -0.1)\">\n       <defs>\n        <path id=\"DejaVuSans-32\" d=\"M 1228 531 \nL 3431 531 \nL 3431 0 \nL 469 0 \nL 469 531 \nQ 828 903 1448 1529 \nQ 2069 2156 2228 2338 \nQ 2531 2678 2651 2914 \nQ 2772 3150 2772 3378 \nQ 2772 3750 2511 3984 \nQ 2250 4219 1831 4219 \nQ 1534 4219 1204 4116 \nQ 875 4013 500 3803 \nL 500 4441 \nQ 881 4594 1212 4672 \nQ 1544 4750 1819 4750 \nQ 2544 4750 2975 4387 \nQ 3406 4025 3406 3419 \nQ 3406 3131 3298 2873 \nQ 3191 2616 2906 2266 \nQ 2828 2175 2409 1742 \nQ 1991 1309 1228 531 \nz\n\" transform=\"scale(0.015625)\"/>\n        <path id=\"DejaVuSans-35\" d=\"M 691 4666 \nL 3169 4666 \nL 3169 4134 \nL 1269 4134 \nL 1269 2991 \nQ 1406 3038 1543 3061 \nQ 1681 3084 1819 3084 \nQ 2600 3084 3056 2656 \nQ 3513 2228 3513 1497 \nQ 3513 744 3044 326 \nQ 2575 -91 1722 -91 \nQ 1428 -91 1123 -41 \nQ 819 9 494 109 \nL 494 744 \nQ 775 591 1075 516 \nQ 1375 441 1709 441 \nQ 2250 441 2565 725 \nQ 2881 1009 2881 1497 \nQ 2881 1984 2565 2268 \nQ 2250 2553 1709 2553 \nQ 1456 2553 1204 2497 \nQ 953 2441 691 2322 \nL 691 4666 \nz\n\" transform=\"scale(0.015625)\"/>\n       </defs>\n       <use xlink:href=\"#DejaVuSans-32\"/>\n       <use xlink:href=\"#DejaVuSans-2e\" x=\"63.623047\"/>\n       <use xlink:href=\"#DejaVuSans-35\" x=\"95.410156\"/>\n      </g>\n     </g>\n    </g>\n    <g id=\"text_3\">\n     <!-- Weight -->\n     <g transform=\"translate(145.067153 342.716562) scale(0.1 -0.1)\">\n      <defs>\n       <path id=\"DejaVuSans-57\" d=\"M 213 4666 \nL 850 4666 \nL 1831 722 \nL 2809 4666 \nL 3519 4666 \nL 4500 722 \nL 5478 4666 \nL 6119 4666 \nL 4947 0 \nL 4153 0 \nL 3169 4050 \nL 2175 0 \nL 1381 0 \nL 213 4666 \nz\n\" transform=\"scale(0.015625)\"/>\n       <path id=\"DejaVuSans-65\" d=\"M 3597 1894 \nL 3597 1613 \nL 953 1613 \nQ 991 1019 1311 708 \nQ 1631 397 2203 397 \nQ 2534 397 2845 478 \nQ 3156 559 3463 722 \nL 3463 178 \nQ 3153 47 2828 -22 \nQ 2503 -91 2169 -91 \nQ 1331 -91 842 396 \nQ 353 884 353 1716 \nQ 353 2575 817 3079 \nQ 1281 3584 2069 3584 \nQ 2775 3584 3186 3129 \nQ 3597 2675 3597 1894 \nz\nM 3022 2063 \nQ 3016 2534 2758 2815 \nQ 2500 3097 2075 3097 \nQ 1594 3097 1305 2825 \nQ 1016 2553 972 2059 \nL 3022 2063 \nz\n\" transform=\"scale(0.015625)\"/>\n       <path id=\"DejaVuSans-69\" d=\"M 603 3500 \nL 1178 3500 \nL 1178 0 \nL 603 0 \nL 603 3500 \nz\nM 603 4863 \nL 1178 4863 \nL 1178 4134 \nL 603 4134 \nL 603 4863 \nz\n\" transform=\"scale(0.015625)\"/>\n       <path id=\"DejaVuSans-67\" d=\"M 2906 1791 \nQ 2906 2416 2648 2759 \nQ 2391 3103 1925 3103 \nQ 1463 3103 1205 2759 \nQ 947 2416 947 1791 \nQ 947 1169 1205 825 \nQ 1463 481 1925 481 \nQ 2391 481 2648 825 \nQ 2906 1169 2906 1791 \nz\nM 3481 434 \nQ 3481 -459 3084 -895 \nQ 2688 -1331 1869 -1331 \nQ 1566 -1331 1297 -1286 \nQ 1028 -1241 775 -1147 \nL 775 -588 \nQ 1028 -725 1275 -790 \nQ 1522 -856 1778 -856 \nQ 2344 -856 2625 -561 \nQ 2906 -266 2906 331 \nL 2906 616 \nQ 2728 306 2450 153 \nQ 2172 0 1784 0 \nQ 1141 0 747 490 \nQ 353 981 353 1791 \nQ 353 2603 747 3093 \nQ 1141 3584 1784 3584 \nQ 2172 3584 2450 3431 \nQ 2728 3278 2906 2969 \nL 2906 3500 \nL 3481 3500 \nL 3481 434 \nz\n\" transform=\"scale(0.015625)\"/>\n       <path id=\"DejaVuSans-68\" d=\"M 3513 2113 \nL 3513 0 \nL 2938 0 \nL 2938 2094 \nQ 2938 2591 2744 2837 \nQ 2550 3084 2163 3084 \nQ 1697 3084 1428 2787 \nQ 1159 2491 1159 1978 \nL 1159 0 \nL 581 0 \nL 581 4863 \nL 1159 4863 \nL 1159 2956 \nQ 1366 3272 1645 3428 \nQ 1925 3584 2291 3584 \nQ 2894 3584 3203 3211 \nQ 3513 2838 3513 2113 \nz\n\" transform=\"scale(0.015625)\"/>\n       <path id=\"DejaVuSans-74\" d=\"M 1172 4494 \nL 1172 3500 \nL 2356 3500 \nL 2356 3053 \nL 1172 3053 \nL 1172 1153 \nQ 1172 725 1289 603 \nQ 1406 481 1766 481 \nL 2356 481 \nL 2356 0 \nL 1766 0 \nQ 1100 0 847 248 \nQ 594 497 594 1153 \nL 594 3053 \nL 172 3053 \nL 172 3500 \nL 594 3500 \nL 594 4494 \nL 1172 4494 \nz\n\" transform=\"scale(0.015625)\"/>\n      </defs>\n      <use xlink:href=\"#DejaVuSans-57\"/>\n      <use xlink:href=\"#DejaVuSans-65\" x=\"93.001953\"/>\n      <use xlink:href=\"#DejaVuSans-69\" x=\"154.525391\"/>\n      <use xlink:href=\"#DejaVuSans-67\" x=\"182.308594\"/>\n      <use xlink:href=\"#DejaVuSans-68\" x=\"245.785156\"/>\n      <use xlink:href=\"#DejaVuSans-74\" x=\"309.164062\"/>\n     </g>\n    </g>\n   </g>\n   <g id=\"matplotlib.axis_2\">\n    <g id=\"ytick_1\">\n     <g id=\"line2d_3\">\n      <defs>\n       <path id=\"mf205c0b297\" d=\"M 0 0 \nL -3.5 0 \n\" style=\"stroke: #000000; stroke-width: 0.8\"/>\n      </defs>\n      <g>\n       <use xlink:href=\"#mf205c0b297\" x=\"124.409375\" y=\"29.145714\" style=\"stroke: #000000; stroke-width: 0.8\"/>\n      </g>\n     </g>\n     <g id=\"text_4\">\n      <!-- avebedrms_averooms -->\n      <g transform=\"translate(7.2 32.944933) scale(0.1 -0.1)\">\n       <defs>\n        <path id=\"DejaVuSans-61\" d=\"M 2194 1759 \nQ 1497 1759 1228 1600 \nQ 959 1441 959 1056 \nQ 959 750 1161 570 \nQ 1363 391 1709 391 \nQ 2188 391 2477 730 \nQ 2766 1069 2766 1631 \nL 2766 1759 \nL 2194 1759 \nz\nM 3341 1997 \nL 3341 0 \nL 2766 0 \nL 2766 531 \nQ 2569 213 2275 61 \nQ 1981 -91 1556 -91 \nQ 1019 -91 701 211 \nQ 384 513 384 1019 \nQ 384 1609 779 1909 \nQ 1175 2209 1959 2209 \nL 2766 2209 \nL 2766 2266 \nQ 2766 2663 2505 2880 \nQ 2244 3097 1772 3097 \nQ 1472 3097 1187 3025 \nQ 903 2953 641 2809 \nL 641 3341 \nQ 956 3463 1253 3523 \nQ 1550 3584 1831 3584 \nQ 2591 3584 2966 3190 \nQ 3341 2797 3341 1997 \nz\n\" transform=\"scale(0.015625)\"/>\n        <path id=\"DejaVuSans-76\" d=\"M 191 3500 \nL 800 3500 \nL 1894 563 \nL 2988 3500 \nL 3597 3500 \nL 2284 0 \nL 1503 0 \nL 191 3500 \nz\n\" transform=\"scale(0.015625)\"/>\n        <path id=\"DejaVuSans-62\" d=\"M 3116 1747 \nQ 3116 2381 2855 2742 \nQ 2594 3103 2138 3103 \nQ 1681 3103 1420 2742 \nQ 1159 2381 1159 1747 \nQ 1159 1113 1420 752 \nQ 1681 391 2138 391 \nQ 2594 391 2855 752 \nQ 3116 1113 3116 1747 \nz\nM 1159 2969 \nQ 1341 3281 1617 3432 \nQ 1894 3584 2278 3584 \nQ 2916 3584 3314 3078 \nQ 3713 2572 3713 1747 \nQ 3713 922 3314 415 \nQ 2916 -91 2278 -91 \nQ 1894 -91 1617 61 \nQ 1341 213 1159 525 \nL 1159 0 \nL 581 0 \nL 581 4863 \nL 1159 4863 \nL 1159 2969 \nz\n\" transform=\"scale(0.015625)\"/>\n        <path id=\"DejaVuSans-64\" d=\"M 2906 2969 \nL 2906 4863 \nL 3481 4863 \nL 3481 0 \nL 2906 0 \nL 2906 525 \nQ 2725 213 2448 61 \nQ 2172 -91 1784 -91 \nQ 1150 -91 751 415 \nQ 353 922 353 1747 \nQ 353 2572 751 3078 \nQ 1150 3584 1784 3584 \nQ 2172 3584 2448 3432 \nQ 2725 3281 2906 2969 \nz\nM 947 1747 \nQ 947 1113 1208 752 \nQ 1469 391 1925 391 \nQ 2381 391 2643 752 \nQ 2906 1113 2906 1747 \nQ 2906 2381 2643 2742 \nQ 2381 3103 1925 3103 \nQ 1469 3103 1208 2742 \nQ 947 2381 947 1747 \nz\n\" transform=\"scale(0.015625)\"/>\n        <path id=\"DejaVuSans-72\" d=\"M 2631 2963 \nQ 2534 3019 2420 3045 \nQ 2306 3072 2169 3072 \nQ 1681 3072 1420 2755 \nQ 1159 2438 1159 1844 \nL 1159 0 \nL 581 0 \nL 581 3500 \nL 1159 3500 \nL 1159 2956 \nQ 1341 3275 1631 3429 \nQ 1922 3584 2338 3584 \nQ 2397 3584 2469 3576 \nQ 2541 3569 2628 3553 \nL 2631 2963 \nz\n\" transform=\"scale(0.015625)\"/>\n        <path id=\"DejaVuSans-6d\" d=\"M 3328 2828 \nQ 3544 3216 3844 3400 \nQ 4144 3584 4550 3584 \nQ 5097 3584 5394 3201 \nQ 5691 2819 5691 2113 \nL 5691 0 \nL 5113 0 \nL 5113 2094 \nQ 5113 2597 4934 2840 \nQ 4756 3084 4391 3084 \nQ 3944 3084 3684 2787 \nQ 3425 2491 3425 1978 \nL 3425 0 \nL 2847 0 \nL 2847 2094 \nQ 2847 2600 2669 2842 \nQ 2491 3084 2119 3084 \nQ 1678 3084 1418 2786 \nQ 1159 2488 1159 1978 \nL 1159 0 \nL 581 0 \nL 581 3500 \nL 1159 3500 \nL 1159 2956 \nQ 1356 3278 1631 3431 \nQ 1906 3584 2284 3584 \nQ 2666 3584 2933 3390 \nQ 3200 3197 3328 2828 \nz\n\" transform=\"scale(0.015625)\"/>\n        <path id=\"DejaVuSans-73\" d=\"M 2834 3397 \nL 2834 2853 \nQ 2591 2978 2328 3040 \nQ 2066 3103 1784 3103 \nQ 1356 3103 1142 2972 \nQ 928 2841 928 2578 \nQ 928 2378 1081 2264 \nQ 1234 2150 1697 2047 \nL 1894 2003 \nQ 2506 1872 2764 1633 \nQ 3022 1394 3022 966 \nQ 3022 478 2636 193 \nQ 2250 -91 1575 -91 \nQ 1294 -91 989 -36 \nQ 684 19 347 128 \nL 347 722 \nQ 666 556 975 473 \nQ 1284 391 1588 391 \nQ 1994 391 2212 530 \nQ 2431 669 2431 922 \nQ 2431 1156 2273 1281 \nQ 2116 1406 1581 1522 \nL 1381 1569 \nQ 847 1681 609 1914 \nQ 372 2147 372 2553 \nQ 372 3047 722 3315 \nQ 1072 3584 1716 3584 \nQ 2034 3584 2315 3537 \nQ 2597 3491 2834 3397 \nz\n\" transform=\"scale(0.015625)\"/>\n        <path id=\"DejaVuSans-5f\" d=\"M 3263 -1063 \nL 3263 -1509 \nL -63 -1509 \nL -63 -1063 \nL 3263 -1063 \nz\n\" transform=\"scale(0.015625)\"/>\n        <path id=\"DejaVuSans-6f\" d=\"M 1959 3097 \nQ 1497 3097 1228 2736 \nQ 959 2375 959 1747 \nQ 959 1119 1226 758 \nQ 1494 397 1959 397 \nQ 2419 397 2687 759 \nQ 2956 1122 2956 1747 \nQ 2956 2369 2687 2733 \nQ 2419 3097 1959 3097 \nz\nM 1959 3584 \nQ 2709 3584 3137 3096 \nQ 3566 2609 3566 1747 \nQ 3566 888 3137 398 \nQ 2709 -91 1959 -91 \nQ 1206 -91 779 398 \nQ 353 888 353 1747 \nQ 353 2609 779 3096 \nQ 1206 3584 1959 3584 \nz\n\" transform=\"scale(0.015625)\"/>\n       </defs>\n       <use xlink:href=\"#DejaVuSans-61\"/>\n       <use xlink:href=\"#DejaVuSans-76\" x=\"61.279297\"/>\n       <use xlink:href=\"#DejaVuSans-65\" x=\"120.458984\"/>\n       <use xlink:href=\"#DejaVuSans-62\" x=\"181.982422\"/>\n       <use xlink:href=\"#DejaVuSans-65\" x=\"245.458984\"/>\n       <use xlink:href=\"#DejaVuSans-64\" x=\"306.982422\"/>\n       <use xlink:href=\"#DejaVuSans-72\" x=\"370.458984\"/>\n       <use xlink:href=\"#DejaVuSans-6d\" x=\"409.822266\"/>\n       <use xlink:href=\"#DejaVuSans-73\" x=\"507.234375\"/>\n       <use xlink:href=\"#DejaVuSans-5f\" x=\"559.333984\"/>\n       <use xlink:href=\"#DejaVuSans-61\" x=\"609.333984\"/>\n       <use xlink:href=\"#DejaVuSans-76\" x=\"670.613281\"/>\n       <use xlink:href=\"#DejaVuSans-65\" x=\"729.792969\"/>\n       <use xlink:href=\"#DejaVuSans-72\" x=\"791.316406\"/>\n       <use xlink:href=\"#DejaVuSans-6f\" x=\"830.179688\"/>\n       <use xlink:href=\"#DejaVuSans-6f\" x=\"891.361328\"/>\n       <use xlink:href=\"#DejaVuSans-6d\" x=\"952.542969\"/>\n       <use xlink:href=\"#DejaVuSans-73\" x=\"1049.955078\"/>\n      </g>\n     </g>\n    </g>\n    <g id=\"ytick_2\">\n     <g id=\"line2d_4\">\n      <g>\n       <use xlink:href=\"#mf205c0b297\" x=\"124.409375\" y=\"73.037143\" style=\"stroke: #000000; stroke-width: 0.8\"/>\n      </g>\n     </g>\n     <g id=\"text_5\">\n      <!-- medinc -->\n      <g transform=\"translate(80.553125 76.836362) scale(0.1 -0.1)\">\n       <defs>\n        <path id=\"DejaVuSans-6e\" d=\"M 3513 2113 \nL 3513 0 \nL 2938 0 \nL 2938 2094 \nQ 2938 2591 2744 2837 \nQ 2550 3084 2163 3084 \nQ 1697 3084 1428 2787 \nQ 1159 2491 1159 1978 \nL 1159 0 \nL 581 0 \nL 581 3500 \nL 1159 3500 \nL 1159 2956 \nQ 1366 3272 1645 3428 \nQ 1925 3584 2291 3584 \nQ 2894 3584 3203 3211 \nQ 3513 2838 3513 2113 \nz\n\" transform=\"scale(0.015625)\"/>\n        <path id=\"DejaVuSans-63\" d=\"M 3122 3366 \nL 3122 2828 \nQ 2878 2963 2633 3030 \nQ 2388 3097 2138 3097 \nQ 1578 3097 1268 2742 \nQ 959 2388 959 1747 \nQ 959 1106 1268 751 \nQ 1578 397 2138 397 \nQ 2388 397 2633 464 \nQ 2878 531 3122 666 \nL 3122 134 \nQ 2881 22 2623 -34 \nQ 2366 -91 2075 -91 \nQ 1284 -91 818 406 \nQ 353 903 353 1747 \nQ 353 2603 823 3093 \nQ 1294 3584 2113 3584 \nQ 2378 3584 2631 3529 \nQ 2884 3475 3122 3366 \nz\n\" transform=\"scale(0.015625)\"/>\n       </defs>\n       <use xlink:href=\"#DejaVuSans-6d\"/>\n       <use xlink:href=\"#DejaVuSans-65\" x=\"97.412109\"/>\n       <use xlink:href=\"#DejaVuSans-64\" x=\"158.935547\"/>\n       <use xlink:href=\"#DejaVuSans-69\" x=\"222.412109\"/>\n       <use xlink:href=\"#DejaVuSans-6e\" x=\"250.195312\"/>\n       <use xlink:href=\"#DejaVuSans-63\" x=\"313.574219\"/>\n      </g>\n     </g>\n    </g>\n    <g id=\"ytick_3\">\n     <g id=\"line2d_5\">\n      <g>\n       <use xlink:href=\"#mf205c0b297\" x=\"124.409375\" y=\"116.928571\" style=\"stroke: #000000; stroke-width: 0.8\"/>\n      </g>\n     </g>\n     <g id=\"text_6\">\n      <!-- avebedrms -->\n      <g transform=\"translate(61.473438 120.72779) scale(0.1 -0.1)\">\n       <use xlink:href=\"#DejaVuSans-61\"/>\n       <use xlink:href=\"#DejaVuSans-76\" x=\"61.279297\"/>\n       <use xlink:href=\"#DejaVuSans-65\" x=\"120.458984\"/>\n       <use xlink:href=\"#DejaVuSans-62\" x=\"181.982422\"/>\n       <use xlink:href=\"#DejaVuSans-65\" x=\"245.458984\"/>\n       <use xlink:href=\"#DejaVuSans-64\" x=\"306.982422\"/>\n       <use xlink:href=\"#DejaVuSans-72\" x=\"370.458984\"/>\n       <use xlink:href=\"#DejaVuSans-6d\" x=\"409.822266\"/>\n       <use xlink:href=\"#DejaVuSans-73\" x=\"507.234375\"/>\n      </g>\n     </g>\n    </g>\n    <g id=\"ytick_4\">\n     <g id=\"line2d_6\">\n      <g>\n       <use xlink:href=\"#mf205c0b297\" x=\"124.409375\" y=\"160.82\" style=\"stroke: #000000; stroke-width: 0.8\"/>\n      </g>\n     </g>\n     <g id=\"text_7\">\n      <!-- houseage -->\n      <g transform=\"translate(68.623438 164.619219) scale(0.1 -0.1)\">\n       <defs>\n        <path id=\"DejaVuSans-75\" d=\"M 544 1381 \nL 544 3500 \nL 1119 3500 \nL 1119 1403 \nQ 1119 906 1312 657 \nQ 1506 409 1894 409 \nQ 2359 409 2629 706 \nQ 2900 1003 2900 1516 \nL 2900 3500 \nL 3475 3500 \nL 3475 0 \nL 2900 0 \nL 2900 538 \nQ 2691 219 2414 64 \nQ 2138 -91 1772 -91 \nQ 1169 -91 856 284 \nQ 544 659 544 1381 \nz\nM 1991 3584 \nL 1991 3584 \nz\n\" transform=\"scale(0.015625)\"/>\n       </defs>\n       <use xlink:href=\"#DejaVuSans-68\"/>\n       <use xlink:href=\"#DejaVuSans-6f\" x=\"63.378906\"/>\n       <use xlink:href=\"#DejaVuSans-75\" x=\"124.560547\"/>\n       <use xlink:href=\"#DejaVuSans-73\" x=\"187.939453\"/>\n       <use xlink:href=\"#DejaVuSans-65\" x=\"240.039062\"/>\n       <use xlink:href=\"#DejaVuSans-61\" x=\"301.5625\"/>\n       <use xlink:href=\"#DejaVuSans-67\" x=\"362.841797\"/>\n       <use xlink:href=\"#DejaVuSans-65\" x=\"426.318359\"/>\n      </g>\n     </g>\n    </g>\n    <g id=\"ytick_5\">\n     <g id=\"line2d_7\">\n      <g>\n       <use xlink:href=\"#mf205c0b297\" x=\"124.409375\" y=\"204.711429\" style=\"stroke: #000000; stroke-width: 0.8\"/>\n      </g>\n     </g>\n     <g id=\"text_8\">\n      <!-- population -->\n      <g transform=\"translate(64.195312 208.510647) scale(0.1 -0.1)\">\n       <defs>\n        <path id=\"DejaVuSans-70\" d=\"M 1159 525 \nL 1159 -1331 \nL 581 -1331 \nL 581 3500 \nL 1159 3500 \nL 1159 2969 \nQ 1341 3281 1617 3432 \nQ 1894 3584 2278 3584 \nQ 2916 3584 3314 3078 \nQ 3713 2572 3713 1747 \nQ 3713 922 3314 415 \nQ 2916 -91 2278 -91 \nQ 1894 -91 1617 61 \nQ 1341 213 1159 525 \nz\nM 3116 1747 \nQ 3116 2381 2855 2742 \nQ 2594 3103 2138 3103 \nQ 1681 3103 1420 2742 \nQ 1159 2381 1159 1747 \nQ 1159 1113 1420 752 \nQ 1681 391 2138 391 \nQ 2594 391 2855 752 \nQ 3116 1113 3116 1747 \nz\n\" transform=\"scale(0.015625)\"/>\n        <path id=\"DejaVuSans-6c\" d=\"M 603 4863 \nL 1178 4863 \nL 1178 0 \nL 603 0 \nL 603 4863 \nz\n\" transform=\"scale(0.015625)\"/>\n       </defs>\n       <use xlink:href=\"#DejaVuSans-70\"/>\n       <use xlink:href=\"#DejaVuSans-6f\" x=\"63.476562\"/>\n       <use xlink:href=\"#DejaVuSans-70\" x=\"124.658203\"/>\n       <use xlink:href=\"#DejaVuSans-75\" x=\"188.134766\"/>\n       <use xlink:href=\"#DejaVuSans-6c\" x=\"251.513672\"/>\n       <use xlink:href=\"#DejaVuSans-61\" x=\"279.296875\"/>\n       <use xlink:href=\"#DejaVuSans-74\" x=\"340.576172\"/>\n       <use xlink:href=\"#DejaVuSans-69\" x=\"379.785156\"/>\n       <use xlink:href=\"#DejaVuSans-6f\" x=\"407.568359\"/>\n       <use xlink:href=\"#DejaVuSans-6e\" x=\"468.75\"/>\n      </g>\n     </g>\n    </g>\n    <g id=\"ytick_6\">\n     <g id=\"line2d_8\">\n      <g>\n       <use xlink:href=\"#mf205c0b297\" x=\"124.409375\" y=\"248.602857\" style=\"stroke: #000000; stroke-width: 0.8\"/>\n      </g>\n     </g>\n     <g id=\"text_9\">\n      <!-- aveoccup -->\n      <g transform=\"translate(69.407813 252.402076) scale(0.1 -0.1)\">\n       <use xlink:href=\"#DejaVuSans-61\"/>\n       <use xlink:href=\"#DejaVuSans-76\" x=\"61.279297\"/>\n       <use xlink:href=\"#DejaVuSans-65\" x=\"120.458984\"/>\n       <use xlink:href=\"#DejaVuSans-6f\" x=\"181.982422\"/>\n       <use xlink:href=\"#DejaVuSans-63\" x=\"243.164062\"/>\n       <use xlink:href=\"#DejaVuSans-63\" x=\"298.144531\"/>\n       <use xlink:href=\"#DejaVuSans-75\" x=\"353.125\"/>\n       <use xlink:href=\"#DejaVuSans-70\" x=\"416.503906\"/>\n      </g>\n     </g>\n    </g>\n    <g id=\"ytick_7\">\n     <g id=\"line2d_9\">\n      <g>\n       <use xlink:href=\"#mf205c0b297\" x=\"124.409375\" y=\"292.494286\" style=\"stroke: #000000; stroke-width: 0.8\"/>\n      </g>\n     </g>\n     <g id=\"text_10\">\n      <!-- averooms -->\n      <g transform=\"translate(68.135938 296.293504) scale(0.1 -0.1)\">\n       <use xlink:href=\"#DejaVuSans-61\"/>\n       <use xlink:href=\"#DejaVuSans-76\" x=\"61.279297\"/>\n       <use xlink:href=\"#DejaVuSans-65\" x=\"120.458984\"/>\n       <use xlink:href=\"#DejaVuSans-72\" x=\"181.982422\"/>\n       <use xlink:href=\"#DejaVuSans-6f\" x=\"220.845703\"/>\n       <use xlink:href=\"#DejaVuSans-6f\" x=\"282.027344\"/>\n       <use xlink:href=\"#DejaVuSans-6d\" x=\"343.208984\"/>\n       <use xlink:href=\"#DejaVuSans-73\" x=\"440.621094\"/>\n      </g>\n     </g>\n    </g>\n   </g>\n   <g id=\"line2d_10\">\n    <path clip-path=\"url(#p48ab2817a1)\" style=\"fill: none; stroke: #424242; stroke-width: 2.25; stroke-linecap: square\"/>\n   </g>\n   <g id=\"line2d_11\">\n    <path clip-path=\"url(#p48ab2817a1)\" style=\"fill: none; stroke: #424242; stroke-width: 2.25; stroke-linecap: square\"/>\n   </g>\n   <g id=\"line2d_12\">\n    <path clip-path=\"url(#p48ab2817a1)\" style=\"fill: none; stroke: #424242; stroke-width: 2.25; stroke-linecap: square\"/>\n   </g>\n   <g id=\"line2d_13\">\n    <path clip-path=\"url(#p48ab2817a1)\" style=\"fill: none; stroke: #424242; stroke-width: 2.25; stroke-linecap: square\"/>\n   </g>\n   <g id=\"line2d_14\">\n    <path clip-path=\"url(#p48ab2817a1)\" style=\"fill: none; stroke: #424242; stroke-width: 2.25; stroke-linecap: square\"/>\n   </g>\n   <g id=\"line2d_15\">\n    <path clip-path=\"url(#p48ab2817a1)\" style=\"fill: none; stroke: #424242; stroke-width: 2.25; stroke-linecap: square\"/>\n   </g>\n   <g id=\"line2d_16\">\n    <path clip-path=\"url(#p48ab2817a1)\" style=\"fill: none; stroke: #424242; stroke-width: 2.25; stroke-linecap: square\"/>\n   </g>\n   <g id=\"patch_10\">\n    <path d=\"M 124.409375 314.44 \nL 124.409375 7.2 \n\" style=\"fill: none; stroke: #000000; stroke-width: 0.8; stroke-linejoin: miter; stroke-linecap: square\"/>\n   </g>\n   <g id=\"patch_11\">\n    <path d=\"M 200.562431 314.44 \nL 200.562431 7.2 \n\" style=\"fill: none; stroke: #000000; stroke-width: 0.8; stroke-linejoin: miter; stroke-linecap: square\"/>\n   </g>\n   <g id=\"patch_12\">\n    <path d=\"M 124.409375 314.44 \nL 200.562431 314.44 \n\" style=\"fill: none; stroke: #000000; stroke-width: 0.8; stroke-linejoin: miter; stroke-linecap: square\"/>\n   </g>\n   <g id=\"patch_13\">\n    <path d=\"M 124.409375 7.2 \nL 200.562431 7.2 \n\" style=\"fill: none; stroke: #000000; stroke-width: 0.8; stroke-linejoin: miter; stroke-linecap: square\"/>\n   </g>\n  </g>\n  <g id=\"axes_2\">\n   <g id=\"patch_14\">\n    <path d=\"M 340.862847 314.44 \nL 417.015903 314.44 \nL 417.015903 7.2 \nL 340.862847 7.2 \nz\n\" style=\"fill: #ffffff\"/>\n   </g>\n   <g id=\"patch_15\">\n    <path d=\"M 340.862847 11.589143 \nL 340.873743 11.589143 \nL 340.873743 46.702286 \nL 340.862847 46.702286 \nz\n\" clip-path=\"url(#pb2711ca031)\" style=\"fill: #3274a1\"/>\n   </g>\n   <g id=\"patch_16\">\n    <path d=\"M 340.862847 55.480571 \nL 341.048169 55.480571 \nL 341.048169 90.593714 \nL 340.862847 90.593714 \nz\n\" clip-path=\"url(#pb2711ca031)\" style=\"fill: #3274a1\"/>\n   </g>\n   <g id=\"patch_17\">\n    <path d=\"M 340.862847 99.372 \nL 340.918409 99.372 \nL 340.918409 134.485143 \nL 340.862847 134.485143 \nz\n\" clip-path=\"url(#pb2711ca031)\" style=\"fill: #3274a1\"/>\n   </g>\n   <g id=\"patch_18\">\n    <path d=\"M 340.862847 143.263429 \nL 342.296564 143.263429 \nL 342.296564 178.376571 \nL 340.862847 178.376571 \nz\n\" clip-path=\"url(#pb2711ca031)\" style=\"fill: #3274a1\"/>\n   </g>\n   <g id=\"patch_19\">\n    <path d=\"M 340.862847 187.154857 \nL 413.389567 187.154857 \nL 413.389567 222.268 \nL 340.862847 222.268 \nz\n\" clip-path=\"url(#pb2711ca031)\" style=\"fill: #3274a1\"/>\n   </g>\n   <g id=\"patch_20\">\n    <path d=\"M 340.862847 231.046286 \nL 341.017947 231.046286 \nL 341.017947 266.159429 \nL 340.862847 266.159429 \nz\n\" clip-path=\"url(#pb2711ca031)\" style=\"fill: #3274a1\"/>\n   </g>\n   <g id=\"patch_21\">\n    <path d=\"M 340.862847 274.937714 \nL 341.134166 274.937714 \nL 341.134166 310.050857 \nL 340.862847 310.050857 \nz\n\" clip-path=\"url(#pb2711ca031)\" style=\"fill: #3274a1\"/>\n   </g>\n   <g id=\"matplotlib.axis_3\">\n    <g id=\"xtick_3\">\n     <g id=\"line2d_17\">\n      <g>\n       <use xlink:href=\"#mb0a6a43667\" x=\"340.862847\" y=\"314.44\" style=\"stroke: #000000; stroke-width: 0.8\"/>\n      </g>\n     </g>\n     <g id=\"text_11\">\n      <!-- 0 -->\n      <g transform=\"translate(337.681597 329.038437) scale(0.1 -0.1)\">\n       <use xlink:href=\"#DejaVuSans-30\"/>\n      </g>\n     </g>\n    </g>\n    <g id=\"xtick_4\">\n     <g id=\"line2d_18\">\n      <g>\n       <use xlink:href=\"#mb0a6a43667\" x=\"391.464992\" y=\"314.44\" style=\"stroke: #000000; stroke-width: 0.8\"/>\n      </g>\n     </g>\n     <g id=\"text_12\">\n      <!-- 1000 -->\n      <g transform=\"translate(378.739992 329.038437) scale(0.1 -0.1)\">\n       <defs>\n        <path id=\"DejaVuSans-31\" d=\"M 794 531 \nL 1825 531 \nL 1825 4091 \nL 703 3866 \nL 703 4441 \nL 1819 4666 \nL 2450 4666 \nL 2450 531 \nL 3481 531 \nL 3481 0 \nL 794 0 \nL 794 531 \nz\n\" transform=\"scale(0.015625)\"/>\n       </defs>\n       <use xlink:href=\"#DejaVuSans-31\"/>\n       <use xlink:href=\"#DejaVuSans-30\" x=\"63.623047\"/>\n       <use xlink:href=\"#DejaVuSans-30\" x=\"127.246094\"/>\n       <use xlink:href=\"#DejaVuSans-30\" x=\"190.869141\"/>\n      </g>\n     </g>\n    </g>\n    <g id=\"text_13\">\n     <!-- Mean -->\n     <g transform=\"translate(365.315937 342.716562) scale(0.1 -0.1)\">\n      <defs>\n       <path id=\"DejaVuSans-4d\" d=\"M 628 4666 \nL 1569 4666 \nL 2759 1491 \nL 3956 4666 \nL 4897 4666 \nL 4897 0 \nL 4281 0 \nL 4281 4097 \nL 3078 897 \nL 2444 897 \nL 1241 4097 \nL 1241 0 \nL 628 0 \nL 628 4666 \nz\n\" transform=\"scale(0.015625)\"/>\n      </defs>\n      <use xlink:href=\"#DejaVuSans-4d\"/>\n      <use xlink:href=\"#DejaVuSans-65\" x=\"86.279297\"/>\n      <use xlink:href=\"#DejaVuSans-61\" x=\"147.802734\"/>\n      <use xlink:href=\"#DejaVuSans-6e\" x=\"209.082031\"/>\n     </g>\n    </g>\n   </g>\n   <g id=\"matplotlib.axis_4\">\n    <g id=\"ytick_8\">\n     <g id=\"line2d_19\">\n      <g>\n       <use xlink:href=\"#mf205c0b297\" x=\"340.862847\" y=\"29.145714\" style=\"stroke: #000000; stroke-width: 0.8\"/>\n      </g>\n     </g>\n     <g id=\"text_14\">\n      <!-- avebedrms_averooms -->\n      <g transform=\"translate(223.653472 32.944933) scale(0.1 -0.1)\">\n       <use xlink:href=\"#DejaVuSans-61\"/>\n       <use xlink:href=\"#DejaVuSans-76\" x=\"61.279297\"/>\n       <use xlink:href=\"#DejaVuSans-65\" x=\"120.458984\"/>\n       <use xlink:href=\"#DejaVuSans-62\" x=\"181.982422\"/>\n       <use xlink:href=\"#DejaVuSans-65\" x=\"245.458984\"/>\n       <use xlink:href=\"#DejaVuSans-64\" x=\"306.982422\"/>\n       <use xlink:href=\"#DejaVuSans-72\" x=\"370.458984\"/>\n       <use xlink:href=\"#DejaVuSans-6d\" x=\"409.822266\"/>\n       <use xlink:href=\"#DejaVuSans-73\" x=\"507.234375\"/>\n       <use xlink:href=\"#DejaVuSans-5f\" x=\"559.333984\"/>\n       <use xlink:href=\"#DejaVuSans-61\" x=\"609.333984\"/>\n       <use xlink:href=\"#DejaVuSans-76\" x=\"670.613281\"/>\n       <use xlink:href=\"#DejaVuSans-65\" x=\"729.792969\"/>\n       <use xlink:href=\"#DejaVuSans-72\" x=\"791.316406\"/>\n       <use xlink:href=\"#DejaVuSans-6f\" x=\"830.179688\"/>\n       <use xlink:href=\"#DejaVuSans-6f\" x=\"891.361328\"/>\n       <use xlink:href=\"#DejaVuSans-6d\" x=\"952.542969\"/>\n       <use xlink:href=\"#DejaVuSans-73\" x=\"1049.955078\"/>\n      </g>\n     </g>\n    </g>\n    <g id=\"ytick_9\">\n     <g id=\"line2d_20\">\n      <g>\n       <use xlink:href=\"#mf205c0b297\" x=\"340.862847\" y=\"73.037143\" style=\"stroke: #000000; stroke-width: 0.8\"/>\n      </g>\n     </g>\n     <g id=\"text_15\">\n      <!-- medinc -->\n      <g transform=\"translate(297.006597 76.836362) scale(0.1 -0.1)\">\n       <use xlink:href=\"#DejaVuSans-6d\"/>\n       <use xlink:href=\"#DejaVuSans-65\" x=\"97.412109\"/>\n       <use xlink:href=\"#DejaVuSans-64\" x=\"158.935547\"/>\n       <use xlink:href=\"#DejaVuSans-69\" x=\"222.412109\"/>\n       <use xlink:href=\"#DejaVuSans-6e\" x=\"250.195312\"/>\n       <use xlink:href=\"#DejaVuSans-63\" x=\"313.574219\"/>\n      </g>\n     </g>\n    </g>\n    <g id=\"ytick_10\">\n     <g id=\"line2d_21\">\n      <g>\n       <use xlink:href=\"#mf205c0b297\" x=\"340.862847\" y=\"116.928571\" style=\"stroke: #000000; stroke-width: 0.8\"/>\n      </g>\n     </g>\n     <g id=\"text_16\">\n      <!-- avebedrms -->\n      <g transform=\"translate(277.92691 120.72779) scale(0.1 -0.1)\">\n       <use xlink:href=\"#DejaVuSans-61\"/>\n       <use xlink:href=\"#DejaVuSans-76\" x=\"61.279297\"/>\n       <use xlink:href=\"#DejaVuSans-65\" x=\"120.458984\"/>\n       <use xlink:href=\"#DejaVuSans-62\" x=\"181.982422\"/>\n       <use xlink:href=\"#DejaVuSans-65\" x=\"245.458984\"/>\n       <use xlink:href=\"#DejaVuSans-64\" x=\"306.982422\"/>\n       <use xlink:href=\"#DejaVuSans-72\" x=\"370.458984\"/>\n       <use xlink:href=\"#DejaVuSans-6d\" x=\"409.822266\"/>\n       <use xlink:href=\"#DejaVuSans-73\" x=\"507.234375\"/>\n      </g>\n     </g>\n    </g>\n    <g id=\"ytick_11\">\n     <g id=\"line2d_22\">\n      <g>\n       <use xlink:href=\"#mf205c0b297\" x=\"340.862847\" y=\"160.82\" style=\"stroke: #000000; stroke-width: 0.8\"/>\n      </g>\n     </g>\n     <g id=\"text_17\">\n      <!-- houseage -->\n      <g transform=\"translate(285.07691 164.619219) scale(0.1 -0.1)\">\n       <use xlink:href=\"#DejaVuSans-68\"/>\n       <use xlink:href=\"#DejaVuSans-6f\" x=\"63.378906\"/>\n       <use xlink:href=\"#DejaVuSans-75\" x=\"124.560547\"/>\n       <use xlink:href=\"#DejaVuSans-73\" x=\"187.939453\"/>\n       <use xlink:href=\"#DejaVuSans-65\" x=\"240.039062\"/>\n       <use xlink:href=\"#DejaVuSans-61\" x=\"301.5625\"/>\n       <use xlink:href=\"#DejaVuSans-67\" x=\"362.841797\"/>\n       <use xlink:href=\"#DejaVuSans-65\" x=\"426.318359\"/>\n      </g>\n     </g>\n    </g>\n    <g id=\"ytick_12\">\n     <g id=\"line2d_23\">\n      <g>\n       <use xlink:href=\"#mf205c0b297\" x=\"340.862847\" y=\"204.711429\" style=\"stroke: #000000; stroke-width: 0.8\"/>\n      </g>\n     </g>\n     <g id=\"text_18\">\n      <!-- population -->\n      <g transform=\"translate(280.648785 208.510647) scale(0.1 -0.1)\">\n       <use xlink:href=\"#DejaVuSans-70\"/>\n       <use xlink:href=\"#DejaVuSans-6f\" x=\"63.476562\"/>\n       <use xlink:href=\"#DejaVuSans-70\" x=\"124.658203\"/>\n       <use xlink:href=\"#DejaVuSans-75\" x=\"188.134766\"/>\n       <use xlink:href=\"#DejaVuSans-6c\" x=\"251.513672\"/>\n       <use xlink:href=\"#DejaVuSans-61\" x=\"279.296875\"/>\n       <use xlink:href=\"#DejaVuSans-74\" x=\"340.576172\"/>\n       <use xlink:href=\"#DejaVuSans-69\" x=\"379.785156\"/>\n       <use xlink:href=\"#DejaVuSans-6f\" x=\"407.568359\"/>\n       <use xlink:href=\"#DejaVuSans-6e\" x=\"468.75\"/>\n      </g>\n     </g>\n    </g>\n    <g id=\"ytick_13\">\n     <g id=\"line2d_24\">\n      <g>\n       <use xlink:href=\"#mf205c0b297\" x=\"340.862847\" y=\"248.602857\" style=\"stroke: #000000; stroke-width: 0.8\"/>\n      </g>\n     </g>\n     <g id=\"text_19\">\n      <!-- aveoccup -->\n      <g transform=\"translate(285.861285 252.402076) scale(0.1 -0.1)\">\n       <use xlink:href=\"#DejaVuSans-61\"/>\n       <use xlink:href=\"#DejaVuSans-76\" x=\"61.279297\"/>\n       <use xlink:href=\"#DejaVuSans-65\" x=\"120.458984\"/>\n       <use xlink:href=\"#DejaVuSans-6f\" x=\"181.982422\"/>\n       <use xlink:href=\"#DejaVuSans-63\" x=\"243.164062\"/>\n       <use xlink:href=\"#DejaVuSans-63\" x=\"298.144531\"/>\n       <use xlink:href=\"#DejaVuSans-75\" x=\"353.125\"/>\n       <use xlink:href=\"#DejaVuSans-70\" x=\"416.503906\"/>\n      </g>\n     </g>\n    </g>\n    <g id=\"ytick_14\">\n     <g id=\"line2d_25\">\n      <g>\n       <use xlink:href=\"#mf205c0b297\" x=\"340.862847\" y=\"292.494286\" style=\"stroke: #000000; stroke-width: 0.8\"/>\n      </g>\n     </g>\n     <g id=\"text_20\">\n      <!-- averooms -->\n      <g transform=\"translate(284.58941 296.293504) scale(0.1 -0.1)\">\n       <use xlink:href=\"#DejaVuSans-61\"/>\n       <use xlink:href=\"#DejaVuSans-76\" x=\"61.279297\"/>\n       <use xlink:href=\"#DejaVuSans-65\" x=\"120.458984\"/>\n       <use xlink:href=\"#DejaVuSans-72\" x=\"181.982422\"/>\n       <use xlink:href=\"#DejaVuSans-6f\" x=\"220.845703\"/>\n       <use xlink:href=\"#DejaVuSans-6f\" x=\"282.027344\"/>\n       <use xlink:href=\"#DejaVuSans-6d\" x=\"343.208984\"/>\n       <use xlink:href=\"#DejaVuSans-73\" x=\"440.621094\"/>\n      </g>\n     </g>\n    </g>\n   </g>\n   <g id=\"line2d_26\">\n    <path clip-path=\"url(#pb2711ca031)\" style=\"fill: none; stroke: #424242; stroke-width: 2.25; stroke-linecap: square\"/>\n   </g>\n   <g id=\"line2d_27\">\n    <path clip-path=\"url(#pb2711ca031)\" style=\"fill: none; stroke: #424242; stroke-width: 2.25; stroke-linecap: square\"/>\n   </g>\n   <g id=\"line2d_28\">\n    <path clip-path=\"url(#pb2711ca031)\" style=\"fill: none; stroke: #424242; stroke-width: 2.25; stroke-linecap: square\"/>\n   </g>\n   <g id=\"line2d_29\">\n    <path clip-path=\"url(#pb2711ca031)\" style=\"fill: none; stroke: #424242; stroke-width: 2.25; stroke-linecap: square\"/>\n   </g>\n   <g id=\"line2d_30\">\n    <path clip-path=\"url(#pb2711ca031)\" style=\"fill: none; stroke: #424242; stroke-width: 2.25; stroke-linecap: square\"/>\n   </g>\n   <g id=\"line2d_31\">\n    <path clip-path=\"url(#pb2711ca031)\" style=\"fill: none; stroke: #424242; stroke-width: 2.25; stroke-linecap: square\"/>\n   </g>\n   <g id=\"line2d_32\">\n    <path clip-path=\"url(#pb2711ca031)\" style=\"fill: none; stroke: #424242; stroke-width: 2.25; stroke-linecap: square\"/>\n   </g>\n   <g id=\"patch_22\">\n    <path d=\"M 340.862847 314.44 \nL 340.862847 7.2 \n\" style=\"fill: none; stroke: #000000; stroke-width: 0.8; stroke-linejoin: miter; stroke-linecap: square\"/>\n   </g>\n   <g id=\"patch_23\">\n    <path d=\"M 417.015903 314.44 \nL 417.015903 7.2 \n\" style=\"fill: none; stroke: #000000; stroke-width: 0.8; stroke-linejoin: miter; stroke-linecap: square\"/>\n   </g>\n   <g id=\"patch_24\">\n    <path d=\"M 340.862847 314.44 \nL 417.015903 314.44 \n\" style=\"fill: none; stroke: #000000; stroke-width: 0.8; stroke-linejoin: miter; stroke-linecap: square\"/>\n   </g>\n   <g id=\"patch_25\">\n    <path d=\"M 340.862847 7.2 \nL 417.015903 7.2 \n\" style=\"fill: none; stroke: #000000; stroke-width: 0.8; stroke-linejoin: miter; stroke-linecap: square\"/>\n   </g>\n  </g>\n  <g id=\"axes_3\">\n   <g id=\"patch_26\">\n    <path d=\"M 557.316319 314.44 \nL 633.469375 314.44 \nL 633.469375 7.2 \nL 557.316319 7.2 \nz\n\" style=\"fill: #ffffff\"/>\n   </g>\n   <g id=\"patch_27\">\n    <path d=\"M 557.316319 11.589143 \nL 557.319982 11.589143 \nL 557.319982 46.702286 \nL 557.316319 46.702286 \nz\n\" clip-path=\"url(#p7b74e064ec)\" style=\"fill: #3274a1\"/>\n   </g>\n   <g id=\"patch_28\">\n    <path d=\"M 557.316319 55.480571 \nL 557.415638 55.480571 \nL 557.415638 90.593714 \nL 557.316319 90.593714 \nz\n\" clip-path=\"url(#p7b74e064ec)\" style=\"fill: #3274a1\"/>\n   </g>\n   <g id=\"patch_29\">\n    <path d=\"M 557.316319 99.372 \nL 557.347438 99.372 \nL 557.347438 134.485143 \nL 557.316319 134.485143 \nz\n\" clip-path=\"url(#p7b74e064ec)\" style=\"fill: #3274a1\"/>\n   </g>\n   <g id=\"patch_30\">\n    <path d=\"M 557.316319 143.263429 \nL 558.110734 143.263429 \nL 558.110734 178.376571 \nL 557.316319 178.376571 \nz\n\" clip-path=\"url(#p7b74e064ec)\" style=\"fill: #3274a1\"/>\n   </g>\n   <g id=\"patch_31\">\n    <path d=\"M 557.316319 187.154857 \nL 629.843039 187.154857 \nL 629.843039 222.268 \nL 557.316319 222.268 \nz\n\" clip-path=\"url(#p7b74e064ec)\" style=\"fill: #3274a1\"/>\n   </g>\n   <g id=\"patch_32\">\n    <path d=\"M 557.316319 231.046286 \nL 557.764648 231.046286 \nL 557.764648 266.159429 \nL 557.316319 266.159429 \nz\n\" clip-path=\"url(#p7b74e064ec)\" style=\"fill: #3274a1\"/>\n   </g>\n   <g id=\"patch_33\">\n    <path d=\"M 557.316319 274.937714 \nL 557.469555 274.937714 \nL 557.469555 310.050857 \nL 557.316319 310.050857 \nz\n\" clip-path=\"url(#p7b74e064ec)\" style=\"fill: #3274a1\"/>\n   </g>\n   <g id=\"matplotlib.axis_5\">\n    <g id=\"xtick_5\">\n     <g id=\"line2d_33\">\n      <g>\n       <use xlink:href=\"#mb0a6a43667\" x=\"557.316319\" y=\"314.44\" style=\"stroke: #000000; stroke-width: 0.8\"/>\n      </g>\n     </g>\n     <g id=\"text_21\">\n      <!-- 0 -->\n      <g transform=\"translate(554.135069 329.038437) scale(0.1 -0.1)\">\n       <use xlink:href=\"#DejaVuSans-30\"/>\n      </g>\n     </g>\n    </g>\n    <g id=\"xtick_6\">\n     <g id=\"line2d_34\">\n      <g>\n       <use xlink:href=\"#mb0a6a43667\" x=\"620.944888\" y=\"314.44\" style=\"stroke: #000000; stroke-width: 0.8\"/>\n      </g>\n     </g>\n     <g id=\"text_22\">\n      <!-- 1000 -->\n      <g transform=\"translate(608.219888 329.038437) scale(0.1 -0.1)\">\n       <use xlink:href=\"#DejaVuSans-31\"/>\n       <use xlink:href=\"#DejaVuSans-30\" x=\"63.623047\"/>\n       <use xlink:href=\"#DejaVuSans-30\" x=\"127.246094\"/>\n       <use xlink:href=\"#DejaVuSans-30\" x=\"190.869141\"/>\n      </g>\n     </g>\n    </g>\n    <g id=\"text_23\">\n     <!-- Scale -->\n     <g transform=\"translate(581.939722 342.716562) scale(0.1 -0.1)\">\n      <defs>\n       <path id=\"DejaVuSans-53\" d=\"M 3425 4513 \nL 3425 3897 \nQ 3066 4069 2747 4153 \nQ 2428 4238 2131 4238 \nQ 1616 4238 1336 4038 \nQ 1056 3838 1056 3469 \nQ 1056 3159 1242 3001 \nQ 1428 2844 1947 2747 \nL 2328 2669 \nQ 3034 2534 3370 2195 \nQ 3706 1856 3706 1288 \nQ 3706 609 3251 259 \nQ 2797 -91 1919 -91 \nQ 1588 -91 1214 -16 \nQ 841 59 441 206 \nL 441 856 \nQ 825 641 1194 531 \nQ 1563 422 1919 422 \nQ 2459 422 2753 634 \nQ 3047 847 3047 1241 \nQ 3047 1584 2836 1778 \nQ 2625 1972 2144 2069 \nL 1759 2144 \nQ 1053 2284 737 2584 \nQ 422 2884 422 3419 \nQ 422 4038 858 4394 \nQ 1294 4750 2059 4750 \nQ 2388 4750 2728 4690 \nQ 3069 4631 3425 4513 \nz\n\" transform=\"scale(0.015625)\"/>\n      </defs>\n      <use xlink:href=\"#DejaVuSans-53\"/>\n      <use xlink:href=\"#DejaVuSans-63\" x=\"63.476562\"/>\n      <use xlink:href=\"#DejaVuSans-61\" x=\"118.457031\"/>\n      <use xlink:href=\"#DejaVuSans-6c\" x=\"179.736328\"/>\n      <use xlink:href=\"#DejaVuSans-65\" x=\"207.519531\"/>\n     </g>\n    </g>\n   </g>\n   <g id=\"matplotlib.axis_6\">\n    <g id=\"ytick_15\">\n     <g id=\"line2d_35\">\n      <g>\n       <use xlink:href=\"#mf205c0b297\" x=\"557.316319\" y=\"29.145714\" style=\"stroke: #000000; stroke-width: 0.8\"/>\n      </g>\n     </g>\n     <g id=\"text_24\">\n      <!-- avebedrms_averooms -->\n      <g transform=\"translate(440.106944 32.944933) scale(0.1 -0.1)\">\n       <use xlink:href=\"#DejaVuSans-61\"/>\n       <use xlink:href=\"#DejaVuSans-76\" x=\"61.279297\"/>\n       <use xlink:href=\"#DejaVuSans-65\" x=\"120.458984\"/>\n       <use xlink:href=\"#DejaVuSans-62\" x=\"181.982422\"/>\n       <use xlink:href=\"#DejaVuSans-65\" x=\"245.458984\"/>\n       <use xlink:href=\"#DejaVuSans-64\" x=\"306.982422\"/>\n       <use xlink:href=\"#DejaVuSans-72\" x=\"370.458984\"/>\n       <use xlink:href=\"#DejaVuSans-6d\" x=\"409.822266\"/>\n       <use xlink:href=\"#DejaVuSans-73\" x=\"507.234375\"/>\n       <use xlink:href=\"#DejaVuSans-5f\" x=\"559.333984\"/>\n       <use xlink:href=\"#DejaVuSans-61\" x=\"609.333984\"/>\n       <use xlink:href=\"#DejaVuSans-76\" x=\"670.613281\"/>\n       <use xlink:href=\"#DejaVuSans-65\" x=\"729.792969\"/>\n       <use xlink:href=\"#DejaVuSans-72\" x=\"791.316406\"/>\n       <use xlink:href=\"#DejaVuSans-6f\" x=\"830.179688\"/>\n       <use xlink:href=\"#DejaVuSans-6f\" x=\"891.361328\"/>\n       <use xlink:href=\"#DejaVuSans-6d\" x=\"952.542969\"/>\n       <use xlink:href=\"#DejaVuSans-73\" x=\"1049.955078\"/>\n      </g>\n     </g>\n    </g>\n    <g id=\"ytick_16\">\n     <g id=\"line2d_36\">\n      <g>\n       <use xlink:href=\"#mf205c0b297\" x=\"557.316319\" y=\"73.037143\" style=\"stroke: #000000; stroke-width: 0.8\"/>\n      </g>\n     </g>\n     <g id=\"text_25\">\n      <!-- medinc -->\n      <g transform=\"translate(513.460069 76.836362) scale(0.1 -0.1)\">\n       <use xlink:href=\"#DejaVuSans-6d\"/>\n       <use xlink:href=\"#DejaVuSans-65\" x=\"97.412109\"/>\n       <use xlink:href=\"#DejaVuSans-64\" x=\"158.935547\"/>\n       <use xlink:href=\"#DejaVuSans-69\" x=\"222.412109\"/>\n       <use xlink:href=\"#DejaVuSans-6e\" x=\"250.195312\"/>\n       <use xlink:href=\"#DejaVuSans-63\" x=\"313.574219\"/>\n      </g>\n     </g>\n    </g>\n    <g id=\"ytick_17\">\n     <g id=\"line2d_37\">\n      <g>\n       <use xlink:href=\"#mf205c0b297\" x=\"557.316319\" y=\"116.928571\" style=\"stroke: #000000; stroke-width: 0.8\"/>\n      </g>\n     </g>\n     <g id=\"text_26\">\n      <!-- avebedrms -->\n      <g transform=\"translate(494.380382 120.72779) scale(0.1 -0.1)\">\n       <use xlink:href=\"#DejaVuSans-61\"/>\n       <use xlink:href=\"#DejaVuSans-76\" x=\"61.279297\"/>\n       <use xlink:href=\"#DejaVuSans-65\" x=\"120.458984\"/>\n       <use xlink:href=\"#DejaVuSans-62\" x=\"181.982422\"/>\n       <use xlink:href=\"#DejaVuSans-65\" x=\"245.458984\"/>\n       <use xlink:href=\"#DejaVuSans-64\" x=\"306.982422\"/>\n       <use xlink:href=\"#DejaVuSans-72\" x=\"370.458984\"/>\n       <use xlink:href=\"#DejaVuSans-6d\" x=\"409.822266\"/>\n       <use xlink:href=\"#DejaVuSans-73\" x=\"507.234375\"/>\n      </g>\n     </g>\n    </g>\n    <g id=\"ytick_18\">\n     <g id=\"line2d_38\">\n      <g>\n       <use xlink:href=\"#mf205c0b297\" x=\"557.316319\" y=\"160.82\" style=\"stroke: #000000; stroke-width: 0.8\"/>\n      </g>\n     </g>\n     <g id=\"text_27\">\n      <!-- houseage -->\n      <g transform=\"translate(501.530382 164.619219) scale(0.1 -0.1)\">\n       <use xlink:href=\"#DejaVuSans-68\"/>\n       <use xlink:href=\"#DejaVuSans-6f\" x=\"63.378906\"/>\n       <use xlink:href=\"#DejaVuSans-75\" x=\"124.560547\"/>\n       <use xlink:href=\"#DejaVuSans-73\" x=\"187.939453\"/>\n       <use xlink:href=\"#DejaVuSans-65\" x=\"240.039062\"/>\n       <use xlink:href=\"#DejaVuSans-61\" x=\"301.5625\"/>\n       <use xlink:href=\"#DejaVuSans-67\" x=\"362.841797\"/>\n       <use xlink:href=\"#DejaVuSans-65\" x=\"426.318359\"/>\n      </g>\n     </g>\n    </g>\n    <g id=\"ytick_19\">\n     <g id=\"line2d_39\">\n      <g>\n       <use xlink:href=\"#mf205c0b297\" x=\"557.316319\" y=\"204.711429\" style=\"stroke: #000000; stroke-width: 0.8\"/>\n      </g>\n     </g>\n     <g id=\"text_28\">\n      <!-- population -->\n      <g transform=\"translate(497.102257 208.510647) scale(0.1 -0.1)\">\n       <use xlink:href=\"#DejaVuSans-70\"/>\n       <use xlink:href=\"#DejaVuSans-6f\" x=\"63.476562\"/>\n       <use xlink:href=\"#DejaVuSans-70\" x=\"124.658203\"/>\n       <use xlink:href=\"#DejaVuSans-75\" x=\"188.134766\"/>\n       <use xlink:href=\"#DejaVuSans-6c\" x=\"251.513672\"/>\n       <use xlink:href=\"#DejaVuSans-61\" x=\"279.296875\"/>\n       <use xlink:href=\"#DejaVuSans-74\" x=\"340.576172\"/>\n       <use xlink:href=\"#DejaVuSans-69\" x=\"379.785156\"/>\n       <use xlink:href=\"#DejaVuSans-6f\" x=\"407.568359\"/>\n       <use xlink:href=\"#DejaVuSans-6e\" x=\"468.75\"/>\n      </g>\n     </g>\n    </g>\n    <g id=\"ytick_20\">\n     <g id=\"line2d_40\">\n      <g>\n       <use xlink:href=\"#mf205c0b297\" x=\"557.316319\" y=\"248.602857\" style=\"stroke: #000000; stroke-width: 0.8\"/>\n      </g>\n     </g>\n     <g id=\"text_29\">\n      <!-- aveoccup -->\n      <g transform=\"translate(502.314757 252.402076) scale(0.1 -0.1)\">\n       <use xlink:href=\"#DejaVuSans-61\"/>\n       <use xlink:href=\"#DejaVuSans-76\" x=\"61.279297\"/>\n       <use xlink:href=\"#DejaVuSans-65\" x=\"120.458984\"/>\n       <use xlink:href=\"#DejaVuSans-6f\" x=\"181.982422\"/>\n       <use xlink:href=\"#DejaVuSans-63\" x=\"243.164062\"/>\n       <use xlink:href=\"#DejaVuSans-63\" x=\"298.144531\"/>\n       <use xlink:href=\"#DejaVuSans-75\" x=\"353.125\"/>\n       <use xlink:href=\"#DejaVuSans-70\" x=\"416.503906\"/>\n      </g>\n     </g>\n    </g>\n    <g id=\"ytick_21\">\n     <g id=\"line2d_41\">\n      <g>\n       <use xlink:href=\"#mf205c0b297\" x=\"557.316319\" y=\"292.494286\" style=\"stroke: #000000; stroke-width: 0.8\"/>\n      </g>\n     </g>\n     <g id=\"text_30\">\n      <!-- averooms -->\n      <g transform=\"translate(501.042882 296.293504) scale(0.1 -0.1)\">\n       <use xlink:href=\"#DejaVuSans-61\"/>\n       <use xlink:href=\"#DejaVuSans-76\" x=\"61.279297\"/>\n       <use xlink:href=\"#DejaVuSans-65\" x=\"120.458984\"/>\n       <use xlink:href=\"#DejaVuSans-72\" x=\"181.982422\"/>\n       <use xlink:href=\"#DejaVuSans-6f\" x=\"220.845703\"/>\n       <use xlink:href=\"#DejaVuSans-6f\" x=\"282.027344\"/>\n       <use xlink:href=\"#DejaVuSans-6d\" x=\"343.208984\"/>\n       <use xlink:href=\"#DejaVuSans-73\" x=\"440.621094\"/>\n      </g>\n     </g>\n    </g>\n   </g>\n   <g id=\"line2d_42\">\n    <path clip-path=\"url(#p7b74e064ec)\" style=\"fill: none; stroke: #424242; stroke-width: 2.25; stroke-linecap: square\"/>\n   </g>\n   <g id=\"line2d_43\">\n    <path clip-path=\"url(#p7b74e064ec)\" style=\"fill: none; stroke: #424242; stroke-width: 2.25; stroke-linecap: square\"/>\n   </g>\n   <g id=\"line2d_44\">\n    <path clip-path=\"url(#p7b74e064ec)\" style=\"fill: none; stroke: #424242; stroke-width: 2.25; stroke-linecap: square\"/>\n   </g>\n   <g id=\"line2d_45\">\n    <path clip-path=\"url(#p7b74e064ec)\" style=\"fill: none; stroke: #424242; stroke-width: 2.25; stroke-linecap: square\"/>\n   </g>\n   <g id=\"line2d_46\">\n    <path clip-path=\"url(#p7b74e064ec)\" style=\"fill: none; stroke: #424242; stroke-width: 2.25; stroke-linecap: square\"/>\n   </g>\n   <g id=\"line2d_47\">\n    <path clip-path=\"url(#p7b74e064ec)\" style=\"fill: none; stroke: #424242; stroke-width: 2.25; stroke-linecap: square\"/>\n   </g>\n   <g id=\"line2d_48\">\n    <path clip-path=\"url(#p7b74e064ec)\" style=\"fill: none; stroke: #424242; stroke-width: 2.25; stroke-linecap: square\"/>\n   </g>\n   <g id=\"patch_34\">\n    <path d=\"M 557.316319 314.44 \nL 557.316319 7.2 \n\" style=\"fill: none; stroke: #000000; stroke-width: 0.8; stroke-linejoin: miter; stroke-linecap: square\"/>\n   </g>\n   <g id=\"patch_35\">\n    <path d=\"M 633.469375 314.44 \nL 633.469375 7.2 \n\" style=\"fill: none; stroke: #000000; stroke-width: 0.8; stroke-linejoin: miter; stroke-linecap: square\"/>\n   </g>\n   <g id=\"patch_36\">\n    <path d=\"M 557.316319 314.44 \nL 633.469375 314.44 \n\" style=\"fill: none; stroke: #000000; stroke-width: 0.8; stroke-linejoin: miter; stroke-linecap: square\"/>\n   </g>\n   <g id=\"patch_37\">\n    <path d=\"M 557.316319 7.2 \nL 633.469375 7.2 \n\" style=\"fill: none; stroke: #000000; stroke-width: 0.8; stroke-linejoin: miter; stroke-linecap: square\"/>\n   </g>\n  </g>\n </g>\n <defs>\n  <clipPath id=\"p48ab2817a1\">\n   <rect x=\"124.409375\" y=\"7.2\" width=\"76.153056\" height=\"307.24\"/>\n  </clipPath>\n  <clipPath id=\"pb2711ca031\">\n   <rect x=\"340.862847\" y=\"7.2\" width=\"76.153056\" height=\"307.24\"/>\n  </clipPath>\n  <clipPath id=\"p7b74e064ec\">\n   <rect x=\"557.316319\" y=\"7.2\" width=\"76.153056\" height=\"307.24\"/>\n  </clipPath>\n </defs>\n</svg>\n"
          },
          "metadata": {}
        }
      ]
    },
    {
      "cell_type": "code",
      "source": [
        "sorted(model.coef_)"
      ],
      "metadata": {
        "colab": {
          "base_uri": "https://localhost:8080/"
        },
        "id": "uVPs60TJL0Pi",
        "outputId": "92fe2184-8d90-4919-c516-0e838d364bec"
      },
      "execution_count": null,
      "outputs": [
        {
          "output_type": "execute_result",
          "data": {
            "text/plain": [
              "[-0.04328433637882113,\n",
              " -0.0047809800658983196,\n",
              " 2.363375760090075e-05,\n",
              " 0.0145875463668149,\n",
              " 0.17320088248323454,\n",
              " 0.5401384034163238,\n",
              " 4.173899317324649]"
            ]
          },
          "metadata": {},
          "execution_count": 25
        }
      ]
    },
    {
      "cell_type": "code",
      "source": [
        "X_train.describe()"
      ],
      "metadata": {
        "colab": {
          "base_uri": "https://localhost:8080/",
          "height": 300
        },
        "id": "W3ate0xDLTKO",
        "outputId": "00eab164-ea28-41b6-c34d-685130ab0b97"
      },
      "execution_count": null,
      "outputs": [
        {
          "output_type": "execute_result",
          "data": {
            "text/plain": [
              "        medinc  houseage  averooms  avebedrms  population  aveoccup  \\\n",
              "count 13698.00  13698.00  13698.00   13698.00    13698.00  13698.00   \n",
              "mean      3.66     28.33      5.36       1.10     1433.27      3.07   \n",
              "std       1.56     12.49      2.41       0.49     1139.85      7.05   \n",
              "min       0.50      1.00      0.89       0.33        3.00      0.69   \n",
              "25%       2.52     18.00      4.41       1.01      791.00      2.45   \n",
              "50%       3.43     28.00      5.19       1.05     1177.00      2.84   \n",
              "75%       4.58     37.00      5.96       1.10     1734.75      3.30   \n",
              "max      15.00     52.00    132.53      34.07    35682.00    599.71   \n",
              "\n",
              "       avebedrms_averooms  \n",
              "count            13698.00  \n",
              "mean                 0.22  \n",
              "std                  0.06  \n",
              "min                  0.10  \n",
              "25%                  0.18  \n",
              "50%                  0.20  \n",
              "75%                  0.24  \n",
              "max                  1.00  "
            ],
            "text/html": [
              "\n",
              "  <div id=\"df-6c34396e-4913-46e7-b73b-abd9cccd35df\" class=\"colab-df-container\">\n",
              "    <div>\n",
              "<style scoped>\n",
              "    .dataframe tbody tr th:only-of-type {\n",
              "        vertical-align: middle;\n",
              "    }\n",
              "\n",
              "    .dataframe tbody tr th {\n",
              "        vertical-align: top;\n",
              "    }\n",
              "\n",
              "    .dataframe thead th {\n",
              "        text-align: right;\n",
              "    }\n",
              "</style>\n",
              "<table border=\"1\" class=\"dataframe\">\n",
              "  <thead>\n",
              "    <tr style=\"text-align: right;\">\n",
              "      <th></th>\n",
              "      <th>medinc</th>\n",
              "      <th>houseage</th>\n",
              "      <th>averooms</th>\n",
              "      <th>avebedrms</th>\n",
              "      <th>population</th>\n",
              "      <th>aveoccup</th>\n",
              "      <th>avebedrms_averooms</th>\n",
              "    </tr>\n",
              "  </thead>\n",
              "  <tbody>\n",
              "    <tr>\n",
              "      <th>count</th>\n",
              "      <td>13698.00</td>\n",
              "      <td>13698.00</td>\n",
              "      <td>13698.00</td>\n",
              "      <td>13698.00</td>\n",
              "      <td>13698.00</td>\n",
              "      <td>13698.00</td>\n",
              "      <td>13698.00</td>\n",
              "    </tr>\n",
              "    <tr>\n",
              "      <th>mean</th>\n",
              "      <td>3.66</td>\n",
              "      <td>28.33</td>\n",
              "      <td>5.36</td>\n",
              "      <td>1.10</td>\n",
              "      <td>1433.27</td>\n",
              "      <td>3.07</td>\n",
              "      <td>0.22</td>\n",
              "    </tr>\n",
              "    <tr>\n",
              "      <th>std</th>\n",
              "      <td>1.56</td>\n",
              "      <td>12.49</td>\n",
              "      <td>2.41</td>\n",
              "      <td>0.49</td>\n",
              "      <td>1139.85</td>\n",
              "      <td>7.05</td>\n",
              "      <td>0.06</td>\n",
              "    </tr>\n",
              "    <tr>\n",
              "      <th>min</th>\n",
              "      <td>0.50</td>\n",
              "      <td>1.00</td>\n",
              "      <td>0.89</td>\n",
              "      <td>0.33</td>\n",
              "      <td>3.00</td>\n",
              "      <td>0.69</td>\n",
              "      <td>0.10</td>\n",
              "    </tr>\n",
              "    <tr>\n",
              "      <th>25%</th>\n",
              "      <td>2.52</td>\n",
              "      <td>18.00</td>\n",
              "      <td>4.41</td>\n",
              "      <td>1.01</td>\n",
              "      <td>791.00</td>\n",
              "      <td>2.45</td>\n",
              "      <td>0.18</td>\n",
              "    </tr>\n",
              "    <tr>\n",
              "      <th>50%</th>\n",
              "      <td>3.43</td>\n",
              "      <td>28.00</td>\n",
              "      <td>5.19</td>\n",
              "      <td>1.05</td>\n",
              "      <td>1177.00</td>\n",
              "      <td>2.84</td>\n",
              "      <td>0.20</td>\n",
              "    </tr>\n",
              "    <tr>\n",
              "      <th>75%</th>\n",
              "      <td>4.58</td>\n",
              "      <td>37.00</td>\n",
              "      <td>5.96</td>\n",
              "      <td>1.10</td>\n",
              "      <td>1734.75</td>\n",
              "      <td>3.30</td>\n",
              "      <td>0.24</td>\n",
              "    </tr>\n",
              "    <tr>\n",
              "      <th>max</th>\n",
              "      <td>15.00</td>\n",
              "      <td>52.00</td>\n",
              "      <td>132.53</td>\n",
              "      <td>34.07</td>\n",
              "      <td>35682.00</td>\n",
              "      <td>599.71</td>\n",
              "      <td>1.00</td>\n",
              "    </tr>\n",
              "  </tbody>\n",
              "</table>\n",
              "</div>\n",
              "    <div class=\"colab-df-buttons\">\n",
              "\n",
              "  <div class=\"colab-df-container\">\n",
              "    <button class=\"colab-df-convert\" onclick=\"convertToInteractive('df-6c34396e-4913-46e7-b73b-abd9cccd35df')\"\n",
              "            title=\"Convert this dataframe to an interactive table.\"\n",
              "            style=\"display:none;\">\n",
              "\n",
              "  <svg xmlns=\"http://www.w3.org/2000/svg\" height=\"24px\" viewBox=\"0 -960 960 960\">\n",
              "    <path d=\"M120-120v-720h720v720H120Zm60-500h600v-160H180v160Zm220 220h160v-160H400v160Zm0 220h160v-160H400v160ZM180-400h160v-160H180v160Zm440 0h160v-160H620v160ZM180-180h160v-160H180v160Zm440 0h160v-160H620v160Z\"/>\n",
              "  </svg>\n",
              "    </button>\n",
              "\n",
              "  <style>\n",
              "    .colab-df-container {\n",
              "      display:flex;\n",
              "      gap: 12px;\n",
              "    }\n",
              "\n",
              "    .colab-df-convert {\n",
              "      background-color: #E8F0FE;\n",
              "      border: none;\n",
              "      border-radius: 50%;\n",
              "      cursor: pointer;\n",
              "      display: none;\n",
              "      fill: #1967D2;\n",
              "      height: 32px;\n",
              "      padding: 0 0 0 0;\n",
              "      width: 32px;\n",
              "    }\n",
              "\n",
              "    .colab-df-convert:hover {\n",
              "      background-color: #E2EBFA;\n",
              "      box-shadow: 0px 1px 2px rgba(60, 64, 67, 0.3), 0px 1px 3px 1px rgba(60, 64, 67, 0.15);\n",
              "      fill: #174EA6;\n",
              "    }\n",
              "\n",
              "    .colab-df-buttons div {\n",
              "      margin-bottom: 4px;\n",
              "    }\n",
              "\n",
              "    [theme=dark] .colab-df-convert {\n",
              "      background-color: #3B4455;\n",
              "      fill: #D2E3FC;\n",
              "    }\n",
              "\n",
              "    [theme=dark] .colab-df-convert:hover {\n",
              "      background-color: #434B5C;\n",
              "      box-shadow: 0px 1px 3px 1px rgba(0, 0, 0, 0.15);\n",
              "      filter: drop-shadow(0px 1px 2px rgba(0, 0, 0, 0.3));\n",
              "      fill: #FFFFFF;\n",
              "    }\n",
              "  </style>\n",
              "\n",
              "    <script>\n",
              "      const buttonEl =\n",
              "        document.querySelector('#df-6c34396e-4913-46e7-b73b-abd9cccd35df button.colab-df-convert');\n",
              "      buttonEl.style.display =\n",
              "        google.colab.kernel.accessAllowed ? 'block' : 'none';\n",
              "\n",
              "      async function convertToInteractive(key) {\n",
              "        const element = document.querySelector('#df-6c34396e-4913-46e7-b73b-abd9cccd35df');\n",
              "        const dataTable =\n",
              "          await google.colab.kernel.invokeFunction('convertToInteractive',\n",
              "                                                    [key], {});\n",
              "        if (!dataTable) return;\n",
              "\n",
              "        const docLinkHtml = 'Like what you see? Visit the ' +\n",
              "          '<a target=\"_blank\" href=https://colab.research.google.com/notebooks/data_table.ipynb>data table notebook</a>'\n",
              "          + ' to learn more about interactive tables.';\n",
              "        element.innerHTML = '';\n",
              "        dataTable['output_type'] = 'display_data';\n",
              "        await google.colab.output.renderOutput(dataTable, element);\n",
              "        const docLink = document.createElement('div');\n",
              "        docLink.innerHTML = docLinkHtml;\n",
              "        element.appendChild(docLink);\n",
              "      }\n",
              "    </script>\n",
              "  </div>\n",
              "\n",
              "\n",
              "<div id=\"df-198b3c38-7214-4ed7-9be0-30ac410ceddd\">\n",
              "  <button class=\"colab-df-quickchart\" onclick=\"quickchart('df-198b3c38-7214-4ed7-9be0-30ac410ceddd')\"\n",
              "            title=\"Suggest charts\"\n",
              "            style=\"display:none;\">\n",
              "\n",
              "<svg xmlns=\"http://www.w3.org/2000/svg\" height=\"24px\"viewBox=\"0 0 24 24\"\n",
              "     width=\"24px\">\n",
              "    <g>\n",
              "        <path d=\"M19 3H5c-1.1 0-2 .9-2 2v14c0 1.1.9 2 2 2h14c1.1 0 2-.9 2-2V5c0-1.1-.9-2-2-2zM9 17H7v-7h2v7zm4 0h-2V7h2v10zm4 0h-2v-4h2v4z\"/>\n",
              "    </g>\n",
              "</svg>\n",
              "  </button>\n",
              "\n",
              "<style>\n",
              "  .colab-df-quickchart {\n",
              "      --bg-color: #E8F0FE;\n",
              "      --fill-color: #1967D2;\n",
              "      --hover-bg-color: #E2EBFA;\n",
              "      --hover-fill-color: #174EA6;\n",
              "      --disabled-fill-color: #AAA;\n",
              "      --disabled-bg-color: #DDD;\n",
              "  }\n",
              "\n",
              "  [theme=dark] .colab-df-quickchart {\n",
              "      --bg-color: #3B4455;\n",
              "      --fill-color: #D2E3FC;\n",
              "      --hover-bg-color: #434B5C;\n",
              "      --hover-fill-color: #FFFFFF;\n",
              "      --disabled-bg-color: #3B4455;\n",
              "      --disabled-fill-color: #666;\n",
              "  }\n",
              "\n",
              "  .colab-df-quickchart {\n",
              "    background-color: var(--bg-color);\n",
              "    border: none;\n",
              "    border-radius: 50%;\n",
              "    cursor: pointer;\n",
              "    display: none;\n",
              "    fill: var(--fill-color);\n",
              "    height: 32px;\n",
              "    padding: 0;\n",
              "    width: 32px;\n",
              "  }\n",
              "\n",
              "  .colab-df-quickchart:hover {\n",
              "    background-color: var(--hover-bg-color);\n",
              "    box-shadow: 0 1px 2px rgba(60, 64, 67, 0.3), 0 1px 3px 1px rgba(60, 64, 67, 0.15);\n",
              "    fill: var(--button-hover-fill-color);\n",
              "  }\n",
              "\n",
              "  .colab-df-quickchart-complete:disabled,\n",
              "  .colab-df-quickchart-complete:disabled:hover {\n",
              "    background-color: var(--disabled-bg-color);\n",
              "    fill: var(--disabled-fill-color);\n",
              "    box-shadow: none;\n",
              "  }\n",
              "\n",
              "  .colab-df-spinner {\n",
              "    border: 2px solid var(--fill-color);\n",
              "    border-color: transparent;\n",
              "    border-bottom-color: var(--fill-color);\n",
              "    animation:\n",
              "      spin 1s steps(1) infinite;\n",
              "  }\n",
              "\n",
              "  @keyframes spin {\n",
              "    0% {\n",
              "      border-color: transparent;\n",
              "      border-bottom-color: var(--fill-color);\n",
              "      border-left-color: var(--fill-color);\n",
              "    }\n",
              "    20% {\n",
              "      border-color: transparent;\n",
              "      border-left-color: var(--fill-color);\n",
              "      border-top-color: var(--fill-color);\n",
              "    }\n",
              "    30% {\n",
              "      border-color: transparent;\n",
              "      border-left-color: var(--fill-color);\n",
              "      border-top-color: var(--fill-color);\n",
              "      border-right-color: var(--fill-color);\n",
              "    }\n",
              "    40% {\n",
              "      border-color: transparent;\n",
              "      border-right-color: var(--fill-color);\n",
              "      border-top-color: var(--fill-color);\n",
              "    }\n",
              "    60% {\n",
              "      border-color: transparent;\n",
              "      border-right-color: var(--fill-color);\n",
              "    }\n",
              "    80% {\n",
              "      border-color: transparent;\n",
              "      border-right-color: var(--fill-color);\n",
              "      border-bottom-color: var(--fill-color);\n",
              "    }\n",
              "    90% {\n",
              "      border-color: transparent;\n",
              "      border-bottom-color: var(--fill-color);\n",
              "    }\n",
              "  }\n",
              "</style>\n",
              "\n",
              "  <script>\n",
              "    async function quickchart(key) {\n",
              "      const quickchartButtonEl =\n",
              "        document.querySelector('#' + key + ' button');\n",
              "      quickchartButtonEl.disabled = true;  // To prevent multiple clicks.\n",
              "      quickchartButtonEl.classList.add('colab-df-spinner');\n",
              "      try {\n",
              "        const charts = await google.colab.kernel.invokeFunction(\n",
              "            'suggestCharts', [key], {});\n",
              "      } catch (error) {\n",
              "        console.error('Error during call to suggestCharts:', error);\n",
              "      }\n",
              "      quickchartButtonEl.classList.remove('colab-df-spinner');\n",
              "      quickchartButtonEl.classList.add('colab-df-quickchart-complete');\n",
              "    }\n",
              "    (() => {\n",
              "      let quickchartButtonEl =\n",
              "        document.querySelector('#df-198b3c38-7214-4ed7-9be0-30ac410ceddd button');\n",
              "      quickchartButtonEl.style.display =\n",
              "        google.colab.kernel.accessAllowed ? 'block' : 'none';\n",
              "    })();\n",
              "  </script>\n",
              "</div>\n",
              "    </div>\n",
              "  </div>\n"
            ],
            "application/vnd.google.colaboratory.intrinsic+json": {
              "type": "dataframe",
              "summary": "{\n  \"name\": \"X_train\",\n  \"rows\": 8,\n  \"fields\": [\n    {\n      \"column\": \"medinc\",\n      \"properties\": {\n        \"dtype\": \"number\",\n        \"std\": 4841.398173409095,\n        \"min\": 0.4999,\n        \"max\": 13698.0,\n        \"num_unique_values\": 8,\n        \"samples\": [\n          3.66232341217696,\n          3.4265999999999996,\n          13698.0\n        ],\n        \"semantic_type\": \"\",\n        \"description\": \"\"\n      }\n    },\n    {\n      \"column\": \"houseage\",\n      \"properties\": {\n        \"dtype\": \"number\",\n        \"std\": 4834.068410511849,\n        \"min\": 1.0,\n        \"max\": 13698.0,\n        \"num_unique_values\": 8,\n        \"samples\": [\n          28.33311432325887,\n          28.0,\n          13698.0\n        ],\n        \"semantic_type\": \"\",\n        \"description\": \"\"\n      }\n    },\n    {\n      \"column\": \"averooms\",\n      \"properties\": {\n        \"dtype\": \"number\",\n        \"std\": 4835.266215438867,\n        \"min\": 0.8888888888888888,\n        \"max\": 13698.0,\n        \"num_unique_values\": 8,\n        \"samples\": [\n          5.361810481256569,\n          5.188518144028761,\n          13698.0\n        ],\n        \"semantic_type\": \"\",\n        \"description\": \"\"\n      }\n    },\n    {\n      \"column\": \"avebedrms\",\n      \"properties\": {\n        \"dtype\": \"number\",\n        \"std\": 4841.011409167495,\n        \"min\": 0.3333333333333333,\n        \"max\": 13698.0,\n        \"num_unique_values\": 8,\n        \"samples\": [\n          1.0980229186003778,\n          1.048417538001933,\n          13698.0\n        ],\n        \"semantic_type\": \"\",\n        \"description\": \"\"\n      }\n    },\n    {\n      \"column\": \"population\",\n      \"properties\": {\n        \"dtype\": \"number\",\n        \"std\": 12432.535168770606,\n        \"min\": 3.0,\n        \"max\": 35682.0,\n        \"num_unique_values\": 8,\n        \"samples\": [\n          1433.273616586363,\n          1177.0,\n          13698.0\n        ],\n        \"semantic_type\": \"\",\n        \"description\": \"\"\n      }\n    },\n    {\n      \"column\": \"aveoccup\",\n      \"properties\": {\n        \"dtype\": \"number\",\n        \"std\": 4816.229887455622,\n        \"min\": 0.6923076923076923,\n        \"max\": 13698.0,\n        \"num_unique_values\": 8,\n        \"samples\": [\n          3.0650784414297667,\n          2.836587617563903,\n          13698.0\n        ],\n        \"semantic_type\": \"\",\n        \"description\": \"\"\n      }\n    },\n    {\n      \"column\": \"avebedrms_averooms\",\n      \"properties\": {\n        \"dtype\": \"number\",\n        \"std\": 4842.873538766325,\n        \"min\": 0.05756537046852743,\n        \"max\": 13698.0,\n        \"num_unique_values\": 8,\n        \"samples\": [\n          0.2153148212120793,\n          0.20451873926450198,\n          13698.0\n        ],\n        \"semantic_type\": \"\",\n        \"description\": \"\"\n      }\n    }\n  ]\n}"
            }
          },
          "metadata": {},
          "execution_count": 26
        }
      ]
    },
    {
      "cell_type": "markdown",
      "source": [
        "Будем масштабировать наши признаки перед обучением модели.\n",
        "\n",
        "Для этого воспользуемся трансформером [`StandardScaler`](https://scikit-learn.org/stable/modules/generated/sklearn.preprocessing.StandardScaler.html). Трансформеры в `sklearn` имеют методы `fit` и `transform` (а еще `fit_transform`). Метод `fit` принимает на вход обучающую выборку и считает по ней необходимые значения (например статистики, как `StandardScaler`: среднее и стандартное отклонение каждого из признаков). `transform` применяет преобразование к переданной выборке."
      ],
      "metadata": {
        "id": "xw4fCxNEcS99"
      }
    },
    {
      "cell_type": "markdown",
      "source": [
        "$ \\frac {x-срзнач} {сроткл} $"
      ],
      "metadata": {
        "id": "4HoR68zGMLX3"
      }
    },
    {
      "cell_type": "markdown",
      "source": [
        "$ \\frac {x-min} {max-min}$"
      ],
      "metadata": {
        "id": "yph-oVPpMoIR"
      }
    },
    {
      "cell_type": "code",
      "source": [
        "scaler = StandardScaler()\n",
        "X_train_scaled = scaler.fit_transform(X_train)\n",
        "\n",
        "\n",
        "X_test_scaled = scaler.transform(X_test)\n",
        "\n",
        "model = LinearRegression()\n",
        "model.fit(X_train_scaled, y_train)\n",
        "y_pred = model.predict(X_test_scaled)\n",
        "y_train_pred = model.predict(X_train_scaled)\n",
        "\n",
        "print(\"Test RMSE = %.4f\" % mean_squared_error(y_test, y_pred, squared=False))\n",
        "print(\"Train RMSE = %.4f\" % mean_squared_error(y_train, y_train_pred, squared=False))"
      ],
      "metadata": {
        "colab": {
          "base_uri": "https://localhost:8080/"
        },
        "id": "ayElDX8obk5b",
        "outputId": "6f2a3ce0-2ec6-4f43-f798-9dcc42bee488"
      },
      "execution_count": null,
      "outputs": [
        {
          "output_type": "stream",
          "name": "stdout",
          "text": [
            "Test RMSE = 0.6632\n",
            "Train RMSE = 0.6701\n"
          ]
        }
      ]
    },
    {
      "cell_type": "code",
      "source": [
        "means = pd.Series(data=X_train_scaled.mean(axis=0), index=X_train.columns)\n",
        "scales = pd.Series(data=X_train_scaled.std(axis=0), index=X_train.columns)\n",
        "show_weights(X_train.columns, model.coef_, means, scales)"
      ],
      "metadata": {
        "colab": {
          "base_uri": "https://localhost:8080/",
          "height": 490
        },
        "id": "gTYVWB1bbk88",
        "outputId": "7eea100a-8080-4c62-e218-25683136de32"
      },
      "execution_count": null,
      "outputs": [
        {
          "output_type": "display_data",
          "data": {
            "text/plain": [
              "<Figure size 900x500 with 3 Axes>"
            ],
            "image/svg+xml": "<?xml version=\"1.0\" encoding=\"utf-8\" standalone=\"no\"?>\n<!DOCTYPE svg PUBLIC \"-//W3C//DTD SVG 1.1//EN\"\n  \"http://www.w3.org/Graphics/SVG/1.1/DTD/svg11.dtd\">\n<svg xmlns:xlink=\"http://www.w3.org/1999/xlink\" width=\"639.782988pt\" height=\"351.99625pt\" viewBox=\"0 0 639.782988 351.99625\" xmlns=\"http://www.w3.org/2000/svg\" version=\"1.1\">\n <metadata>\n  <rdf:RDF xmlns:dc=\"http://purl.org/dc/elements/1.1/\" xmlns:cc=\"http://creativecommons.org/ns#\" xmlns:rdf=\"http://www.w3.org/1999/02/22-rdf-syntax-ns#\">\n   <cc:Work>\n    <dc:type rdf:resource=\"http://purl.org/dc/dcmitype/StillImage\"/>\n    <dc:date>2024-04-23T15:45:30.418270</dc:date>\n    <dc:format>image/svg+xml</dc:format>\n    <dc:creator>\n     <cc:Agent>\n      <dc:title>Matplotlib v3.7.1, https://matplotlib.org/</dc:title>\n     </cc:Agent>\n    </dc:creator>\n   </cc:Work>\n  </rdf:RDF>\n </metadata>\n <defs>\n  <style type=\"text/css\">*{stroke-linejoin: round; stroke-linecap: butt}</style>\n </defs>\n <g id=\"figure_1\">\n  <g id=\"patch_1\">\n   <path d=\"M 0 351.99625 \nL 639.782988 351.99625 \nL 639.782988 0 \nL 0 0 \nz\n\" style=\"fill: #ffffff\"/>\n  </g>\n  <g id=\"axes_1\">\n   <g id=\"patch_2\">\n    <path d=\"M 124.409375 314.44 \nL 208.373913 314.44 \nL 208.373913 7.2 \nL 124.409375 7.2 \nz\n\" style=\"fill: #ffffff\"/>\n   </g>\n   <g id=\"patch_3\">\n    <path d=\"M 136.625039 11.589143 \nL 204.557343 11.589143 \nL 204.557343 46.702286 \nL 136.625039 46.702286 \nz\n\" clip-path=\"url(#p58a7318b6f)\" style=\"fill: #3274a1\"/>\n   </g>\n   <g id=\"patch_4\">\n    <path d=\"M 136.625039 55.480571 \nL 155.984657 55.480571 \nL 155.984657 90.593714 \nL 136.625039 90.593714 \nz\n\" clip-path=\"url(#p58a7318b6f)\" style=\"fill: #3274a1\"/>\n   </g>\n   <g id=\"patch_5\">\n    <path d=\"M 136.625039 99.372 \nL 151.299792 99.372 \nL 151.299792 134.485143 \nL 136.625039 134.485143 \nz\n\" clip-path=\"url(#p58a7318b6f)\" style=\"fill: #3274a1\"/>\n   </g>\n   <g id=\"patch_6\">\n    <path d=\"M 136.625039 143.263429 \nL 143.450154 143.263429 \nL 143.450154 178.376571 \nL 136.625039 178.376571 \nz\n\" clip-path=\"url(#p58a7318b6f)\" style=\"fill: #3274a1\"/>\n   </g>\n   <g id=\"patch_7\">\n    <path d=\"M 136.625039 187.154857 \nL 138.7956 187.154857 \nL 138.7956 222.268 \nL 136.625039 222.268 \nz\n\" clip-path=\"url(#p58a7318b6f)\" style=\"fill: #3274a1\"/>\n   </g>\n   <g id=\"patch_8\">\n    <path d=\"M 136.625039 231.046286 \nL 133.91076 231.046286 \nL 133.91076 266.159429 \nL 136.625039 266.159429 \nz\n\" clip-path=\"url(#p58a7318b6f)\" style=\"fill: #3274a1\"/>\n   </g>\n   <g id=\"patch_9\">\n    <path d=\"M 136.625039 274.937714 \nL 128.225945 274.937714 \nL 128.225945 310.050857 \nL 136.625039 310.050857 \nz\n\" clip-path=\"url(#p58a7318b6f)\" style=\"fill: #3274a1\"/>\n   </g>\n   <g id=\"matplotlib.axis_1\">\n    <g id=\"xtick_1\">\n     <g id=\"line2d_1\">\n      <defs>\n       <path id=\"m0e776a7195\" d=\"M 0 0 \nL 0 3.5 \n\" style=\"stroke: #000000; stroke-width: 0.8\"/>\n      </defs>\n      <g>\n       <use xlink:href=\"#m0e776a7195\" x=\"136.625039\" y=\"314.44\" style=\"stroke: #000000; stroke-width: 0.8\"/>\n      </g>\n     </g>\n     <g id=\"text_1\">\n      <!-- 0.0 -->\n      <g transform=\"translate(128.673476 329.038437) scale(0.1 -0.1)\">\n       <defs>\n        <path id=\"DejaVuSans-30\" d=\"M 2034 4250 \nQ 1547 4250 1301 3770 \nQ 1056 3291 1056 2328 \nQ 1056 1369 1301 889 \nQ 1547 409 2034 409 \nQ 2525 409 2770 889 \nQ 3016 1369 3016 2328 \nQ 3016 3291 2770 3770 \nQ 2525 4250 2034 4250 \nz\nM 2034 4750 \nQ 2819 4750 3233 4129 \nQ 3647 3509 3647 2328 \nQ 3647 1150 3233 529 \nQ 2819 -91 2034 -91 \nQ 1250 -91 836 529 \nQ 422 1150 422 2328 \nQ 422 3509 836 4129 \nQ 1250 4750 2034 4750 \nz\n\" transform=\"scale(0.015625)\"/>\n        <path id=\"DejaVuSans-2e\" d=\"M 684 794 \nL 1344 794 \nL 1344 0 \nL 684 0 \nL 684 794 \nz\n\" transform=\"scale(0.015625)\"/>\n       </defs>\n       <use xlink:href=\"#DejaVuSans-30\"/>\n       <use xlink:href=\"#DejaVuSans-2e\" x=\"63.623047\"/>\n       <use xlink:href=\"#DejaVuSans-30\" x=\"95.410156\"/>\n      </g>\n     </g>\n    </g>\n    <g id=\"xtick_2\">\n     <g id=\"line2d_2\">\n      <g>\n       <use xlink:href=\"#m0e776a7195\" x=\"176.913378\" y=\"314.44\" style=\"stroke: #000000; stroke-width: 0.8\"/>\n      </g>\n     </g>\n     <g id=\"text_2\">\n      <!-- 0.5 -->\n      <g transform=\"translate(168.961816 329.038437) scale(0.1 -0.1)\">\n       <defs>\n        <path id=\"DejaVuSans-35\" d=\"M 691 4666 \nL 3169 4666 \nL 3169 4134 \nL 1269 4134 \nL 1269 2991 \nQ 1406 3038 1543 3061 \nQ 1681 3084 1819 3084 \nQ 2600 3084 3056 2656 \nQ 3513 2228 3513 1497 \nQ 3513 744 3044 326 \nQ 2575 -91 1722 -91 \nQ 1428 -91 1123 -41 \nQ 819 9 494 109 \nL 494 744 \nQ 775 591 1075 516 \nQ 1375 441 1709 441 \nQ 2250 441 2565 725 \nQ 2881 1009 2881 1497 \nQ 2881 1984 2565 2268 \nQ 2250 2553 1709 2553 \nQ 1456 2553 1204 2497 \nQ 953 2441 691 2322 \nL 691 4666 \nz\n\" transform=\"scale(0.015625)\"/>\n       </defs>\n       <use xlink:href=\"#DejaVuSans-30\"/>\n       <use xlink:href=\"#DejaVuSans-2e\" x=\"63.623047\"/>\n       <use xlink:href=\"#DejaVuSans-35\" x=\"95.410156\"/>\n      </g>\n     </g>\n    </g>\n    <g id=\"text_3\">\n     <!-- Weight -->\n     <g transform=\"translate(148.972894 342.716562) scale(0.1 -0.1)\">\n      <defs>\n       <path id=\"DejaVuSans-57\" d=\"M 213 4666 \nL 850 4666 \nL 1831 722 \nL 2809 4666 \nL 3519 4666 \nL 4500 722 \nL 5478 4666 \nL 6119 4666 \nL 4947 0 \nL 4153 0 \nL 3169 4050 \nL 2175 0 \nL 1381 0 \nL 213 4666 \nz\n\" transform=\"scale(0.015625)\"/>\n       <path id=\"DejaVuSans-65\" d=\"M 3597 1894 \nL 3597 1613 \nL 953 1613 \nQ 991 1019 1311 708 \nQ 1631 397 2203 397 \nQ 2534 397 2845 478 \nQ 3156 559 3463 722 \nL 3463 178 \nQ 3153 47 2828 -22 \nQ 2503 -91 2169 -91 \nQ 1331 -91 842 396 \nQ 353 884 353 1716 \nQ 353 2575 817 3079 \nQ 1281 3584 2069 3584 \nQ 2775 3584 3186 3129 \nQ 3597 2675 3597 1894 \nz\nM 3022 2063 \nQ 3016 2534 2758 2815 \nQ 2500 3097 2075 3097 \nQ 1594 3097 1305 2825 \nQ 1016 2553 972 2059 \nL 3022 2063 \nz\n\" transform=\"scale(0.015625)\"/>\n       <path id=\"DejaVuSans-69\" d=\"M 603 3500 \nL 1178 3500 \nL 1178 0 \nL 603 0 \nL 603 3500 \nz\nM 603 4863 \nL 1178 4863 \nL 1178 4134 \nL 603 4134 \nL 603 4863 \nz\n\" transform=\"scale(0.015625)\"/>\n       <path id=\"DejaVuSans-67\" d=\"M 2906 1791 \nQ 2906 2416 2648 2759 \nQ 2391 3103 1925 3103 \nQ 1463 3103 1205 2759 \nQ 947 2416 947 1791 \nQ 947 1169 1205 825 \nQ 1463 481 1925 481 \nQ 2391 481 2648 825 \nQ 2906 1169 2906 1791 \nz\nM 3481 434 \nQ 3481 -459 3084 -895 \nQ 2688 -1331 1869 -1331 \nQ 1566 -1331 1297 -1286 \nQ 1028 -1241 775 -1147 \nL 775 -588 \nQ 1028 -725 1275 -790 \nQ 1522 -856 1778 -856 \nQ 2344 -856 2625 -561 \nQ 2906 -266 2906 331 \nL 2906 616 \nQ 2728 306 2450 153 \nQ 2172 0 1784 0 \nQ 1141 0 747 490 \nQ 353 981 353 1791 \nQ 353 2603 747 3093 \nQ 1141 3584 1784 3584 \nQ 2172 3584 2450 3431 \nQ 2728 3278 2906 2969 \nL 2906 3500 \nL 3481 3500 \nL 3481 434 \nz\n\" transform=\"scale(0.015625)\"/>\n       <path id=\"DejaVuSans-68\" d=\"M 3513 2113 \nL 3513 0 \nL 2938 0 \nL 2938 2094 \nQ 2938 2591 2744 2837 \nQ 2550 3084 2163 3084 \nQ 1697 3084 1428 2787 \nQ 1159 2491 1159 1978 \nL 1159 0 \nL 581 0 \nL 581 4863 \nL 1159 4863 \nL 1159 2956 \nQ 1366 3272 1645 3428 \nQ 1925 3584 2291 3584 \nQ 2894 3584 3203 3211 \nQ 3513 2838 3513 2113 \nz\n\" transform=\"scale(0.015625)\"/>\n       <path id=\"DejaVuSans-74\" d=\"M 1172 4494 \nL 1172 3500 \nL 2356 3500 \nL 2356 3053 \nL 1172 3053 \nL 1172 1153 \nQ 1172 725 1289 603 \nQ 1406 481 1766 481 \nL 2356 481 \nL 2356 0 \nL 1766 0 \nQ 1100 0 847 248 \nQ 594 497 594 1153 \nL 594 3053 \nL 172 3053 \nL 172 3500 \nL 594 3500 \nL 594 4494 \nL 1172 4494 \nz\n\" transform=\"scale(0.015625)\"/>\n      </defs>\n      <use xlink:href=\"#DejaVuSans-57\"/>\n      <use xlink:href=\"#DejaVuSans-65\" x=\"93.001953\"/>\n      <use xlink:href=\"#DejaVuSans-69\" x=\"154.525391\"/>\n      <use xlink:href=\"#DejaVuSans-67\" x=\"182.308594\"/>\n      <use xlink:href=\"#DejaVuSans-68\" x=\"245.785156\"/>\n      <use xlink:href=\"#DejaVuSans-74\" x=\"309.164062\"/>\n     </g>\n    </g>\n   </g>\n   <g id=\"matplotlib.axis_2\">\n    <g id=\"ytick_1\">\n     <g id=\"line2d_3\">\n      <defs>\n       <path id=\"m27d0ea0706\" d=\"M 0 0 \nL -3.5 0 \n\" style=\"stroke: #000000; stroke-width: 0.8\"/>\n      </defs>\n      <g>\n       <use xlink:href=\"#m27d0ea0706\" x=\"124.409375\" y=\"29.145714\" style=\"stroke: #000000; stroke-width: 0.8\"/>\n      </g>\n     </g>\n     <g id=\"text_4\">\n      <!-- medinc -->\n      <g transform=\"translate(80.553125 32.944933) scale(0.1 -0.1)\">\n       <defs>\n        <path id=\"DejaVuSans-6d\" d=\"M 3328 2828 \nQ 3544 3216 3844 3400 \nQ 4144 3584 4550 3584 \nQ 5097 3584 5394 3201 \nQ 5691 2819 5691 2113 \nL 5691 0 \nL 5113 0 \nL 5113 2094 \nQ 5113 2597 4934 2840 \nQ 4756 3084 4391 3084 \nQ 3944 3084 3684 2787 \nQ 3425 2491 3425 1978 \nL 3425 0 \nL 2847 0 \nL 2847 2094 \nQ 2847 2600 2669 2842 \nQ 2491 3084 2119 3084 \nQ 1678 3084 1418 2786 \nQ 1159 2488 1159 1978 \nL 1159 0 \nL 581 0 \nL 581 3500 \nL 1159 3500 \nL 1159 2956 \nQ 1356 3278 1631 3431 \nQ 1906 3584 2284 3584 \nQ 2666 3584 2933 3390 \nQ 3200 3197 3328 2828 \nz\n\" transform=\"scale(0.015625)\"/>\n        <path id=\"DejaVuSans-64\" d=\"M 2906 2969 \nL 2906 4863 \nL 3481 4863 \nL 3481 0 \nL 2906 0 \nL 2906 525 \nQ 2725 213 2448 61 \nQ 2172 -91 1784 -91 \nQ 1150 -91 751 415 \nQ 353 922 353 1747 \nQ 353 2572 751 3078 \nQ 1150 3584 1784 3584 \nQ 2172 3584 2448 3432 \nQ 2725 3281 2906 2969 \nz\nM 947 1747 \nQ 947 1113 1208 752 \nQ 1469 391 1925 391 \nQ 2381 391 2643 752 \nQ 2906 1113 2906 1747 \nQ 2906 2381 2643 2742 \nQ 2381 3103 1925 3103 \nQ 1469 3103 1208 2742 \nQ 947 2381 947 1747 \nz\n\" transform=\"scale(0.015625)\"/>\n        <path id=\"DejaVuSans-6e\" d=\"M 3513 2113 \nL 3513 0 \nL 2938 0 \nL 2938 2094 \nQ 2938 2591 2744 2837 \nQ 2550 3084 2163 3084 \nQ 1697 3084 1428 2787 \nQ 1159 2491 1159 1978 \nL 1159 0 \nL 581 0 \nL 581 3500 \nL 1159 3500 \nL 1159 2956 \nQ 1366 3272 1645 3428 \nQ 1925 3584 2291 3584 \nQ 2894 3584 3203 3211 \nQ 3513 2838 3513 2113 \nz\n\" transform=\"scale(0.015625)\"/>\n        <path id=\"DejaVuSans-63\" d=\"M 3122 3366 \nL 3122 2828 \nQ 2878 2963 2633 3030 \nQ 2388 3097 2138 3097 \nQ 1578 3097 1268 2742 \nQ 959 2388 959 1747 \nQ 959 1106 1268 751 \nQ 1578 397 2138 397 \nQ 2388 397 2633 464 \nQ 2878 531 3122 666 \nL 3122 134 \nQ 2881 22 2623 -34 \nQ 2366 -91 2075 -91 \nQ 1284 -91 818 406 \nQ 353 903 353 1747 \nQ 353 2603 823 3093 \nQ 1294 3584 2113 3584 \nQ 2378 3584 2631 3529 \nQ 2884 3475 3122 3366 \nz\n\" transform=\"scale(0.015625)\"/>\n       </defs>\n       <use xlink:href=\"#DejaVuSans-6d\"/>\n       <use xlink:href=\"#DejaVuSans-65\" x=\"97.412109\"/>\n       <use xlink:href=\"#DejaVuSans-64\" x=\"158.935547\"/>\n       <use xlink:href=\"#DejaVuSans-69\" x=\"222.412109\"/>\n       <use xlink:href=\"#DejaVuSans-6e\" x=\"250.195312\"/>\n       <use xlink:href=\"#DejaVuSans-63\" x=\"313.574219\"/>\n      </g>\n     </g>\n    </g>\n    <g id=\"ytick_2\">\n     <g id=\"line2d_4\">\n      <g>\n       <use xlink:href=\"#m27d0ea0706\" x=\"124.409375\" y=\"73.037143\" style=\"stroke: #000000; stroke-width: 0.8\"/>\n      </g>\n     </g>\n     <g id=\"text_5\">\n      <!-- avebedrms_averooms -->\n      <g transform=\"translate(7.2 76.836362) scale(0.1 -0.1)\">\n       <defs>\n        <path id=\"DejaVuSans-61\" d=\"M 2194 1759 \nQ 1497 1759 1228 1600 \nQ 959 1441 959 1056 \nQ 959 750 1161 570 \nQ 1363 391 1709 391 \nQ 2188 391 2477 730 \nQ 2766 1069 2766 1631 \nL 2766 1759 \nL 2194 1759 \nz\nM 3341 1997 \nL 3341 0 \nL 2766 0 \nL 2766 531 \nQ 2569 213 2275 61 \nQ 1981 -91 1556 -91 \nQ 1019 -91 701 211 \nQ 384 513 384 1019 \nQ 384 1609 779 1909 \nQ 1175 2209 1959 2209 \nL 2766 2209 \nL 2766 2266 \nQ 2766 2663 2505 2880 \nQ 2244 3097 1772 3097 \nQ 1472 3097 1187 3025 \nQ 903 2953 641 2809 \nL 641 3341 \nQ 956 3463 1253 3523 \nQ 1550 3584 1831 3584 \nQ 2591 3584 2966 3190 \nQ 3341 2797 3341 1997 \nz\n\" transform=\"scale(0.015625)\"/>\n        <path id=\"DejaVuSans-76\" d=\"M 191 3500 \nL 800 3500 \nL 1894 563 \nL 2988 3500 \nL 3597 3500 \nL 2284 0 \nL 1503 0 \nL 191 3500 \nz\n\" transform=\"scale(0.015625)\"/>\n        <path id=\"DejaVuSans-62\" d=\"M 3116 1747 \nQ 3116 2381 2855 2742 \nQ 2594 3103 2138 3103 \nQ 1681 3103 1420 2742 \nQ 1159 2381 1159 1747 \nQ 1159 1113 1420 752 \nQ 1681 391 2138 391 \nQ 2594 391 2855 752 \nQ 3116 1113 3116 1747 \nz\nM 1159 2969 \nQ 1341 3281 1617 3432 \nQ 1894 3584 2278 3584 \nQ 2916 3584 3314 3078 \nQ 3713 2572 3713 1747 \nQ 3713 922 3314 415 \nQ 2916 -91 2278 -91 \nQ 1894 -91 1617 61 \nQ 1341 213 1159 525 \nL 1159 0 \nL 581 0 \nL 581 4863 \nL 1159 4863 \nL 1159 2969 \nz\n\" transform=\"scale(0.015625)\"/>\n        <path id=\"DejaVuSans-72\" d=\"M 2631 2963 \nQ 2534 3019 2420 3045 \nQ 2306 3072 2169 3072 \nQ 1681 3072 1420 2755 \nQ 1159 2438 1159 1844 \nL 1159 0 \nL 581 0 \nL 581 3500 \nL 1159 3500 \nL 1159 2956 \nQ 1341 3275 1631 3429 \nQ 1922 3584 2338 3584 \nQ 2397 3584 2469 3576 \nQ 2541 3569 2628 3553 \nL 2631 2963 \nz\n\" transform=\"scale(0.015625)\"/>\n        <path id=\"DejaVuSans-73\" d=\"M 2834 3397 \nL 2834 2853 \nQ 2591 2978 2328 3040 \nQ 2066 3103 1784 3103 \nQ 1356 3103 1142 2972 \nQ 928 2841 928 2578 \nQ 928 2378 1081 2264 \nQ 1234 2150 1697 2047 \nL 1894 2003 \nQ 2506 1872 2764 1633 \nQ 3022 1394 3022 966 \nQ 3022 478 2636 193 \nQ 2250 -91 1575 -91 \nQ 1294 -91 989 -36 \nQ 684 19 347 128 \nL 347 722 \nQ 666 556 975 473 \nQ 1284 391 1588 391 \nQ 1994 391 2212 530 \nQ 2431 669 2431 922 \nQ 2431 1156 2273 1281 \nQ 2116 1406 1581 1522 \nL 1381 1569 \nQ 847 1681 609 1914 \nQ 372 2147 372 2553 \nQ 372 3047 722 3315 \nQ 1072 3584 1716 3584 \nQ 2034 3584 2315 3537 \nQ 2597 3491 2834 3397 \nz\n\" transform=\"scale(0.015625)\"/>\n        <path id=\"DejaVuSans-5f\" d=\"M 3263 -1063 \nL 3263 -1509 \nL -63 -1509 \nL -63 -1063 \nL 3263 -1063 \nz\n\" transform=\"scale(0.015625)\"/>\n        <path id=\"DejaVuSans-6f\" d=\"M 1959 3097 \nQ 1497 3097 1228 2736 \nQ 959 2375 959 1747 \nQ 959 1119 1226 758 \nQ 1494 397 1959 397 \nQ 2419 397 2687 759 \nQ 2956 1122 2956 1747 \nQ 2956 2369 2687 2733 \nQ 2419 3097 1959 3097 \nz\nM 1959 3584 \nQ 2709 3584 3137 3096 \nQ 3566 2609 3566 1747 \nQ 3566 888 3137 398 \nQ 2709 -91 1959 -91 \nQ 1206 -91 779 398 \nQ 353 888 353 1747 \nQ 353 2609 779 3096 \nQ 1206 3584 1959 3584 \nz\n\" transform=\"scale(0.015625)\"/>\n       </defs>\n       <use xlink:href=\"#DejaVuSans-61\"/>\n       <use xlink:href=\"#DejaVuSans-76\" x=\"61.279297\"/>\n       <use xlink:href=\"#DejaVuSans-65\" x=\"120.458984\"/>\n       <use xlink:href=\"#DejaVuSans-62\" x=\"181.982422\"/>\n       <use xlink:href=\"#DejaVuSans-65\" x=\"245.458984\"/>\n       <use xlink:href=\"#DejaVuSans-64\" x=\"306.982422\"/>\n       <use xlink:href=\"#DejaVuSans-72\" x=\"370.458984\"/>\n       <use xlink:href=\"#DejaVuSans-6d\" x=\"409.822266\"/>\n       <use xlink:href=\"#DejaVuSans-73\" x=\"507.234375\"/>\n       <use xlink:href=\"#DejaVuSans-5f\" x=\"559.333984\"/>\n       <use xlink:href=\"#DejaVuSans-61\" x=\"609.333984\"/>\n       <use xlink:href=\"#DejaVuSans-76\" x=\"670.613281\"/>\n       <use xlink:href=\"#DejaVuSans-65\" x=\"729.792969\"/>\n       <use xlink:href=\"#DejaVuSans-72\" x=\"791.316406\"/>\n       <use xlink:href=\"#DejaVuSans-6f\" x=\"830.179688\"/>\n       <use xlink:href=\"#DejaVuSans-6f\" x=\"891.361328\"/>\n       <use xlink:href=\"#DejaVuSans-6d\" x=\"952.542969\"/>\n       <use xlink:href=\"#DejaVuSans-73\" x=\"1049.955078\"/>\n      </g>\n     </g>\n    </g>\n    <g id=\"ytick_3\">\n     <g id=\"line2d_5\">\n      <g>\n       <use xlink:href=\"#m27d0ea0706\" x=\"124.409375\" y=\"116.928571\" style=\"stroke: #000000; stroke-width: 0.8\"/>\n      </g>\n     </g>\n     <g id=\"text_6\">\n      <!-- houseage -->\n      <g transform=\"translate(68.623438 120.72779) scale(0.1 -0.1)\">\n       <defs>\n        <path id=\"DejaVuSans-75\" d=\"M 544 1381 \nL 544 3500 \nL 1119 3500 \nL 1119 1403 \nQ 1119 906 1312 657 \nQ 1506 409 1894 409 \nQ 2359 409 2629 706 \nQ 2900 1003 2900 1516 \nL 2900 3500 \nL 3475 3500 \nL 3475 0 \nL 2900 0 \nL 2900 538 \nQ 2691 219 2414 64 \nQ 2138 -91 1772 -91 \nQ 1169 -91 856 284 \nQ 544 659 544 1381 \nz\nM 1991 3584 \nL 1991 3584 \nz\n\" transform=\"scale(0.015625)\"/>\n       </defs>\n       <use xlink:href=\"#DejaVuSans-68\"/>\n       <use xlink:href=\"#DejaVuSans-6f\" x=\"63.378906\"/>\n       <use xlink:href=\"#DejaVuSans-75\" x=\"124.560547\"/>\n       <use xlink:href=\"#DejaVuSans-73\" x=\"187.939453\"/>\n       <use xlink:href=\"#DejaVuSans-65\" x=\"240.039062\"/>\n       <use xlink:href=\"#DejaVuSans-61\" x=\"301.5625\"/>\n       <use xlink:href=\"#DejaVuSans-67\" x=\"362.841797\"/>\n       <use xlink:href=\"#DejaVuSans-65\" x=\"426.318359\"/>\n      </g>\n     </g>\n    </g>\n    <g id=\"ytick_4\">\n     <g id=\"line2d_6\">\n      <g>\n       <use xlink:href=\"#m27d0ea0706\" x=\"124.409375\" y=\"160.82\" style=\"stroke: #000000; stroke-width: 0.8\"/>\n      </g>\n     </g>\n     <g id=\"text_7\">\n      <!-- avebedrms -->\n      <g transform=\"translate(61.473438 164.619219) scale(0.1 -0.1)\">\n       <use xlink:href=\"#DejaVuSans-61\"/>\n       <use xlink:href=\"#DejaVuSans-76\" x=\"61.279297\"/>\n       <use xlink:href=\"#DejaVuSans-65\" x=\"120.458984\"/>\n       <use xlink:href=\"#DejaVuSans-62\" x=\"181.982422\"/>\n       <use xlink:href=\"#DejaVuSans-65\" x=\"245.458984\"/>\n       <use xlink:href=\"#DejaVuSans-64\" x=\"306.982422\"/>\n       <use xlink:href=\"#DejaVuSans-72\" x=\"370.458984\"/>\n       <use xlink:href=\"#DejaVuSans-6d\" x=\"409.822266\"/>\n       <use xlink:href=\"#DejaVuSans-73\" x=\"507.234375\"/>\n      </g>\n     </g>\n    </g>\n    <g id=\"ytick_5\">\n     <g id=\"line2d_7\">\n      <g>\n       <use xlink:href=\"#m27d0ea0706\" x=\"124.409375\" y=\"204.711429\" style=\"stroke: #000000; stroke-width: 0.8\"/>\n      </g>\n     </g>\n     <g id=\"text_8\">\n      <!-- population -->\n      <g transform=\"translate(64.195312 208.510647) scale(0.1 -0.1)\">\n       <defs>\n        <path id=\"DejaVuSans-70\" d=\"M 1159 525 \nL 1159 -1331 \nL 581 -1331 \nL 581 3500 \nL 1159 3500 \nL 1159 2969 \nQ 1341 3281 1617 3432 \nQ 1894 3584 2278 3584 \nQ 2916 3584 3314 3078 \nQ 3713 2572 3713 1747 \nQ 3713 922 3314 415 \nQ 2916 -91 2278 -91 \nQ 1894 -91 1617 61 \nQ 1341 213 1159 525 \nz\nM 3116 1747 \nQ 3116 2381 2855 2742 \nQ 2594 3103 2138 3103 \nQ 1681 3103 1420 2742 \nQ 1159 2381 1159 1747 \nQ 1159 1113 1420 752 \nQ 1681 391 2138 391 \nQ 2594 391 2855 752 \nQ 3116 1113 3116 1747 \nz\n\" transform=\"scale(0.015625)\"/>\n        <path id=\"DejaVuSans-6c\" d=\"M 603 4863 \nL 1178 4863 \nL 1178 0 \nL 603 0 \nL 603 4863 \nz\n\" transform=\"scale(0.015625)\"/>\n       </defs>\n       <use xlink:href=\"#DejaVuSans-70\"/>\n       <use xlink:href=\"#DejaVuSans-6f\" x=\"63.476562\"/>\n       <use xlink:href=\"#DejaVuSans-70\" x=\"124.658203\"/>\n       <use xlink:href=\"#DejaVuSans-75\" x=\"188.134766\"/>\n       <use xlink:href=\"#DejaVuSans-6c\" x=\"251.513672\"/>\n       <use xlink:href=\"#DejaVuSans-61\" x=\"279.296875\"/>\n       <use xlink:href=\"#DejaVuSans-74\" x=\"340.576172\"/>\n       <use xlink:href=\"#DejaVuSans-69\" x=\"379.785156\"/>\n       <use xlink:href=\"#DejaVuSans-6f\" x=\"407.568359\"/>\n       <use xlink:href=\"#DejaVuSans-6e\" x=\"468.75\"/>\n      </g>\n     </g>\n    </g>\n    <g id=\"ytick_6\">\n     <g id=\"line2d_8\">\n      <g>\n       <use xlink:href=\"#m27d0ea0706\" x=\"124.409375\" y=\"248.602857\" style=\"stroke: #000000; stroke-width: 0.8\"/>\n      </g>\n     </g>\n     <g id=\"text_9\">\n      <!-- aveoccup -->\n      <g transform=\"translate(69.407813 252.402076) scale(0.1 -0.1)\">\n       <use xlink:href=\"#DejaVuSans-61\"/>\n       <use xlink:href=\"#DejaVuSans-76\" x=\"61.279297\"/>\n       <use xlink:href=\"#DejaVuSans-65\" x=\"120.458984\"/>\n       <use xlink:href=\"#DejaVuSans-6f\" x=\"181.982422\"/>\n       <use xlink:href=\"#DejaVuSans-63\" x=\"243.164062\"/>\n       <use xlink:href=\"#DejaVuSans-63\" x=\"298.144531\"/>\n       <use xlink:href=\"#DejaVuSans-75\" x=\"353.125\"/>\n       <use xlink:href=\"#DejaVuSans-70\" x=\"416.503906\"/>\n      </g>\n     </g>\n    </g>\n    <g id=\"ytick_7\">\n     <g id=\"line2d_9\">\n      <g>\n       <use xlink:href=\"#m27d0ea0706\" x=\"124.409375\" y=\"292.494286\" style=\"stroke: #000000; stroke-width: 0.8\"/>\n      </g>\n     </g>\n     <g id=\"text_10\">\n      <!-- averooms -->\n      <g transform=\"translate(68.135938 296.293504) scale(0.1 -0.1)\">\n       <use xlink:href=\"#DejaVuSans-61\"/>\n       <use xlink:href=\"#DejaVuSans-76\" x=\"61.279297\"/>\n       <use xlink:href=\"#DejaVuSans-65\" x=\"120.458984\"/>\n       <use xlink:href=\"#DejaVuSans-72\" x=\"181.982422\"/>\n       <use xlink:href=\"#DejaVuSans-6f\" x=\"220.845703\"/>\n       <use xlink:href=\"#DejaVuSans-6f\" x=\"282.027344\"/>\n       <use xlink:href=\"#DejaVuSans-6d\" x=\"343.208984\"/>\n       <use xlink:href=\"#DejaVuSans-73\" x=\"440.621094\"/>\n      </g>\n     </g>\n    </g>\n   </g>\n   <g id=\"line2d_10\">\n    <path clip-path=\"url(#p58a7318b6f)\" style=\"fill: none; stroke: #424242; stroke-width: 2.25; stroke-linecap: square\"/>\n   </g>\n   <g id=\"line2d_11\">\n    <path clip-path=\"url(#p58a7318b6f)\" style=\"fill: none; stroke: #424242; stroke-width: 2.25; stroke-linecap: square\"/>\n   </g>\n   <g id=\"line2d_12\">\n    <path clip-path=\"url(#p58a7318b6f)\" style=\"fill: none; stroke: #424242; stroke-width: 2.25; stroke-linecap: square\"/>\n   </g>\n   <g id=\"line2d_13\">\n    <path clip-path=\"url(#p58a7318b6f)\" style=\"fill: none; stroke: #424242; stroke-width: 2.25; stroke-linecap: square\"/>\n   </g>\n   <g id=\"line2d_14\">\n    <path clip-path=\"url(#p58a7318b6f)\" style=\"fill: none; stroke: #424242; stroke-width: 2.25; stroke-linecap: square\"/>\n   </g>\n   <g id=\"line2d_15\">\n    <path clip-path=\"url(#p58a7318b6f)\" style=\"fill: none; stroke: #424242; stroke-width: 2.25; stroke-linecap: square\"/>\n   </g>\n   <g id=\"line2d_16\">\n    <path clip-path=\"url(#p58a7318b6f)\" style=\"fill: none; stroke: #424242; stroke-width: 2.25; stroke-linecap: square\"/>\n   </g>\n   <g id=\"patch_10\">\n    <path d=\"M 124.409375 314.44 \nL 124.409375 7.2 \n\" style=\"fill: none; stroke: #000000; stroke-width: 0.8; stroke-linejoin: miter; stroke-linecap: square\"/>\n   </g>\n   <g id=\"patch_11\">\n    <path d=\"M 208.373913 314.44 \nL 208.373913 7.2 \n\" style=\"fill: none; stroke: #000000; stroke-width: 0.8; stroke-linejoin: miter; stroke-linecap: square\"/>\n   </g>\n   <g id=\"patch_12\">\n    <path d=\"M 124.409375 314.44 \nL 208.373913 314.44 \n\" style=\"fill: none; stroke: #000000; stroke-width: 0.8; stroke-linejoin: miter; stroke-linecap: square\"/>\n   </g>\n   <g id=\"patch_13\">\n    <path d=\"M 124.409375 7.2 \nL 208.373913 7.2 \n\" style=\"fill: none; stroke: #000000; stroke-width: 0.8; stroke-linejoin: miter; stroke-linecap: square\"/>\n   </g>\n  </g>\n  <g id=\"axes_2\">\n   <g id=\"patch_14\">\n    <path d=\"M 336.513913 314.44 \nL 420.478451 314.44 \nL 420.478451 7.2 \nL 336.513913 7.2 \nz\n\" style=\"fill: #ffffff\"/>\n   </g>\n   <g id=\"patch_15\">\n    <path d=\"M 346.360822 11.589143 \nL 370.521852 11.589143 \nL 370.521852 46.702286 \nL 346.360822 46.702286 \nz\n\" clip-path=\"url(#p45adc66cc1)\" style=\"fill: #3274a1\"/>\n   </g>\n   <g id=\"patch_16\">\n    <path d=\"M 346.360822 55.480571 \nL 384.923254 55.480571 \nL 384.923254 90.593714 \nL 346.360822 90.593714 \nz\n\" clip-path=\"url(#p45adc66cc1)\" style=\"fill: #3274a1\"/>\n   </g>\n   <g id=\"patch_17\">\n    <path d=\"M 346.360822 99.372 \nL 360.563857 99.372 \nL 360.563857 134.485143 \nL 346.360822 134.485143 \nz\n\" clip-path=\"url(#p45adc66cc1)\" style=\"fill: #3274a1\"/>\n   </g>\n   <g id=\"patch_18\">\n    <path d=\"M 346.360822 143.263429 \nL 416.661881 143.263429 \nL 416.661881 178.376571 \nL 346.360822 178.376571 \nz\n\" clip-path=\"url(#p45adc66cc1)\" style=\"fill: #3274a1\"/>\n   </g>\n   <g id=\"patch_19\">\n    <path d=\"M 346.360822 187.154857 \nL 342.71088 187.154857 \nL 342.71088 222.268 \nL 346.360822 222.268 \nz\n\" clip-path=\"url(#p45adc66cc1)\" style=\"fill: #3274a1\"/>\n   </g>\n   <g id=\"patch_20\">\n    <path d=\"M 346.360822 231.046286 \nL 352.86724 231.046286 \nL 352.86724 266.159429 \nL 346.360822 266.159429 \nz\n\" clip-path=\"url(#p45adc66cc1)\" style=\"fill: #3274a1\"/>\n   </g>\n   <g id=\"patch_21\">\n    <path d=\"M 346.360822 274.937714 \nL 340.330483 274.937714 \nL 340.330483 310.050857 \nL 346.360822 310.050857 \nz\n\" clip-path=\"url(#p45adc66cc1)\" style=\"fill: #3274a1\"/>\n   </g>\n   <g id=\"matplotlib.axis_3\">\n    <g id=\"xtick_3\">\n     <g id=\"line2d_17\">\n      <g>\n       <use xlink:href=\"#m0e776a7195\" x=\"346.360822\" y=\"314.44\" style=\"stroke: #000000; stroke-width: 0.8\"/>\n      </g>\n     </g>\n     <g id=\"text_11\">\n      <!-- 0.0 -->\n      <g transform=\"translate(338.409259 329.038437) scale(0.1 -0.1)\">\n       <use xlink:href=\"#DejaVuSans-30\"/>\n       <use xlink:href=\"#DejaVuSans-2e\" x=\"63.623047\"/>\n       <use xlink:href=\"#DejaVuSans-30\" x=\"95.410156\"/>\n      </g>\n     </g>\n    </g>\n    <g id=\"xtick_4\">\n     <g id=\"line2d_18\">\n      <g>\n       <use xlink:href=\"#m0e776a7195\" x=\"384.602339\" y=\"314.44\" style=\"stroke: #000000; stroke-width: 0.8\"/>\n      </g>\n     </g>\n     <g id=\"text_12\">\n      <!-- 2.5 -->\n      <g transform=\"translate(376.650776 329.038437) scale(0.1 -0.1)\">\n       <defs>\n        <path id=\"DejaVuSans-32\" d=\"M 1228 531 \nL 3431 531 \nL 3431 0 \nL 469 0 \nL 469 531 \nQ 828 903 1448 1529 \nQ 2069 2156 2228 2338 \nQ 2531 2678 2651 2914 \nQ 2772 3150 2772 3378 \nQ 2772 3750 2511 3984 \nQ 2250 4219 1831 4219 \nQ 1534 4219 1204 4116 \nQ 875 4013 500 3803 \nL 500 4441 \nQ 881 4594 1212 4672 \nQ 1544 4750 1819 4750 \nQ 2544 4750 2975 4387 \nQ 3406 4025 3406 3419 \nQ 3406 3131 3298 2873 \nQ 3191 2616 2906 2266 \nQ 2828 2175 2409 1742 \nQ 1991 1309 1228 531 \nz\n\" transform=\"scale(0.015625)\"/>\n       </defs>\n       <use xlink:href=\"#DejaVuSans-32\"/>\n       <use xlink:href=\"#DejaVuSans-2e\" x=\"63.623047\"/>\n       <use xlink:href=\"#DejaVuSans-35\" x=\"95.410156\"/>\n      </g>\n     </g>\n    </g>\n    <g id=\"text_13\">\n     <!-- Mean -->\n     <g transform=\"translate(364.872744 342.716562) scale(0.1 -0.1)\">\n      <defs>\n       <path id=\"DejaVuSans-4d\" d=\"M 628 4666 \nL 1569 4666 \nL 2759 1491 \nL 3956 4666 \nL 4897 4666 \nL 4897 0 \nL 4281 0 \nL 4281 4097 \nL 3078 897 \nL 2444 897 \nL 1241 4097 \nL 1241 0 \nL 628 0 \nL 628 4666 \nz\n\" transform=\"scale(0.015625)\"/>\n      </defs>\n      <use xlink:href=\"#DejaVuSans-4d\"/>\n      <use xlink:href=\"#DejaVuSans-65\" x=\"86.279297\"/>\n      <use xlink:href=\"#DejaVuSans-61\" x=\"147.802734\"/>\n      <use xlink:href=\"#DejaVuSans-6e\" x=\"209.082031\"/>\n     </g>\n    </g>\n    <g id=\"text_14\">\n     <!-- 1e−16 -->\n     <g transform=\"translate(386.858138 341.716562) scale(0.1 -0.1)\">\n      <defs>\n       <path id=\"DejaVuSans-31\" d=\"M 794 531 \nL 1825 531 \nL 1825 4091 \nL 703 3866 \nL 703 4441 \nL 1819 4666 \nL 2450 4666 \nL 2450 531 \nL 3481 531 \nL 3481 0 \nL 794 0 \nL 794 531 \nz\n\" transform=\"scale(0.015625)\"/>\n       <path id=\"DejaVuSans-2212\" d=\"M 678 2272 \nL 4684 2272 \nL 4684 1741 \nL 678 1741 \nL 678 2272 \nz\n\" transform=\"scale(0.015625)\"/>\n       <path id=\"DejaVuSans-36\" d=\"M 2113 2584 \nQ 1688 2584 1439 2293 \nQ 1191 2003 1191 1497 \nQ 1191 994 1439 701 \nQ 1688 409 2113 409 \nQ 2538 409 2786 701 \nQ 3034 994 3034 1497 \nQ 3034 2003 2786 2293 \nQ 2538 2584 2113 2584 \nz\nM 3366 4563 \nL 3366 3988 \nQ 3128 4100 2886 4159 \nQ 2644 4219 2406 4219 \nQ 1781 4219 1451 3797 \nQ 1122 3375 1075 2522 \nQ 1259 2794 1537 2939 \nQ 1816 3084 2150 3084 \nQ 2853 3084 3261 2657 \nQ 3669 2231 3669 1497 \nQ 3669 778 3244 343 \nQ 2819 -91 2113 -91 \nQ 1303 -91 875 529 \nQ 447 1150 447 2328 \nQ 447 3434 972 4092 \nQ 1497 4750 2381 4750 \nQ 2619 4750 2861 4703 \nQ 3103 4656 3366 4563 \nz\n\" transform=\"scale(0.015625)\"/>\n      </defs>\n      <use xlink:href=\"#DejaVuSans-31\"/>\n      <use xlink:href=\"#DejaVuSans-65\" x=\"63.623047\"/>\n      <use xlink:href=\"#DejaVuSans-2212\" x=\"125.146484\"/>\n      <use xlink:href=\"#DejaVuSans-31\" x=\"208.935547\"/>\n      <use xlink:href=\"#DejaVuSans-36\" x=\"272.558594\"/>\n     </g>\n    </g>\n   </g>\n   <g id=\"matplotlib.axis_4\">\n    <g id=\"ytick_8\">\n     <g id=\"line2d_19\">\n      <g>\n       <use xlink:href=\"#m27d0ea0706\" x=\"336.513913\" y=\"29.145714\" style=\"stroke: #000000; stroke-width: 0.8\"/>\n      </g>\n     </g>\n     <g id=\"text_15\">\n      <!-- medinc -->\n      <g transform=\"translate(292.657663 32.944933) scale(0.1 -0.1)\">\n       <use xlink:href=\"#DejaVuSans-6d\"/>\n       <use xlink:href=\"#DejaVuSans-65\" x=\"97.412109\"/>\n       <use xlink:href=\"#DejaVuSans-64\" x=\"158.935547\"/>\n       <use xlink:href=\"#DejaVuSans-69\" x=\"222.412109\"/>\n       <use xlink:href=\"#DejaVuSans-6e\" x=\"250.195312\"/>\n       <use xlink:href=\"#DejaVuSans-63\" x=\"313.574219\"/>\n      </g>\n     </g>\n    </g>\n    <g id=\"ytick_9\">\n     <g id=\"line2d_20\">\n      <g>\n       <use xlink:href=\"#m27d0ea0706\" x=\"336.513913\" y=\"73.037143\" style=\"stroke: #000000; stroke-width: 0.8\"/>\n      </g>\n     </g>\n     <g id=\"text_16\">\n      <!-- avebedrms_averooms -->\n      <g transform=\"translate(219.304538 76.836362) scale(0.1 -0.1)\">\n       <use xlink:href=\"#DejaVuSans-61\"/>\n       <use xlink:href=\"#DejaVuSans-76\" x=\"61.279297\"/>\n       <use xlink:href=\"#DejaVuSans-65\" x=\"120.458984\"/>\n       <use xlink:href=\"#DejaVuSans-62\" x=\"181.982422\"/>\n       <use xlink:href=\"#DejaVuSans-65\" x=\"245.458984\"/>\n       <use xlink:href=\"#DejaVuSans-64\" x=\"306.982422\"/>\n       <use xlink:href=\"#DejaVuSans-72\" x=\"370.458984\"/>\n       <use xlink:href=\"#DejaVuSans-6d\" x=\"409.822266\"/>\n       <use xlink:href=\"#DejaVuSans-73\" x=\"507.234375\"/>\n       <use xlink:href=\"#DejaVuSans-5f\" x=\"559.333984\"/>\n       <use xlink:href=\"#DejaVuSans-61\" x=\"609.333984\"/>\n       <use xlink:href=\"#DejaVuSans-76\" x=\"670.613281\"/>\n       <use xlink:href=\"#DejaVuSans-65\" x=\"729.792969\"/>\n       <use xlink:href=\"#DejaVuSans-72\" x=\"791.316406\"/>\n       <use xlink:href=\"#DejaVuSans-6f\" x=\"830.179688\"/>\n       <use xlink:href=\"#DejaVuSans-6f\" x=\"891.361328\"/>\n       <use xlink:href=\"#DejaVuSans-6d\" x=\"952.542969\"/>\n       <use xlink:href=\"#DejaVuSans-73\" x=\"1049.955078\"/>\n      </g>\n     </g>\n    </g>\n    <g id=\"ytick_10\">\n     <g id=\"line2d_21\">\n      <g>\n       <use xlink:href=\"#m27d0ea0706\" x=\"336.513913\" y=\"116.928571\" style=\"stroke: #000000; stroke-width: 0.8\"/>\n      </g>\n     </g>\n     <g id=\"text_17\">\n      <!-- houseage -->\n      <g transform=\"translate(280.727975 120.72779) scale(0.1 -0.1)\">\n       <use xlink:href=\"#DejaVuSans-68\"/>\n       <use xlink:href=\"#DejaVuSans-6f\" x=\"63.378906\"/>\n       <use xlink:href=\"#DejaVuSans-75\" x=\"124.560547\"/>\n       <use xlink:href=\"#DejaVuSans-73\" x=\"187.939453\"/>\n       <use xlink:href=\"#DejaVuSans-65\" x=\"240.039062\"/>\n       <use xlink:href=\"#DejaVuSans-61\" x=\"301.5625\"/>\n       <use xlink:href=\"#DejaVuSans-67\" x=\"362.841797\"/>\n       <use xlink:href=\"#DejaVuSans-65\" x=\"426.318359\"/>\n      </g>\n     </g>\n    </g>\n    <g id=\"ytick_11\">\n     <g id=\"line2d_22\">\n      <g>\n       <use xlink:href=\"#m27d0ea0706\" x=\"336.513913\" y=\"160.82\" style=\"stroke: #000000; stroke-width: 0.8\"/>\n      </g>\n     </g>\n     <g id=\"text_18\">\n      <!-- avebedrms -->\n      <g transform=\"translate(273.577975 164.619219) scale(0.1 -0.1)\">\n       <use xlink:href=\"#DejaVuSans-61\"/>\n       <use xlink:href=\"#DejaVuSans-76\" x=\"61.279297\"/>\n       <use xlink:href=\"#DejaVuSans-65\" x=\"120.458984\"/>\n       <use xlink:href=\"#DejaVuSans-62\" x=\"181.982422\"/>\n       <use xlink:href=\"#DejaVuSans-65\" x=\"245.458984\"/>\n       <use xlink:href=\"#DejaVuSans-64\" x=\"306.982422\"/>\n       <use xlink:href=\"#DejaVuSans-72\" x=\"370.458984\"/>\n       <use xlink:href=\"#DejaVuSans-6d\" x=\"409.822266\"/>\n       <use xlink:href=\"#DejaVuSans-73\" x=\"507.234375\"/>\n      </g>\n     </g>\n    </g>\n    <g id=\"ytick_12\">\n     <g id=\"line2d_23\">\n      <g>\n       <use xlink:href=\"#m27d0ea0706\" x=\"336.513913\" y=\"204.711429\" style=\"stroke: #000000; stroke-width: 0.8\"/>\n      </g>\n     </g>\n     <g id=\"text_19\">\n      <!-- population -->\n      <g transform=\"translate(276.29985 208.510647) scale(0.1 -0.1)\">\n       <use xlink:href=\"#DejaVuSans-70\"/>\n       <use xlink:href=\"#DejaVuSans-6f\" x=\"63.476562\"/>\n       <use xlink:href=\"#DejaVuSans-70\" x=\"124.658203\"/>\n       <use xlink:href=\"#DejaVuSans-75\" x=\"188.134766\"/>\n       <use xlink:href=\"#DejaVuSans-6c\" x=\"251.513672\"/>\n       <use xlink:href=\"#DejaVuSans-61\" x=\"279.296875\"/>\n       <use xlink:href=\"#DejaVuSans-74\" x=\"340.576172\"/>\n       <use xlink:href=\"#DejaVuSans-69\" x=\"379.785156\"/>\n       <use xlink:href=\"#DejaVuSans-6f\" x=\"407.568359\"/>\n       <use xlink:href=\"#DejaVuSans-6e\" x=\"468.75\"/>\n      </g>\n     </g>\n    </g>\n    <g id=\"ytick_13\">\n     <g id=\"line2d_24\">\n      <g>\n       <use xlink:href=\"#m27d0ea0706\" x=\"336.513913\" y=\"248.602857\" style=\"stroke: #000000; stroke-width: 0.8\"/>\n      </g>\n     </g>\n     <g id=\"text_20\">\n      <!-- aveoccup -->\n      <g transform=\"translate(281.51235 252.402076) scale(0.1 -0.1)\">\n       <use xlink:href=\"#DejaVuSans-61\"/>\n       <use xlink:href=\"#DejaVuSans-76\" x=\"61.279297\"/>\n       <use xlink:href=\"#DejaVuSans-65\" x=\"120.458984\"/>\n       <use xlink:href=\"#DejaVuSans-6f\" x=\"181.982422\"/>\n       <use xlink:href=\"#DejaVuSans-63\" x=\"243.164062\"/>\n       <use xlink:href=\"#DejaVuSans-63\" x=\"298.144531\"/>\n       <use xlink:href=\"#DejaVuSans-75\" x=\"353.125\"/>\n       <use xlink:href=\"#DejaVuSans-70\" x=\"416.503906\"/>\n      </g>\n     </g>\n    </g>\n    <g id=\"ytick_14\">\n     <g id=\"line2d_25\">\n      <g>\n       <use xlink:href=\"#m27d0ea0706\" x=\"336.513913\" y=\"292.494286\" style=\"stroke: #000000; stroke-width: 0.8\"/>\n      </g>\n     </g>\n     <g id=\"text_21\">\n      <!-- averooms -->\n      <g transform=\"translate(280.240475 296.293504) scale(0.1 -0.1)\">\n       <use xlink:href=\"#DejaVuSans-61\"/>\n       <use xlink:href=\"#DejaVuSans-76\" x=\"61.279297\"/>\n       <use xlink:href=\"#DejaVuSans-65\" x=\"120.458984\"/>\n       <use xlink:href=\"#DejaVuSans-72\" x=\"181.982422\"/>\n       <use xlink:href=\"#DejaVuSans-6f\" x=\"220.845703\"/>\n       <use xlink:href=\"#DejaVuSans-6f\" x=\"282.027344\"/>\n       <use xlink:href=\"#DejaVuSans-6d\" x=\"343.208984\"/>\n       <use xlink:href=\"#DejaVuSans-73\" x=\"440.621094\"/>\n      </g>\n     </g>\n    </g>\n   </g>\n   <g id=\"line2d_26\">\n    <path clip-path=\"url(#p45adc66cc1)\" style=\"fill: none; stroke: #424242; stroke-width: 2.25; stroke-linecap: square\"/>\n   </g>\n   <g id=\"line2d_27\">\n    <path clip-path=\"url(#p45adc66cc1)\" style=\"fill: none; stroke: #424242; stroke-width: 2.25; stroke-linecap: square\"/>\n   </g>\n   <g id=\"line2d_28\">\n    <path clip-path=\"url(#p45adc66cc1)\" style=\"fill: none; stroke: #424242; stroke-width: 2.25; stroke-linecap: square\"/>\n   </g>\n   <g id=\"line2d_29\">\n    <path clip-path=\"url(#p45adc66cc1)\" style=\"fill: none; stroke: #424242; stroke-width: 2.25; stroke-linecap: square\"/>\n   </g>\n   <g id=\"line2d_30\">\n    <path clip-path=\"url(#p45adc66cc1)\" style=\"fill: none; stroke: #424242; stroke-width: 2.25; stroke-linecap: square\"/>\n   </g>\n   <g id=\"line2d_31\">\n    <path clip-path=\"url(#p45adc66cc1)\" style=\"fill: none; stroke: #424242; stroke-width: 2.25; stroke-linecap: square\"/>\n   </g>\n   <g id=\"line2d_32\">\n    <path clip-path=\"url(#p45adc66cc1)\" style=\"fill: none; stroke: #424242; stroke-width: 2.25; stroke-linecap: square\"/>\n   </g>\n   <g id=\"patch_22\">\n    <path d=\"M 336.513913 314.44 \nL 336.513913 7.2 \n\" style=\"fill: none; stroke: #000000; stroke-width: 0.8; stroke-linejoin: miter; stroke-linecap: square\"/>\n   </g>\n   <g id=\"patch_23\">\n    <path d=\"M 420.478451 314.44 \nL 420.478451 7.2 \n\" style=\"fill: none; stroke: #000000; stroke-width: 0.8; stroke-linejoin: miter; stroke-linecap: square\"/>\n   </g>\n   <g id=\"patch_24\">\n    <path d=\"M 336.513913 314.44 \nL 420.478451 314.44 \n\" style=\"fill: none; stroke: #000000; stroke-width: 0.8; stroke-linejoin: miter; stroke-linecap: square\"/>\n   </g>\n   <g id=\"patch_25\">\n    <path d=\"M 336.513913 7.2 \nL 420.478451 7.2 \n\" style=\"fill: none; stroke: #000000; stroke-width: 0.8; stroke-linejoin: miter; stroke-linecap: square\"/>\n   </g>\n  </g>\n  <g id=\"axes_3\">\n   <g id=\"patch_26\">\n    <path d=\"M 548.618451 314.44 \nL 632.582988 314.44 \nL 632.582988 7.2 \nL 548.618451 7.2 \nz\n\" style=\"fill: #ffffff\"/>\n   </g>\n   <g id=\"patch_27\">\n    <path d=\"M 548.618451 11.589143 \nL 628.584677 11.589143 \nL 628.584677 46.702286 \nL 548.618451 46.702286 \nz\n\" clip-path=\"url(#peef30ae309)\" style=\"fill: #3274a1\"/>\n   </g>\n   <g id=\"patch_28\">\n    <path d=\"M 548.618451 55.480571 \nL 628.584677 55.480571 \nL 628.584677 90.593714 \nL 548.618451 90.593714 \nz\n\" clip-path=\"url(#peef30ae309)\" style=\"fill: #3274a1\"/>\n   </g>\n   <g id=\"patch_29\">\n    <path d=\"M 548.618451 99.372 \nL 628.584677 99.372 \nL 628.584677 134.485143 \nL 548.618451 134.485143 \nz\n\" clip-path=\"url(#peef30ae309)\" style=\"fill: #3274a1\"/>\n   </g>\n   <g id=\"patch_30\">\n    <path d=\"M 548.618451 143.263429 \nL 628.584677 143.263429 \nL 628.584677 178.376571 \nL 548.618451 178.376571 \nz\n\" clip-path=\"url(#peef30ae309)\" style=\"fill: #3274a1\"/>\n   </g>\n   <g id=\"patch_31\">\n    <path d=\"M 548.618451 187.154857 \nL 628.584677 187.154857 \nL 628.584677 222.268 \nL 548.618451 222.268 \nz\n\" clip-path=\"url(#peef30ae309)\" style=\"fill: #3274a1\"/>\n   </g>\n   <g id=\"patch_32\">\n    <path d=\"M 548.618451 231.046286 \nL 628.584677 231.046286 \nL 628.584677 266.159429 \nL 548.618451 266.159429 \nz\n\" clip-path=\"url(#peef30ae309)\" style=\"fill: #3274a1\"/>\n   </g>\n   <g id=\"patch_33\">\n    <path d=\"M 548.618451 274.937714 \nL 628.584677 274.937714 \nL 628.584677 310.050857 \nL 548.618451 310.050857 \nz\n\" clip-path=\"url(#peef30ae309)\" style=\"fill: #3274a1\"/>\n   </g>\n   <g id=\"matplotlib.axis_5\">\n    <g id=\"xtick_5\">\n     <g id=\"line2d_33\">\n      <g>\n       <use xlink:href=\"#m0e776a7195\" x=\"548.618451\" y=\"314.44\" style=\"stroke: #000000; stroke-width: 0.8\"/>\n      </g>\n     </g>\n     <g id=\"text_22\">\n      <!-- 0 -->\n      <g transform=\"translate(545.437201 329.038437) scale(0.1 -0.1)\">\n       <use xlink:href=\"#DejaVuSans-30\"/>\n      </g>\n     </g>\n    </g>\n    <g id=\"xtick_6\">\n     <g id=\"line2d_34\">\n      <g>\n       <use xlink:href=\"#m0e776a7195\" x=\"628.584677\" y=\"314.44\" style=\"stroke: #000000; stroke-width: 0.8\"/>\n      </g>\n     </g>\n     <g id=\"text_23\">\n      <!-- 1 -->\n      <g transform=\"translate(625.403427 329.038437) scale(0.1 -0.1)\">\n       <use xlink:href=\"#DejaVuSans-31\"/>\n      </g>\n     </g>\n    </g>\n    <g id=\"text_24\">\n     <!-- Scale -->\n     <g transform=\"translate(577.147595 342.716562) scale(0.1 -0.1)\">\n      <defs>\n       <path id=\"DejaVuSans-53\" d=\"M 3425 4513 \nL 3425 3897 \nQ 3066 4069 2747 4153 \nQ 2428 4238 2131 4238 \nQ 1616 4238 1336 4038 \nQ 1056 3838 1056 3469 \nQ 1056 3159 1242 3001 \nQ 1428 2844 1947 2747 \nL 2328 2669 \nQ 3034 2534 3370 2195 \nQ 3706 1856 3706 1288 \nQ 3706 609 3251 259 \nQ 2797 -91 1919 -91 \nQ 1588 -91 1214 -16 \nQ 841 59 441 206 \nL 441 856 \nQ 825 641 1194 531 \nQ 1563 422 1919 422 \nQ 2459 422 2753 634 \nQ 3047 847 3047 1241 \nQ 3047 1584 2836 1778 \nQ 2625 1972 2144 2069 \nL 1759 2144 \nQ 1053 2284 737 2584 \nQ 422 2884 422 3419 \nQ 422 4038 858 4394 \nQ 1294 4750 2059 4750 \nQ 2388 4750 2728 4690 \nQ 3069 4631 3425 4513 \nz\n\" transform=\"scale(0.015625)\"/>\n      </defs>\n      <use xlink:href=\"#DejaVuSans-53\"/>\n      <use xlink:href=\"#DejaVuSans-63\" x=\"63.476562\"/>\n      <use xlink:href=\"#DejaVuSans-61\" x=\"118.457031\"/>\n      <use xlink:href=\"#DejaVuSans-6c\" x=\"179.736328\"/>\n      <use xlink:href=\"#DejaVuSans-65\" x=\"207.519531\"/>\n     </g>\n    </g>\n   </g>\n   <g id=\"matplotlib.axis_6\">\n    <g id=\"ytick_15\">\n     <g id=\"line2d_35\">\n      <g>\n       <use xlink:href=\"#m27d0ea0706\" x=\"548.618451\" y=\"29.145714\" style=\"stroke: #000000; stroke-width: 0.8\"/>\n      </g>\n     </g>\n     <g id=\"text_25\">\n      <!-- medinc -->\n      <g transform=\"translate(504.762201 32.944933) scale(0.1 -0.1)\">\n       <use xlink:href=\"#DejaVuSans-6d\"/>\n       <use xlink:href=\"#DejaVuSans-65\" x=\"97.412109\"/>\n       <use xlink:href=\"#DejaVuSans-64\" x=\"158.935547\"/>\n       <use xlink:href=\"#DejaVuSans-69\" x=\"222.412109\"/>\n       <use xlink:href=\"#DejaVuSans-6e\" x=\"250.195312\"/>\n       <use xlink:href=\"#DejaVuSans-63\" x=\"313.574219\"/>\n      </g>\n     </g>\n    </g>\n    <g id=\"ytick_16\">\n     <g id=\"line2d_36\">\n      <g>\n       <use xlink:href=\"#m27d0ea0706\" x=\"548.618451\" y=\"73.037143\" style=\"stroke: #000000; stroke-width: 0.8\"/>\n      </g>\n     </g>\n     <g id=\"text_26\">\n      <!-- avebedrms_averooms -->\n      <g transform=\"translate(431.409076 76.836362) scale(0.1 -0.1)\">\n       <use xlink:href=\"#DejaVuSans-61\"/>\n       <use xlink:href=\"#DejaVuSans-76\" x=\"61.279297\"/>\n       <use xlink:href=\"#DejaVuSans-65\" x=\"120.458984\"/>\n       <use xlink:href=\"#DejaVuSans-62\" x=\"181.982422\"/>\n       <use xlink:href=\"#DejaVuSans-65\" x=\"245.458984\"/>\n       <use xlink:href=\"#DejaVuSans-64\" x=\"306.982422\"/>\n       <use xlink:href=\"#DejaVuSans-72\" x=\"370.458984\"/>\n       <use xlink:href=\"#DejaVuSans-6d\" x=\"409.822266\"/>\n       <use xlink:href=\"#DejaVuSans-73\" x=\"507.234375\"/>\n       <use xlink:href=\"#DejaVuSans-5f\" x=\"559.333984\"/>\n       <use xlink:href=\"#DejaVuSans-61\" x=\"609.333984\"/>\n       <use xlink:href=\"#DejaVuSans-76\" x=\"670.613281\"/>\n       <use xlink:href=\"#DejaVuSans-65\" x=\"729.792969\"/>\n       <use xlink:href=\"#DejaVuSans-72\" x=\"791.316406\"/>\n       <use xlink:href=\"#DejaVuSans-6f\" x=\"830.179688\"/>\n       <use xlink:href=\"#DejaVuSans-6f\" x=\"891.361328\"/>\n       <use xlink:href=\"#DejaVuSans-6d\" x=\"952.542969\"/>\n       <use xlink:href=\"#DejaVuSans-73\" x=\"1049.955078\"/>\n      </g>\n     </g>\n    </g>\n    <g id=\"ytick_17\">\n     <g id=\"line2d_37\">\n      <g>\n       <use xlink:href=\"#m27d0ea0706\" x=\"548.618451\" y=\"116.928571\" style=\"stroke: #000000; stroke-width: 0.8\"/>\n      </g>\n     </g>\n     <g id=\"text_27\">\n      <!-- houseage -->\n      <g transform=\"translate(492.832513 120.72779) scale(0.1 -0.1)\">\n       <use xlink:href=\"#DejaVuSans-68\"/>\n       <use xlink:href=\"#DejaVuSans-6f\" x=\"63.378906\"/>\n       <use xlink:href=\"#DejaVuSans-75\" x=\"124.560547\"/>\n       <use xlink:href=\"#DejaVuSans-73\" x=\"187.939453\"/>\n       <use xlink:href=\"#DejaVuSans-65\" x=\"240.039062\"/>\n       <use xlink:href=\"#DejaVuSans-61\" x=\"301.5625\"/>\n       <use xlink:href=\"#DejaVuSans-67\" x=\"362.841797\"/>\n       <use xlink:href=\"#DejaVuSans-65\" x=\"426.318359\"/>\n      </g>\n     </g>\n    </g>\n    <g id=\"ytick_18\">\n     <g id=\"line2d_38\">\n      <g>\n       <use xlink:href=\"#m27d0ea0706\" x=\"548.618451\" y=\"160.82\" style=\"stroke: #000000; stroke-width: 0.8\"/>\n      </g>\n     </g>\n     <g id=\"text_28\">\n      <!-- avebedrms -->\n      <g transform=\"translate(485.682513 164.619219) scale(0.1 -0.1)\">\n       <use xlink:href=\"#DejaVuSans-61\"/>\n       <use xlink:href=\"#DejaVuSans-76\" x=\"61.279297\"/>\n       <use xlink:href=\"#DejaVuSans-65\" x=\"120.458984\"/>\n       <use xlink:href=\"#DejaVuSans-62\" x=\"181.982422\"/>\n       <use xlink:href=\"#DejaVuSans-65\" x=\"245.458984\"/>\n       <use xlink:href=\"#DejaVuSans-64\" x=\"306.982422\"/>\n       <use xlink:href=\"#DejaVuSans-72\" x=\"370.458984\"/>\n       <use xlink:href=\"#DejaVuSans-6d\" x=\"409.822266\"/>\n       <use xlink:href=\"#DejaVuSans-73\" x=\"507.234375\"/>\n      </g>\n     </g>\n    </g>\n    <g id=\"ytick_19\">\n     <g id=\"line2d_39\">\n      <g>\n       <use xlink:href=\"#m27d0ea0706\" x=\"548.618451\" y=\"204.711429\" style=\"stroke: #000000; stroke-width: 0.8\"/>\n      </g>\n     </g>\n     <g id=\"text_29\">\n      <!-- population -->\n      <g transform=\"translate(488.404388 208.510647) scale(0.1 -0.1)\">\n       <use xlink:href=\"#DejaVuSans-70\"/>\n       <use xlink:href=\"#DejaVuSans-6f\" x=\"63.476562\"/>\n       <use xlink:href=\"#DejaVuSans-70\" x=\"124.658203\"/>\n       <use xlink:href=\"#DejaVuSans-75\" x=\"188.134766\"/>\n       <use xlink:href=\"#DejaVuSans-6c\" x=\"251.513672\"/>\n       <use xlink:href=\"#DejaVuSans-61\" x=\"279.296875\"/>\n       <use xlink:href=\"#DejaVuSans-74\" x=\"340.576172\"/>\n       <use xlink:href=\"#DejaVuSans-69\" x=\"379.785156\"/>\n       <use xlink:href=\"#DejaVuSans-6f\" x=\"407.568359\"/>\n       <use xlink:href=\"#DejaVuSans-6e\" x=\"468.75\"/>\n      </g>\n     </g>\n    </g>\n    <g id=\"ytick_20\">\n     <g id=\"line2d_40\">\n      <g>\n       <use xlink:href=\"#m27d0ea0706\" x=\"548.618451\" y=\"248.602857\" style=\"stroke: #000000; stroke-width: 0.8\"/>\n      </g>\n     </g>\n     <g id=\"text_30\">\n      <!-- aveoccup -->\n      <g transform=\"translate(493.616888 252.402076) scale(0.1 -0.1)\">\n       <use xlink:href=\"#DejaVuSans-61\"/>\n       <use xlink:href=\"#DejaVuSans-76\" x=\"61.279297\"/>\n       <use xlink:href=\"#DejaVuSans-65\" x=\"120.458984\"/>\n       <use xlink:href=\"#DejaVuSans-6f\" x=\"181.982422\"/>\n       <use xlink:href=\"#DejaVuSans-63\" x=\"243.164062\"/>\n       <use xlink:href=\"#DejaVuSans-63\" x=\"298.144531\"/>\n       <use xlink:href=\"#DejaVuSans-75\" x=\"353.125\"/>\n       <use xlink:href=\"#DejaVuSans-70\" x=\"416.503906\"/>\n      </g>\n     </g>\n    </g>\n    <g id=\"ytick_21\">\n     <g id=\"line2d_41\">\n      <g>\n       <use xlink:href=\"#m27d0ea0706\" x=\"548.618451\" y=\"292.494286\" style=\"stroke: #000000; stroke-width: 0.8\"/>\n      </g>\n     </g>\n     <g id=\"text_31\">\n      <!-- averooms -->\n      <g transform=\"translate(492.345013 296.293504) scale(0.1 -0.1)\">\n       <use xlink:href=\"#DejaVuSans-61\"/>\n       <use xlink:href=\"#DejaVuSans-76\" x=\"61.279297\"/>\n       <use xlink:href=\"#DejaVuSans-65\" x=\"120.458984\"/>\n       <use xlink:href=\"#DejaVuSans-72\" x=\"181.982422\"/>\n       <use xlink:href=\"#DejaVuSans-6f\" x=\"220.845703\"/>\n       <use xlink:href=\"#DejaVuSans-6f\" x=\"282.027344\"/>\n       <use xlink:href=\"#DejaVuSans-6d\" x=\"343.208984\"/>\n       <use xlink:href=\"#DejaVuSans-73\" x=\"440.621094\"/>\n      </g>\n     </g>\n    </g>\n   </g>\n   <g id=\"line2d_42\">\n    <path clip-path=\"url(#peef30ae309)\" style=\"fill: none; stroke: #424242; stroke-width: 2.25; stroke-linecap: square\"/>\n   </g>\n   <g id=\"line2d_43\">\n    <path clip-path=\"url(#peef30ae309)\" style=\"fill: none; stroke: #424242; stroke-width: 2.25; stroke-linecap: square\"/>\n   </g>\n   <g id=\"line2d_44\">\n    <path clip-path=\"url(#peef30ae309)\" style=\"fill: none; stroke: #424242; stroke-width: 2.25; stroke-linecap: square\"/>\n   </g>\n   <g id=\"line2d_45\">\n    <path clip-path=\"url(#peef30ae309)\" style=\"fill: none; stroke: #424242; stroke-width: 2.25; stroke-linecap: square\"/>\n   </g>\n   <g id=\"line2d_46\">\n    <path clip-path=\"url(#peef30ae309)\" style=\"fill: none; stroke: #424242; stroke-width: 2.25; stroke-linecap: square\"/>\n   </g>\n   <g id=\"line2d_47\">\n    <path clip-path=\"url(#peef30ae309)\" style=\"fill: none; stroke: #424242; stroke-width: 2.25; stroke-linecap: square\"/>\n   </g>\n   <g id=\"line2d_48\">\n    <path clip-path=\"url(#peef30ae309)\" style=\"fill: none; stroke: #424242; stroke-width: 2.25; stroke-linecap: square\"/>\n   </g>\n   <g id=\"patch_34\">\n    <path d=\"M 548.618451 314.44 \nL 548.618451 7.2 \n\" style=\"fill: none; stroke: #000000; stroke-width: 0.8; stroke-linejoin: miter; stroke-linecap: square\"/>\n   </g>\n   <g id=\"patch_35\">\n    <path d=\"M 632.582988 314.44 \nL 632.582988 7.2 \n\" style=\"fill: none; stroke: #000000; stroke-width: 0.8; stroke-linejoin: miter; stroke-linecap: square\"/>\n   </g>\n   <g id=\"patch_36\">\n    <path d=\"M 548.618451 314.44 \nL 632.582988 314.44 \n\" style=\"fill: none; stroke: #000000; stroke-width: 0.8; stroke-linejoin: miter; stroke-linecap: square\"/>\n   </g>\n   <g id=\"patch_37\">\n    <path d=\"M 548.618451 7.2 \nL 632.582988 7.2 \n\" style=\"fill: none; stroke: #000000; stroke-width: 0.8; stroke-linejoin: miter; stroke-linecap: square\"/>\n   </g>\n  </g>\n </g>\n <defs>\n  <clipPath id=\"p58a7318b6f\">\n   <rect x=\"124.409375\" y=\"7.2\" width=\"83.964538\" height=\"307.24\"/>\n  </clipPath>\n  <clipPath id=\"p45adc66cc1\">\n   <rect x=\"336.513913\" y=\"7.2\" width=\"83.964538\" height=\"307.24\"/>\n  </clipPath>\n  <clipPath id=\"peef30ae309\">\n   <rect x=\"548.618451\" y=\"7.2\" width=\"83.964538\" height=\"307.24\"/>\n  </clipPath>\n </defs>\n</svg>\n"
          },
          "metadata": {}
        }
      ]
    },
    {
      "cell_type": "markdown",
      "source": [
        "# Обучение SGDRegressor\n",
        "https://scikit-learn.org/stable/modules/generated/sklearn.linear_model.SGDRegressor.html#sklearn.linear_model.SGDRegressor\n",
        "\n",
        "Этот класс реализует стохастический градиентный спуск (SGD) для решения задачи линейной регрессии."
      ],
      "metadata": {
        "id": "PSU9JhsVe7Tt"
      }
    },
    {
      "cell_type": "code",
      "source": [
        "# ?SGDRegressor"
      ],
      "metadata": {
        "id": "WzVqdq9EPF4d"
      },
      "execution_count": null,
      "outputs": []
    },
    {
      "cell_type": "code",
      "source": [
        "# sgd_reg = SGDRegressor(max_iter=100000, penalty=None, n_iter_no_change=100, tol=1e-6, random_state=12345)\n",
        "sgd_reg = SGDRegressor(max_iter=100000, penalty=None, random_state=12345)\n",
        "sgd_reg.fit(X_train_scaled, y_train)"
      ],
      "metadata": {
        "colab": {
          "base_uri": "https://localhost:8080/",
          "height": 75
        },
        "id": "iQh08e3MblAJ",
        "outputId": "ed96afaf-2ff7-4e26-a11b-e0768cec7a43"
      },
      "execution_count": null,
      "outputs": [
        {
          "output_type": "execute_result",
          "data": {
            "text/plain": [
              "SGDRegressor(max_iter=100000, penalty=None, random_state=12345)"
            ],
            "text/html": [
              "<style>#sk-container-id-1 {color: black;background-color: white;}#sk-container-id-1 pre{padding: 0;}#sk-container-id-1 div.sk-toggleable {background-color: white;}#sk-container-id-1 label.sk-toggleable__label {cursor: pointer;display: block;width: 100%;margin-bottom: 0;padding: 0.3em;box-sizing: border-box;text-align: center;}#sk-container-id-1 label.sk-toggleable__label-arrow:before {content: \"▸\";float: left;margin-right: 0.25em;color: #696969;}#sk-container-id-1 label.sk-toggleable__label-arrow:hover:before {color: black;}#sk-container-id-1 div.sk-estimator:hover label.sk-toggleable__label-arrow:before {color: black;}#sk-container-id-1 div.sk-toggleable__content {max-height: 0;max-width: 0;overflow: hidden;text-align: left;background-color: #f0f8ff;}#sk-container-id-1 div.sk-toggleable__content pre {margin: 0.2em;color: black;border-radius: 0.25em;background-color: #f0f8ff;}#sk-container-id-1 input.sk-toggleable__control:checked~div.sk-toggleable__content {max-height: 200px;max-width: 100%;overflow: auto;}#sk-container-id-1 input.sk-toggleable__control:checked~label.sk-toggleable__label-arrow:before {content: \"▾\";}#sk-container-id-1 div.sk-estimator input.sk-toggleable__control:checked~label.sk-toggleable__label {background-color: #d4ebff;}#sk-container-id-1 div.sk-label input.sk-toggleable__control:checked~label.sk-toggleable__label {background-color: #d4ebff;}#sk-container-id-1 input.sk-hidden--visually {border: 0;clip: rect(1px 1px 1px 1px);clip: rect(1px, 1px, 1px, 1px);height: 1px;margin: -1px;overflow: hidden;padding: 0;position: absolute;width: 1px;}#sk-container-id-1 div.sk-estimator {font-family: monospace;background-color: #f0f8ff;border: 1px dotted black;border-radius: 0.25em;box-sizing: border-box;margin-bottom: 0.5em;}#sk-container-id-1 div.sk-estimator:hover {background-color: #d4ebff;}#sk-container-id-1 div.sk-parallel-item::after {content: \"\";width: 100%;border-bottom: 1px solid gray;flex-grow: 1;}#sk-container-id-1 div.sk-label:hover label.sk-toggleable__label {background-color: #d4ebff;}#sk-container-id-1 div.sk-serial::before {content: \"\";position: absolute;border-left: 1px solid gray;box-sizing: border-box;top: 0;bottom: 0;left: 50%;z-index: 0;}#sk-container-id-1 div.sk-serial {display: flex;flex-direction: column;align-items: center;background-color: white;padding-right: 0.2em;padding-left: 0.2em;position: relative;}#sk-container-id-1 div.sk-item {position: relative;z-index: 1;}#sk-container-id-1 div.sk-parallel {display: flex;align-items: stretch;justify-content: center;background-color: white;position: relative;}#sk-container-id-1 div.sk-item::before, #sk-container-id-1 div.sk-parallel-item::before {content: \"\";position: absolute;border-left: 1px solid gray;box-sizing: border-box;top: 0;bottom: 0;left: 50%;z-index: -1;}#sk-container-id-1 div.sk-parallel-item {display: flex;flex-direction: column;z-index: 1;position: relative;background-color: white;}#sk-container-id-1 div.sk-parallel-item:first-child::after {align-self: flex-end;width: 50%;}#sk-container-id-1 div.sk-parallel-item:last-child::after {align-self: flex-start;width: 50%;}#sk-container-id-1 div.sk-parallel-item:only-child::after {width: 0;}#sk-container-id-1 div.sk-dashed-wrapped {border: 1px dashed gray;margin: 0 0.4em 0.5em 0.4em;box-sizing: border-box;padding-bottom: 0.4em;background-color: white;}#sk-container-id-1 div.sk-label label {font-family: monospace;font-weight: bold;display: inline-block;line-height: 1.2em;}#sk-container-id-1 div.sk-label-container {text-align: center;}#sk-container-id-1 div.sk-container {/* jupyter's `normalize.less` sets `[hidden] { display: none; }` but bootstrap.min.css set `[hidden] { display: none !important; }` so we also need the `!important` here to be able to override the default hidden behavior on the sphinx rendered scikit-learn.org. See: https://github.com/scikit-learn/scikit-learn/issues/21755 */display: inline-block !important;position: relative;}#sk-container-id-1 div.sk-text-repr-fallback {display: none;}</style><div id=\"sk-container-id-1\" class=\"sk-top-container\"><div class=\"sk-text-repr-fallback\"><pre>SGDRegressor(max_iter=100000, penalty=None, random_state=12345)</pre><b>In a Jupyter environment, please rerun this cell to show the HTML representation or trust the notebook. <br />On GitHub, the HTML representation is unable to render, please try loading this page with nbviewer.org.</b></div><div class=\"sk-container\" hidden><div class=\"sk-item\"><div class=\"sk-estimator sk-toggleable\"><input class=\"sk-toggleable__control sk-hidden--visually\" id=\"sk-estimator-id-1\" type=\"checkbox\" checked><label for=\"sk-estimator-id-1\" class=\"sk-toggleable__label sk-toggleable__label-arrow\">SGDRegressor</label><div class=\"sk-toggleable__content\"><pre>SGDRegressor(max_iter=100000, penalty=None, random_state=12345)</pre></div></div></div></div></div>"
            ]
          },
          "metadata": {},
          "execution_count": 30
        }
      ]
    },
    {
      "cell_type": "code",
      "source": [
        "y_pred_test_sgd = sgd_reg.predict(X_test_scaled)\n",
        "y_pred_train_sgd = sgd_reg.predict(X_train_scaled)\n",
        "\n",
        "print(\"Test RMSE = %.4f\" % mean_squared_error(y_test, y_pred_test_sgd, squared=False))\n",
        "print(\"Train RMSE = %.4f\" % mean_squared_error(y_train, y_pred_train_sgd, squared=False))"
      ],
      "metadata": {
        "colab": {
          "base_uri": "https://localhost:8080/"
        },
        "id": "hJRpoUIyfKik",
        "outputId": "8d8144b6-b825-48b9-e7a8-d813992d694a"
      },
      "execution_count": null,
      "outputs": [
        {
          "output_type": "stream",
          "name": "stdout",
          "text": [
            "Test RMSE = 63.1262\n",
            "Train RMSE = 27.4902\n"
          ]
        }
      ]
    },
    {
      "cell_type": "markdown",
      "source": [
        "# Кросс валидация"
      ],
      "metadata": {
        "id": "fhzoCXcDHSaH"
      }
    },
    {
      "cell_type": "markdown",
      "source": [
        "Мы обучили  модель и даже посчитали ее качество на отложенной выборке! Давайте теперь посмотрим на то, как можно оценить качество модели с помощью кросс-валидации.\n",
        "\n",
        "\n",
        "Принцип кросс-валидации изображен на рисунке\n",
        "\n",
        "<img src=\"https://docs.splunk.com/images/thumb/e/ee/Kfold_cv_diagram.png/1200px-Kfold_cv_diagram.png\" width=50%>\n",
        "\n",
        "При кросс-валидации мы делим обучающую выборку на $n$ частей (fold). Затем мы обучаем $n$ моделей: каждая модель обучается при отсутствии соответствующего фолда, то есть $i$-ая модель обучается на всей обучающей выборке, кроме объектов, которые попали в $i$-ый фолд (out-of-fold). Затем мы измеряем качество $i$-ой модели на $i$-ом фолде. Так как он не участвовал в обучении этой модели, мы получим \"честный результат\". После этого, для получения финального значения метрики качества, мы можем усреднить полученные нами $n$ значений."
      ],
      "metadata": {
        "id": "klbKdbf3ckah"
      }
    },
    {
      "cell_type": "code",
      "source": [
        "# model = SGDRegressor(max_iter=100000, penalty=None, n_iter_no_change=100, tol=1e-6, random_state=12345)"
      ],
      "metadata": {
        "id": "njN_5d0-TE21"
      },
      "execution_count": null,
      "outputs": []
    },
    {
      "cell_type": "code",
      "source": [
        "model = LinearRegression()"
      ],
      "metadata": {
        "id": "LQDnWgcfTbiq"
      },
      "execution_count": null,
      "outputs": []
    },
    {
      "cell_type": "code",
      "source": [
        "from sklearn.model_selection import cross_val_score\n",
        "\n",
        "cv_scores = cross_val_score(model, X_train_scaled, y_train, cv=5, scoring=\"neg_root_mean_squared_error\")\n",
        "\n",
        "print(\"Cross validation scores:\\n\\t\", \"\\n\\t\".join(\"%.4f\" % x for x in cv_scores))\n",
        "print(\"Mean CV RMSE = %.4f\" % np.mean(-cv_scores))"
      ],
      "metadata": {
        "colab": {
          "base_uri": "https://localhost:8080/"
        },
        "id": "hJ5s8Z-4G8k5",
        "outputId": "77276bd7-1aac-49b0-b85e-1f828bf58bea"
      },
      "execution_count": null,
      "outputs": [
        {
          "output_type": "stream",
          "name": "stdout",
          "text": [
            "Cross validation scores:\n",
            "\t -0.6774\n",
            "\t-0.6769\n",
            "\t-0.6596\n",
            "\t-0.7815\n",
            "\t-0.6646\n",
            "Mean CV RMSE = 0.6920\n"
          ]
        }
      ]
    },
    {
      "cell_type": "markdown",
      "source": [
        "Обратите внимание на то, что результаты `cv_scores` получились отрицательными. Это соглашение в `sklearn` (скоринговую функцию нужно максимизировать). Поэтому все стандартные скореры называются `neg_*`, например, `neg_root_mean_squared_error`."
      ],
      "metadata": {
        "id": "jhU5OQJRcpPa"
      }
    },
    {
      "cell_type": "markdown",
      "source": [
        "Обратите внимание, что по отложенной выборке и при кросс-валидации мы считаем RMSE (Root Mean Squared Error), хотя в функционале ошибки при обучении модели используется MSE.\n",
        "\n",
        "$$\\text{RMSE}(X, y, a) = \\sqrt{\\frac{1}{\\ell}\\sum_{i=1}^{\\ell} (y_i - a(x_i))^2}$$\n",
        "\n",
        "**Вопрос**: Почему оптимизация RMSE эквивалентна оптимизации MSE?\n",
        "\n",
        "Если бы RMSE не входил в стандартные метрики `sklearn`, можно было бы его определить через функцию `sklearn.metrics.make_scorer`."
      ],
      "metadata": {
        "id": "jHlJl5fncrQn"
      }
    },
    {
      "cell_type": "code",
      "source": [
        "from sklearn.metrics import make_scorer\n",
        "\n",
        "def rmse(y_true, y_pred):\n",
        "    error = (y_true - y_pred) ** 2\n",
        "    return np.sqrt(np.mean(error))\n",
        "\n",
        "rmse_scorer = make_scorer(\n",
        "    rmse,\n",
        "    greater_is_better=False\n",
        ")"
      ],
      "metadata": {
        "id": "sl0WbwOpG8nx"
      },
      "execution_count": null,
      "outputs": []
    },
    {
      "cell_type": "code",
      "source": [
        "from sklearn.model_selection import cross_val_score\n",
        "\n",
        "cv_scores = cross_val_score(model, X_train, y_train, cv=10, scoring=rmse_scorer)\n",
        "print(\"Cross validation scores:\\n\\t\", \"\\n\\t\".join(\"%.4f\" % abs(x) for x in cv_scores))\n",
        "print(\"Mean CV RMSE = %.4f\" % np.mean([abs(x) for x in cv_scores]))"
      ],
      "metadata": {
        "colab": {
          "base_uri": "https://localhost:8080/"
        },
        "id": "cYZXW5DCG8q3",
        "outputId": "7d1e6d7d-4f68-4355-e401-541f2cac80e0"
      },
      "execution_count": null,
      "outputs": [
        {
          "output_type": "stream",
          "name": "stdout",
          "text": [
            "Cross validation scores:\n",
            "\t 0.6926\n",
            "\t0.6609\n",
            "\t0.6885\n",
            "\t0.6639\n",
            "\t0.6657\n",
            "\t0.6536\n",
            "\t0.9142\n",
            "\t0.6792\n",
            "\t0.6797\n",
            "\t0.6463\n",
            "Mean CV RMSE = 0.6945\n"
          ]
        }
      ]
    }
  ]
}