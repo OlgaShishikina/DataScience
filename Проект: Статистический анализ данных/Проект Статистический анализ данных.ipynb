{
 "cells": [
  {
   "cell_type": "markdown",
   "id": "3e0f7b4a",
   "metadata": {},
   "source": [
    "<div class=\"alert alert-success\">\n",
    "<font size=\"5\", color= \"seagreen\"><b>✔️ Комментарий ревьюера в3</b></font>\n",
    "    <br /> \n",
    "    <font size=\"3\", color = \"black\">\n",
    "<br />  Привет, Ольга :) \n",
    "        \n",
    "Спасибо за все исправления и комментарии\n",
    "        \n",
    "Стоит повторить материалы про группировку и свод данных        \n",
    "        \n",
    "Основные навыки, тестируемые на проекте:\n",
    "        \n",
    " + внимательное чтение технического задания проекта \n",
    " + объединение разных таблиц в единый датасет, — на рабочих проектах стоит уделить особое внимание на способы объединения (left или inner, можно кого-нить забыть, значение параметра how по умолчанию), на пропуски и возможные дубликаты\n",
    " + формирование, чтение и сравнение показателей на графике двух выборок, \n",
    " + формирование выводов о данных по статистическим показателям,\n",
    " + формулирование и проверку односторонних и двусторонних гипотез,  интерпретацию значения p-value  \n",
    " + формирование рекомендаций для бизнеса \n",
    "        \n",
    "        \n",
    "<b>Поздравляю со сданным проектом на факультете дата-аналитики Я.Практикум</b>\n",
    "\n",
    "<div class=\"alert alert-success\">\n",
    "    <font size=\"5\", color= \"seagreen\"><b>Успехов в дальнейшей учебе 🤝</b></font><br />\n",
    "    \n",
    "\n",
    "    \n",
    "добавил бонус и пару подсказок\n",
    "    "
   ]
  },
  {
   "cell_type": "markdown",
   "id": "97d12db0",
   "metadata": {},
   "source": [
    "<div class=\"alert alert-success\">\n",
    "<font size=\"5\", color= \"seagreen\"><b>✔️ Комментарий ревьюера в2</b></font>\n",
    "    <br /> \n",
    "    <font size=\"3\", color = \"black\">\n",
    "<br />   Привет, Ольга :) Спасибо за доработки 🤝\n",
    "        \n",
    "Критические ❌ комментарии: \n",
    "  \n",
    " + поправить вывод во втором стат тесте  \n",
    "         \n",
    "добавил новые подсказки        "
   ]
  },
  {
   "cell_type": "markdown",
   "id": "736ee1c5",
   "metadata": {},
   "source": [
    "<div class=\"alert alert-success\">\n",
    "<font size=\"4\"><b>Комментарий ревьюера</b></font>\n",
    "    <br /> \n",
    "    <font size=\"3\", color = \"black\">\n",
    "<br />\n",
    "    Привет, Ольга :) Спасибо, что прислала задание 🤝 Меня зовут Ринат Хисамов и я буду проверять твой проект. Предлагаю обращаться друг к другу на ты. Так нам будет гораздо проще и удобней общаться\n",
    "\n",
    "Мои комментарии обозначены пометкой <b>Комментарий ревьюера</b>. Далее в файле сможешь найти их в похожих ячейках (если фон комментария зелёный — всё сделано правильно (✔️), рекомендации таким же цветом. Отдельным цветом — блок ссылок (примеры ниже, 🍕). Оранжевым или светло желтым рекомендации, которые, хоть и не обязательны, но точно сделают ревью лучше. (⚠️); <u> красный комментарий</u>: код, график или вывод стоит переделать (❌)). \n",
    "\n",
    "Не удаляй все эти комментарии и постарайся учесть их в ходе выполнения данного проекта. \n",
    "Будет замечательно, если добавишь свои комментарии и пояснения✍\n",
    "        \n",
    "Поехали 🚀\n",
    "    <br />\n",
    "    </font>\n",
    "\n",
    "</div>"
   ]
  },
  {
   "cell_type": "markdown",
   "id": "f42154e2",
   "metadata": {},
   "source": [
    "<div style=\"border:solid steelblue 1px; padding: 20px\">\n",
    "    \n",
    "<font size=\"4\"><p style=\"text-align:center\"><b>Примеры комментариев </b></p></font>\n",
    "    \n",
    "<div style=\"border:solid steelblue 3px; padding: 20px\">\n",
    "<font size=\"4\"><b>🍕 Пример комментария - совета, здесь м.б. просто ссылка</b></font>\n",
    "    <br /> \n",
    "        <font size=\"3\", color = \"black\">\n",
    "<br />\n",
    "    Тут всего такого разного и вкусного :), есть способы прокачать проект визуализациями (ценит большинство \"боссов\")  <br /><br />\n",
    "        <a href=\"https://devpractice.ru/matplotlib-book/\">“Библиотека Matplotlib” доступна для скачивания БЕСПЛАТНО!</a>\n",
    "        На сайте много полезных материалов, мне самому очень помогло в свое время, до сих пор подсматриваю :)\n",
    "\n",
    "\n",
    "</div>\n",
    "    \n",
    "<div class=\"alert alert-warning\", style=\"border:solid coral 3px; padding: 20px\">\n",
    "    <font size=\"3\"><b>⚠️ Пример оформления некритичного комментария</b>\n",
    "    <br /> \n",
    "    <font size=\"2\", color = \"black\">\n",
    "<br />\n",
    "    Рекомендации, которые, хоть и не обязательны, но точно сделают ревью лучше\n",
    "    <br />\n",
    "    </font>\n",
    "\n",
    "</div>\n",
    "    \n",
    "<div class=\"alert alert-danger\">\n",
    "<font size=\"3\"><b>❌ Пример оформления комментария к блоку(строке) программного кода (или выводу), который стоит переделать</b></font>\n",
    "    <br /> \n",
    "    <font size=\"2\", color = \"black\">\n",
    "<br />\n",
    "    Отправлен не тот проект, напиши в своих комментариях, что случилось? жду — <b>это пример</b>\n",
    "    <br />\n",
    "    </font>\n",
    "\n",
    "</div>\n",
    "    \n",
    "<div class=\"alert alert-success\">\n",
    "<font size=\"4\"><b>✔️ Пример оформления комментария, который нравится большинству студентов</b></font>\n",
    "    <br /> \n",
    "    <font size=\"3\", color = \"black\">\n",
    "<br />\n",
    "    Круто, молодец, отлично, логично, или — 👌, 👍, или — выводы отвечают на все вопросы к данным и проекту\n",
    "    <br />\n",
    "    </font>\n",
    "\n",
    "</div>"
   ]
  },
  {
   "cell_type": "markdown",
   "id": "707cba20",
   "metadata": {},
   "source": [
    "# Для твоих вопросов или комментариев оставлю такую ячейку, чтобы было удобнее взаимодействовать на проекте"
   ]
  },
  {
   "cell_type": "markdown",
   "id": "316d4d95",
   "metadata": {},
   "source": [
    "<div class=\"alert alert-info\">\n",
    "<font size=\"4\", color = \"black\"><b>✍ Комментарий студента</b></font>\n",
    "    <br /> \n",
    "    <font size=\"3\", color = \"black\">\n",
    "<br /> ... , вот мой вопрос ...\n",
    "        \n",
    "        "
   ]
  },
  {
   "cell_type": "markdown",
   "id": "d86a5021",
   "metadata": {},
   "source": [
    "# Проект: Статистический анализ данных (Анализ сервиса аренды самокатов)"
   ]
  },
  {
   "cell_type": "markdown",
   "id": "51e9901a",
   "metadata": {},
   "source": [
    "Вы аналитик популярного сервиса аренды самокатов GoFast. Вам передали данные о некоторых пользователях из нескольких городов, а также об их поездках. Проанализируйте данные и проверьте некоторые гипотезы, которые могут помочь бизнесу вырасти.\n",
    "\n",
    "Чтобы совершать поездки по городу, пользователи сервиса GoFast пользуются мобильным приложением. Сервисом можно пользоваться:\n",
    "\n",
    "без подписки \n",
    "\n",
    "абонентская плата отсутствует;\n",
    "\n",
    "стоимость одной минуты поездки — 8 рублей;\n",
    "\n",
    "стоимость старта (начала поездки) — 50 рублей;\n",
    "\n",
    "с подпиской Ultra \n",
    "\n",
    "абонентская плата — 199 рублей в месяц;\n",
    "\n",
    "стоимость одной минуты поездки — 6 рублей;\n",
    "\n",
    "стоимость старта — бесплатно."
   ]
  },
  {
   "cell_type": "markdown",
   "id": "77c6144f",
   "metadata": {},
   "source": [
    "Описание данных\n",
    "\n",
    "В основных данных есть информация о пользователях, их поездках и подписках.\n",
    "\n",
    "Пользователи — users_go.csv\n",
    "* user_id\tуникальный идентификатор пользователя\n",
    " \n",
    "* name\tимя пользователя\n",
    "\n",
    "* age\tвозраст\n",
    "\n",
    "* city\tгород\n",
    "\n",
    "* subscription_type\tтип подписки (free, ultra)\n",
    "\n",
    "\n",
    "Поездки — rides_go.csv\n",
    "\n",
    "* user_id\tуникальный идентификатор пользователя\n",
    "\n",
    "* distance\tрасстояние, которое пользователь проехал в текущей сессии (в метрах)\n",
    "\n",
    "* duration\tпродолжительность сессии (в минутах) — время с того момента, как пользователь нажал кнопку «Начать поездку» до момента, как он нажал кнопку «Завершить поездку»\n",
    "\n",
    "* date\tдата совершения поездки\n",
    "\n",
    "Подписки — subscriptions_go.csv\n",
    "\n",
    "* subscription_type\tтип подписки\n",
    "\n",
    "* minute_price\tстоимость одной минуты поездки по данной подписке\n",
    "\n",
    "* start_ride_price\tстоимость начала поездки\n",
    "\n",
    "* subscription_fee\tстоимость ежемесячного платежа\n"
   ]
  },
  {
   "cell_type": "markdown",
   "id": "723022fb",
   "metadata": {},
   "source": [
    "<div class=\"alert alert-dang er\">\n",
    "<font size=\"4\"><b>❌ Комментарий ревьюера</b></font>\n",
    "    <br /> \n",
    "    <font size=\"3\", color = \"black\">\n",
    "<br />\n",
    "Название придаст вес проекту\n",
    "        \n",
    "а подробности выполнения проекта дадут возможность вспомнить через полгода — что мы тут делали "
   ]
  },
  {
   "cell_type": "markdown",
   "id": "5eed0b23",
   "metadata": {},
   "source": [
    "<div class=\"alert alert-info\">\n",
    "<font size=\"4\", color = \"black\"><b>✍ Комментарий студента</b></font>\n",
    "    <br /> \n",
    "    <font size=\"3\", color = \"black\">\n",
    "<br /> исправлено\n",
    "        "
   ]
  },
  {
   "cell_type": "markdown",
   "id": "d65012e4",
   "metadata": {},
   "source": [
    "<div class=\"alert alert-warning\", style=\"border:solid coral 3px; padding: 20px\">\n",
    "<font size=\"4\", color = \"DimGrey\"><b>⚠️ Комментарий ревьюера в2</b></font>\n",
    "    <br /> \n",
    "    <font size=\"3\", color = \"black\">\n",
    "<br /> Стоит добавлять еще больше подробностей к плану проекта, это позволит избежать многих ошибок на будущих проектах"
   ]
  },
  {
   "cell_type": "code",
   "execution_count": 1,
   "id": "72576667",
   "metadata": {},
   "outputs": [],
   "source": [
    "#импорт библиотек\n",
    "import pandas as pd\n",
    "import matplotlib.pyplot as plt\n",
    "import numpy as np\n",
    "from scipy import stats as st"
   ]
  },
  {
   "cell_type": "markdown",
   "id": "c42cbe00",
   "metadata": {},
   "source": [
    "#### Шаг 1. Загрузка данных"
   ]
  },
  {
   "cell_type": "markdown",
   "id": "7e468527",
   "metadata": {},
   "source": [
    "#####  Считайте CSV-файлы с данными с помощью библиотеки pandas и сохраните их в датафреймы. Пути к файлам:"
   ]
  },
  {
   "cell_type": "code",
   "execution_count": 2,
   "id": "eff9f206",
   "metadata": {},
   "outputs": [],
   "source": [
    "users = pd.read_csv('/datasets/users_go.csv')\n",
    "rides = pd.read_csv('/datasets/rides_go.csv')\n",
    "sub = pd.read_csv('/datasets/subscriptions_go.csv')"
   ]
  },
  {
   "cell_type": "markdown",
   "id": "de42e241",
   "metadata": {},
   "source": [
    "<div class=\"alert alert-warning\", style=\"border:solid coral 3px; padding: 20px\">\n",
    "<font size=\"4\", color = \"DimGrey\"><b>⚠️ Комментарий ревьюера</b></font>\n",
    "    <br /> \n",
    "    <font size=\"3\", color = \"black\">\n",
    "<br />\n",
    "        \n",
    "Если при загрузке данных добавить параметр `parse_dates: parse_dates=['date']` то тип данных автоматически переведется в даты. Подробнее про это можно прочитать по ссылке ниже\n",
    "\n",
    "https://newtechaudit.ru/gruzi-daty-krasivo/"
   ]
  },
  {
   "cell_type": "markdown",
   "id": "b55f885f",
   "metadata": {},
   "source": [
    "##### Выведите первые строки каждого набора данных. Изучите общую информацию о каждом датафрейме."
   ]
  },
  {
   "cell_type": "code",
   "execution_count": 3,
   "id": "b109ca75",
   "metadata": {},
   "outputs": [],
   "source": [
    "#для удобства работы с данными запишу в список имена датасетов\n",
    "data = [users,rides,sub]"
   ]
  },
  {
   "cell_type": "code",
   "execution_count": 4,
   "id": "a18b7fad",
   "metadata": {
    "scrolled": false
   },
   "outputs": [
    {
     "data": {
      "text/html": [
       "<div>\n",
       "<style scoped>\n",
       "    .dataframe tbody tr th:only-of-type {\n",
       "        vertical-align: middle;\n",
       "    }\n",
       "\n",
       "    .dataframe tbody tr th {\n",
       "        vertical-align: top;\n",
       "    }\n",
       "\n",
       "    .dataframe thead th {\n",
       "        text-align: right;\n",
       "    }\n",
       "</style>\n",
       "<table border=\"1\" class=\"dataframe\">\n",
       "  <thead>\n",
       "    <tr style=\"text-align: right;\">\n",
       "      <th></th>\n",
       "      <th>user_id</th>\n",
       "      <th>name</th>\n",
       "      <th>age</th>\n",
       "      <th>city</th>\n",
       "      <th>subscription_type</th>\n",
       "    </tr>\n",
       "  </thead>\n",
       "  <tbody>\n",
       "    <tr>\n",
       "      <th>0</th>\n",
       "      <td>1</td>\n",
       "      <td>Кира</td>\n",
       "      <td>22</td>\n",
       "      <td>Тюмень</td>\n",
       "      <td>ultra</td>\n",
       "    </tr>\n",
       "    <tr>\n",
       "      <th>1</th>\n",
       "      <td>2</td>\n",
       "      <td>Станислав</td>\n",
       "      <td>31</td>\n",
       "      <td>Омск</td>\n",
       "      <td>ultra</td>\n",
       "    </tr>\n",
       "    <tr>\n",
       "      <th>2</th>\n",
       "      <td>3</td>\n",
       "      <td>Алексей</td>\n",
       "      <td>20</td>\n",
       "      <td>Москва</td>\n",
       "      <td>ultra</td>\n",
       "    </tr>\n",
       "    <tr>\n",
       "      <th>3</th>\n",
       "      <td>4</td>\n",
       "      <td>Константин</td>\n",
       "      <td>26</td>\n",
       "      <td>Ростов-на-Дону</td>\n",
       "      <td>ultra</td>\n",
       "    </tr>\n",
       "    <tr>\n",
       "      <th>4</th>\n",
       "      <td>5</td>\n",
       "      <td>Адель</td>\n",
       "      <td>28</td>\n",
       "      <td>Омск</td>\n",
       "      <td>ultra</td>\n",
       "    </tr>\n",
       "  </tbody>\n",
       "</table>\n",
       "</div>"
      ],
      "text/plain": [
       "   user_id        name  age            city subscription_type\n",
       "0        1        Кира   22          Тюмень             ultra\n",
       "1        2   Станислав   31            Омск             ultra\n",
       "2        3     Алексей   20          Москва             ultra\n",
       "3        4  Константин   26  Ростов-на-Дону             ultra\n",
       "4        5       Адель   28            Омск             ultra"
      ]
     },
     "metadata": {},
     "output_type": "display_data"
    },
    {
     "data": {
      "text/html": [
       "<div>\n",
       "<style scoped>\n",
       "    .dataframe tbody tr th:only-of-type {\n",
       "        vertical-align: middle;\n",
       "    }\n",
       "\n",
       "    .dataframe tbody tr th {\n",
       "        vertical-align: top;\n",
       "    }\n",
       "\n",
       "    .dataframe thead th {\n",
       "        text-align: right;\n",
       "    }\n",
       "</style>\n",
       "<table border=\"1\" class=\"dataframe\">\n",
       "  <thead>\n",
       "    <tr style=\"text-align: right;\">\n",
       "      <th></th>\n",
       "      <th>user_id</th>\n",
       "      <th>distance</th>\n",
       "      <th>duration</th>\n",
       "      <th>date</th>\n",
       "    </tr>\n",
       "  </thead>\n",
       "  <tbody>\n",
       "    <tr>\n",
       "      <th>0</th>\n",
       "      <td>1</td>\n",
       "      <td>4409.919140</td>\n",
       "      <td>25.599769</td>\n",
       "      <td>2021-01-01</td>\n",
       "    </tr>\n",
       "    <tr>\n",
       "      <th>1</th>\n",
       "      <td>1</td>\n",
       "      <td>2617.592153</td>\n",
       "      <td>15.816871</td>\n",
       "      <td>2021-01-18</td>\n",
       "    </tr>\n",
       "    <tr>\n",
       "      <th>2</th>\n",
       "      <td>1</td>\n",
       "      <td>754.159807</td>\n",
       "      <td>6.232113</td>\n",
       "      <td>2021-04-20</td>\n",
       "    </tr>\n",
       "    <tr>\n",
       "      <th>3</th>\n",
       "      <td>1</td>\n",
       "      <td>2694.783254</td>\n",
       "      <td>18.511000</td>\n",
       "      <td>2021-08-11</td>\n",
       "    </tr>\n",
       "    <tr>\n",
       "      <th>4</th>\n",
       "      <td>1</td>\n",
       "      <td>4028.687306</td>\n",
       "      <td>26.265803</td>\n",
       "      <td>2021-08-28</td>\n",
       "    </tr>\n",
       "  </tbody>\n",
       "</table>\n",
       "</div>"
      ],
      "text/plain": [
       "   user_id     distance   duration        date\n",
       "0        1  4409.919140  25.599769  2021-01-01\n",
       "1        1  2617.592153  15.816871  2021-01-18\n",
       "2        1   754.159807   6.232113  2021-04-20\n",
       "3        1  2694.783254  18.511000  2021-08-11\n",
       "4        1  4028.687306  26.265803  2021-08-28"
      ]
     },
     "metadata": {},
     "output_type": "display_data"
    },
    {
     "data": {
      "text/html": [
       "<div>\n",
       "<style scoped>\n",
       "    .dataframe tbody tr th:only-of-type {\n",
       "        vertical-align: middle;\n",
       "    }\n",
       "\n",
       "    .dataframe tbody tr th {\n",
       "        vertical-align: top;\n",
       "    }\n",
       "\n",
       "    .dataframe thead th {\n",
       "        text-align: right;\n",
       "    }\n",
       "</style>\n",
       "<table border=\"1\" class=\"dataframe\">\n",
       "  <thead>\n",
       "    <tr style=\"text-align: right;\">\n",
       "      <th></th>\n",
       "      <th>subscription_type</th>\n",
       "      <th>minute_price</th>\n",
       "      <th>start_ride_price</th>\n",
       "      <th>subscription_fee</th>\n",
       "    </tr>\n",
       "  </thead>\n",
       "  <tbody>\n",
       "    <tr>\n",
       "      <th>0</th>\n",
       "      <td>free</td>\n",
       "      <td>8</td>\n",
       "      <td>50</td>\n",
       "      <td>0</td>\n",
       "    </tr>\n",
       "    <tr>\n",
       "      <th>1</th>\n",
       "      <td>ultra</td>\n",
       "      <td>6</td>\n",
       "      <td>0</td>\n",
       "      <td>199</td>\n",
       "    </tr>\n",
       "  </tbody>\n",
       "</table>\n",
       "</div>"
      ],
      "text/plain": [
       "  subscription_type  minute_price  start_ride_price  subscription_fee\n",
       "0              free             8                50                 0\n",
       "1             ultra             6                 0               199"
      ]
     },
     "metadata": {},
     "output_type": "display_data"
    }
   ],
   "source": [
    "#посмотрим на данные\n",
    "for i in data:\n",
    "    display(i.head())"
   ]
  },
  {
   "cell_type": "markdown",
   "id": "e0b1d94d",
   "metadata": {},
   "source": [
    "<div class=\"alert alert-warning\", style=\"border:solid coral 3px; padding: 20px\">\n",
    "<font size=\"4\", color = \"DimGrey\"><b>⚠️ <b> Комментарий ревьюера</b></font>\n",
    "<br /> \n",
    "<font size=\"3\", color = \"black\">\n",
    "<br /> display() вместо print(), поможет навести красоту на проекте\n",
    "    \n",
    "            print(i.head(5))\n",
    "    \n",
    "по умолчанию  head(5) выводит первые 5 строк, 5-ку можно не выставлять   "
   ]
  },
  {
   "cell_type": "markdown",
   "id": "d872133f",
   "metadata": {},
   "source": [
    "<div class=\"alert alert-info\">\n",
    "<font size=\"4\", color = \"black\"><b>✍ Комментарий студента</b></font>\n",
    "    <br /> \n",
    "    <font size=\"3\", color = \"black\">\n",
    "<br /> исправлено\n",
    "        "
   ]
  },
  {
   "cell_type": "code",
   "execution_count": 5,
   "id": "af6d202c",
   "metadata": {
    "scrolled": true
   },
   "outputs": [
    {
     "data": {
      "text/html": [
       "<div>\n",
       "<style scoped>\n",
       "    .dataframe tbody tr th:only-of-type {\n",
       "        vertical-align: middle;\n",
       "    }\n",
       "\n",
       "    .dataframe tbody tr th {\n",
       "        vertical-align: top;\n",
       "    }\n",
       "\n",
       "    .dataframe thead th {\n",
       "        text-align: right;\n",
       "    }\n",
       "</style>\n",
       "<table border=\"1\" class=\"dataframe\">\n",
       "  <thead>\n",
       "    <tr style=\"text-align: right;\">\n",
       "      <th></th>\n",
       "      <th>user_id</th>\n",
       "      <th>name</th>\n",
       "      <th>age</th>\n",
       "      <th>city</th>\n",
       "      <th>subscription_type</th>\n",
       "    </tr>\n",
       "  </thead>\n",
       "  <tbody>\n",
       "    <tr>\n",
       "      <th>0</th>\n",
       "      <td>1</td>\n",
       "      <td>Кира</td>\n",
       "      <td>22</td>\n",
       "      <td>Тюмень</td>\n",
       "      <td>ultra</td>\n",
       "    </tr>\n",
       "    <tr>\n",
       "      <th>1</th>\n",
       "      <td>2</td>\n",
       "      <td>Станислав</td>\n",
       "      <td>31</td>\n",
       "      <td>Омск</td>\n",
       "      <td>ultra</td>\n",
       "    </tr>\n",
       "    <tr>\n",
       "      <th>2</th>\n",
       "      <td>3</td>\n",
       "      <td>Алексей</td>\n",
       "      <td>20</td>\n",
       "      <td>Москва</td>\n",
       "      <td>ultra</td>\n",
       "    </tr>\n",
       "    <tr>\n",
       "      <th>3</th>\n",
       "      <td>4</td>\n",
       "      <td>Константин</td>\n",
       "      <td>26</td>\n",
       "      <td>Ростов-на-Дону</td>\n",
       "      <td>ultra</td>\n",
       "    </tr>\n",
       "    <tr>\n",
       "      <th>4</th>\n",
       "      <td>5</td>\n",
       "      <td>Адель</td>\n",
       "      <td>28</td>\n",
       "      <td>Омск</td>\n",
       "      <td>ultra</td>\n",
       "    </tr>\n",
       "  </tbody>\n",
       "</table>\n",
       "</div>"
      ],
      "text/plain": [
       "   user_id        name  age            city subscription_type\n",
       "0        1        Кира   22          Тюмень             ultra\n",
       "1        2   Станислав   31            Омск             ultra\n",
       "2        3     Алексей   20          Москва             ultra\n",
       "3        4  Константин   26  Ростов-на-Дону             ultra\n",
       "4        5       Адель   28            Омск             ultra"
      ]
     },
     "metadata": {},
     "output_type": "display_data"
    },
    {
     "name": "stdout",
     "output_type": "stream",
     "text": [
      "<class 'pandas.core.frame.DataFrame'>\n",
      "RangeIndex: 1565 entries, 0 to 1564\n",
      "Data columns (total 5 columns):\n",
      " #   Column             Non-Null Count  Dtype \n",
      "---  ------             --------------  ----- \n",
      " 0   user_id            1565 non-null   int64 \n",
      " 1   name               1565 non-null   object\n",
      " 2   age                1565 non-null   int64 \n",
      " 3   city               1565 non-null   object\n",
      " 4   subscription_type  1565 non-null   object\n",
      "dtypes: int64(2), object(3)\n",
      "memory usage: 61.3+ KB\n"
     ]
    },
    {
     "data": {
      "text/plain": [
       "None"
      ]
     },
     "metadata": {},
     "output_type": "display_data"
    },
    {
     "data": {
      "text/plain": [
       "(1565, 5)"
      ]
     },
     "metadata": {},
     "output_type": "display_data"
    },
    {
     "data": {
      "text/html": [
       "<div>\n",
       "<style scoped>\n",
       "    .dataframe tbody tr th:only-of-type {\n",
       "        vertical-align: middle;\n",
       "    }\n",
       "\n",
       "    .dataframe tbody tr th {\n",
       "        vertical-align: top;\n",
       "    }\n",
       "\n",
       "    .dataframe thead th {\n",
       "        text-align: right;\n",
       "    }\n",
       "</style>\n",
       "<table border=\"1\" class=\"dataframe\">\n",
       "  <thead>\n",
       "    <tr style=\"text-align: right;\">\n",
       "      <th></th>\n",
       "      <th>user_id</th>\n",
       "      <th>distance</th>\n",
       "      <th>duration</th>\n",
       "      <th>date</th>\n",
       "    </tr>\n",
       "  </thead>\n",
       "  <tbody>\n",
       "    <tr>\n",
       "      <th>0</th>\n",
       "      <td>1</td>\n",
       "      <td>4409.919140</td>\n",
       "      <td>25.599769</td>\n",
       "      <td>2021-01-01</td>\n",
       "    </tr>\n",
       "    <tr>\n",
       "      <th>1</th>\n",
       "      <td>1</td>\n",
       "      <td>2617.592153</td>\n",
       "      <td>15.816871</td>\n",
       "      <td>2021-01-18</td>\n",
       "    </tr>\n",
       "    <tr>\n",
       "      <th>2</th>\n",
       "      <td>1</td>\n",
       "      <td>754.159807</td>\n",
       "      <td>6.232113</td>\n",
       "      <td>2021-04-20</td>\n",
       "    </tr>\n",
       "    <tr>\n",
       "      <th>3</th>\n",
       "      <td>1</td>\n",
       "      <td>2694.783254</td>\n",
       "      <td>18.511000</td>\n",
       "      <td>2021-08-11</td>\n",
       "    </tr>\n",
       "    <tr>\n",
       "      <th>4</th>\n",
       "      <td>1</td>\n",
       "      <td>4028.687306</td>\n",
       "      <td>26.265803</td>\n",
       "      <td>2021-08-28</td>\n",
       "    </tr>\n",
       "  </tbody>\n",
       "</table>\n",
       "</div>"
      ],
      "text/plain": [
       "   user_id     distance   duration        date\n",
       "0        1  4409.919140  25.599769  2021-01-01\n",
       "1        1  2617.592153  15.816871  2021-01-18\n",
       "2        1   754.159807   6.232113  2021-04-20\n",
       "3        1  2694.783254  18.511000  2021-08-11\n",
       "4        1  4028.687306  26.265803  2021-08-28"
      ]
     },
     "metadata": {},
     "output_type": "display_data"
    },
    {
     "name": "stdout",
     "output_type": "stream",
     "text": [
      "<class 'pandas.core.frame.DataFrame'>\n",
      "RangeIndex: 18068 entries, 0 to 18067\n",
      "Data columns (total 4 columns):\n",
      " #   Column    Non-Null Count  Dtype  \n",
      "---  ------    --------------  -----  \n",
      " 0   user_id   18068 non-null  int64  \n",
      " 1   distance  18068 non-null  float64\n",
      " 2   duration  18068 non-null  float64\n",
      " 3   date      18068 non-null  object \n",
      "dtypes: float64(2), int64(1), object(1)\n",
      "memory usage: 564.8+ KB\n"
     ]
    },
    {
     "data": {
      "text/plain": [
       "None"
      ]
     },
     "metadata": {},
     "output_type": "display_data"
    },
    {
     "data": {
      "text/plain": [
       "(18068, 4)"
      ]
     },
     "metadata": {},
     "output_type": "display_data"
    },
    {
     "data": {
      "text/html": [
       "<div>\n",
       "<style scoped>\n",
       "    .dataframe tbody tr th:only-of-type {\n",
       "        vertical-align: middle;\n",
       "    }\n",
       "\n",
       "    .dataframe tbody tr th {\n",
       "        vertical-align: top;\n",
       "    }\n",
       "\n",
       "    .dataframe thead th {\n",
       "        text-align: right;\n",
       "    }\n",
       "</style>\n",
       "<table border=\"1\" class=\"dataframe\">\n",
       "  <thead>\n",
       "    <tr style=\"text-align: right;\">\n",
       "      <th></th>\n",
       "      <th>subscription_type</th>\n",
       "      <th>minute_price</th>\n",
       "      <th>start_ride_price</th>\n",
       "      <th>subscription_fee</th>\n",
       "    </tr>\n",
       "  </thead>\n",
       "  <tbody>\n",
       "    <tr>\n",
       "      <th>0</th>\n",
       "      <td>free</td>\n",
       "      <td>8</td>\n",
       "      <td>50</td>\n",
       "      <td>0</td>\n",
       "    </tr>\n",
       "    <tr>\n",
       "      <th>1</th>\n",
       "      <td>ultra</td>\n",
       "      <td>6</td>\n",
       "      <td>0</td>\n",
       "      <td>199</td>\n",
       "    </tr>\n",
       "  </tbody>\n",
       "</table>\n",
       "</div>"
      ],
      "text/plain": [
       "  subscription_type  minute_price  start_ride_price  subscription_fee\n",
       "0              free             8                50                 0\n",
       "1             ultra             6                 0               199"
      ]
     },
     "metadata": {},
     "output_type": "display_data"
    },
    {
     "name": "stdout",
     "output_type": "stream",
     "text": [
      "<class 'pandas.core.frame.DataFrame'>\n",
      "RangeIndex: 2 entries, 0 to 1\n",
      "Data columns (total 4 columns):\n",
      " #   Column             Non-Null Count  Dtype \n",
      "---  ------             --------------  ----- \n",
      " 0   subscription_type  2 non-null      object\n",
      " 1   minute_price       2 non-null      int64 \n",
      " 2   start_ride_price   2 non-null      int64 \n",
      " 3   subscription_fee   2 non-null      int64 \n",
      "dtypes: int64(3), object(1)\n",
      "memory usage: 192.0+ bytes\n"
     ]
    },
    {
     "data": {
      "text/plain": [
       "None"
      ]
     },
     "metadata": {},
     "output_type": "display_data"
    },
    {
     "data": {
      "text/plain": [
       "(2, 4)"
      ]
     },
     "metadata": {},
     "output_type": "display_data"
    }
   ],
   "source": [
    "#узнаем сколько строк и столбцов в данных\n",
    "data = [users,rides,sub]\n",
    "def data_info(data):\n",
    "    for i in data:\n",
    "        display(i.head())\n",
    "        display(i.info())      \n",
    "        display(i.shape)\n",
    "data_info(data)    "
   ]
  },
  {
   "cell_type": "markdown",
   "id": "ef4238fa",
   "metadata": {},
   "source": [
    "<div class=\"alert alert-warning\", style=\"border:solid coral 3px; padding: 20px\">\n",
    "<font size=\"4\", color = \"DimGrey\"><b>⚠️ Комментарий ревьюера</b></font>\n",
    "    <br /> \n",
    "    <font size=\"3\", color = \"black\">\n",
    "<br /> Все  методы можно собрать в функцию и оптимизировать код вывода первичной информации\n",
    "        \n",
    "        def ...:\n",
    "            ... dataset.head()\n",
    "            ... dataset.info()"
   ]
  },
  {
   "cell_type": "markdown",
   "id": "ffc2405b",
   "metadata": {},
   "source": [
    "<div style>\n",
    "<font size=\"4\"><b></b></font>\n",
    "<font size=\"5\", color = \"black\">\n",
    "👍"
   ]
  },
  {
   "cell_type": "code",
   "execution_count": 6,
   "id": "614f70eb",
   "metadata": {
    "scrolled": true
   },
   "outputs": [
    {
     "data": {
      "image/png": "[encoded data removed]",
      "text/plain": [
       "<Figure size 432x360 with 2 Axes>"
      ]
     },
     "metadata": {
      "needs_background": "light"
     },
     "output_type": "display_data"
    },
    {
     "data": {
      "image/png": "[encoded data removed]",
      "text/plain": [
       "<Figure size 432x360 with 4 Axes>"
      ]
     },
     "metadata": {
      "needs_background": "light"
     },
     "output_type": "display_data"
    },
    {
     "data": {
      "image/png": "[encoded data removed]",
      "text/plain": [
       "<Figure size 432x360 with 4 Axes>"
      ]
     },
     "metadata": {
      "needs_background": "light"
     },
     "output_type": "display_data"
    }
   ],
   "source": [
    "# построим гистограммы\n",
    "for i in data:\n",
    "    i.hist(figsize=(6,5))"
   ]
  },
  {
   "cell_type": "code",
   "execution_count": 7,
   "id": "da13ff2e",
   "metadata": {
    "scrolled": true
   },
   "outputs": [
    {
     "name": "stdout",
     "output_type": "stream",
     "text": [
      "<class 'pandas.core.frame.DataFrame'>\n",
      "RangeIndex: 1565 entries, 0 to 1564\n",
      "Data columns (total 5 columns):\n",
      " #   Column             Non-Null Count  Dtype \n",
      "---  ------             --------------  ----- \n",
      " 0   user_id            1565 non-null   int64 \n",
      " 1   name               1565 non-null   object\n",
      " 2   age                1565 non-null   int64 \n",
      " 3   city               1565 non-null   object\n",
      " 4   subscription_type  1565 non-null   object\n",
      "dtypes: int64(2), object(3)\n",
      "memory usage: 61.3+ KB\n"
     ]
    },
    {
     "data": {
      "text/plain": [
       "None"
      ]
     },
     "metadata": {},
     "output_type": "display_data"
    },
    {
     "name": "stdout",
     "output_type": "stream",
     "text": [
      "<class 'pandas.core.frame.DataFrame'>\n",
      "RangeIndex: 18068 entries, 0 to 18067\n",
      "Data columns (total 4 columns):\n",
      " #   Column    Non-Null Count  Dtype  \n",
      "---  ------    --------------  -----  \n",
      " 0   user_id   18068 non-null  int64  \n",
      " 1   distance  18068 non-null  float64\n",
      " 2   duration  18068 non-null  float64\n",
      " 3   date      18068 non-null  object \n",
      "dtypes: float64(2), int64(1), object(1)\n",
      "memory usage: 564.8+ KB\n"
     ]
    },
    {
     "data": {
      "text/plain": [
       "None"
      ]
     },
     "metadata": {},
     "output_type": "display_data"
    },
    {
     "name": "stdout",
     "output_type": "stream",
     "text": [
      "<class 'pandas.core.frame.DataFrame'>\n",
      "RangeIndex: 2 entries, 0 to 1\n",
      "Data columns (total 4 columns):\n",
      " #   Column             Non-Null Count  Dtype \n",
      "---  ------             --------------  ----- \n",
      " 0   subscription_type  2 non-null      object\n",
      " 1   minute_price       2 non-null      int64 \n",
      " 2   start_ride_price   2 non-null      int64 \n",
      " 3   subscription_fee   2 non-null      int64 \n",
      "dtypes: int64(3), object(1)\n",
      "memory usage: 192.0+ bytes\n"
     ]
    },
    {
     "data": {
      "text/plain": [
       "None"
      ]
     },
     "metadata": {},
     "output_type": "display_data"
    }
   ],
   "source": [
    "# общая информация по данным\n",
    "for i in data:\n",
    "    display(i.info())\n",
    "   "
   ]
  },
  {
   "cell_type": "markdown",
   "id": "8d8f5e95",
   "metadata": {},
   "source": [
    "<div class=\"alert alert-warning\", style=\"border:solid coral 3px; padding: 20px\">\n",
    "<font size=\"4\", color = \"DimGrey\"><b>⚠️ <b> Комментарий ревьюера в2</b></font>\n",
    "<br /> \n",
    "<font size=\"3\", color = \"black\">\n",
    "<br /> Подсвечу еще раз - display() вместо print() ...\n",
    "    \n",
    "    print(i.describe())"
   ]
  },
  {
   "cell_type": "markdown",
   "id": "dcefb744",
   "metadata": {},
   "source": [
    "<div class=\"alert alert-info\">\n",
    "<font size=\"4\", color = \"black\"><b>✍ Комментарий студента v2</b></font>\n",
    "    <br /> \n",
    "    <font size=\"3\", color = \"black\">\n",
    "<br /> учтено"
   ]
  },
  {
   "cell_type": "code",
   "execution_count": 8,
   "id": "e3e3aa21",
   "metadata": {
    "scrolled": true
   },
   "outputs": [
    {
     "data": {
      "text/html": [
       "<div>\n",
       "<style scoped>\n",
       "    .dataframe tbody tr th:only-of-type {\n",
       "        vertical-align: middle;\n",
       "    }\n",
       "\n",
       "    .dataframe tbody tr th {\n",
       "        vertical-align: top;\n",
       "    }\n",
       "\n",
       "    .dataframe thead th {\n",
       "        text-align: right;\n",
       "    }\n",
       "</style>\n",
       "<table border=\"1\" class=\"dataframe\">\n",
       "  <thead>\n",
       "    <tr style=\"text-align: right;\">\n",
       "      <th></th>\n",
       "      <th>user_id</th>\n",
       "      <th>age</th>\n",
       "    </tr>\n",
       "  </thead>\n",
       "  <tbody>\n",
       "    <tr>\n",
       "      <th>count</th>\n",
       "      <td>1565.000000</td>\n",
       "      <td>1565.000000</td>\n",
       "    </tr>\n",
       "    <tr>\n",
       "      <th>mean</th>\n",
       "      <td>762.633866</td>\n",
       "      <td>24.922045</td>\n",
       "    </tr>\n",
       "    <tr>\n",
       "      <th>std</th>\n",
       "      <td>443.260155</td>\n",
       "      <td>4.553496</td>\n",
       "    </tr>\n",
       "    <tr>\n",
       "      <th>min</th>\n",
       "      <td>1.000000</td>\n",
       "      <td>12.000000</td>\n",
       "    </tr>\n",
       "    <tr>\n",
       "      <th>25%</th>\n",
       "      <td>378.000000</td>\n",
       "      <td>22.000000</td>\n",
       "    </tr>\n",
       "    <tr>\n",
       "      <th>50%</th>\n",
       "      <td>762.000000</td>\n",
       "      <td>25.000000</td>\n",
       "    </tr>\n",
       "    <tr>\n",
       "      <th>75%</th>\n",
       "      <td>1146.000000</td>\n",
       "      <td>28.000000</td>\n",
       "    </tr>\n",
       "    <tr>\n",
       "      <th>max</th>\n",
       "      <td>1534.000000</td>\n",
       "      <td>43.000000</td>\n",
       "    </tr>\n",
       "  </tbody>\n",
       "</table>\n",
       "</div>"
      ],
      "text/plain": [
       "           user_id          age\n",
       "count  1565.000000  1565.000000\n",
       "mean    762.633866    24.922045\n",
       "std     443.260155     4.553496\n",
       "min       1.000000    12.000000\n",
       "25%     378.000000    22.000000\n",
       "50%     762.000000    25.000000\n",
       "75%    1146.000000    28.000000\n",
       "max    1534.000000    43.000000"
      ]
     },
     "metadata": {},
     "output_type": "display_data"
    },
    {
     "data": {
      "text/html": [
       "<div>\n",
       "<style scoped>\n",
       "    .dataframe tbody tr th:only-of-type {\n",
       "        vertical-align: middle;\n",
       "    }\n",
       "\n",
       "    .dataframe tbody tr th {\n",
       "        vertical-align: top;\n",
       "    }\n",
       "\n",
       "    .dataframe thead th {\n",
       "        text-align: right;\n",
       "    }\n",
       "</style>\n",
       "<table border=\"1\" class=\"dataframe\">\n",
       "  <thead>\n",
       "    <tr style=\"text-align: right;\">\n",
       "      <th></th>\n",
       "      <th>user_id</th>\n",
       "      <th>distance</th>\n",
       "      <th>duration</th>\n",
       "    </tr>\n",
       "  </thead>\n",
       "  <tbody>\n",
       "    <tr>\n",
       "      <th>count</th>\n",
       "      <td>18068.000000</td>\n",
       "      <td>18068.000000</td>\n",
       "      <td>18068.000000</td>\n",
       "    </tr>\n",
       "    <tr>\n",
       "      <th>mean</th>\n",
       "      <td>842.869936</td>\n",
       "      <td>3070.659976</td>\n",
       "      <td>17.805011</td>\n",
       "    </tr>\n",
       "    <tr>\n",
       "      <th>std</th>\n",
       "      <td>434.734317</td>\n",
       "      <td>1116.831209</td>\n",
       "      <td>6.091051</td>\n",
       "    </tr>\n",
       "    <tr>\n",
       "      <th>min</th>\n",
       "      <td>1.000000</td>\n",
       "      <td>0.855683</td>\n",
       "      <td>0.500000</td>\n",
       "    </tr>\n",
       "    <tr>\n",
       "      <th>25%</th>\n",
       "      <td>487.000000</td>\n",
       "      <td>2543.226360</td>\n",
       "      <td>13.597563</td>\n",
       "    </tr>\n",
       "    <tr>\n",
       "      <th>50%</th>\n",
       "      <td>889.000000</td>\n",
       "      <td>3133.609994</td>\n",
       "      <td>17.678395</td>\n",
       "    </tr>\n",
       "    <tr>\n",
       "      <th>75%</th>\n",
       "      <td>1213.250000</td>\n",
       "      <td>3776.222735</td>\n",
       "      <td>21.724800</td>\n",
       "    </tr>\n",
       "    <tr>\n",
       "      <th>max</th>\n",
       "      <td>1534.000000</td>\n",
       "      <td>7211.007745</td>\n",
       "      <td>40.823963</td>\n",
       "    </tr>\n",
       "  </tbody>\n",
       "</table>\n",
       "</div>"
      ],
      "text/plain": [
       "            user_id      distance      duration\n",
       "count  18068.000000  18068.000000  18068.000000\n",
       "mean     842.869936   3070.659976     17.805011\n",
       "std      434.734317   1116.831209      6.091051\n",
       "min        1.000000      0.855683      0.500000\n",
       "25%      487.000000   2543.226360     13.597563\n",
       "50%      889.000000   3133.609994     17.678395\n",
       "75%     1213.250000   3776.222735     21.724800\n",
       "max     1534.000000   7211.007745     40.823963"
      ]
     },
     "metadata": {},
     "output_type": "display_data"
    },
    {
     "data": {
      "text/html": [
       "<div>\n",
       "<style scoped>\n",
       "    .dataframe tbody tr th:only-of-type {\n",
       "        vertical-align: middle;\n",
       "    }\n",
       "\n",
       "    .dataframe tbody tr th {\n",
       "        vertical-align: top;\n",
       "    }\n",
       "\n",
       "    .dataframe thead th {\n",
       "        text-align: right;\n",
       "    }\n",
       "</style>\n",
       "<table border=\"1\" class=\"dataframe\">\n",
       "  <thead>\n",
       "    <tr style=\"text-align: right;\">\n",
       "      <th></th>\n",
       "      <th>minute_price</th>\n",
       "      <th>start_ride_price</th>\n",
       "      <th>subscription_fee</th>\n",
       "    </tr>\n",
       "  </thead>\n",
       "  <tbody>\n",
       "    <tr>\n",
       "      <th>count</th>\n",
       "      <td>2.000000</td>\n",
       "      <td>2.000000</td>\n",
       "      <td>2.000000</td>\n",
       "    </tr>\n",
       "    <tr>\n",
       "      <th>mean</th>\n",
       "      <td>7.000000</td>\n",
       "      <td>25.000000</td>\n",
       "      <td>99.500000</td>\n",
       "    </tr>\n",
       "    <tr>\n",
       "      <th>std</th>\n",
       "      <td>1.414214</td>\n",
       "      <td>35.355339</td>\n",
       "      <td>140.714249</td>\n",
       "    </tr>\n",
       "    <tr>\n",
       "      <th>min</th>\n",
       "      <td>6.000000</td>\n",
       "      <td>0.000000</td>\n",
       "      <td>0.000000</td>\n",
       "    </tr>\n",
       "    <tr>\n",
       "      <th>25%</th>\n",
       "      <td>6.500000</td>\n",
       "      <td>12.500000</td>\n",
       "      <td>49.750000</td>\n",
       "    </tr>\n",
       "    <tr>\n",
       "      <th>50%</th>\n",
       "      <td>7.000000</td>\n",
       "      <td>25.000000</td>\n",
       "      <td>99.500000</td>\n",
       "    </tr>\n",
       "    <tr>\n",
       "      <th>75%</th>\n",
       "      <td>7.500000</td>\n",
       "      <td>37.500000</td>\n",
       "      <td>149.250000</td>\n",
       "    </tr>\n",
       "    <tr>\n",
       "      <th>max</th>\n",
       "      <td>8.000000</td>\n",
       "      <td>50.000000</td>\n",
       "      <td>199.000000</td>\n",
       "    </tr>\n",
       "  </tbody>\n",
       "</table>\n",
       "</div>"
      ],
      "text/plain": [
       "       minute_price  start_ride_price  subscription_fee\n",
       "count      2.000000          2.000000          2.000000\n",
       "mean       7.000000         25.000000         99.500000\n",
       "std        1.414214         35.355339        140.714249\n",
       "min        6.000000          0.000000          0.000000\n",
       "25%        6.500000         12.500000         49.750000\n",
       "50%        7.000000         25.000000         99.500000\n",
       "75%        7.500000         37.500000        149.250000\n",
       "max        8.000000         50.000000        199.000000"
      ]
     },
     "metadata": {},
     "output_type": "display_data"
    }
   ],
   "source": [
    "# общая информация по данным\n",
    "for i in data:\n",
    "    display(i.describe())\n",
    "   "
   ]
  },
  {
   "cell_type": "markdown",
   "id": "d49df954",
   "metadata": {},
   "source": [
    "<div class=\"alert alert-warning\", style=\"border:solid coral 3px; padding: 20px\">\n",
    "<font size=\"4\", color = \"DimGrey\"><b>⚠️ Комментарий ревьюера</b></font>\n",
    "    <br /> \n",
    "    <font size=\"3\", color = \"black\">\n",
    "<br />\n",
    "Для красоты («продаваемости») всего проекта не стоит выходить за видимую ширину тетради юпитер ноутбука, коллеги ценят удобство прочтения кода. Широкие строки кода рекомендуется — делить <a href=\"https://qastack.ru/programming/53162/how-can-i-do-a-line-break-line-continuation-in-python\">Перенос длинных строк кода</a>. \n",
    "    \n",
    "</div>"
   ]
  },
  {
   "cell_type": "markdown",
   "id": "d47089c0",
   "metadata": {},
   "source": [
    "<div class=\"alert alert-info\">\n",
    "<font size=\"4\", color = \"black\"><b>✍ Комментарий студента</b></font>\n",
    "    <br /> \n",
    "    <font size=\"3\", color = \"black\">\n",
    "<br /> учтено"
   ]
  },
  {
   "cell_type": "markdown",
   "id": "db50ad92",
   "metadata": {},
   "source": [
    "<div class=\"alert alert-dan ger\">\n",
    "<font size=\"4\"><b>❌ Комментарий ревьюера</b></font>\n",
    "    <br />\n",
    "    <font size=\"3\", color = \"black\">\n",
    "<br />Круговая диаграмма малоинформативна для кол-ва категорий более 5-ти, невозможно за 5 сек. сравнить и решить какой город является отстающим, а самое главное определить — насколько сильно он отстает от лидера"
   ]
  },
  {
   "cell_type": "markdown",
   "id": "da406e7d",
   "metadata": {},
   "source": [
    "<div class=\"alert alert-info\">\n",
    "<font size=\"4\", color = \"black\"><b>✍ Комментарий студента</b></font>\n",
    "    <br /> \n",
    "    <font size=\"3\", color = \"black\">\n",
    "<br /> исправлено, убрала круговую диаграмму"
   ]
  },
  {
   "cell_type": "markdown",
   "id": "ca2ddb6d",
   "metadata": {},
   "source": [
    "<div style=\"border:solid steelblue 3px; padding: 20px\">\n",
    "<font size=\"4\">🍕<b> Комментарий ревьюера</b></font>\n",
    "<br /> \n",
    "<font size=\"3\", color = \"black\">\n",
    "<br />         \n",
    "    \n",
    "[Постер поможет выбирать вид графиков](https://www.notion.so/6c5ae8ceb8b5411e907c93c9b5e6a44e)"
   ]
  },
  {
   "cell_type": "markdown",
   "id": "25e002a4",
   "metadata": {},
   "source": [
    "<div class=\"alert alert-da nger\">\n",
    "<font size=\"4\"><b>❌ Комментарий ревьюера</b></font>\n",
    "    <br /> \n",
    "    <font size=\"3\", color = \"black\">\n",
    "<br /> Стоит полностью оформить все графики на проекте\n",
    "\n",
    "Подписи осей на графиках и название добавят ясности и читабельности.\n",
    "Это важные элементы любой визуализации. Как добавить подписи и названия, смотри [здесь](https://proproprogs.ru/modules/matplotlib-razmeshchaem-standartnye-tekstovye-elementy-na-grafike?ysclid=l6agtioc6f299002507)"
   ]
  },
  {
   "cell_type": "markdown",
   "id": "8d644393",
   "metadata": {},
   "source": [
    "<div class=\"alert alert-info\">\n",
    "<font size=\"4\", color = \"black\"><b>✍ Комментарий студента</b></font>\n",
    "    <br /> \n",
    "    <font size=\"3\", color = \"black\">\n",
    "<br /> исправлено в последующих графиках"
   ]
  },
  {
   "cell_type": "markdown",
   "id": "8ff659d5",
   "metadata": {},
   "source": [
    "ВЫВОД к шагу 1:\n",
    "\n",
    "Прочитали данные, ознакомились с ними. Большинство пользователей сервиса в возрасте от 22 до 28. \n",
    "\n",
    "\n"
   ]
  },
  {
   "cell_type": "markdown",
   "id": "3b357867",
   "metadata": {},
   "source": [
    "<div class=\"alert alert-warning\", style=\"border:solid coral 3px; padding: 20px\">\n",
    "<font size=\"4\", color = \"DimGrey\"><b>⚠️Комментарий ревьюера</b></font>\n",
    "    <br /> \n",
    "    <font size=\"3\", color = \"black\">\n",
    "<br /> Стоит указать на сколько %-ов отличается кол-во пользователей в разных городах, стоит ли говорить о такой разнице?"
   ]
  },
  {
   "cell_type": "markdown",
   "id": "dab44186",
   "metadata": {},
   "source": [
    "<div class=\"alert alert-info\">\n",
    "<font size=\"4\", color = \"black\"><b>✍ Комментарий студента</b></font>\n",
    "    <br /> \n",
    "    <font size=\"3\", color = \"black\">\n",
    "<br /> Перенесено в следующий раздел"
   ]
  },
  {
   "cell_type": "markdown",
   "id": "a6ae789b",
   "metadata": {},
   "source": [
    "<div class=\"alert alert-warning\", style=\"border:solid coral 3px; padding: 20px\">\n",
    "<font size=\"4\", color = \"DimGrey\"><b>⚠️Комментарий ревьюера</b></font>\n",
    "    <br /> \n",
    "    <font size=\"3\", color = \"black\">\n",
    "<br /> Стоит перенести часть задач в следующий раздел, на первом этапе мы знакомимся только с общей информацией о выборке"
   ]
  },
  {
   "cell_type": "markdown",
   "id": "e95ebca7",
   "metadata": {},
   "source": [
    "#### Шаг 2. Предобработка данных"
   ]
  },
  {
   "cell_type": "markdown",
   "id": "f0a6faef",
   "metadata": {},
   "source": [
    "#####  Приведите столбец date к типу даты pandas."
   ]
  },
  {
   "cell_type": "code",
   "execution_count": 9,
   "id": "fcd2b8e1",
   "metadata": {},
   "outputs": [
    {
     "name": "stdout",
     "output_type": "stream",
     "text": [
      "<class 'pandas.core.frame.DataFrame'>\n",
      "RangeIndex: 18068 entries, 0 to 18067\n",
      "Data columns (total 4 columns):\n",
      " #   Column    Non-Null Count  Dtype         \n",
      "---  ------    --------------  -----         \n",
      " 0   user_id   18068 non-null  int64         \n",
      " 1   distance  18068 non-null  float64       \n",
      " 2   duration  18068 non-null  float64       \n",
      " 3   date      18068 non-null  datetime64[ns]\n",
      "dtypes: datetime64[ns](1), float64(2), int64(1)\n",
      "memory usage: 564.8 KB\n"
     ]
    }
   ],
   "source": [
    "#изменим тип у  date  \n",
    "rides['date'] = pd.to_datetime(rides['date'], format='%Y-%m-%d')\n",
    "rides.info()"
   ]
  },
  {
   "cell_type": "markdown",
   "id": "8d722948",
   "metadata": {},
   "source": [
    "#####  Создайте новый столбец с номером месяца на основе столбца date."
   ]
  },
  {
   "cell_type": "code",
   "execution_count": 10,
   "id": "b86f1224",
   "metadata": {},
   "outputs": [
    {
     "name": "stdout",
     "output_type": "stream",
     "text": [
      "2021-01-01 00:00:00 2021-12-30 00:00:00\n"
     ]
    }
   ],
   "source": [
    "print(rides['date'].min(),rides['date'].max())"
   ]
  },
  {
   "cell_type": "markdown",
   "id": "7ac70304",
   "metadata": {},
   "source": [
    "данные за год,все ок. были риски, что мы не учтем год"
   ]
  },
  {
   "cell_type": "code",
   "execution_count": 11,
   "id": "3e71f319",
   "metadata": {},
   "outputs": [],
   "source": [
    "# используем метод month\n",
    "rides['month'] = pd.to_datetime(rides['date']).dt.month"
   ]
  },
  {
   "cell_type": "markdown",
   "id": "13c1b790",
   "metadata": {},
   "source": [
    "<div class=\"alert alert-success\">\n",
    "<font size=\"4\", color= \"seagreen\"><b>✔️ Комментарий ревьюера</b></font>\n",
    "    <br /> \n",
    "    <font size=\"3\", color = \"black\">\n",
    "<br />Молодец — проверила период за который собраны данные"
   ]
  },
  {
   "cell_type": "markdown",
   "id": "4e390607",
   "metadata": {},
   "source": [
    "#####  Проверьте наличие пропущенных значений и дубликатов в датафреймах. Обработайте их, если такие значения присутствуют."
   ]
  },
  {
   "cell_type": "code",
   "execution_count": 12,
   "id": "eb5e8445",
   "metadata": {},
   "outputs": [
    {
     "name": "stdout",
     "output_type": "stream",
     "text": [
      "user_id              0\n",
      "name                 0\n",
      "age                  0\n",
      "city                 0\n",
      "subscription_type    0\n",
      "dtype: int64\n"
     ]
    }
   ],
   "source": [
    "# подсчёт пропусков в данных users\n",
    "print(users.isna().sum())"
   ]
  },
  {
   "cell_type": "code",
   "execution_count": 13,
   "id": "11065ad0",
   "metadata": {},
   "outputs": [
    {
     "name": "stdout",
     "output_type": "stream",
     "text": [
      "user_id     0\n",
      "distance    0\n",
      "duration    0\n",
      "date        0\n",
      "month       0\n",
      "dtype: int64\n"
     ]
    }
   ],
   "source": [
    "# подсчёт пропусков в данных rides\n",
    "print(rides.isna().sum())"
   ]
  },
  {
   "cell_type": "code",
   "execution_count": 14,
   "id": "649e84d9",
   "metadata": {
    "scrolled": true
   },
   "outputs": [
    {
     "name": "stdout",
     "output_type": "stream",
     "text": [
      "subscription_type    0\n",
      "minute_price         0\n",
      "start_ride_price     0\n",
      "subscription_fee     0\n",
      "dtype: int64\n"
     ]
    }
   ],
   "source": [
    "# подсчёт пропусков в данных subscription\n",
    "print(sub.isna().sum())"
   ]
  },
  {
   "cell_type": "code",
   "execution_count": 15,
   "id": "f9ab24f6",
   "metadata": {},
   "outputs": [
    {
     "name": "stdout",
     "output_type": "stream",
     "text": [
      "31\n",
      "0\n",
      "0\n"
     ]
    }
   ],
   "source": [
    "#посмотрим есть ли явные дубликаты\n",
    "for i in data:\n",
    "    print(i.duplicated().sum())"
   ]
  },
  {
   "cell_type": "code",
   "execution_count": 16,
   "id": "ec41fc10",
   "metadata": {},
   "outputs": [],
   "source": [
    "#в таблице users удалим 31 дубль\n",
    "# inplace=True потому что меняем текущий датасет\n",
    "\n",
    "users.drop_duplicates(inplace=True)"
   ]
  },
  {
   "cell_type": "markdown",
   "id": "9d7a67eb",
   "metadata": {},
   "source": [
    "ВЫВОД к шагу 2:\n",
    "\n",
    "\n",
    "На этом шаге мы преобразовали столбец дата к типу данных datetime. Создали новый столбец 'month' с цифрой месяца, убедившись, что в датасете данные только за один год и мы ничего не потеряем. \n",
    "\n",
    "Пропусков в данных нет, дубликаты из таблицы users удалены."
   ]
  },
  {
   "cell_type": "markdown",
   "id": "8c992a51",
   "metadata": {},
   "source": [
    "<div class=\"alert alert-success\">\n",
    "<font size=\"4\", color= \"seagreen\"><b>✔️ Комментарий ревьюера</b></font>\n",
    "    <br /> \n",
    "    <font size=\"3\", color = \"black\">\n",
    "<br />Проверка на поиск дубликатов выполнена, молодец\n",
    "        \n",
    "Особенно это станет важным, когда мы перейдем к более сложным задачам на втором модуле курса\n",
    "          "
   ]
  },
  {
   "cell_type": "markdown",
   "id": "212593c7",
   "metadata": {},
   "source": [
    "#### Шаг 3. Исследовательский анализ данных"
   ]
  },
  {
   "cell_type": "markdown",
   "id": "4b45b67f",
   "metadata": {},
   "source": [
    "Опишите и визуализируйте общую информацию о пользователях и поездках:\n",
    "\n",
    "##### частота встречаемости городов;"
   ]
  },
  {
   "cell_type": "code",
   "execution_count": 17,
   "id": "db11cc7e",
   "metadata": {},
   "outputs": [
    {
     "data": {
      "text/plain": [
       "Пятигорск         219\n",
       "Екатеринбург      204\n",
       "Ростов-на-Дону    198\n",
       "Краснодар         193\n",
       "Сочи              189\n",
       "Омск              183\n",
       "Тюмень            180\n",
       "Москва            168\n",
       "Name: city, dtype: int64"
      ]
     },
     "execution_count": 17,
     "metadata": {},
     "output_type": "execute_result"
    }
   ],
   "source": [
    "#считаем сколько раз встречается тот или иной город\n",
    "users['city'].value_counts()"
   ]
  },
  {
   "cell_type": "code",
   "execution_count": 18,
   "id": "b0790537",
   "metadata": {},
   "outputs": [
    {
     "data": {
      "image/png": "[encoded data removed]",
      "text/plain": [
       "<Figure size 648x432 with 1 Axes>"
      ]
     },
     "metadata": {},
     "output_type": "display_data"
    }
   ],
   "source": [
    "#построим диаграмму пирог и подпишем проценты\n",
    "users.pivot_table(index='city',\n",
    "                  values='user_id',\n",
    "                  aggfunc='count').plot.pie(y='user_id',label=' ',autopct = '%1.0f%%',\n",
    "                                            title='Доля пользователей в городах',figsize=(9,6));"
   ]
  },
  {
   "cell_type": "code",
   "execution_count": 19,
   "id": "e3a4274c",
   "metadata": {},
   "outputs": [
    {
     "data": {
      "image/png": "[encoded data removed]",
      "text/plain": [
       "<Figure size 432x288 with 1 Axes>"
      ]
     },
     "metadata": {
      "needs_background": "light"
     },
     "output_type": "display_data"
    }
   ],
   "source": [
    "ax = users.pivot_table(index='city',values='user_id',aggfunc='count').sort_values(by='user_id').\\\n",
    "plot.barh( y='user_id') \n",
    "ax.set_title('Пользователи в городах');\n",
    "ax.set_xlabel('Города');\n",
    "ax.set_ylabel('Количество пользователей');"
   ]
  },
  {
   "cell_type": "markdown",
   "id": "3e57dbfb",
   "metadata": {},
   "source": [
    "<div class=\"alert alert-warning\", style=\"border:solid coral 3px; padding: 20px\">\n",
    "<font size=\"4\", color = \"DimGrey\"><b>⚠️ Комментарий ревьюера в3</b></font>\n",
    "    <br />  \n",
    "    <font size=\"3\", color = \"black\">\n",
    "<br /> Осталось скрыть легенду — она не несет ценности 🤝"
   ]
  },
  {
   "cell_type": "markdown",
   "id": "1a79b4cc",
   "metadata": {},
   "source": [
    "<div class=\"alert alert-warning\", style=\"border:solid coral 3px; padding: 20px\">\n",
    "<font size=\"4\", color = \"DimGrey\"><b>⚠️ Комментарий ревьюера в2</b></font>\n",
    "    <br />  \n",
    "    <font size=\"3\", color = \"black\">\n",
    "<br /> Стоит сортировать значения для графиков и развернуть график в горизонтальные бары, если надписи оси Х не умещаются в горизонтальном виде"
   ]
  },
  {
   "cell_type": "markdown",
   "id": "5797406e",
   "metadata": {},
   "source": [
    "<div class=\"alert alert-info\">\n",
    "<font size=\"4\", color = \"black\"><b>✍ Комментарий студента v2</b></font>\n",
    "    <br /> \n",
    "    <font size=\"3\", color = \"black\">\n",
    "<br /> учтено"
   ]
  },
  {
   "cell_type": "markdown",
   "id": "7207b2a1",
   "metadata": {},
   "source": [
    "<div class=\"alert alert-warning\", style=\"border:solid coral 3px; padding: 20px\">\n",
    "<font size=\"4\", color = \"DimGrey\"><b>⚠️ Комментарий ревьюера</b></font>\n",
    "    <br /> \n",
    "    <font size=\"3\", color = \"black\">\n",
    "<br />  Стоит исключить дублирование кода на проекте ⬆⬆⬆"
   ]
  },
  {
   "cell_type": "markdown",
   "id": "9b5e4402",
   "metadata": {},
   "source": [
    "<div class=\"alert alert-info\">\n",
    "<font size=\"4\", color = \"black\"><b>✍ Комментарий студента</b></font>\n",
    "    <br /> \n",
    "    <font size=\"3\", color = \"black\">\n",
    "<br /> исправлено"
   ]
  },
  {
   "cell_type": "markdown",
   "id": "e8a13135",
   "metadata": {},
   "source": [
    "##### соотношение пользователей с подпиской и без подписки;"
   ]
  },
  {
   "cell_type": "code",
   "execution_count": 20,
   "id": "b305982e",
   "metadata": {},
   "outputs": [
    {
     "data": {
      "text/plain": [
       "free     835\n",
       "ultra    699\n",
       "Name: subscription_type, dtype: int64"
      ]
     },
     "execution_count": 20,
     "metadata": {},
     "output_type": "execute_result"
    }
   ],
   "source": [
    "# смотрим сколько ползователей с подпиской и без\n",
    "users['subscription_type'].value_counts()"
   ]
  },
  {
   "cell_type": "code",
   "execution_count": 21,
   "id": "5587b154",
   "metadata": {},
   "outputs": [
    {
     "data": {
      "text/plain": [
       "free     54.432855\n",
       "ultra    45.567145\n",
       "Name: subscription_type, dtype: float64"
      ]
     },
     "execution_count": 21,
     "metadata": {},
     "output_type": "execute_result"
    }
   ],
   "source": [
    "# посмотрим какой % юзеров используют бесплатный тариф\n",
    "users['subscription_type'].value_counts()/len(users['subscription_type'])*100"
   ]
  },
  {
   "cell_type": "code",
   "execution_count": 22,
   "id": "882a085d",
   "metadata": {},
   "outputs": [
    {
     "data": {
      "image/png": "[encoded data removed]",
      "text/plain": [
       "<Figure size 648x432 with 1 Axes>"
      ]
     },
     "metadata": {},
     "output_type": "display_data"
    }
   ],
   "source": [
    "#строим диаграмму пирог\n",
    "users.pivot_table(index='subscription_type',values='user_id',aggfunc='count').\\\n",
    "plot.pie(y='user_id',label=' ',autopct = '%1.0f%%', colors=[\"yellow\", \"orange\"],\n",
    "         title='Доля пользователей с подпиской и без',figsize=(9,6));"
   ]
  },
  {
   "cell_type": "markdown",
   "id": "b177abbd",
   "metadata": {},
   "source": [
    "<div class=\"alert alert-warning\", style=\"border:solid coral 3px; padding: 20px\">\n",
    "<font size=\"4\", color = \"DimGrey\"><b>⚠️ Комментарий ревьюера </b></font>\n",
    "    <br />  \n",
    "    <font size=\"3\", color = \"black\">\n",
    "<br /> В этом случае круговая диаграмма наглядно показывает разность\n",
    "        \n",
    "        стоит изменить цвет шрифта для значений (чисел) или цвет фона, на темном фоне не читаются темные цифры\n",
    "         "
   ]
  },
  {
   "cell_type": "markdown",
   "id": "65f6c171",
   "metadata": {},
   "source": [
    "<div class=\"alert alert-info\">\n",
    "<font size=\"4\", color = \"black\"><b>✍ Комментарий студента</b></font>\n",
    "    <br /> \n",
    "    <font size=\"3\", color = \"black\">\n",
    "<br /> исправлены цвета круговой диаграммы"
   ]
  },
  {
   "cell_type": "markdown",
   "id": "615b0a00",
   "metadata": {},
   "source": [
    "<div class=\"alert alert-success\">\n",
    "<font size=\"4\", color= \"seagreen\"><b>✔️ Комментарий ревьюера в2</b></font>\n",
    "    <br />  \n",
    "    <font size=\"3\", color = \"black\">\n",
    "<br /> Отлично\n",
    "\n",
    "Для работы с цветом — можно просмотреть этот [материал](https://yuliyakelidi.com/%D0%BA%D0%B0%D0%BA-%D0%BF%D1%80%D0%B0%D0%B2%D0%B8%D0%BB%D1%8C%D0%BD%D0%BE-%D0%BF%D0%BE%D0%B4%D0%B1%D0%B8%D1%80%D0%B0%D1%82%D1%8C-%D1%86%D0%B2%D0%B5%D1%82%D0%B0-%D0%B4%D0%BB%D1%8F-%D1%84%D0%BE%D0%BD/), а здесь выбрать [шаблон](https://gradients.app/ru/legibility)        \n",
    "        \n",
    "[Здесь примеры оформления круговых диаграмм](https://www.pythoncharts.com/matplotlib/pie-chart-matplotlib/)         "
   ]
  },
  {
   "cell_type": "markdown",
   "id": "a80c3e9a",
   "metadata": {},
   "source": [
    "#####  возраст пользователей;"
   ]
  },
  {
   "cell_type": "code",
   "execution_count": 23,
   "id": "d21eec52",
   "metadata": {},
   "outputs": [
    {
     "data": {
      "text/plain": [
       "count    1534.000000\n",
       "mean       24.903520\n",
       "std         4.572367\n",
       "min        12.000000\n",
       "25%        22.000000\n",
       "50%        25.000000\n",
       "75%        28.000000\n",
       "max        43.000000\n",
       "Name: age, dtype: float64"
      ]
     },
     "execution_count": 23,
     "metadata": {},
     "output_type": "execute_result"
    }
   ],
   "source": [
    "# посмотрим на данные в столбце возраст\n",
    "users['age'].describe()"
   ]
  },
  {
   "cell_type": "code",
   "execution_count": 24,
   "id": "ad8ddc16",
   "metadata": {},
   "outputs": [
    {
     "data": {
      "image/png": "[encoded data removed]",
      "text/plain": [
       "<Figure size 432x288 with 1 Axes>"
      ]
     },
     "metadata": {
      "needs_background": "light"
     },
     "output_type": "display_data"
    }
   ],
   "source": [
    "#строим график\n",
    "plt.hist(users['age'],bins=40)\n",
    "plt.ylabel('Количество')\n",
    "plt.xlabel('Возраст')\n",
    "plt.title('Распределение возраста пользователей')\n",
    "plt.grid()\n",
    "plt.show()"
   ]
  },
  {
   "attachments": {
    "image.png": {
     "image/png": "[encoded data removed]"
    }
   },
   "cell_type": "markdown",
   "id": "aa9e8134",
   "metadata": {},
   "source": [
    "<div class=\"alert alert-warning\", style=\"border:solid coral 3px; padding: 20px\">\n",
    "<font size=\"4\", color = \"DimGrey\"><b>⚠️ Комментарий ревьюера</b></font>\n",
    "    <br /> \n",
    "    <font size=\"3\", color = \"black\">\n",
    "<br /> Можно увеличить кол-во корзин у гистограммы\n",
    "        \n",
    "![image.png](attachment:image.png)        "
   ]
  },
  {
   "cell_type": "markdown",
   "id": "d4863afb",
   "metadata": {},
   "source": [
    "<div class=\"alert alert-info\">\n",
    "<font size=\"4\", color = \"black\"><b>✍ Комментарий студента</b></font>\n",
    "    <br /> \n",
    "    <font size=\"3\", color = \"black\">\n",
    "<br /> исправлено"
   ]
  },
  {
   "cell_type": "markdown",
   "id": "043e1da7",
   "metadata": {},
   "source": [
    "##### расстояние, которое пользователь преодолел за одну поездку;"
   ]
  },
  {
   "cell_type": "code",
   "execution_count": 25,
   "id": "b10745dd",
   "metadata": {},
   "outputs": [
    {
     "data": {
      "text/plain": [
       "count    18068.000000\n",
       "mean      3070.659976\n",
       "std       1116.831209\n",
       "min          0.855683\n",
       "25%       2543.226360\n",
       "50%       3133.609994\n",
       "75%       3776.222735\n",
       "max       7211.007745\n",
       "Name: distance, dtype: float64"
      ]
     },
     "execution_count": 25,
     "metadata": {},
     "output_type": "execute_result"
    }
   ],
   "source": [
    "# посмотрим основную инф-ю о данных\n",
    "rides['distance'].describe()"
   ]
  },
  {
   "cell_type": "code",
   "execution_count": 26,
   "id": "e012aa44",
   "metadata": {
    "scrolled": false
   },
   "outputs": [
    {
     "data": {
      "image/png": "[encoded data removed]",
      "text/plain": [
       "<Figure size 432x288 with 1 Axes>"
      ]
     },
     "metadata": {
      "needs_background": "light"
     },
     "output_type": "display_data"
    }
   ],
   "source": [
    "#строим график\n",
    "plt.hist(rides['distance'],bins=100)\n",
    "plt.ylabel('Количество поездок')\n",
    "plt.xlabel('Дистанция')\n",
    "plt.title('Распределение дистанции поездки')\n",
    "plt.grid()\n",
    "plt.show()"
   ]
  },
  {
   "cell_type": "markdown",
   "id": "993e74de",
   "metadata": {},
   "source": [
    "<div class=\"alert alert-warning\", style=\"border:solid coral 3px; padding: 20px\">\n",
    "<font size=\"4\", color = \"DimGrey\"><b>⚠️ Комментарий ревьюера</b></font>\n",
    "    <br />\n",
    "<font size=\"3\", color = \"black\">\n",
    "<br />Интересно, какая группа пользователей чаще совершает короткие поездки?"
   ]
  },
  {
   "cell_type": "markdown",
   "id": "14a6cd0f",
   "metadata": {},
   "source": [
    "<div class=\"alert alert-warning\", style=\"border:solid coral 3px; padding: 20px\">\n",
    "<font size=\"4\", color = \"DimGrey\"><b>⚠️ Комментарий ревьюера</b></font>\n",
    "    <br />\n",
    "<font size=\"3\", color = \"black\">\n",
    "<br />Можно добавить свои предположения, по какой причине у нас пользователи разделились на две части: совершают короткие и длинные поездки, с пиками около 700-а и 3100-а метров "
   ]
  },
  {
   "cell_type": "markdown",
   "id": "be703a5d",
   "metadata": {},
   "source": [
    "<div class=\"alert alert-info\">\n",
    "<font size=\"4\", color = \"black\"><b>✍ Комментарий студента</b></font>\n",
    "    <br /> \n",
    "    <font size=\"3\", color = \"black\">\n",
    "<br /> На графике 'Распределение дистанции поездки' мы наблюдаем 2 пика. Исходя из практического опыта можно предположить, что случай пика на 700 метрах может быть объяснен тем, что самокат используется как промежуточное средство передвижения для того, чтобы добраться до ближайшего метро или остановки."
   ]
  },
  {
   "cell_type": "markdown",
   "id": "1ad6f216",
   "metadata": {},
   "source": [
    "<div style>\n",
    "<font size=\"4\"><b></b></font>\n",
    "<font size=\"5\", color = \"black\">\n",
    "🤝"
   ]
  },
  {
   "cell_type": "markdown",
   "id": "20fd9559",
   "metadata": {},
   "source": [
    "#####  продолжительность поездок"
   ]
  },
  {
   "cell_type": "code",
   "execution_count": 27,
   "id": "281a3c84",
   "metadata": {},
   "outputs": [
    {
     "data": {
      "text/plain": [
       "count    18068.000000\n",
       "mean        17.805011\n",
       "std          6.091051\n",
       "min          0.500000\n",
       "25%         13.597563\n",
       "50%         17.678395\n",
       "75%         21.724800\n",
       "max         40.823963\n",
       "Name: duration, dtype: float64"
      ]
     },
     "execution_count": 27,
     "metadata": {},
     "output_type": "execute_result"
    }
   ],
   "source": [
    "#посмотрим на данные\n",
    "rides['duration'].describe()"
   ]
  },
  {
   "cell_type": "code",
   "execution_count": 28,
   "id": "bbb631ac",
   "metadata": {
    "scrolled": true
   },
   "outputs": [
    {
     "data": {
      "text/plain": [
       "0.500000     95\n",
       "22.184080     1\n",
       "25.866000     1\n",
       "22.837062     1\n",
       "19.173800     1\n",
       "             ..\n",
       "18.843765     1\n",
       "17.644888     1\n",
       "22.477965     1\n",
       "19.745218     1\n",
       "16.537044     1\n",
       "Name: duration, Length: 17974, dtype: int64"
      ]
     },
     "execution_count": 28,
     "metadata": {},
     "output_type": "execute_result"
    }
   ],
   "source": [
    "rides['duration'].value_counts()"
   ]
  },
  {
   "cell_type": "code",
   "execution_count": 29,
   "id": "9699a7c3",
   "metadata": {},
   "outputs": [
    {
     "data": {
      "image/png": "[encoded data removed]",
      "text/plain": [
       "<Figure size 432x288 with 1 Axes>"
      ]
     },
     "metadata": {
      "needs_background": "light"
     },
     "output_type": "display_data"
    }
   ],
   "source": [
    "plt.hist(rides['duration'],bins=50)\n",
    "plt.ylabel('Количество поездок')\n",
    "plt.xlabel('Продолжительность')\n",
    "plt.title('Распределение продолжительности поездки')\n",
    "plt.grid()\n",
    "plt.show()"
   ]
  },
  {
   "cell_type": "markdown",
   "id": "cc35e2c3",
   "metadata": {},
   "source": [
    "ВЫВОД к шагу 3: \n",
    "\n",
    "Больше всего пользователей в Пятигорске (219), вторым по популярности городом является Екатеринбург(204), а меньше всего юзеров из Москвы(168). \n",
    "\n",
    "Большинство (примерно 54%) пользуются бесплатным тарифом, остальные 46% тарифом ultra.\n",
    "\n",
    "Самому маленькому пользователю всего 12 лет, самому старшему 43, чаще всего пользователю 25 лет. \n",
    "\n",
    "Обычно пользователь проезжает 2,5 - 3,8 км за поездку. Самая короткая дистанция составила 0.86 м, а самая продолжительная 7211 м.\n",
    "\n",
    "Есть выброс - 95 поездок продолжительностью 30 секунд. Возможно пользователь обнаруживал, что с самокатом что-то не так. Самая долгая поездка составила почти 41 минуту, основной диапазон длительности поездки : 13,6-21,7 минут\n",
    "\n",
    "\n",
    "Распределение продолжительности поездки соответствует нормальному распределению\n",
    "\n"
   ]
  },
  {
   "cell_type": "markdown",
   "id": "1488c1d2",
   "metadata": {},
   "source": [
    "<div class=\"alert alert-warning\", style=\"border:solid coral 3px; padding: 20px\">\n",
    "<font size=\"4\", color = \"DimGrey\"><b>⚠️ Комментарий ревьюера</b></font>\n",
    "    <br />\n",
    "<font size=\"3\", color = \"black\">\n",
    "<br />     \n",
    "Можно описать вид распределения (данных) на гистограммах    "
   ]
  },
  {
   "cell_type": "markdown",
   "id": "87dc9daa",
   "metadata": {},
   "source": [
    "<div class=\"alert alert-warning\", style=\"border:solid coral 3px; padding: 20px\">\n",
    "<font size=\"4\", color = \"DimGrey\"><b>⚠️ Комментарий ревьюера</b></font>\n",
    "    <br /> \n",
    "    <font size=\"3\", color = \"black\">\n",
    "<br />    Стоит больше кода посвятить изучению самих данных, возможных аномалий, редких значений "
   ]
  },
  {
   "cell_type": "markdown",
   "id": "4ef51331",
   "metadata": {},
   "source": [
    "#### Шаг 4. Объединение данных"
   ]
  },
  {
   "cell_type": "markdown",
   "id": "c5d40a13",
   "metadata": {},
   "source": [
    "#####  Объедините данные о пользователях, поездках и подписках в один датафрейм. Для этого воспользуйтесь методом merge()."
   ]
  },
  {
   "cell_type": "code",
   "execution_count": 30,
   "id": "05d1108d",
   "metadata": {},
   "outputs": [
    {
     "data": {
      "text/html": [
       "<div>\n",
       "<style scoped>\n",
       "    .dataframe tbody tr th:only-of-type {\n",
       "        vertical-align: middle;\n",
       "    }\n",
       "\n",
       "    .dataframe tbody tr th {\n",
       "        vertical-align: top;\n",
       "    }\n",
       "\n",
       "    .dataframe thead th {\n",
       "        text-align: right;\n",
       "    }\n",
       "</style>\n",
       "<table border=\"1\" class=\"dataframe\">\n",
       "  <thead>\n",
       "    <tr style=\"text-align: right;\">\n",
       "      <th></th>\n",
       "      <th>user_id</th>\n",
       "      <th>name</th>\n",
       "      <th>age</th>\n",
       "      <th>city</th>\n",
       "      <th>subscription_type</th>\n",
       "      <th>distance</th>\n",
       "      <th>duration</th>\n",
       "      <th>date</th>\n",
       "      <th>month</th>\n",
       "      <th>minute_price</th>\n",
       "      <th>start_ride_price</th>\n",
       "      <th>subscription_fee</th>\n",
       "    </tr>\n",
       "  </thead>\n",
       "  <tbody>\n",
       "    <tr>\n",
       "      <th>0</th>\n",
       "      <td>1</td>\n",
       "      <td>Кира</td>\n",
       "      <td>22</td>\n",
       "      <td>Тюмень</td>\n",
       "      <td>ultra</td>\n",
       "      <td>4409.919140</td>\n",
       "      <td>25.599769</td>\n",
       "      <td>2021-01-01</td>\n",
       "      <td>1</td>\n",
       "      <td>6</td>\n",
       "      <td>0</td>\n",
       "      <td>199</td>\n",
       "    </tr>\n",
       "    <tr>\n",
       "      <th>1</th>\n",
       "      <td>1</td>\n",
       "      <td>Кира</td>\n",
       "      <td>22</td>\n",
       "      <td>Тюмень</td>\n",
       "      <td>ultra</td>\n",
       "      <td>2617.592153</td>\n",
       "      <td>15.816871</td>\n",
       "      <td>2021-01-18</td>\n",
       "      <td>1</td>\n",
       "      <td>6</td>\n",
       "      <td>0</td>\n",
       "      <td>199</td>\n",
       "    </tr>\n",
       "    <tr>\n",
       "      <th>2</th>\n",
       "      <td>1</td>\n",
       "      <td>Кира</td>\n",
       "      <td>22</td>\n",
       "      <td>Тюмень</td>\n",
       "      <td>ultra</td>\n",
       "      <td>754.159807</td>\n",
       "      <td>6.232113</td>\n",
       "      <td>2021-04-20</td>\n",
       "      <td>4</td>\n",
       "      <td>6</td>\n",
       "      <td>0</td>\n",
       "      <td>199</td>\n",
       "    </tr>\n",
       "    <tr>\n",
       "      <th>3</th>\n",
       "      <td>1</td>\n",
       "      <td>Кира</td>\n",
       "      <td>22</td>\n",
       "      <td>Тюмень</td>\n",
       "      <td>ultra</td>\n",
       "      <td>2694.783254</td>\n",
       "      <td>18.511000</td>\n",
       "      <td>2021-08-11</td>\n",
       "      <td>8</td>\n",
       "      <td>6</td>\n",
       "      <td>0</td>\n",
       "      <td>199</td>\n",
       "    </tr>\n",
       "    <tr>\n",
       "      <th>4</th>\n",
       "      <td>1</td>\n",
       "      <td>Кира</td>\n",
       "      <td>22</td>\n",
       "      <td>Тюмень</td>\n",
       "      <td>ultra</td>\n",
       "      <td>4028.687306</td>\n",
       "      <td>26.265803</td>\n",
       "      <td>2021-08-28</td>\n",
       "      <td>8</td>\n",
       "      <td>6</td>\n",
       "      <td>0</td>\n",
       "      <td>199</td>\n",
       "    </tr>\n",
       "    <tr>\n",
       "      <th>...</th>\n",
       "      <td>...</td>\n",
       "      <td>...</td>\n",
       "      <td>...</td>\n",
       "      <td>...</td>\n",
       "      <td>...</td>\n",
       "      <td>...</td>\n",
       "      <td>...</td>\n",
       "      <td>...</td>\n",
       "      <td>...</td>\n",
       "      <td>...</td>\n",
       "      <td>...</td>\n",
       "      <td>...</td>\n",
       "    </tr>\n",
       "    <tr>\n",
       "      <th>18063</th>\n",
       "      <td>1534</td>\n",
       "      <td>Альберт</td>\n",
       "      <td>25</td>\n",
       "      <td>Краснодар</td>\n",
       "      <td>free</td>\n",
       "      <td>3781.098080</td>\n",
       "      <td>19.822962</td>\n",
       "      <td>2021-11-04</td>\n",
       "      <td>11</td>\n",
       "      <td>8</td>\n",
       "      <td>50</td>\n",
       "      <td>0</td>\n",
       "    </tr>\n",
       "    <tr>\n",
       "      <th>18064</th>\n",
       "      <td>1534</td>\n",
       "      <td>Альберт</td>\n",
       "      <td>25</td>\n",
       "      <td>Краснодар</td>\n",
       "      <td>free</td>\n",
       "      <td>2840.423057</td>\n",
       "      <td>21.409799</td>\n",
       "      <td>2021-11-16</td>\n",
       "      <td>11</td>\n",
       "      <td>8</td>\n",
       "      <td>50</td>\n",
       "      <td>0</td>\n",
       "    </tr>\n",
       "    <tr>\n",
       "      <th>18065</th>\n",
       "      <td>1534</td>\n",
       "      <td>Альберт</td>\n",
       "      <td>25</td>\n",
       "      <td>Краснодар</td>\n",
       "      <td>free</td>\n",
       "      <td>3826.185507</td>\n",
       "      <td>18.435051</td>\n",
       "      <td>2021-11-18</td>\n",
       "      <td>11</td>\n",
       "      <td>8</td>\n",
       "      <td>50</td>\n",
       "      <td>0</td>\n",
       "    </tr>\n",
       "    <tr>\n",
       "      <th>18066</th>\n",
       "      <td>1534</td>\n",
       "      <td>Альберт</td>\n",
       "      <td>25</td>\n",
       "      <td>Краснодар</td>\n",
       "      <td>free</td>\n",
       "      <td>2902.308661</td>\n",
       "      <td>16.674362</td>\n",
       "      <td>2021-11-27</td>\n",
       "      <td>11</td>\n",
       "      <td>8</td>\n",
       "      <td>50</td>\n",
       "      <td>0</td>\n",
       "    </tr>\n",
       "    <tr>\n",
       "      <th>18067</th>\n",
       "      <td>1534</td>\n",
       "      <td>Альберт</td>\n",
       "      <td>25</td>\n",
       "      <td>Краснодар</td>\n",
       "      <td>free</td>\n",
       "      <td>2371.711192</td>\n",
       "      <td>15.893917</td>\n",
       "      <td>2021-12-29</td>\n",
       "      <td>12</td>\n",
       "      <td>8</td>\n",
       "      <td>50</td>\n",
       "      <td>0</td>\n",
       "    </tr>\n",
       "  </tbody>\n",
       "</table>\n",
       "<p>18068 rows × 12 columns</p>\n",
       "</div>"
      ],
      "text/plain": [
       "       user_id     name  age       city subscription_type     distance  \\\n",
       "0            1     Кира   22     Тюмень             ultra  4409.919140   \n",
       "1            1     Кира   22     Тюмень             ultra  2617.592153   \n",
       "2            1     Кира   22     Тюмень             ultra   754.159807   \n",
       "3            1     Кира   22     Тюмень             ultra  2694.783254   \n",
       "4            1     Кира   22     Тюмень             ultra  4028.687306   \n",
       "...        ...      ...  ...        ...               ...          ...   \n",
       "18063     1534  Альберт   25  Краснодар              free  3781.098080   \n",
       "18064     1534  Альберт   25  Краснодар              free  2840.423057   \n",
       "18065     1534  Альберт   25  Краснодар              free  3826.185507   \n",
       "18066     1534  Альберт   25  Краснодар              free  2902.308661   \n",
       "18067     1534  Альберт   25  Краснодар              free  2371.711192   \n",
       "\n",
       "        duration       date  month  minute_price  start_ride_price  \\\n",
       "0      25.599769 2021-01-01      1             6                 0   \n",
       "1      15.816871 2021-01-18      1             6                 0   \n",
       "2       6.232113 2021-04-20      4             6                 0   \n",
       "3      18.511000 2021-08-11      8             6                 0   \n",
       "4      26.265803 2021-08-28      8             6                 0   \n",
       "...          ...        ...    ...           ...               ...   \n",
       "18063  19.822962 2021-11-04     11             8                50   \n",
       "18064  21.409799 2021-11-16     11             8                50   \n",
       "18065  18.435051 2021-11-18     11             8                50   \n",
       "18066  16.674362 2021-11-27     11             8                50   \n",
       "18067  15.893917 2021-12-29     12             8                50   \n",
       "\n",
       "       subscription_fee  \n",
       "0                   199  \n",
       "1                   199  \n",
       "2                   199  \n",
       "3                   199  \n",
       "4                   199  \n",
       "...                 ...  \n",
       "18063                 0  \n",
       "18064                 0  \n",
       "18065                 0  \n",
       "18066                 0  \n",
       "18067                 0  \n",
       "\n",
       "[18068 rows x 12 columns]"
      ]
     },
     "execution_count": 30,
     "metadata": {},
     "output_type": "execute_result"
    }
   ],
   "source": [
    "# для первого merge общий столбец - user_id, тип соединения - left\n",
    "# для второго merge общий столбец - subscription_type, тип соединения - left\n",
    "total = users.merge(rides,on='user_id',how='left').merge(sub,on='subscription_type',how='left')\n",
    "total"
   ]
  },
  {
   "cell_type": "markdown",
   "id": "53930a03",
   "metadata": {},
   "source": [
    "Получили общую таблицу из трех датасетов. 12 столбцов и 18068 строк"
   ]
  },
  {
   "cell_type": "markdown",
   "id": "84a09468",
   "metadata": {},
   "source": [
    "<div class=\"alert alert-success\">\n",
    "<font size=\"4\", color= \"seagreen\"><b>✔️ Комментарий ревьюера</b></font>\n",
    "    <br /> \n",
    "    <font size=\"3\", color = \"black\">\n",
    "<br /> На этих данных — объединение прошло по плану.\n",
    "         \n",
    "        \n",
    "        \n",
    "Обрати внимание на параметры, которые пандас выставляет по умолчанию при merge (для справки в join такая же «засада» по характеру, но другая по исполнению)\n",
    "        \n",
    "Использование параметров по умолчанию может привести к потере данных при объединении        \n",
    "     \n",
    "        \n",
    "[Примеры объединения таблиц, merge](https://pandas.pydata.org/pandas-docs/version/1.5/reference/api/pandas.DataFrame.merge.html?highlight=merge#pandas.DataFrame.merge)  \n",
    "        \n",
    "[Примеры объединения таблиц, join](https://pandas.pydata.org/pandas-docs/version/1.5/reference/api/pandas.DataFrame.join.html?highlight=join#pandas.DataFrame.join)          "
   ]
  },
  {
   "cell_type": "code",
   "execution_count": 31,
   "id": "48336c02",
   "metadata": {},
   "outputs": [
    {
     "data": {
      "text/plain": [
       "user_id              0\n",
       "name                 0\n",
       "age                  0\n",
       "city                 0\n",
       "subscription_type    0\n",
       "distance             0\n",
       "duration             0\n",
       "date                 0\n",
       "month                0\n",
       "minute_price         0\n",
       "start_ride_price     0\n",
       "subscription_fee     0\n",
       "dtype: int64"
      ]
     },
     "execution_count": 31,
     "metadata": {},
     "output_type": "execute_result"
    }
   ],
   "source": [
    "#проверим полученные данные на пропуски\n",
    "total.isna().sum()"
   ]
  },
  {
   "cell_type": "code",
   "execution_count": 32,
   "id": "ed51197a",
   "metadata": {},
   "outputs": [
    {
     "data": {
      "text/plain": [
       "(18068, 12)"
      ]
     },
     "execution_count": 32,
     "metadata": {},
     "output_type": "execute_result"
    }
   ],
   "source": [
    "# проверим сколько  строк и столбцов в новом дф\n",
    "total.shape"
   ]
  },
  {
   "cell_type": "markdown",
   "id": "5e426027",
   "metadata": {},
   "source": [
    "total - наш итоговый датасет по трем таблицам, кол-во строк соответствует изначальному, пропуски не появились."
   ]
  },
  {
   "cell_type": "markdown",
   "id": "17a51419",
   "metadata": {},
   "source": [
    "<div class=\"alert alert-da nger\">\n",
    "<font size=\"4\"><b>❌ Комментарий ревьюера</b></font>\n",
    "    <br /> \n",
    "    <font size=\"3\", color = \"black\">\n",
    "<br />  Стоит добавить минивывод после объединения таблиц, сохранились ли все данные, не появились ли пропуски в данных\n",
    "        \n",
    " "
   ]
  },
  {
   "cell_type": "markdown",
   "id": "0e07ccc2",
   "metadata": {},
   "source": [
    "<div class=\"alert alert-info\">\n",
    "<font size=\"4\", color = \"black\"><b>✍ Комментарий студента</b></font>\n",
    "    <br /> \n",
    "    <font size=\"3\", color = \"black\">\n",
    "<br /> Исправлено"
   ]
  },
  {
   "cell_type": "markdown",
   "id": "6a18caae",
   "metadata": {},
   "source": [
    "#####  Создайте ещё два датафрейма из датафрейма, созданного на этапе 4.1:\n",
    "c данными о пользователях без подписки;\n",
    "с данными о пользователях с подпиской."
   ]
  },
  {
   "cell_type": "code",
   "execution_count": 33,
   "id": "cf42c5a4",
   "metadata": {},
   "outputs": [
    {
     "data": {
      "text/html": [
       "<div>\n",
       "<style scoped>\n",
       "    .dataframe tbody tr th:only-of-type {\n",
       "        vertical-align: middle;\n",
       "    }\n",
       "\n",
       "    .dataframe tbody tr th {\n",
       "        vertical-align: top;\n",
       "    }\n",
       "\n",
       "    .dataframe thead th {\n",
       "        text-align: right;\n",
       "    }\n",
       "</style>\n",
       "<table border=\"1\" class=\"dataframe\">\n",
       "  <thead>\n",
       "    <tr style=\"text-align: right;\">\n",
       "      <th></th>\n",
       "      <th>user_id</th>\n",
       "      <th>age</th>\n",
       "      <th>distance</th>\n",
       "      <th>duration</th>\n",
       "      <th>month</th>\n",
       "      <th>minute_price</th>\n",
       "      <th>start_ride_price</th>\n",
       "      <th>subscription_fee</th>\n",
       "    </tr>\n",
       "  </thead>\n",
       "  <tbody>\n",
       "    <tr>\n",
       "      <th>count</th>\n",
       "      <td>11568.000000</td>\n",
       "      <td>11568.000000</td>\n",
       "      <td>11568.000000</td>\n",
       "      <td>11568.000000</td>\n",
       "      <td>11568.000000</td>\n",
       "      <td>11568.0</td>\n",
       "      <td>11568.0</td>\n",
       "      <td>11568.0</td>\n",
       "    </tr>\n",
       "    <tr>\n",
       "      <th>mean</th>\n",
       "      <td>1120.527230</td>\n",
       "      <td>24.893326</td>\n",
       "      <td>3045.495282</td>\n",
       "      <td>17.390909</td>\n",
       "      <td>6.522994</td>\n",
       "      <td>8.0</td>\n",
       "      <td>50.0</td>\n",
       "      <td>0.0</td>\n",
       "    </tr>\n",
       "    <tr>\n",
       "      <th>std</th>\n",
       "      <td>241.165628</td>\n",
       "      <td>4.481100</td>\n",
       "      <td>1246.173806</td>\n",
       "      <td>6.326803</td>\n",
       "      <td>3.449770</td>\n",
       "      <td>0.0</td>\n",
       "      <td>0.0</td>\n",
       "      <td>0.0</td>\n",
       "    </tr>\n",
       "    <tr>\n",
       "      <th>min</th>\n",
       "      <td>700.000000</td>\n",
       "      <td>12.000000</td>\n",
       "      <td>0.855683</td>\n",
       "      <td>0.500000</td>\n",
       "      <td>1.000000</td>\n",
       "      <td>8.0</td>\n",
       "      <td>50.0</td>\n",
       "      <td>0.0</td>\n",
       "    </tr>\n",
       "    <tr>\n",
       "      <th>25%</th>\n",
       "      <td>915.000000</td>\n",
       "      <td>22.000000</td>\n",
       "      <td>2366.562689</td>\n",
       "      <td>12.958437</td>\n",
       "      <td>4.000000</td>\n",
       "      <td>8.0</td>\n",
       "      <td>50.0</td>\n",
       "      <td>0.0</td>\n",
       "    </tr>\n",
       "    <tr>\n",
       "      <th>50%</th>\n",
       "      <td>1123.000000</td>\n",
       "      <td>25.000000</td>\n",
       "      <td>3114.648465</td>\n",
       "      <td>17.326890</td>\n",
       "      <td>7.000000</td>\n",
       "      <td>8.0</td>\n",
       "      <td>50.0</td>\n",
       "      <td>0.0</td>\n",
       "    </tr>\n",
       "    <tr>\n",
       "      <th>75%</th>\n",
       "      <td>1328.000000</td>\n",
       "      <td>28.000000</td>\n",
       "      <td>3905.697894</td>\n",
       "      <td>21.594071</td>\n",
       "      <td>9.000000</td>\n",
       "      <td>8.0</td>\n",
       "      <td>50.0</td>\n",
       "      <td>0.0</td>\n",
       "    </tr>\n",
       "    <tr>\n",
       "      <th>max</th>\n",
       "      <td>1534.000000</td>\n",
       "      <td>43.000000</td>\n",
       "      <td>7211.007745</td>\n",
       "      <td>34.948498</td>\n",
       "      <td>12.000000</td>\n",
       "      <td>8.0</td>\n",
       "      <td>50.0</td>\n",
       "      <td>0.0</td>\n",
       "    </tr>\n",
       "  </tbody>\n",
       "</table>\n",
       "</div>"
      ],
      "text/plain": [
       "            user_id           age      distance      duration         month  \\\n",
       "count  11568.000000  11568.000000  11568.000000  11568.000000  11568.000000   \n",
       "mean    1120.527230     24.893326   3045.495282     17.390909      6.522994   \n",
       "std      241.165628      4.481100   1246.173806      6.326803      3.449770   \n",
       "min      700.000000     12.000000      0.855683      0.500000      1.000000   \n",
       "25%      915.000000     22.000000   2366.562689     12.958437      4.000000   \n",
       "50%     1123.000000     25.000000   3114.648465     17.326890      7.000000   \n",
       "75%     1328.000000     28.000000   3905.697894     21.594071      9.000000   \n",
       "max     1534.000000     43.000000   7211.007745     34.948498     12.000000   \n",
       "\n",
       "       minute_price  start_ride_price  subscription_fee  \n",
       "count       11568.0           11568.0           11568.0  \n",
       "mean            8.0              50.0               0.0  \n",
       "std             0.0               0.0               0.0  \n",
       "min             8.0              50.0               0.0  \n",
       "25%             8.0              50.0               0.0  \n",
       "50%             8.0              50.0               0.0  \n",
       "75%             8.0              50.0               0.0  \n",
       "max             8.0              50.0               0.0  "
      ]
     },
     "execution_count": 33,
     "metadata": {},
     "output_type": "execute_result"
    }
   ],
   "source": [
    "# используем query  чтобы отобрать людей без подписки, условие : subscription_type==\"free\"\n",
    "free = total.query('subscription_type==\"free\"')\n",
    "# посмотрим что получилось\n",
    "free.describe()"
   ]
  },
  {
   "cell_type": "code",
   "execution_count": 34,
   "id": "ac09d932",
   "metadata": {},
   "outputs": [
    {
     "data": {
      "text/plain": [
       "user_id              0\n",
       "name                 0\n",
       "age                  0\n",
       "city                 0\n",
       "subscription_type    0\n",
       "distance             0\n",
       "duration             0\n",
       "date                 0\n",
       "month                0\n",
       "minute_price         0\n",
       "start_ride_price     0\n",
       "subscription_fee     0\n",
       "dtype: int64"
      ]
     },
     "execution_count": 34,
     "metadata": {},
     "output_type": "execute_result"
    }
   ],
   "source": [
    "# проверим пропуски free\n",
    "free.isna().sum()"
   ]
  },
  {
   "cell_type": "code",
   "execution_count": 35,
   "id": "ec53fef0",
   "metadata": {},
   "outputs": [
    {
     "data": {
      "text/html": [
       "<div>\n",
       "<style scoped>\n",
       "    .dataframe tbody tr th:only-of-type {\n",
       "        vertical-align: middle;\n",
       "    }\n",
       "\n",
       "    .dataframe tbody tr th {\n",
       "        vertical-align: top;\n",
       "    }\n",
       "\n",
       "    .dataframe thead th {\n",
       "        text-align: right;\n",
       "    }\n",
       "</style>\n",
       "<table border=\"1\" class=\"dataframe\">\n",
       "  <thead>\n",
       "    <tr style=\"text-align: right;\">\n",
       "      <th></th>\n",
       "      <th>user_id</th>\n",
       "      <th>age</th>\n",
       "      <th>distance</th>\n",
       "      <th>duration</th>\n",
       "      <th>month</th>\n",
       "      <th>minute_price</th>\n",
       "      <th>start_ride_price</th>\n",
       "      <th>subscription_fee</th>\n",
       "    </tr>\n",
       "  </thead>\n",
       "  <tbody>\n",
       "    <tr>\n",
       "      <th>count</th>\n",
       "      <td>6500.000000</td>\n",
       "      <td>6500.000000</td>\n",
       "      <td>6500.000000</td>\n",
       "      <td>6500.000000</td>\n",
       "      <td>6500.000000</td>\n",
       "      <td>6500.0</td>\n",
       "      <td>6500.0</td>\n",
       "      <td>6500.0</td>\n",
       "    </tr>\n",
       "    <tr>\n",
       "      <th>mean</th>\n",
       "      <td>348.725385</td>\n",
       "      <td>24.892615</td>\n",
       "      <td>3115.445388</td>\n",
       "      <td>18.541985</td>\n",
       "      <td>6.422308</td>\n",
       "      <td>6.0</td>\n",
       "      <td>0.0</td>\n",
       "      <td>199.0</td>\n",
       "    </tr>\n",
       "    <tr>\n",
       "      <th>std</th>\n",
       "      <td>201.099339</td>\n",
       "      <td>4.757208</td>\n",
       "      <td>836.895330</td>\n",
       "      <td>5.572048</td>\n",
       "      <td>3.414616</td>\n",
       "      <td>0.0</td>\n",
       "      <td>0.0</td>\n",
       "      <td>0.0</td>\n",
       "    </tr>\n",
       "    <tr>\n",
       "      <th>min</th>\n",
       "      <td>1.000000</td>\n",
       "      <td>12.000000</td>\n",
       "      <td>244.210438</td>\n",
       "      <td>3.760353</td>\n",
       "      <td>1.000000</td>\n",
       "      <td>6.0</td>\n",
       "      <td>0.0</td>\n",
       "      <td>199.0</td>\n",
       "    </tr>\n",
       "    <tr>\n",
       "      <th>25%</th>\n",
       "      <td>175.000000</td>\n",
       "      <td>22.000000</td>\n",
       "      <td>2785.444017</td>\n",
       "      <td>14.524654</td>\n",
       "      <td>4.000000</td>\n",
       "      <td>6.0</td>\n",
       "      <td>0.0</td>\n",
       "      <td>199.0</td>\n",
       "    </tr>\n",
       "    <tr>\n",
       "      <th>50%</th>\n",
       "      <td>351.000000</td>\n",
       "      <td>25.000000</td>\n",
       "      <td>3148.637229</td>\n",
       "      <td>18.178153</td>\n",
       "      <td>6.000000</td>\n",
       "      <td>6.0</td>\n",
       "      <td>0.0</td>\n",
       "      <td>199.0</td>\n",
       "    </tr>\n",
       "    <tr>\n",
       "      <th>75%</th>\n",
       "      <td>525.000000</td>\n",
       "      <td>28.000000</td>\n",
       "      <td>3560.574425</td>\n",
       "      <td>21.884129</td>\n",
       "      <td>9.000000</td>\n",
       "      <td>6.0</td>\n",
       "      <td>0.0</td>\n",
       "      <td>199.0</td>\n",
       "    </tr>\n",
       "    <tr>\n",
       "      <th>max</th>\n",
       "      <td>699.000000</td>\n",
       "      <td>38.000000</td>\n",
       "      <td>5699.769662</td>\n",
       "      <td>40.823963</td>\n",
       "      <td>12.000000</td>\n",
       "      <td>6.0</td>\n",
       "      <td>0.0</td>\n",
       "      <td>199.0</td>\n",
       "    </tr>\n",
       "  </tbody>\n",
       "</table>\n",
       "</div>"
      ],
      "text/plain": [
       "           user_id          age     distance     duration        month  \\\n",
       "count  6500.000000  6500.000000  6500.000000  6500.000000  6500.000000   \n",
       "mean    348.725385    24.892615  3115.445388    18.541985     6.422308   \n",
       "std     201.099339     4.757208   836.895330     5.572048     3.414616   \n",
       "min       1.000000    12.000000   244.210438     3.760353     1.000000   \n",
       "25%     175.000000    22.000000  2785.444017    14.524654     4.000000   \n",
       "50%     351.000000    25.000000  3148.637229    18.178153     6.000000   \n",
       "75%     525.000000    28.000000  3560.574425    21.884129     9.000000   \n",
       "max     699.000000    38.000000  5699.769662    40.823963    12.000000   \n",
       "\n",
       "       minute_price  start_ride_price  subscription_fee  \n",
       "count        6500.0            6500.0            6500.0  \n",
       "mean            6.0               0.0             199.0  \n",
       "std             0.0               0.0               0.0  \n",
       "min             6.0               0.0             199.0  \n",
       "25%             6.0               0.0             199.0  \n",
       "50%             6.0               0.0             199.0  \n",
       "75%             6.0               0.0             199.0  \n",
       "max             6.0               0.0             199.0  "
      ]
     },
     "execution_count": 35,
     "metadata": {},
     "output_type": "execute_result"
    }
   ],
   "source": [
    "# используем query  чтобы отобрать людей без подписки, условие : subscription_type==\"free\"\n",
    "ultra = total.query('subscription_type==\"ultra\"')\n",
    "# посмотрим что получилось\n",
    "ultra.describe()"
   ]
  },
  {
   "cell_type": "code",
   "execution_count": 36,
   "id": "f1a80d57",
   "metadata": {},
   "outputs": [
    {
     "data": {
      "text/plain": [
       "user_id              0\n",
       "name                 0\n",
       "age                  0\n",
       "city                 0\n",
       "subscription_type    0\n",
       "distance             0\n",
       "duration             0\n",
       "date                 0\n",
       "month                0\n",
       "minute_price         0\n",
       "start_ride_price     0\n",
       "subscription_fee     0\n",
       "dtype: int64"
      ]
     },
     "execution_count": 36,
     "metadata": {},
     "output_type": "execute_result"
    }
   ],
   "source": [
    "# проверим пропуски ultra\n",
    "ultra.isna().sum()"
   ]
  },
  {
   "cell_type": "code",
   "execution_count": 37,
   "id": "d751747f",
   "metadata": {},
   "outputs": [
    {
     "name": "stdout",
     "output_type": "stream",
     "text": [
      "True True\n"
     ]
    }
   ],
   "source": [
    "# проверим, что никакие строки не утеряны и что кол-во столбцов такое же\n",
    "print(total.shape[0] == ultra.shape[0] + free.shape[0],\n",
    "      total.shape[1] == ultra.shape[1] == free.shape[1])"
   ]
  },
  {
   "cell_type": "markdown",
   "id": "344c8ca0",
   "metadata": {},
   "source": [
    "Убедились, что с новыми датасетами, которые мы будем использовать  для дальнейшего анализа, все ОК"
   ]
  },
  {
   "cell_type": "markdown",
   "id": "0335e183",
   "metadata": {},
   "source": [
    "<div class=\"alert alert-da nger\">\n",
    "<font size=\"4\"><b>❌ Комментарий ревьюера</b></font>\n",
    "    <br /> \n",
    "    <font size=\"3\", color = \"black\">\n",
    "<br />  Стоит проверить наличие пропусков и размерность у новых таблиц после разделения"
   ]
  },
  {
   "cell_type": "markdown",
   "id": "db03802b",
   "metadata": {},
   "source": [
    "<div class=\"alert alert-info\">\n",
    "<font size=\"4\", color = \"black\"><b>✍ Комментарий студента</b></font>\n",
    "    <br /> \n",
    "    <font size=\"3\", color = \"black\">\n",
    "<br /> Исправлено"
   ]
  },
  {
   "cell_type": "markdown",
   "id": "c6cdfbef",
   "metadata": {},
   "source": [
    "#####  Визуализируйте информацию о расстоянии и времени поездок для пользователей обеих категорий."
   ]
  },
  {
   "cell_type": "markdown",
   "id": "5a4ee253",
   "metadata": {},
   "source": [
    "Без подписки. Продолжительность поездки"
   ]
  },
  {
   "cell_type": "code",
   "execution_count": 38,
   "id": "711c0fad",
   "metadata": {},
   "outputs": [
    {
     "data": {
      "text/plain": [
       "count    11568.000000\n",
       "mean        17.390909\n",
       "std          6.326803\n",
       "min          0.500000\n",
       "25%         12.958437\n",
       "50%         17.326890\n",
       "75%         21.594071\n",
       "max         34.948498\n",
       "Name: duration, dtype: float64"
      ]
     },
     "execution_count": 38,
     "metadata": {},
     "output_type": "execute_result"
    }
   ],
   "source": [
    "# посмотрим информацию о данных без подписки\n",
    "free['duration'].describe()"
   ]
  },
  {
   "cell_type": "code",
   "execution_count": 39,
   "id": "76f51b59",
   "metadata": {},
   "outputs": [
    {
     "data": {
      "text/plain": [
       "count    6500.000000\n",
       "mean       18.541985\n",
       "std         5.572048\n",
       "min         3.760353\n",
       "25%        14.524654\n",
       "50%        18.178153\n",
       "75%        21.884129\n",
       "max        40.823963\n",
       "Name: duration, dtype: float64"
      ]
     },
     "execution_count": 39,
     "metadata": {},
     "output_type": "execute_result"
    }
   ],
   "source": [
    "# посмотрим информацию о данных с подпиской\n",
    "ultra['duration'].describe()"
   ]
  },
  {
   "cell_type": "markdown",
   "id": "ff775c22",
   "metadata": {},
   "source": [
    "Пользователи без подписки в среднем тратят 17 мин на поездку, минимальное время 30 секунд, максимальное около 35 минут\n",
    "\n",
    "Пользователи c подпиской в среднем тратят 18 мин на поездку, минимальное время 3.76 , максимальное около 40 минут"
   ]
  },
  {
   "cell_type": "code",
   "execution_count": 40,
   "id": "ce8821ad",
   "metadata": {
    "scrolled": true
   },
   "outputs": [
    {
     "data": {
      "image/png": "[encoded data removed]",
      "text/plain": [
       "<Figure size 720x504 with 1 Axes>"
      ]
     },
     "metadata": {
      "needs_background": "light"
     },
     "output_type": "display_data"
    },
    {
     "name": "stdout",
     "output_type": "stream",
     "text": [
      "Диаграмма \"ящик с усами\" продолжительности поездки юзера без подписки\n"
     ]
    }
   ],
   "source": [
    "free.boxplot(column=['duration'], figsize=(10,7), grid=True)\n",
    "plt.show()\n",
    "print('Диаграмма \"ящик с усами\" продолжительности поездки юзера без подписки')"
   ]
  },
  {
   "cell_type": "code",
   "execution_count": 41,
   "id": "a3771136",
   "metadata": {
    "scrolled": true
   },
   "outputs": [
    {
     "data": {
      "image/png": "[encoded data removed]",
      "text/plain": [
       "<Figure size 720x504 with 1 Axes>"
      ]
     },
     "metadata": {
      "needs_background": "light"
     },
     "output_type": "display_data"
    },
    {
     "name": "stdout",
     "output_type": "stream",
     "text": [
      "Диаграмма \"ящик с усами\" продолжительности поездки юзера с подпиской\n"
     ]
    }
   ],
   "source": [
    "ultra.boxplot(column=['duration'], figsize=(10,7), grid=True)\n",
    "plt.show()\n",
    "print('Диаграмма \"ящик с усами\" продолжительности поездки юзера с подпиской')"
   ]
  },
  {
   "cell_type": "code",
   "execution_count": 42,
   "id": "3fb24626",
   "metadata": {
    "scrolled": true
   },
   "outputs": [
    {
     "data": {
      "image/png": "[encoded data removed]",
      "text/plain": [
       "<Figure size 864x360 with 2 Axes>"
      ]
     },
     "metadata": {
      "needs_background": "light"
     },
     "output_type": "display_data"
    }
   ],
   "source": [
    "# продолжительность поездки\n",
    "dflux = free\n",
    "dflux2 = ultra\n",
    "fig, axes = plt.subplots(1, 2, figsize=(12, 5))\n",
    "dflux.hist('duration', bins=100,range = (0, 35), ax=axes[0]);\n",
    "dflux2.hist('duration', bins=100,range = (0,40), ax=axes[1]);\n",
    "axes[0].set_title('Продолжительность поездки пользователей без подписки');\n",
    "axes[0].set_xlabel('Продолжительность в минутах');\n",
    "axes[0].set_ylabel('Кол-во поездок');\n",
    "axes[1].set_title('Продолжительность поездки пользователей с подпиской');\n",
    "axes[1].set_xlabel('Продолжительность в минутах');\n",
    "axes[1].set_ylabel('Кол-во поездок');"
   ]
  },
  {
   "cell_type": "markdown",
   "id": "8cd5177a",
   "metadata": {},
   "source": [
    "Среди \"бесплатных\" пользователей есть выброс - 95 поездок продолжительностью 30 секунд. Возможно пользователь обнаруживал, что с самокатом что-то не так или  передумал ехать."
   ]
  },
  {
   "cell_type": "code",
   "execution_count": 43,
   "id": "e44498d6",
   "metadata": {},
   "outputs": [
    {
     "data": {
      "text/plain": [
       "count    11568.00\n",
       "mean      3045.50\n",
       "std       1246.17\n",
       "min          0.86\n",
       "25%       2366.56\n",
       "50%       3114.65\n",
       "75%       3905.70\n",
       "max       7211.01\n",
       "Name: distance, dtype: float64"
      ]
     },
     "execution_count": 43,
     "metadata": {},
     "output_type": "execute_result"
    }
   ],
   "source": [
    "# посмотрим информацию о данных Без подписки. Дистанция поездки\n",
    "free['distance'].describe().round(2)"
   ]
  },
  {
   "cell_type": "code",
   "execution_count": 44,
   "id": "1bff36a1",
   "metadata": {},
   "outputs": [
    {
     "data": {
      "text/plain": [
       "count    6500.00\n",
       "mean     3115.45\n",
       "std       836.90\n",
       "min       244.21\n",
       "25%      2785.44\n",
       "50%      3148.64\n",
       "75%      3560.57\n",
       "max      5699.77\n",
       "Name: distance, dtype: float64"
      ]
     },
     "execution_count": 44,
     "metadata": {},
     "output_type": "execute_result"
    }
   ],
   "source": [
    "# посмотрим информацию о данных \n",
    "ultra['distance'].describe().round(2)"
   ]
  },
  {
   "cell_type": "markdown",
   "id": "843f5482",
   "metadata": {},
   "source": [
    "В среднем без подписки проезжают примерно 3045 м, минимальное расстояние 0.86 м, а максимальное 7211м.\n",
    "\n",
    "С ultra cредняя дистанция 3115 метров, максимум 5699м, минимум 244 м"
   ]
  },
  {
   "cell_type": "code",
   "execution_count": 45,
   "id": "ce0c149e",
   "metadata": {},
   "outputs": [
    {
     "data": {
      "image/png": "[encoded data removed]",
      "text/plain": [
       "<Figure size 864x360 with 2 Axes>"
      ]
     },
     "metadata": {
      "needs_background": "light"
     },
     "output_type": "display_data"
    }
   ],
   "source": [
    "# дистанция\n",
    "dflux = free\n",
    "dflux2 = ultra\n",
    "fig, axes = plt.subplots(1, 2, figsize=(12, 5))\n",
    "dflux.hist('distance', bins=100,range = (0, 7500), ax=axes[0]);\n",
    "dflux2.hist('distance', bins=100,range = (0, 6000), ax=axes[1]);\n",
    "axes[0].set_title('Дистанция пользователей без подписки');\n",
    "axes[1].set_title('Дистанция пользователей с подпиской');\n",
    "axes[0].set_xlabel('Расстояние в метрах');\n",
    "axes[0].set_ylabel('Кол-во поездок');\n",
    "axes[1].set_xlabel('Расстояние в метрах');\n",
    "axes[1].set_ylabel('Кол-во поездок');"
   ]
  },
  {
   "cell_type": "markdown",
   "id": "1728e0ed",
   "metadata": {},
   "source": [
    "<div class=\"alert alert-warning\", style=\"border:solid coral 3px; padding: 20px\">\n",
    "<font size=\"4\", color = \"DimGrey\"><b>⚠️ Комментарий ревьюера</b></font>\n",
    "    <br /> \n",
    "    <font size=\"3\", color = \"black\">\n",
    "<br /> Стоит совместить гистограммы на одном виде, по две гистограммы для каждого параметра, чтобы появилась возможность визуально сравнить параметры у двух разных групп клиентов"
   ]
  },
  {
   "cell_type": "markdown",
   "id": "8980a53e",
   "metadata": {},
   "source": [
    "<div class=\"alert alert-info\">\n",
    "<font size=\"4\", color = \"black\"><b>✍ Комментарий студента</b></font>\n",
    "    <br /> \n",
    "    <font size=\"3\", color = \"black\">\n",
    "<br /> Исправлено"
   ]
  },
  {
   "cell_type": "markdown",
   "id": "333ce6bc",
   "metadata": {},
   "source": [
    "<div class=\"alert alert-warning\", style=\"border:solid coral 3px; padding: 20px\">\n",
    "<font size=\"4\", color = \"DimGrey\"><b>⚠️ Комментарий ревьюера</b></font>\n",
    "    <br /> \n",
    "    <font size=\"3\", color = \"black\">\n",
    "<br /> на проектах стоит снижать размерность выводимой информации, где не требуется максимальная точность, до одного или двух знаков после запятой\n",
    "        \n",
    "        75%      3560.574425"
   ]
  },
  {
   "cell_type": "markdown",
   "id": "e40cfb7e",
   "metadata": {},
   "source": [
    "<div class=\"alert alert-info\">\n",
    "<font size=\"4\", color = \"black\"><b>✍ Комментарий студента</b></font>\n",
    "    <br /> \n",
    "    <font size=\"3\", color = \"black\">\n",
    "<br /> Исправлено"
   ]
  },
  {
   "cell_type": "markdown",
   "id": "941b6383",
   "metadata": {},
   "source": [
    "ВЫВОД к шагу 4:\n",
    "\n",
    "на этом шаге я с помощью метода merge объединила 3 датафрейма в один - total.\n",
    "\n",
    "Затем создала 2 датафрейма из датафрейма total: пользователи с подпиской(ultra) и без(free).\n",
    "\n",
    "Для визуализации данных были построены графики для продолжительности и дистанции поездок пользователей с подпиской и без нее. На основе этих графиков можно сказать следующее:\n",
    "\n",
    "- Больше поездок с бесплатным тарифом. Их 11568. Поездок с подпиской - 6500,\n",
    "\n",
    "- Средний возраст пользователя в разных тарифах почти одинаковый и составляет около 25 лет,\n",
    "\n",
    "- Без подписки средняя дистанция и время поездки меньше, чем с подпиской.\n",
    "\n",
    "\n",
    "\n",
    "\n"
   ]
  },
  {
   "cell_type": "markdown",
   "id": "bfb62c6e",
   "metadata": {},
   "source": [
    "<div class=\"alert alert-success\">\n",
    "<font size=\"4\", color= \"seagreen\"><b>✔️ Комментарий ревьюера</b></font>\n",
    "    <br /> \n",
    "    <font size=\"3\", color = \"black\">\n",
    "<br />Отлично, в каждый раздел добавлен промежуточный вывод, молодец\n",
    "          "
   ]
  },
  {
   "cell_type": "markdown",
   "id": "402d620f",
   "metadata": {},
   "source": [
    "#### Шаг 5. Подсчёт выручки"
   ]
  },
  {
   "cell_type": "markdown",
   "id": "48c8c0f5",
   "metadata": {},
   "source": [
    "#####  Создайте датафрейм с агрегированными данными о поездках на основе датафрейма с объединёнными данными из шага 4: найдите суммарное расстояние, количество поездок и суммарное время для каждого пользователя за каждый месяц."
   ]
  },
  {
   "cell_type": "markdown",
   "id": "3a0bdef8",
   "metadata": {},
   "source": [
    "<div class=\"alert alert-success\">\n",
    "<font size=\"4\", color= \"seagreen\"><b>✔️ Комментарий ревьюера</b></font>\n",
    "    <br /> \n",
    "    <font size=\"3\", color = \"black\">\n",
    "<br /> Округление выполнено по плану проекта, молодец"
   ]
  },
  {
   "cell_type": "code",
   "execution_count": 46,
   "id": "c5dc2011",
   "metadata": {},
   "outputs": [
    {
     "data": {
      "text/html": [
       "<div>\n",
       "<style scoped>\n",
       "    .dataframe tbody tr th:only-of-type {\n",
       "        vertical-align: middle;\n",
       "    }\n",
       "\n",
       "    .dataframe tbody tr th {\n",
       "        vertical-align: top;\n",
       "    }\n",
       "\n",
       "    .dataframe thead th {\n",
       "        text-align: right;\n",
       "    }\n",
       "</style>\n",
       "<table border=\"1\" class=\"dataframe\">\n",
       "  <thead>\n",
       "    <tr style=\"text-align: right;\">\n",
       "      <th></th>\n",
       "      <th>user_id</th>\n",
       "      <th>name</th>\n",
       "      <th>age</th>\n",
       "      <th>city</th>\n",
       "      <th>subscription_type</th>\n",
       "      <th>distance</th>\n",
       "      <th>duration</th>\n",
       "      <th>date</th>\n",
       "      <th>month</th>\n",
       "      <th>minute_price</th>\n",
       "      <th>start_ride_price</th>\n",
       "      <th>subscription_fee</th>\n",
       "    </tr>\n",
       "  </thead>\n",
       "  <tbody>\n",
       "    <tr>\n",
       "      <th>0</th>\n",
       "      <td>1</td>\n",
       "      <td>Кира</td>\n",
       "      <td>22</td>\n",
       "      <td>Тюмень</td>\n",
       "      <td>ultra</td>\n",
       "      <td>4409.919140</td>\n",
       "      <td>26.0</td>\n",
       "      <td>2021-01-01</td>\n",
       "      <td>1</td>\n",
       "      <td>6</td>\n",
       "      <td>0</td>\n",
       "      <td>199</td>\n",
       "    </tr>\n",
       "    <tr>\n",
       "      <th>1</th>\n",
       "      <td>1</td>\n",
       "      <td>Кира</td>\n",
       "      <td>22</td>\n",
       "      <td>Тюмень</td>\n",
       "      <td>ultra</td>\n",
       "      <td>2617.592153</td>\n",
       "      <td>16.0</td>\n",
       "      <td>2021-01-18</td>\n",
       "      <td>1</td>\n",
       "      <td>6</td>\n",
       "      <td>0</td>\n",
       "      <td>199</td>\n",
       "    </tr>\n",
       "    <tr>\n",
       "      <th>2</th>\n",
       "      <td>1</td>\n",
       "      <td>Кира</td>\n",
       "      <td>22</td>\n",
       "      <td>Тюмень</td>\n",
       "      <td>ultra</td>\n",
       "      <td>754.159807</td>\n",
       "      <td>7.0</td>\n",
       "      <td>2021-04-20</td>\n",
       "      <td>4</td>\n",
       "      <td>6</td>\n",
       "      <td>0</td>\n",
       "      <td>199</td>\n",
       "    </tr>\n",
       "    <tr>\n",
       "      <th>3</th>\n",
       "      <td>1</td>\n",
       "      <td>Кира</td>\n",
       "      <td>22</td>\n",
       "      <td>Тюмень</td>\n",
       "      <td>ultra</td>\n",
       "      <td>2694.783254</td>\n",
       "      <td>19.0</td>\n",
       "      <td>2021-08-11</td>\n",
       "      <td>8</td>\n",
       "      <td>6</td>\n",
       "      <td>0</td>\n",
       "      <td>199</td>\n",
       "    </tr>\n",
       "    <tr>\n",
       "      <th>4</th>\n",
       "      <td>1</td>\n",
       "      <td>Кира</td>\n",
       "      <td>22</td>\n",
       "      <td>Тюмень</td>\n",
       "      <td>ultra</td>\n",
       "      <td>4028.687306</td>\n",
       "      <td>27.0</td>\n",
       "      <td>2021-08-28</td>\n",
       "      <td>8</td>\n",
       "      <td>6</td>\n",
       "      <td>0</td>\n",
       "      <td>199</td>\n",
       "    </tr>\n",
       "    <tr>\n",
       "      <th>...</th>\n",
       "      <td>...</td>\n",
       "      <td>...</td>\n",
       "      <td>...</td>\n",
       "      <td>...</td>\n",
       "      <td>...</td>\n",
       "      <td>...</td>\n",
       "      <td>...</td>\n",
       "      <td>...</td>\n",
       "      <td>...</td>\n",
       "      <td>...</td>\n",
       "      <td>...</td>\n",
       "      <td>...</td>\n",
       "    </tr>\n",
       "    <tr>\n",
       "      <th>18063</th>\n",
       "      <td>1534</td>\n",
       "      <td>Альберт</td>\n",
       "      <td>25</td>\n",
       "      <td>Краснодар</td>\n",
       "      <td>free</td>\n",
       "      <td>3781.098080</td>\n",
       "      <td>20.0</td>\n",
       "      <td>2021-11-04</td>\n",
       "      <td>11</td>\n",
       "      <td>8</td>\n",
       "      <td>50</td>\n",
       "      <td>0</td>\n",
       "    </tr>\n",
       "    <tr>\n",
       "      <th>18064</th>\n",
       "      <td>1534</td>\n",
       "      <td>Альберт</td>\n",
       "      <td>25</td>\n",
       "      <td>Краснодар</td>\n",
       "      <td>free</td>\n",
       "      <td>2840.423057</td>\n",
       "      <td>22.0</td>\n",
       "      <td>2021-11-16</td>\n",
       "      <td>11</td>\n",
       "      <td>8</td>\n",
       "      <td>50</td>\n",
       "      <td>0</td>\n",
       "    </tr>\n",
       "    <tr>\n",
       "      <th>18065</th>\n",
       "      <td>1534</td>\n",
       "      <td>Альберт</td>\n",
       "      <td>25</td>\n",
       "      <td>Краснодар</td>\n",
       "      <td>free</td>\n",
       "      <td>3826.185507</td>\n",
       "      <td>19.0</td>\n",
       "      <td>2021-11-18</td>\n",
       "      <td>11</td>\n",
       "      <td>8</td>\n",
       "      <td>50</td>\n",
       "      <td>0</td>\n",
       "    </tr>\n",
       "    <tr>\n",
       "      <th>18066</th>\n",
       "      <td>1534</td>\n",
       "      <td>Альберт</td>\n",
       "      <td>25</td>\n",
       "      <td>Краснодар</td>\n",
       "      <td>free</td>\n",
       "      <td>2902.308661</td>\n",
       "      <td>17.0</td>\n",
       "      <td>2021-11-27</td>\n",
       "      <td>11</td>\n",
       "      <td>8</td>\n",
       "      <td>50</td>\n",
       "      <td>0</td>\n",
       "    </tr>\n",
       "    <tr>\n",
       "      <th>18067</th>\n",
       "      <td>1534</td>\n",
       "      <td>Альберт</td>\n",
       "      <td>25</td>\n",
       "      <td>Краснодар</td>\n",
       "      <td>free</td>\n",
       "      <td>2371.711192</td>\n",
       "      <td>16.0</td>\n",
       "      <td>2021-12-29</td>\n",
       "      <td>12</td>\n",
       "      <td>8</td>\n",
       "      <td>50</td>\n",
       "      <td>0</td>\n",
       "    </tr>\n",
       "  </tbody>\n",
       "</table>\n",
       "<p>18068 rows × 12 columns</p>\n",
       "</div>"
      ],
      "text/plain": [
       "       user_id     name  age       city subscription_type     distance  \\\n",
       "0            1     Кира   22     Тюмень             ultra  4409.919140   \n",
       "1            1     Кира   22     Тюмень             ultra  2617.592153   \n",
       "2            1     Кира   22     Тюмень             ultra   754.159807   \n",
       "3            1     Кира   22     Тюмень             ultra  2694.783254   \n",
       "4            1     Кира   22     Тюмень             ultra  4028.687306   \n",
       "...        ...      ...  ...        ...               ...          ...   \n",
       "18063     1534  Альберт   25  Краснодар              free  3781.098080   \n",
       "18064     1534  Альберт   25  Краснодар              free  2840.423057   \n",
       "18065     1534  Альберт   25  Краснодар              free  3826.185507   \n",
       "18066     1534  Альберт   25  Краснодар              free  2902.308661   \n",
       "18067     1534  Альберт   25  Краснодар              free  2371.711192   \n",
       "\n",
       "       duration       date  month  minute_price  start_ride_price  \\\n",
       "0          26.0 2021-01-01      1             6                 0   \n",
       "1          16.0 2021-01-18      1             6                 0   \n",
       "2           7.0 2021-04-20      4             6                 0   \n",
       "3          19.0 2021-08-11      8             6                 0   \n",
       "4          27.0 2021-08-28      8             6                 0   \n",
       "...         ...        ...    ...           ...               ...   \n",
       "18063      20.0 2021-11-04     11             8                50   \n",
       "18064      22.0 2021-11-16     11             8                50   \n",
       "18065      19.0 2021-11-18     11             8                50   \n",
       "18066      17.0 2021-11-27     11             8                50   \n",
       "18067      16.0 2021-12-29     12             8                50   \n",
       "\n",
       "       subscription_fee  \n",
       "0                   199  \n",
       "1                   199  \n",
       "2                   199  \n",
       "3                   199  \n",
       "4                   199  \n",
       "...                 ...  \n",
       "18063                 0  \n",
       "18064                 0  \n",
       "18065                 0  \n",
       "18066                 0  \n",
       "18067                 0  \n",
       "\n",
       "[18068 rows x 12 columns]"
      ]
     },
     "metadata": {},
     "output_type": "display_data"
    }
   ],
   "source": [
    "total['duration'] = np.ceil(total['duration'])\n",
    "display(total)"
   ]
  },
  {
   "cell_type": "code",
   "execution_count": 47,
   "id": "30e0ff54",
   "metadata": {},
   "outputs": [
    {
     "data": {
      "text/html": [
       "<div>\n",
       "<style scoped>\n",
       "    .dataframe tbody tr th:only-of-type {\n",
       "        vertical-align: middle;\n",
       "    }\n",
       "\n",
       "    .dataframe tbody tr th {\n",
       "        vertical-align: top;\n",
       "    }\n",
       "\n",
       "    .dataframe thead tr th {\n",
       "        text-align: left;\n",
       "    }\n",
       "\n",
       "    .dataframe thead tr:last-of-type th {\n",
       "        text-align: right;\n",
       "    }\n",
       "</style>\n",
       "<table border=\"1\" class=\"dataframe\">\n",
       "  <thead>\n",
       "    <tr>\n",
       "      <th></th>\n",
       "      <th></th>\n",
       "      <th colspan=\"2\" halign=\"left\">distance</th>\n",
       "      <th>duration</th>\n",
       "      <th>minute_price</th>\n",
       "      <th>start_ride_price</th>\n",
       "      <th>subscription_fee</th>\n",
       "      <th>subscription_type</th>\n",
       "    </tr>\n",
       "    <tr>\n",
       "      <th></th>\n",
       "      <th></th>\n",
       "      <th>count</th>\n",
       "      <th>sum</th>\n",
       "      <th>sum</th>\n",
       "      <th>first</th>\n",
       "      <th>first</th>\n",
       "      <th>first</th>\n",
       "      <th>min</th>\n",
       "    </tr>\n",
       "    <tr>\n",
       "      <th>user_id</th>\n",
       "      <th>month</th>\n",
       "      <th></th>\n",
       "      <th></th>\n",
       "      <th></th>\n",
       "      <th></th>\n",
       "      <th></th>\n",
       "      <th></th>\n",
       "      <th></th>\n",
       "    </tr>\n",
       "  </thead>\n",
       "  <tbody>\n",
       "    <tr>\n",
       "      <th rowspan=\"5\" valign=\"top\">1</th>\n",
       "      <th>1</th>\n",
       "      <td>2</td>\n",
       "      <td>7027.511294</td>\n",
       "      <td>42.0</td>\n",
       "      <td>6</td>\n",
       "      <td>0</td>\n",
       "      <td>199</td>\n",
       "      <td>ultra</td>\n",
       "    </tr>\n",
       "    <tr>\n",
       "      <th>4</th>\n",
       "      <td>1</td>\n",
       "      <td>754.159807</td>\n",
       "      <td>7.0</td>\n",
       "      <td>6</td>\n",
       "      <td>0</td>\n",
       "      <td>199</td>\n",
       "      <td>ultra</td>\n",
       "    </tr>\n",
       "    <tr>\n",
       "      <th>8</th>\n",
       "      <td>2</td>\n",
       "      <td>6723.470560</td>\n",
       "      <td>46.0</td>\n",
       "      <td>6</td>\n",
       "      <td>0</td>\n",
       "      <td>199</td>\n",
       "      <td>ultra</td>\n",
       "    </tr>\n",
       "    <tr>\n",
       "      <th>10</th>\n",
       "      <td>2</td>\n",
       "      <td>5809.911100</td>\n",
       "      <td>32.0</td>\n",
       "      <td>6</td>\n",
       "      <td>0</td>\n",
       "      <td>199</td>\n",
       "      <td>ultra</td>\n",
       "    </tr>\n",
       "    <tr>\n",
       "      <th>11</th>\n",
       "      <td>3</td>\n",
       "      <td>7003.499363</td>\n",
       "      <td>56.0</td>\n",
       "      <td>6</td>\n",
       "      <td>0</td>\n",
       "      <td>199</td>\n",
       "      <td>ultra</td>\n",
       "    </tr>\n",
       "    <tr>\n",
       "      <th>...</th>\n",
       "      <th>...</th>\n",
       "      <td>...</td>\n",
       "      <td>...</td>\n",
       "      <td>...</td>\n",
       "      <td>...</td>\n",
       "      <td>...</td>\n",
       "      <td>...</td>\n",
       "      <td>...</td>\n",
       "    </tr>\n",
       "    <tr>\n",
       "      <th rowspan=\"5\" valign=\"top\">1534</th>\n",
       "      <th>6</th>\n",
       "      <td>2</td>\n",
       "      <td>3409.468534</td>\n",
       "      <td>26.0</td>\n",
       "      <td>8</td>\n",
       "      <td>50</td>\n",
       "      <td>0</td>\n",
       "      <td>free</td>\n",
       "    </tr>\n",
       "    <tr>\n",
       "      <th>8</th>\n",
       "      <td>2</td>\n",
       "      <td>7622.453034</td>\n",
       "      <td>48.0</td>\n",
       "      <td>8</td>\n",
       "      <td>50</td>\n",
       "      <td>0</td>\n",
       "      <td>free</td>\n",
       "    </tr>\n",
       "    <tr>\n",
       "      <th>9</th>\n",
       "      <td>1</td>\n",
       "      <td>4928.173852</td>\n",
       "      <td>23.0</td>\n",
       "      <td>8</td>\n",
       "      <td>50</td>\n",
       "      <td>0</td>\n",
       "      <td>free</td>\n",
       "    </tr>\n",
       "    <tr>\n",
       "      <th>11</th>\n",
       "      <td>4</td>\n",
       "      <td>13350.015305</td>\n",
       "      <td>78.0</td>\n",
       "      <td>8</td>\n",
       "      <td>50</td>\n",
       "      <td>0</td>\n",
       "      <td>free</td>\n",
       "    </tr>\n",
       "    <tr>\n",
       "      <th>12</th>\n",
       "      <td>1</td>\n",
       "      <td>2371.711192</td>\n",
       "      <td>16.0</td>\n",
       "      <td>8</td>\n",
       "      <td>50</td>\n",
       "      <td>0</td>\n",
       "      <td>free</td>\n",
       "    </tr>\n",
       "  </tbody>\n",
       "</table>\n",
       "<p>11331 rows × 7 columns</p>\n",
       "</div>"
      ],
      "text/plain": [
       "              distance               duration minute_price start_ride_price  \\\n",
       "                 count           sum      sum        first            first   \n",
       "user_id month                                                                 \n",
       "1       1            2   7027.511294     42.0            6                0   \n",
       "        4            1    754.159807      7.0            6                0   \n",
       "        8            2   6723.470560     46.0            6                0   \n",
       "        10           2   5809.911100     32.0            6                0   \n",
       "        11           3   7003.499363     56.0            6                0   \n",
       "...                ...           ...      ...          ...              ...   \n",
       "1534    6            2   3409.468534     26.0            8               50   \n",
       "        8            2   7622.453034     48.0            8               50   \n",
       "        9            1   4928.173852     23.0            8               50   \n",
       "        11           4  13350.015305     78.0            8               50   \n",
       "        12           1   2371.711192     16.0            8               50   \n",
       "\n",
       "              subscription_fee subscription_type  \n",
       "                         first               min  \n",
       "user_id month                                     \n",
       "1       1                  199             ultra  \n",
       "        4                  199             ultra  \n",
       "        8                  199             ultra  \n",
       "        10                 199             ultra  \n",
       "        11                 199             ultra  \n",
       "...                        ...               ...  \n",
       "1534    6                    0              free  \n",
       "        8                    0              free  \n",
       "        9                    0              free  \n",
       "        11                   0              free  \n",
       "        12                   0              free  \n",
       "\n",
       "[11331 rows x 7 columns]"
      ]
     },
     "execution_count": 47,
     "metadata": {},
     "output_type": "execute_result"
    }
   ],
   "source": [
    "res = total.pivot_table(index=['user_id', 'month'],\n",
    "    values = ['distance', 'duration','subscription_type',\n",
    "                            'minute_price','start_ride_price','subscription_fee']\n",
    "    ,aggfunc={'distance':[\"sum\",\"count\"],'start_ride_price':'first',\n",
    "              'subscription_type' : min,'duration':\"sum\"\n",
    "                ,'minute_price':'first','subscription_fee':'first'})\n",
    "res"
   ]
  },
  {
   "cell_type": "code",
   "execution_count": 48,
   "id": "9422a53d",
   "metadata": {},
   "outputs": [
    {
     "data": {
      "text/plain": [
       "distance           count    0\n",
       "                   sum      0\n",
       "duration           sum      0\n",
       "minute_price       first    0\n",
       "start_ride_price   first    0\n",
       "subscription_fee   first    0\n",
       "subscription_type  min      0\n",
       "dtype: int64"
      ]
     },
     "execution_count": 48,
     "metadata": {},
     "output_type": "execute_result"
    }
   ],
   "source": [
    "# проверим данные на пропуски\n",
    "res.isna().sum()"
   ]
  },
  {
   "cell_type": "markdown",
   "id": "d26d8308",
   "metadata": {},
   "source": [
    "<div class=\"alert alert-da nger\">\n",
    "<font size=\"4\"><b>❌ Комментарий ревьюера</b></font>\n",
    "    <br /> \n",
    "    <font size=\"3\", color = \"black\">\n",
    "<br /> \n",
    "        \n",
    "Стоит проверить агрегированные данные на пропуски\n",
    "        "
   ]
  },
  {
   "cell_type": "markdown",
   "id": "4834bc1d",
   "metadata": {},
   "source": [
    "<div class=\"alert alert-info\">\n",
    "<font size=\"4\", color = \"black\"><b>✍ Комментарий студента</b></font>\n",
    "    <br /> \n",
    "    <font size=\"3\", color = \"black\">\n",
    "<br /> Исправлено"
   ]
  },
  {
   "cell_type": "code",
   "execution_count": 49,
   "id": "c99ea124",
   "metadata": {
    "scrolled": true
   },
   "outputs": [
    {
     "data": {
      "text/plain": [
       "MultiIndex([(         'distance', 'count'),\n",
       "            (         'distance',   'sum'),\n",
       "            (         'duration',   'sum'),\n",
       "            (     'minute_price', 'first'),\n",
       "            ( 'start_ride_price', 'first'),\n",
       "            ( 'subscription_fee', 'first'),\n",
       "            ('subscription_type',   'min')],\n",
       "           )"
      ]
     },
     "execution_count": 49,
     "metadata": {},
     "output_type": "execute_result"
    }
   ],
   "source": [
    "# избавимся от двухэтажности имен столбцов\n",
    "res.columns"
   ]
  },
  {
   "cell_type": "code",
   "execution_count": 50,
   "id": "0ea8dbeb",
   "metadata": {
    "scrolled": true
   },
   "outputs": [
    {
     "data": {
      "text/plain": [
       "Index(['distance_count', 'distance_sum', 'duration_sum', 'minute_price_first',\n",
       "       'start_ride_price_first', 'subscription_fee_first',\n",
       "       'subscription_type_min'],\n",
       "      dtype='object')"
      ]
     },
     "execution_count": 50,
     "metadata": {},
     "output_type": "execute_result"
    }
   ],
   "source": [
    "res.columns=['_'.join(col) for col in res.columns]\n",
    "res.columns"
   ]
  },
  {
   "attachments": {
    "image.png": {
     "image/png": "[encoded data removed]"
    }
   },
   "cell_type": "markdown",
   "id": "e53d2767",
   "metadata": {},
   "source": [
    "<div class=\"alert alert-warning\", style=\"border:solid coral 3px; padding: 20px\">\n",
    "<font size=\"4\", color = \"DimGrey\"><b>⚠️ Комментарий ревьюера </b></font>\n",
    "    <br /> \n",
    "    <font size=\"3\", color = \"black\">\n",
    "<br />  Переименование оптимальнее выполнять в автоматическом режиме, склеивая строки мультииндекса → join(), чтобы не совершить ошибку с порядком очередности колонок в сводной таблице\n",
    "        \n",
    "![image.png](attachment:image.png)        "
   ]
  },
  {
   "cell_type": "markdown",
   "id": "bd51abc9",
   "metadata": {},
   "source": [
    "<div class=\"alert alert-info\">\n",
    "<font size=\"4\", color = \"black\"><b>✍ Комментарий студента</b></font>\n",
    "    <br /> \n",
    "    <font size=\"3\", color = \"black\">\n",
    "<br /> Исправлено"
   ]
  },
  {
   "cell_type": "markdown",
   "id": "4adb1107",
   "metadata": {},
   "source": [
    "##### В этот же датафрейм добавьте столбец с помесячной выручкой, которую принёс каждый пользователь.\n",
    "\n",
    "Для этого обратитесь к информации об условиях оплаты для подписчиков и тех, у кого нет подписки. Продолжительность каждой поездки в каждой строке исходного датафрейма для подсчёта стоимости округляется до следующего целого числа: например, значения \n",
    "25.3\n",
    "25.3, \n",
    "25.5\n",
    "25.5 и \n",
    "26.0\n",
    "26.0 должны быть преобразованы к \n",
    "26\n",
    "26."
   ]
  },
  {
   "cell_type": "markdown",
   "id": "dd8cdcbf",
   "metadata": {},
   "source": [
    "без подписки \n",
    "\n",
    "* абонентская плата отсутствует;\n",
    "\n",
    "* стоимость одной минуты поездки — 8 рублей;\n",
    "\n",
    "* стоимость старта (начала поездки) — 50 рублей;\n",
    "\n",
    "с подпиской Ultra \n",
    "\n",
    "* абонентская плата — 199 рублей в месяц;\n",
    "* стоимость одной минуты поездки — 6 рублей;\n",
    "* стоимость старта — бесплатно."
   ]
  },
  {
   "cell_type": "code",
   "execution_count": 51,
   "id": "46cd0ccc",
   "metadata": {},
   "outputs": [],
   "source": [
    "#создадим функцию, которая помоежт нам рассчитать значения в новом столбце\n",
    "def profit(d):\n",
    "    if d['subscription_type_min'] =='free':\n",
    "        return d['minute_price_first']*d['duration_sum']+d['distance_count']*d['start_ride_price_first']\n",
    "    else:\n",
    "        return d['subscription_fee_first'] + d['minute_price_first']*d['duration_sum']"
   ]
  },
  {
   "cell_type": "markdown",
   "id": "0dba5d8e",
   "metadata": {},
   "source": [
    "если у пользователя тариф бесплатный, то для расчета мы умножим стоимость минуты на время и поездки и прибавим к этому стоимость старта, умноженную на кол-во поездок\n",
    "\n",
    "для пользователя с подпиской: ежемесячная плата + произведение стоимости минуты на время поездки"
   ]
  },
  {
   "cell_type": "code",
   "execution_count": 52,
   "id": "fef36796",
   "metadata": {},
   "outputs": [
    {
     "data": {
      "text/html": [
       "<div>\n",
       "<style scoped>\n",
       "    .dataframe tbody tr th:only-of-type {\n",
       "        vertical-align: middle;\n",
       "    }\n",
       "\n",
       "    .dataframe tbody tr th {\n",
       "        vertical-align: top;\n",
       "    }\n",
       "\n",
       "    .dataframe thead th {\n",
       "        text-align: right;\n",
       "    }\n",
       "</style>\n",
       "<table border=\"1\" class=\"dataframe\">\n",
       "  <thead>\n",
       "    <tr style=\"text-align: right;\">\n",
       "      <th></th>\n",
       "      <th></th>\n",
       "      <th>distance_count</th>\n",
       "      <th>distance_sum</th>\n",
       "      <th>duration_sum</th>\n",
       "      <th>minute_price_first</th>\n",
       "      <th>start_ride_price_first</th>\n",
       "      <th>subscription_fee_first</th>\n",
       "      <th>subscription_type_min</th>\n",
       "      <th>monthly</th>\n",
       "    </tr>\n",
       "    <tr>\n",
       "      <th>user_id</th>\n",
       "      <th>month</th>\n",
       "      <th></th>\n",
       "      <th></th>\n",
       "      <th></th>\n",
       "      <th></th>\n",
       "      <th></th>\n",
       "      <th></th>\n",
       "      <th></th>\n",
       "      <th></th>\n",
       "    </tr>\n",
       "  </thead>\n",
       "  <tbody>\n",
       "    <tr>\n",
       "      <th rowspan=\"5\" valign=\"top\">1</th>\n",
       "      <th>1</th>\n",
       "      <td>2</td>\n",
       "      <td>7027.511294</td>\n",
       "      <td>42.0</td>\n",
       "      <td>6</td>\n",
       "      <td>0</td>\n",
       "      <td>199</td>\n",
       "      <td>ultra</td>\n",
       "      <td>451.0</td>\n",
       "    </tr>\n",
       "    <tr>\n",
       "      <th>4</th>\n",
       "      <td>1</td>\n",
       "      <td>754.159807</td>\n",
       "      <td>7.0</td>\n",
       "      <td>6</td>\n",
       "      <td>0</td>\n",
       "      <td>199</td>\n",
       "      <td>ultra</td>\n",
       "      <td>241.0</td>\n",
       "    </tr>\n",
       "    <tr>\n",
       "      <th>8</th>\n",
       "      <td>2</td>\n",
       "      <td>6723.470560</td>\n",
       "      <td>46.0</td>\n",
       "      <td>6</td>\n",
       "      <td>0</td>\n",
       "      <td>199</td>\n",
       "      <td>ultra</td>\n",
       "      <td>475.0</td>\n",
       "    </tr>\n",
       "    <tr>\n",
       "      <th>10</th>\n",
       "      <td>2</td>\n",
       "      <td>5809.911100</td>\n",
       "      <td>32.0</td>\n",
       "      <td>6</td>\n",
       "      <td>0</td>\n",
       "      <td>199</td>\n",
       "      <td>ultra</td>\n",
       "      <td>391.0</td>\n",
       "    </tr>\n",
       "    <tr>\n",
       "      <th>11</th>\n",
       "      <td>3</td>\n",
       "      <td>7003.499363</td>\n",
       "      <td>56.0</td>\n",
       "      <td>6</td>\n",
       "      <td>0</td>\n",
       "      <td>199</td>\n",
       "      <td>ultra</td>\n",
       "      <td>535.0</td>\n",
       "    </tr>\n",
       "    <tr>\n",
       "      <th>...</th>\n",
       "      <th>...</th>\n",
       "      <td>...</td>\n",
       "      <td>...</td>\n",
       "      <td>...</td>\n",
       "      <td>...</td>\n",
       "      <td>...</td>\n",
       "      <td>...</td>\n",
       "      <td>...</td>\n",
       "      <td>...</td>\n",
       "    </tr>\n",
       "    <tr>\n",
       "      <th rowspan=\"5\" valign=\"top\">1534</th>\n",
       "      <th>6</th>\n",
       "      <td>2</td>\n",
       "      <td>3409.468534</td>\n",
       "      <td>26.0</td>\n",
       "      <td>8</td>\n",
       "      <td>50</td>\n",
       "      <td>0</td>\n",
       "      <td>free</td>\n",
       "      <td>308.0</td>\n",
       "    </tr>\n",
       "    <tr>\n",
       "      <th>8</th>\n",
       "      <td>2</td>\n",
       "      <td>7622.453034</td>\n",
       "      <td>48.0</td>\n",
       "      <td>8</td>\n",
       "      <td>50</td>\n",
       "      <td>0</td>\n",
       "      <td>free</td>\n",
       "      <td>484.0</td>\n",
       "    </tr>\n",
       "    <tr>\n",
       "      <th>9</th>\n",
       "      <td>1</td>\n",
       "      <td>4928.173852</td>\n",
       "      <td>23.0</td>\n",
       "      <td>8</td>\n",
       "      <td>50</td>\n",
       "      <td>0</td>\n",
       "      <td>free</td>\n",
       "      <td>234.0</td>\n",
       "    </tr>\n",
       "    <tr>\n",
       "      <th>11</th>\n",
       "      <td>4</td>\n",
       "      <td>13350.015305</td>\n",
       "      <td>78.0</td>\n",
       "      <td>8</td>\n",
       "      <td>50</td>\n",
       "      <td>0</td>\n",
       "      <td>free</td>\n",
       "      <td>824.0</td>\n",
       "    </tr>\n",
       "    <tr>\n",
       "      <th>12</th>\n",
       "      <td>1</td>\n",
       "      <td>2371.711192</td>\n",
       "      <td>16.0</td>\n",
       "      <td>8</td>\n",
       "      <td>50</td>\n",
       "      <td>0</td>\n",
       "      <td>free</td>\n",
       "      <td>178.0</td>\n",
       "    </tr>\n",
       "  </tbody>\n",
       "</table>\n",
       "<p>11331 rows × 8 columns</p>\n",
       "</div>"
      ],
      "text/plain": [
       "               distance_count  distance_sum  duration_sum  minute_price_first  \\\n",
       "user_id month                                                                   \n",
       "1       1                   2   7027.511294          42.0                   6   \n",
       "        4                   1    754.159807           7.0                   6   \n",
       "        8                   2   6723.470560          46.0                   6   \n",
       "        10                  2   5809.911100          32.0                   6   \n",
       "        11                  3   7003.499363          56.0                   6   \n",
       "...                       ...           ...           ...                 ...   \n",
       "1534    6                   2   3409.468534          26.0                   8   \n",
       "        8                   2   7622.453034          48.0                   8   \n",
       "        9                   1   4928.173852          23.0                   8   \n",
       "        11                  4  13350.015305          78.0                   8   \n",
       "        12                  1   2371.711192          16.0                   8   \n",
       "\n",
       "               start_ride_price_first  subscription_fee_first  \\\n",
       "user_id month                                                   \n",
       "1       1                           0                     199   \n",
       "        4                           0                     199   \n",
       "        8                           0                     199   \n",
       "        10                          0                     199   \n",
       "        11                          0                     199   \n",
       "...                               ...                     ...   \n",
       "1534    6                          50                       0   \n",
       "        8                          50                       0   \n",
       "        9                          50                       0   \n",
       "        11                         50                       0   \n",
       "        12                         50                       0   \n",
       "\n",
       "              subscription_type_min  monthly  \n",
       "user_id month                                 \n",
       "1       1                     ultra    451.0  \n",
       "        4                     ultra    241.0  \n",
       "        8                     ultra    475.0  \n",
       "        10                    ultra    391.0  \n",
       "        11                    ultra    535.0  \n",
       "...                             ...      ...  \n",
       "1534    6                      free    308.0  \n",
       "        8                      free    484.0  \n",
       "        9                      free    234.0  \n",
       "        11                     free    824.0  \n",
       "        12                     free    178.0  \n",
       "\n",
       "[11331 rows x 8 columns]"
      ]
     },
     "execution_count": 52,
     "metadata": {},
     "output_type": "execute_result"
    }
   ],
   "source": [
    "# назову новый столбец monthly, применим к нему функцию profit, считающую прибыль за месяц\n",
    "res['monthly'] = res.apply(profit, axis=1)\n",
    "res"
   ]
  },
  {
   "cell_type": "code",
   "execution_count": 53,
   "id": "490fc0cf",
   "metadata": {},
   "outputs": [
    {
     "name": "stdout",
     "output_type": "stream",
     "text": [
      "за год без подписки: 2234104.0\n",
      "в месяц пользователь без подписки 193.12793914246197\n"
     ]
    }
   ],
   "source": [
    "# сколько принесли за год без подписки\n",
    "print('за год без подписки:',res.query('subscription_type_min==\"free\"')['monthly'].sum())\n",
    "# в месяц пользователь без подписки\n",
    "print('в месяц пользователь без подписки',\n",
    "      res.query('subscription_type_min==\"free\"')['monthly'].sum()/len(free['month']))\n"
   ]
  },
  {
   "cell_type": "code",
   "execution_count": 54,
   "id": "59e65cd0",
   "metadata": {},
   "outputs": [
    {
     "name": "stdout",
     "output_type": "stream",
     "text": [
      "за год подписчики: 1644537.0\n",
      "в месяц пользователь c подпиской 253.0056923076923\n"
     ]
    }
   ],
   "source": [
    "# сколько принесли за год подписчики\n",
    "print('за год подписчики:',res.query('subscription_type_min==\"ultra\"')['monthly'].sum())\n",
    "print('в месяц пользователь c подпиской',\n",
    "res.query('subscription_type_min==\"ultra\"')['monthly'].sum()/len(ultra['month']))"
   ]
  },
  {
   "attachments": {
    "image-2.png": {
     "image/png": "[encoded data removed]"
    },
    "image.png": {
     "image/png": "[encoded data removed]"
    }
   },
   "cell_type": "markdown",
   "id": "96d1f15a",
   "metadata": {},
   "source": [
    "<div class=\"alert alert-danger\">\n",
    "<font size=\"4\"><b>❌ Комментарий ревьюера в3</b></font>\n",
    "    <br /> \n",
    "    <font size=\"3\", color = \"black\">\n",
    "<br /> Стоит  поправить расчет\n",
    "        \n",
    "       res.query('subscription_type_min==\"ultra\"')['monthly'].sum()/len(ultra['month'])\n",
    "        \n",
    "делится сумма одной выборки на длину совершенно другой выборки ...        \n",
    "        \n",
    "![image.png](attachment:image.png)        \n",
    "        \n",
    "не стоит забывать и о простых способах расчетов\n",
    "        \n",
    "![image-2.png](attachment:image-2.png)        \n",
    "        \n",
    "        "
   ]
  },
  {
   "cell_type": "markdown",
   "id": "986826ce",
   "metadata": {},
   "source": [
    "<div class=\"alert alert-da nger\">\n",
    "<font size=\"4\"><b>❌ Комментарий ревьюера в2</b></font>\n",
    "    <br /> \n",
    "    <font size=\"3\", color = \"black\">\n",
    "<br /> Стоит  поправить расчет\n",
    "        \n",
    "        print('в месяц пользователь c подпиской',\n",
    "        res.query('subscription_type_min==\"ultra\"')['monthly'].sum()/12/len(ultra['user_id']))\n",
    "        \n",
    "не все пользователи использовали сервис 12 месяцев      \n",
    "        \n",
    "Мы ищем средний чек в месяц от одного пользователя      \n",
    "        \n",
    "Фактически мы должны разделить сумму на кол-во месяцев, а не на \n",
    "        \n",
    "        12/len(ultra['user_id'])\n",
    "        \n",
    "или сразу подсчитать среднее        \n",
    "        \n",
    "        "
   ]
  },
  {
   "cell_type": "markdown",
   "id": "1c4c11f0",
   "metadata": {},
   "source": [
    "<div class=\"alert alert-info\">\n",
    "<font size=\"4\", color = \"black\"><b>✍ Комментарий студента v2</b></font>\n",
    "    <br /> \n",
    "    <font size=\"3\", color = \"black\">\n",
    "<br /> Исправлено, использовала кол-во месяцев"
   ]
  },
  {
   "cell_type": "code",
   "execution_count": 55,
   "id": "ccbd144b",
   "metadata": {},
   "outputs": [
    {
     "data": {
      "text/plain": [
       "3878641.0"
      ]
     },
     "execution_count": 55,
     "metadata": {},
     "output_type": "execute_result"
    }
   ],
   "source": [
    "# check\n",
    "res['monthly'].sum()"
   ]
  },
  {
   "cell_type": "markdown",
   "id": "cf2ff90b",
   "metadata": {},
   "source": [
    "<div class=\"alert alert-success\">\n",
    "<font size=\"4\", color= \"seagreen\"><b>✔️ Комментарий ревьюера</b></font>\n",
    "    <br /> \n",
    "    <font size=\"3\", color = \"black\">\n",
    "<br />Сумма выручки рассчитана корректно, молодец"
   ]
  },
  {
   "cell_type": "markdown",
   "id": "9fe6d2ab",
   "metadata": {},
   "source": [
    "Вывод к шагу 5:\n",
    "    \n",
    "на этом шаге бы округлен столбец с продолжительностью времени до целого значения (вверх). \n",
    "\n",
    "Далее с помощью сводных таблиц создадим датафрейм с подсчетами выручки за месяц, группируя данные по пользователю и месяцу.\n",
    "\n",
    "В датафрейм  добавим новый столбец с выручкой за месяц по пользователю. Столбец вычислим с помощью функции profit.\n",
    "\n",
    "\n",
    "В новом датафрейме будут столбцы: \n",
    "\n",
    "* ид пользователя\n",
    "\n",
    "* месяц\n",
    "\n",
    "* кол-во поездок\n",
    "\n",
    "* суммарное расстояние\n",
    "\n",
    "* суммарное время поездок\n",
    "\n",
    "* цена минуты\n",
    "\n",
    "* цена старта\n",
    "\n",
    "* тариф\n",
    "\n",
    "* выручка "
   ]
  },
  {
   "cell_type": "markdown",
   "id": "41545ac0",
   "metadata": {},
   "source": [
    "#### Шаг 6. Проверка гипотез"
   ]
  },
  {
   "cell_type": "markdown",
   "id": "4b9f3eb0",
   "metadata": {},
   "source": [
    "Продакт-менеджеры сервиса хотят увеличить количество пользователей с подпиской. Для этого они будут проводить различные акции, но сначала нужно выяснить несколько важных моментов.\n",
    "\n",
    "#####  Важно понять, тратят ли пользователи с подпиской больше времени на поездки?\n",
    "\n",
    "Если да, то пользователи с подпиской могут быть «выгоднее» для компании. Проверьте гипотезу. Используйте исходные данные о продолжительности каждой сессии — отдельно для подписчиков и тех, у кого нет подписки."
   ]
  },
  {
   "cell_type": "markdown",
   "id": "2e8f23d1",
   "metadata": {},
   "source": [
    "Для начала формулируем гипотезы.\n",
    "\n",
    "Нулевая гипотеза H0: Среднее время поездки пользоватей с подпиской равно среднему времени поездки  пользователей без подписки.\n",
    "\n",
    "Альтернативная H1:Среднее время поездки пользоватей с подпиской  больше, чем у пользователей без подписки\n",
    "\n",
    "Это односторонняя гипотеза.\n",
    "\n",
    "Гипотеза сформулирована. Далее выбираем уровень значимости. Примем alpha = 0.05\n",
    "\n",
    "У нас 2 независимые выборки, где проверяется равенство средних двух ГС. Будем использовать scipy.stats.ttest_ind"
   ]
  },
  {
   "cell_type": "markdown",
   "id": "42237f7f",
   "metadata": {},
   "source": [
    "<div class=\"alert alert-warning\", style=\"border:solid coral 3px; padding: 20px\">\n",
    "<font size=\"4\", color = \"DimGrey\"><b>⚠️Комментарий ревьюера</b></font>\n",
    "    <br /> \n",
    "    <font size=\"3\", color = \"black\">\n",
    "<br />\n",
    " Стоит поправить на Н1\n",
    "        \n",
    "        Альтернативная: H2:"
   ]
  },
  {
   "cell_type": "markdown",
   "id": "e9a93cc6",
   "metadata": {},
   "source": [
    "<div class=\"alert alert-info\">\n",
    "<font size=\"4\", color = \"black\"><b>✍ Комментарий студента</b></font>\n",
    "    <br /> \n",
    "    <font size=\"3\", color = \"black\">\n",
    "<br /> Опечатка исправлена"
   ]
  },
  {
   "cell_type": "code",
   "execution_count": 56,
   "id": "d6cdbe44",
   "metadata": {},
   "outputs": [
    {
     "name": "stdout",
     "output_type": "stream",
     "text": [
      "p-значение: 1.2804098316645618e-34\n",
      "Отвергаем нулевую гипотезу\n"
     ]
    }
   ],
   "source": [
    "#две выборки взятые независимо друг от друга \n",
    "sample1 =  ultra['duration']\n",
    "sample2 = free['duration']\n",
    "#выбранный уровень статистической значимости\n",
    "alpha = 0.05\n",
    "results = st.ttest_ind(sample1,sample2,alternative='greater')\n",
    "print('p-значение:',results.pvalue)\n",
    "if results.pvalue < alpha:\n",
    "    print('Отвергаем нулевую гипотезу')\n",
    "else:\n",
    "        print('Не получилось отвергнуть нулевую гипотезу')\n"
   ]
  },
  {
   "cell_type": "markdown",
   "id": "6596fbb7",
   "metadata": {},
   "source": [
    "ВЫВОД :\n",
    "\n",
    "Значение p-value показывает: вероятность случайно получить такое или большее различие равна почти 1.2804098316645618e-34. Это явно слишком маленькая вероятность, чтобы не делать вывод о значимом различии между временем поездки у пользователей с подпиской и без.\n",
    "\n",
    "Полученное значение p-value меньше заданного уровня значимости, поэтому отвергаем нулевую гипотезу. Есть основания говорить, что пользователи с подпиской делают более продожительные поездки."
   ]
  },
  {
   "cell_type": "markdown",
   "id": "2238e509",
   "metadata": {},
   "source": [
    "<div style>\n",
    "<font size=\"4\"><b></b></font>\n",
    "<font size=\"5\", color = \"black\">\n",
    "👍"
   ]
  },
  {
   "cell_type": "markdown",
   "id": "a2090d85",
   "metadata": {},
   "source": [
    "<div class=\"alert alert-dan ger\">\n",
    "<font size=\"4\"><b>❌ Комментарий ревьюера</b></font>\n",
    "    <br /> \n",
    "    <font size=\"3\", color = \"black\">\n",
    "<br />Важно соблюдать очередность выборок в стат тесте\n",
    "        \n",
    "        #две выборки взятые независимо друг от друга \n",
    "        sample1 = free['duration']\n",
    "        sample2 = ultra['duration']\n",
    "        #выбранный уровень статистической значимости\n",
    "        alpha = 0.05\n",
    "        results = st.ttest_ind(sample1,sample2,alternative='greater')\n",
    "        \n",
    "сейчас стат тест проверяет такую Н1 — средняя продолжительность поездок у пользователей БЕЗ подписки больше чем у пользователей С подпиской        \n",
    "        \n",
    "Стоит поправить и вывод        "
   ]
  },
  {
   "cell_type": "markdown",
   "id": "0c418ee8",
   "metadata": {},
   "source": [
    "<div class=\"alert alert-info\">\n",
    "<font size=\"4\", color = \"black\"><b>✍ Комментарий студента</b></font>\n",
    "    <br /> \n",
    "    <font size=\"3\", color = \"black\">\n",
    "<br /> исправлено"
   ]
  },
  {
   "cell_type": "markdown",
   "id": "18e9bc4e",
   "metadata": {},
   "source": [
    "<div class=\"alert alert-warning\", style=\"border:solid coral 3px; padding: 20px\">\n",
    "<font size=\"4\", color = \"DimGrey\"><b>⚠️ Комментарий ревьюера</b></font>\n",
    "    <br />\n",
    "    <font size=\"3\", color = \"black\">\n",
    "<br /> Что означает на языке статистики p-значение: 1.2804098316645618e-34"
   ]
  },
  {
   "cell_type": "markdown",
   "id": "ff1d9945",
   "metadata": {},
   "source": [
    "<div class=\"alert alert-info\">\n",
    "<font size=\"4\", color = \"black\"><b>✍ Комментарий студента</b></font>\n",
    "    <br /> \n",
    "    <font size=\"3\", color = \"black\">\n",
    "<br /> \n",
    "\n",
    "p-value = 1.2804098316645618e-34 - вероятность того, что в ходе исследования наблюдения были случайными\n",
    "        \n",
    "        вероятность случайно получить такое или большее различие равна почти 1.2804098316645618e-34. "
   ]
  },
  {
   "cell_type": "markdown",
   "id": "7e498e13",
   "metadata": {},
   "source": [
    "#####  Расстояние одной поездки в 3130 метров — оптимальное с точки зрения износа самоката. Можно ли сказать, что среднее расстояние, которое проезжают пользователи с подпиской за одну поездку, не превышает 3130 метров? \n",
    "\n",
    "Проверьте гипотезу и сделайте выводы."
   ]
  },
  {
   "cell_type": "markdown",
   "id": "c140e874",
   "metadata": {},
   "source": [
    "Формулирую гипотезы:\n",
    "\n",
    "H0: Среднее расстояние,которое проезжают пользователи с подпиской за одну поездку = 3130 метров.\n",
    "\n",
    "Н1: Среднее расстояние,которое проезжают пользователи с подпиской за одну поездку превышает 3130 метров.\n",
    "\n",
    "Это правосторонняя гипотеза.\n",
    "\n",
    "Гипотеза сформулирована. Далее выбираем уровень значимости, примем alpha = 0.05\n",
    "\n",
    "У нас одна выборка и проверяется гипотеза о равенстве среднего ГС числу, зафиксированному в нулевой гипотезе.\n",
    "Применяем  st.ttest_1samp\n",
    "\n",
    "\n",
    "\n"
   ]
  },
  {
   "cell_type": "markdown",
   "id": "abbdf2f8",
   "metadata": {},
   "source": [
    "<div class=\"alert alert-dang er\">\n",
    "<font size=\"4\"><b>❌ Комментарий ревьюера</b></font>\n",
    "    <br /> \n",
    "    <font size=\"3\", color = \"black\">\n",
    "<br />В данном случае стоит использовать параметр alternative = 'greater'. Поскольку оптимальное расстояние по износу составляет 3130 м, значит большее расстояние приводит к повышенному износу самоката. Следовательно, имеет смысл сформулировать альтернативную гипотезу \"Подписчики в среднем проезжают расстояние больше оптимального\"\n",
    "</div>"
   ]
  },
  {
   "cell_type": "markdown",
   "id": "aa7a8eae",
   "metadata": {},
   "source": [
    "<div class=\"alert alert-info\">\n",
    "<font size=\"4\", color = \"black\"><b>✍ Комментарий студента</b></font>\n",
    "    <br /> \n",
    "    <font size=\"3\", color = \"black\">\n",
    "<br /> \n",
    " исправлено, но не до конца понимаю почему мы строим альтернативную гипотезу обратную к условиям задания : \"Можно ли сказать, что среднее расстояние, которое проезжают пользователи с подпиской за одну поездку, не превышает 3130 метров\""
   ]
  },
  {
   "cell_type": "markdown",
   "id": "dc766405",
   "metadata": {},
   "source": [
    "<div class=\"alert alert-dan ger\">\n",
    "<font size=\"4\"><b>❌ Комментарий ревьюера в2</b></font>\n",
    "    <br /> \n",
    "    <font size=\"3\", color = \"black\">\n",
    "<br />Чтобы отвергнуть Н1, которая говорит, что пользователи проезжают больше оптимального расстояния\n",
    "        \n",
    "        \n",
    "И стоит поправить вывод.\n",
    "        \n",
    "Если у нас Н1 такая\n",
    "        \n",
    "        H0: Среднее расстояние,которое проезжают пользователи с подпиской за одну поездку = 3130 метров.\n",
    "\n",
    "        Н1: Среднее расстояние,которое проезжают пользователи с подпиской за одну поездку превышает 3130 метров.\n",
    "        \n",
    "результат стат теста такой        \n",
    "        \n",
    "        p-значение: 0.9195368847849785\n",
    "        Не получилось отвергнуть нулевую гипотезу\n",
    "        \n",
    "значит мы отвергаем Н1 в пользу Н0    \n",
    "        \n",
    "        Полученное значение p-value (0.92) больше заданного уровня значимости, поэтому не получилось отвергнуть нулевую гипотезу. Пользователи с подпиской проезжают более 3130 метров за поездку.\n",
    "        \n",
    "а если мы отвергаем Н1, то значит проехали равное расстояние или не большее расстояние чем в value = 3130        "
   ]
  },
  {
   "cell_type": "markdown",
   "id": "50a4ffe7",
   "metadata": {},
   "source": [
    "<div class=\"alert alert-info\">\n",
    "<font size=\"4\", color = \"black\"><b>✍ Комментарий студента v2</b></font>\n",
    "    <br /> \n",
    "    <font size=\"3\", color = \"black\">\n",
    "<br /> \n",
    " исправлено"
   ]
  },
  {
   "cell_type": "code",
   "execution_count": 57,
   "id": "d1b91833",
   "metadata": {},
   "outputs": [
    {
     "name": "stdout",
     "output_type": "stream",
     "text": [
      "p-значение: 0.9195368847849785\n",
      "Не получилось отвергнуть нулевую гипотезу\n"
     ]
    }
   ],
   "source": [
    "#выборка\n",
    "samlpe = ultra['distance']\n",
    "\n",
    "value = 3130\n",
    "# уровень статистической значимости\n",
    "alpha = 0.05\n",
    "\n",
    "results = st.ttest_1samp(\n",
    "   samlpe, \n",
    "   value,\n",
    "      alternative='greater')\n",
    "\n",
    "print('p-значение:', results.pvalue)\n",
    "\n",
    "if (results.pvalue < alpha):\n",
    "    print('Отвергаем нулевую гипотезу')\n",
    "else:\n",
    "    print('Не получилось отвергнуть нулевую гипотезу') "
   ]
  },
  {
   "cell_type": "markdown",
   "id": "44e5b175",
   "metadata": {},
   "source": [
    "\n",
    "Полученное значение p-value (0.92) больше заданного уровня значимости, поэтому не получилось отвергнуть нулевую гипотезу. Пользователи с подпиской проезжают в среднем расстояние 3130 метров за поездку.\n",
    "\n",
    "Это хороший результат для бизнеса, ведь превышение дистанции поездок ведет к износу и дополнительным тратам на обслуживание и/или ремонт самоката. "
   ]
  },
  {
   "cell_type": "markdown",
   "id": "c4cd566a",
   "metadata": {},
   "source": [
    "<div class=\"alert alert-d anger\">\n",
    "<font size=\"4\"><b>❌ Комментарий ревьюера</b></font>\n",
    "    <br /> \n",
    "    <font size=\"3\", color = \"black\">\n",
    "<br />\n",
    "        \n",
    "        Нет основания говорить, что пользователи с подпиской проезжают не более 3100 метров за поездку.\n",
    "        \n",
    "Стоит поправить все выводы, добавить акценты с точки зрения бизнеса: выгодно это или нет"
   ]
  },
  {
   "cell_type": "markdown",
   "id": "e8da429e",
   "metadata": {},
   "source": [
    "<div class=\"alert alert-info\">\n",
    "<font size=\"4\", color = \"black\"><b>✍ Комментарий студента</b></font>\n",
    "    <br /> \n",
    "    <font size=\"3\", color = \"black\">\n",
    "<br /> \n",
    " исправлено"
   ]
  },
  {
   "cell_type": "markdown",
   "id": "7689b60b",
   "metadata": {},
   "source": [
    "##### Проверьте гипотезу о том, будет ли помесячная выручка от пользователей с подпиской по месяцам выше, чем выручка от пользователей без подписки. Сделайте вывод."
   ]
  },
  {
   "cell_type": "markdown",
   "id": "c4abbbf0",
   "metadata": {},
   "source": [
    "Формулирую гипотезы:\n",
    "\n",
    "H0: Выручка от пользователей с подпиской ультра = выручке от пользователей с подпиской free\n",
    "\n",
    "Н1: Выручка от пользователей с подпиской ультра > выручки от пользователей с подпиской free\n",
    "\n",
    "Это правосторонняя гипотеза.\n",
    "\n",
    "Гипотеза сформулирована. Далее выбираем уровень значимости, примем alpha = 0.05\n",
    "\n",
    "У нас 2 независимые выборки, где проверяется равенство средних двух ГС. Будем использовать scipy.stats.ttest_ind"
   ]
  },
  {
   "cell_type": "code",
   "execution_count": 58,
   "id": "0e605391",
   "metadata": {},
   "outputs": [
    {
     "name": "stdout",
     "output_type": "stream",
     "text": [
      "p-значение: 1.8850394384715216e-31\n",
      "Отвергаем нулевую гипотезу\n"
     ]
    }
   ],
   "source": [
    "#две выборки взятые независимо друг от друга \n",
    "sample1 = res.query('subscription_type_min==\"ultra\"')['monthly']\n",
    "sample2 =res.query('subscription_type_min==\"free\"')['monthly']\n",
    "#выбранный уровень статистической значимости\n",
    "alpha = 0.05\n",
    "results = st.ttest_ind(sample1,sample2,alternative='greater')\n",
    "print('p-значение:',results.pvalue)\n",
    "if results.pvalue < alpha:\n",
    "    print('Отвергаем нулевую гипотезу')\n",
    "else:\n",
    "        print('Не получилось отвергнуть нулевую гипотезу')"
   ]
  },
  {
   "cell_type": "markdown",
   "id": "f5b53874",
   "metadata": {},
   "source": [
    "Полученное значение p-value меньше заданного уровня значимости, поэтому отвергаем нулевую гипотезу. Есть основания говорить, что пользователи с подпиской приносят больше выручки."
   ]
  },
  {
   "cell_type": "markdown",
   "id": "c78723d1",
   "metadata": {},
   "source": [
    "<div class=\"alert alert-da nger\">\n",
    "<font size=\"4\"><b>❌ Комментарий ревьюера</b></font>\n",
    "    <br /> \n",
    "    <font size=\"3\", color = \"black\">\n",
    "<br />\n",
    "        \n",
    "Стоит поправить очередность выборок\n",
    "        \n",
    "        #две выборки взятые независимо друг от друга \n",
    "        sample1 =res.query('type==\"free\"')['monthly']\n",
    "        sample2 = res.query('type==\"ultra\"')['monthly']\n",
    "        #выбранный уровень статистической значимости\n",
    "        alpha = 0.05\n",
    "        results = st.ttest_ind(sample1,sample2,alternative='greater')        "
   ]
  },
  {
   "cell_type": "markdown",
   "id": "4b2d5c31",
   "metadata": {},
   "source": [
    "<div class=\"alert alert-info\">\n",
    "<font size=\"4\", color = \"black\"><b>✍ Комментарий студента</b></font>\n",
    "    <br /> \n",
    "    <font size=\"3\", color = \"black\">\n",
    "<br /> \n",
    " исправлено"
   ]
  },
  {
   "cell_type": "markdown",
   "id": "8612d818",
   "metadata": {},
   "source": [
    "##### Представьте такую ситуацию: техническая команда сервиса обновила сервера, с которыми взаимодействует мобильное приложение. Она надеется, что из-за этого количество обращений в техподдержку значимо снизилось. Некоторый файл содержит для каждого пользователя данные о количестве обращений до обновления и после него. Какой тест вам понадобился бы для проверки этой гипотезы?"
   ]
  },
  {
   "cell_type": "markdown",
   "id": "9eab83ac",
   "metadata": {},
   "source": [
    "У нас было бы две зависимые(парные) выборки и проверялась гипотеза о равенстве среднего значения до и после изменения. (В данном случае это кол-во обращений до и после обновлений сервера). Использовался бы st.ttest_rel - двухвыборочный t-тест для зависимых выборок. \n",
    "\n",
    "Н0: Среднее кол-во обращений не изменилось\n",
    "\n",
    "Н1: Среднее количество обращений изменилось\n",
    "\n",
    "Двусторонняя гипотеза"
   ]
  },
  {
   "cell_type": "markdown",
   "id": "3004c58e",
   "metadata": {},
   "source": [
    "<div class=\"alert alert-warning\", style=\"border:solid coral 3px; padding: 20px\">\n",
    "<font size=\"4\", color = \"DimGrey\"><b>⚠️ Комментарий ревьюера</b></font>\n",
    "    <br /> \n",
    "    <font size=\"3\", color = \"black\">\n",
    "<br />  Стоит уточнить какую гипотезу будешь проверять: одностороннюю или двустороннюю\n",
    "        \n",
    "Подсказка\n",
    "        \n",
    "        ... Она надеется, что из-за этого количество обращений в техподдержку значимо снизилось. ..."
   ]
  },
  {
   "cell_type": "markdown",
   "id": "db8bf205",
   "metadata": {},
   "source": [
    "<div class=\"alert alert-info\">\n",
    "<font size=\"4\", color = \"black\"><b>✍ Комментарий студента</b></font>\n",
    "    <br /> \n",
    "    <font size=\"3\", color = \"black\">\n",
    "<br /> \n",
    "уточнила"
   ]
  },
  {
   "cell_type": "markdown",
   "id": "b6be4dba",
   "metadata": {},
   "source": [
    "<div class=\"alert alert-warning\", style=\"border:solid coral 3px; padding: 20px\">\n",
    "<font size=\"4\", color = \"DimGrey\"><b>⚠️ Комментарий ревьюера в2</b></font>\n",
    "    <br /> \n",
    "    <font size=\"3\", color = \"black\">\n",
    "<br />  \n",
    "        \n",
    "Т.е. мы будем проверять гипотезу о том, что среднее кол-во обращений было меньше ДО технических работ на сервере, а ПОСЛЕ тех.работ таких обращений стало больше?\n",
    "        \n",
    "        st.ttest_rel(before, after, alternative=’less’)\n",
    "       \n",
    "😉        "
   ]
  },
  {
   "cell_type": "markdown",
   "id": "814a01ba",
   "metadata": {},
   "source": [
    "<div class=\"alert alert-info\">\n",
    "<font size=\"4\", color = \"black\"><b>✍ Комментарий студента v2</b></font>\n",
    "    <br /> \n",
    "    <font size=\"3\", color = \"black\">\n",
    "<br /> \n",
    "Исправлено, проверяем двустороннюю гипотезу."
   ]
  },
  {
   "cell_type": "markdown",
   "id": "64ba0b79",
   "metadata": {},
   "source": [
    "<div class=\"alert alert-warning\", style=\"border:solid coral 3px; padding: 20px\">\n",
    "<font size=\"4\", color = \"DimGrey\"><b>⚠️ Комментарий ревьюера в3</b></font>\n",
    "    <br /> \n",
    "    <font size=\"3\", color = \"black\">\n",
    "<br />  Нет, мы ищем ответ на вопрос\n",
    "        \n",
    "        ... Она надеется, что из-за этого количество обращений в техподдержку значимо снизилось. ...\n",
    "        \n",
    "Корректный стат тест        \n",
    "        \n",
    "        st.ttest_rel(after, before, alternative=’less’)\n",
    "       \n",
    "🤝        "
   ]
  },
  {
   "cell_type": "markdown",
   "id": "0a18be7f",
   "metadata": {},
   "source": [
    "ВЫВОД к шагу 6:\n",
    "\n",
    "Мы проверили несколько гипотез и использовали разные методы для этого. \n",
    "\n",
    "Для каждого задания я сформулировала нулевую и альтернативную гипотезу, выбрала статистический уровень значимости применили стандартный 0.05) и провела тесты. В задании я использовала двухвыборочный t-тест для зависимых выборок и \n",
    "Одновыборочный t-тест.\n",
    "\n",
    "Я получала значение pvalue и сравнивала его с выбранным статистическим уровнем значимости alpha. Получилось что во всех трех случаях отвергнуть нулевую гипотезу не вышло.\n",
    "\n",
    "В результате проверки гипотез я выяснила,что:\n",
    "\n",
    "* пользователи с подпиской ultra делают более продолжительные поездки,\n",
    "\n",
    "* пользователи с подпиской проезжают более 3130 метров за поездку,\n",
    "\n",
    "* можно полагать, что пользователи с подпиской приносят больше выручки.\n",
    "\n",
    "\n"
   ]
  },
  {
   "cell_type": "markdown",
   "id": "0c25813d",
   "metadata": {},
   "source": [
    "<div class=\"alert alert-da nger\">\n",
    "<font size=\"4\"><b>❌ Комментарий ревьюера</b></font>\n",
    "    <br /> \n",
    "    <font size=\"3\", color = \"black\">\n",
    "<br />Стоит  поправить выводы"
   ]
  },
  {
   "cell_type": "markdown",
   "id": "2a7ee6f1",
   "metadata": {},
   "source": [
    "<div class=\"alert alert-info\">\n",
    "<font size=\"4\", color = \"black\"><b>✍ Комментарий студента</b></font>\n",
    "    <br /> \n",
    "    <font size=\"3\", color = \"black\">\n",
    "<br /> \n",
    " исправлено"
   ]
  },
  {
   "cell_type": "markdown",
   "id": "dda5f36a",
   "metadata": {},
   "source": [
    "<div class=\"alert alert-info\">\n",
    "<b>Общий вывод по проекту:</b>\n",
    "<br> На первом шаге проекта мы прочли данные из трех файлов и поместили их в датафреймы.\n",
    "    \n",
    "Далее на шаге 2 я ознакомилась с данными: сколько строк и столбцов, какие типы данных есть, сколько пропусков.\n",
    "Затем я обработала данные для дальнейшего анализа по ним: изменила тип данных согласно данным содержащихся в них, удалила пропуски, создала новый столбец с номером месяца.\n",
    "    \n",
    "На шаге 3 я визуализировала информацию о пользователях и поездках, используя гистограммы и диаграмму -пирог. \n",
    "    Больше всего пользователей в Пятигорске (219), вторым по популярности городом является Екатеринбург(204), а меньше всего юзеров из Москвы(168). \n",
    "\n",
    "Большинство (примерно 54%) пользуются бесплатным тарифом, остальные 46% тарифом ultra.\n",
    "\n",
    "Самому маленькому пользователю всего 12 лет, самому старшему 43, чаще всего пользователю 25 лет. \n",
    "\n",
    "Обычно пользователь проезжает 2,5 - 3,8 км за поездку. Самая короткая дистанция составила 0.86 м, а самая продолжительная 7211 м.\n",
    "\n",
    "Есть выброс - 95 поездок продолжительностью 30 секунд. Возможно пользователь обнаруживал, что с самокатом что-то не так. Самая долгая поездка составила почти 41 минуту, основной диапазон длительности поездки : 13,6-21,7 минут.\n",
    "    \n",
    "На 4 шаге с помощью метода merge я объединила 3 датафрейма в 1 с названием total. Из этого датафрейма с помощью query я создала 2 датафрейма с пользователями в разрезе подписки: в free оказались юзеры без подписки, в ultra  с подпиской.     \n",
    "\n",
    "На пятом шаге с помощью сводных таблиц создала датафрейм с подсчетами выручки за месяц, группируя данные по пользователю и месяцу.\n",
    "\n",
    "В датафрейм  добавила новый столбец с выручкой за месяц по пользователю. Столбец вычисляла с помощью своей функции profit. \n",
    "    \n",
    "В шаге 6 я проверяла различные гипотезы, для этого я следовала следующему алгоритму: 1) формулировка гипотезы, 2) выбор уровня стат. значимости 3) проведение теста 4) выводы\n",
    "    \n",
    "В результате проверки гипотез я выяснила,что:\n",
    "\n",
    "* Можно сказать, что с пользователи с подпиской ultra делают более продолжительные поездки,\n",
    "\n",
    "* Есть основания считать, что пользователи с подпиской проезжают  около 3130 метров за поездку,\n",
    "\n",
    "* Есть основания полагать, что пользователи с подпиской приносят больше выручки.\n",
    "\n",
    "    \n",
    "За год пользователи без подписки принесли 2,2 млн, а подписчики 1,6 млн. \n",
    "    \n",
    "Но при этом подписчик в месяц в среднем приносит 253 рубля, а неподписчик всего лишь 193 рубля.\n",
    "(Для подсчета я взяла выручку за год и поделила на кол-во месяцев)   \n",
    "    \n",
    "Таким образом, бизнесу можно дать рекомендацию нарастить число подписчиков, например, проведением промоакции: разослать промокод на подписку или ввести реферальную систему (\"кататься с другом дешевле - сразу 2 подписки со  скидкой\").   \n",
    "\n",
    "\n",
    "\n",
    "    \n",
    " \n",
    "    \n",
    "    \n",
    "    \n",
    "</div>"
   ]
  },
  {
   "cell_type": "markdown",
   "id": "8ffd4076",
   "metadata": {},
   "source": [
    "<div class=\"alert alert-dan ger\">\n",
    "<font size=\"4\"><b>❌ Комментарий ревьюера в2</b></font>\n",
    "    <br /> \n",
    "    <font size=\"3\", color = \"black\">\n",
    "<br />Стоит  поправить\n",
    "         \n",
    "+ вывод по второй гипотезе\n",
    "+ сравнение показателей суммарной годовой выручки для каждого тарифа и среднемесячной выручки для среднего пользователя, также для каждого тарифа\n",
    " + условно, 300 руб. в среднем в месяц нам приносит один пользователь с подпиской и 200 рублей пользователь без подписки         "
   ]
  },
  {
   "cell_type": "markdown",
   "id": "0f003a56",
   "metadata": {},
   "source": [
    "<div class=\"alert alert-info\">\n",
    "<font size=\"4\", color = \"black\"><b>✍ Комментарий студента v2</b></font>\n",
    "    <br /> \n",
    "    <font size=\"3\", color = \"black\">\n",
    "<br /> \n",
    "Исправлено"
   ]
  },
  {
   "cell_type": "markdown",
   "id": "619f1bd6",
   "metadata": {},
   "source": [
    "<div class=\"alert alert-danger\">\n",
    "<font size=\"4\"><b>❌ Комментарий ревьюера в3</b></font>\n",
    "    <br /> \n",
    "    <font size=\"3\", color = \"black\">\n",
    "<br />Стоит завершить исправление"
   ]
  },
  {
   "cell_type": "markdown",
   "id": "9d43f1dd",
   "metadata": {},
   "source": [
    "<div class=\"alert alert-da nger\">\n",
    "<font size=\"4\"><b>❌ Комментарий ревьюера </b></font>\n",
    "    <br /> \n",
    "    <font size=\"3\", color = \"black\">\n",
    "<br />Итоговый вывод технически составлен грамотно\n",
    "        \n",
    "Стоит добавить и поправить\n",
    "         \n",
    "+ выводы по гипотезам        \n",
    "+ сравнение показателей суммарной годовой выручки для каждого тарифа и среднемесячной выручки для среднего пользователя, также для каждого тарифа\n",
    " + условно, 1 млн. руб. за год мы заработали на пользователях с подпиской и 2 млн. руб. на пользователях без подписки\n",
    " + условно, 300 руб. в среднем в месяц нам приносит один пользователь с подпиской и 200 рублей пользователь без подписки        \n",
    "        \n",
    "+ итоговую рекомендацию бизнесу         \n",
    " "
   ]
  },
  {
   "cell_type": "markdown",
   "id": "e5af05de",
   "metadata": {},
   "source": [
    "<div class=\"alert alert-success\">\n",
    "<font size=\"5\", color= \"seagreen\"><b>✔️ Комментарий ревьюера</b></font>\n",
    "    <br /> \n",
    "    <font size=\"3\", color = \"black\">\n",
    "<br />   \n",
    "Ты выполнила практически все пункты проекта, молодец! Проведен значительный объем исследования деятельности компании \n",
    "        \n",
    "Критические ❌ комментарии: \n",
    " \n",
    " + добавить название проекту  \n",
    " + поправить графики        \n",
    " + проверить размерность таблиц и  пропуски после объединения таблиц\n",
    " + в разделе проверки гипотез поправить стат тесты и выводы\n",
    " + прочие        \n",
    "        \n",
    "Стоит обратить внимание на ⚠️ комментарии...        \n",
    "                \n",
    " \n",
    "Если будут вопросы про мои комментарии - задавай, если какой-то формат взаимодействия не устраивает или есть какие-то другие пожелания - пиши :)\n",
    "\n",
    "<div class=\"alert alert-success\">\n",
    "    <font size=\"5\", color= \"seagreen\"><b>Жду твой проект и твои комментарии 🤝</b></font><br />"
   ]
  },
  {
   "cell_type": "markdown",
   "id": "6dd26192",
   "metadata": {},
   "source": [
    "<div style=\"border:solid steelblue 3px; padding: 20px\">\n",
    "<font size=\"4\">🍕<b> Комментарий ревьюера</b></font>\n",
    "<br /> \n",
    "<font size=\"3\", color = \"black\">\n",
    "<br />\n",
    "    \n",
    "[Подробное руководство по группировке и агрегированию с помощью pandas](https://dfedorov.spb.ru/pandas/%D0%9F%D0%BE%D0%B4%D1%80%D0%BE%D0%B1%D0%BD%D0%BE%D0%B5%20%D1%80%D1%83%D0%BA%D0%BE%D0%B2%D0%BE%D0%B4%D1%81%D1%82%D0%B2%D0%BE%20%D0%BF%D0%BE%20%D0%B3%D1%80%D1%83%D0%BF%D0%BF%D0%B8%D1%80%D0%BE%D0%B2%D0%BA%D0%B5%20%D0%B8%20%D0%B0%D0%B3%D1%80%D0%B5%D0%B3%D0%B8%D1%80%D0%BE%D0%B2%D0%B0%D0%BD%D0%B8%D1%8E%20%D1%81%20%D0%BF%D0%BE%D0%BC%D0%BE%D1%89%D1%8C%D1%8E%20pandas.html)    \n",
    "    \n",
    "[Примеры объединения таблиц, общая справка](https://pandas.pydata.org/pandas-docs/stable/user_guide/merging.html)      \n",
    "\n",
    "[Примеры объединения таблиц, Федоров Д.](https://dfedorov.spb.ru/pandas/08.%20%D0%9A%D0%B0%D0%BA%20%D0%BE%D0%B1%D1%8A%D0%B5%D0%B4%D0%B8%D0%BD%D0%B8%D1%82%D1%8C%20%D0%B4%D0%B0%D0%BD%D0%BD%D1%8B%D0%B5%20%D0%B8%D0%B7%20%D0%BD%D0%B5%D1%81%D0%BA%D0%BE%D0%BB%D1%8C%D0%BA%D0%B8%D1%85%20%D1%82%D0%B0%D0%B1%D0%BB%D0%B8%D1%86_.html?ysclid=lklv5hyic8790467123)\n",
    "    \n",
    "    \n",
    "    \n",
    "[Искусство статистики](https://www.mann-ivanov-ferber.ru/books/iskusstvo-statistiki/)\n",
    "        \n",
    "    \n",
    "В помощь — как реализовать интерактивный план проекта вручную, смотри по <a href=\"https://stackoverflow.com/questions/49535664/how-to-hyperlink-in-a-jupyter-notebook/49717704\">ссылке</a>\n",
    "    \n",
    "пара ссылок и по разделам проекта можно будет переходить без пролистывания всего кода, особенно актуально на проектах длина которых >  10 страниц (и там где не установлен плагин TOC)\n",
    "     \n",
    "    \n",
    "[Базовый обзор распределений в статистике](https://qwertybox.ru/articles/242302/)\n",
    "    \n",
    "[Как использовать биномиальное распределение в Python](https://www.codecamp.ru/blog/binomial-distribution-python/?ysclid=lmjbdt49de135513011)       \n",
    "    \n",
    "[Объяснение P-значений и статистической значимости](https://www.codecamp.ru/blog/p-values-statistical-significance/?ysclid=lm88qnc76l397155692)     "
   ]
  },
  {
   "cell_type": "markdown",
   "id": "7b404e76",
   "metadata": {},
   "source": [
    "<div class=\"alert alert-info\">\n",
    "<font size=\"4\", color = \"black\"><b>✍ Комментарий студента</b></font>\n",
    "    <br /> \n",
    "    <font size=\"3\", color = \"black\">\n",
    "<br /> \n",
    " спасибо"
   ]
  },
  {
   "cell_type": "markdown",
   "id": "09d69534",
   "metadata": {},
   "source": [
    "<div style>\n",
    "<font size=\"4\"><b></b></font>\n",
    "<font size=\"5\", color = \"black\">\n",
    "🤝"
   ]
  },
  {
   "cell_type": "code",
   "execution_count": 59,
   "id": "3519c1da",
   "metadata": {},
   "outputs": [],
   "source": [
    "#### Шаг 7. Распределения"
   ]
  },
  {
   "cell_type": "markdown",
   "id": "4f71c3cd",
   "metadata": {},
   "source": [
    "#### Бонус"
   ]
  },
  {
   "cell_type": "markdown",
   "id": "ee7f875b",
   "metadata": {},
   "source": [
    "##### Задача 7.1 — декомпозиция\n",
    "\n",
    "+ Отделу маркетинга GoFast поставили задачу: нужно провести акцию с раздачей промокодов на один бесплатный месяц подписки, в рамках которой как минимум 100 существующих клиентов должны продлить эту подписку. \n",
    "\n",
    "+ То есть по завершении периода действия подписки пользователь может либо отказаться от неё, либо продлить, совершив соответствующий платёж. \n",
    "\n",
    "+ Эта акция уже проводилась ранее и по итогу выяснилось, что после бесплатного пробного периода подписку продлевают 10 % пользователей. \n",
    "\n",
    "+ Выясните, какое минимальное количество промокодов нужно разослать, чтобы вероятность не выполнить план была примерно 5 %. \n",
    "\n",
    "+ Подберите параметры распределения, описывающего эту ситуацию, постройте график распределения и сформулируйте ответ на вопрос о количестве промокодов."
   ]
  },
  {
   "cell_type": "markdown",
   "id": "7269cdab",
   "metadata": {},
   "source": [
    "+ 100 существующих клиентов должны продлить эту подписку.\n",
    " + т.е. мы ищем х - кол-во промокодов, которое мы раздадим, чтобы сохранить 100 клиентов"
   ]
  },
  {
   "cell_type": "markdown",
   "id": "6901ca25",
   "metadata": {},
   "source": [
    "+ может либо отказаться от неё, либо продлить\n",
    " + т.е. два исхода"
   ]
  },
  {
   "cell_type": "markdown",
   "id": "ea691a6f",
   "metadata": {},
   "source": [
    "+ подписку продлевают 10 % пользователей\n",
    " + т.е. из кол-ва Х, которое мы найдем и по которому разошлем промокоды, полагаясь на предыдущий опыт, продлят подписку 10%"
   ]
  },
  {
   "cell_type": "markdown",
   "id": "b205b848",
   "metadata": {},
   "source": [
    "+ вероятность не выполнить план была примерно 5 %\n",
    " + т.е. мы должны найти вероятность успеха нашей акции 1-0,05 = 95%\n",
    " + этот план будет иметь свою вероятность исполнения при разном кол-ве Х, т.е. если мы выберем Х = 1000, вероятность успеха будет равна А, при 2000 промокодах, вероятность будет равна В. Но, увеличивая кол-во промокодов, мы увеличиваем трудозатраты ... По этой причине нас устроит вероятность успеха 95%, для которой и предстоит рассчитать кол-во промокодов Х"
   ]
  },
  {
   "cell_type": "markdown",
   "id": "2af0d2b5",
   "metadata": {},
   "source": [
    "Получается задача делиться на две части\n",
    "\n",
    "+ число положительных исходов должно быть равно 100-ам\n",
    "\n",
    "+ но вероятность такого события должна быть равна 95% \n",
    "\n"
   ]
  },
  {
   "cell_type": "markdown",
   "id": "b0fd5499",
   "metadata": {},
   "source": [
    "Урок\n",
    "\n",
    "Percent Point Function для нормального распределения\n",
    "+ Ранее вы познакомились с функцией распределения, или кумулятивной функцией распределения.\n",
    "\n"
   ]
  },
  {
   "attachments": {
    "image-3.png": {
     "image/png": "[encoded data removed]"
    },
    "image-4.png": {
     "image/png": "[encoded data removed]"
    }
   },
   "cell_type": "markdown",
   "id": "8b93f2c3",
   "metadata": {},
   "source": [
    "![image-3.png](attachment:image-3.png)\n",
    "\n",
    "![image-4.png](attachment:image-4.png)"
   ]
  },
  {
   "cell_type": "markdown",
   "id": "7c8e4451",
   "metadata": {},
   "source": [
    "<div class=\"alert alert-success\">\n",
    "<font size=\"4\", color= \"seagreen\"><b>✔️ Комментарий ревьюера в3</b></font>\n",
    "    <br /> \n",
    "    <font size=\"3\", color = \"black\">\n",
    "<br />    меняем norm на binom\n",
    "        \n",
    "https://www.statology.org/binompdf-vs-binomcdf/        \n",
    "        \n",
    "немного перефразируем известный сайт\n",
    "        \n",
    "    binom.cdf(k, n, p): \n",
    "        \n",
    "Кумулятивная функция распределения - это функция, которая показывает вероятность того, __что случайная величина будет меньше или равна некоторому значению.__\n",
    "        \n",
    "    \n",
    "\n",
    "        \n",
    "[примеры решения задач](https://www.codecamp.ru/blog/binomial-distribution-python/?ysclid=lskfouc2d4788619343)        "
   ]
  },
  {
   "cell_type": "code",
   "execution_count": 60,
   "id": "8a98e0de",
   "metadata": {},
   "outputs": [
    {
     "name": "stdout",
     "output_type": "stream",
     "text": [
      "i: (1, 100)\tprobability: 1.0\n",
      "i: (2, 200)\tprobability: 1.0\n",
      "i: (3, 300)\tprobability: 1.0\n",
      "i: (4, 400)\tprobability: 1.0\n",
      "i: (5, 500)\tprobability: 1.0\n",
      "i: (6, 600)\tprobability: 1.0\n",
      "i: (7, 700)\tprobability: 1.0\n",
      "i: (8, 800)\tprobability: 0.987\n",
      "i: (9, 900)\tprobability: 0.854\n",
      "i: (10, 1000)\tprobability: 0.485\n",
      "i: (11, 1100)\tprobability: 0.145\n",
      "i: (12, 1200)\tprobability: 0.022\n"
     ]
    }
   ],
   "source": [
    "for i in range (1, 13):\n",
    "    trials = 100 * i\n",
    "    print(f\"i: {i, trials}\\tprobability: {(st.binom.cdf(99, trials, 0.1)).round(3)}\")"
   ]
  },
  {
   "cell_type": "markdown",
   "id": "0e94c90d",
   "metadata": {},
   "source": [
    "<div class=\"alert alert-success\">\n",
    "<font size=\"4\", color= \"seagreen\"><b>✔️ Комментарий ревьюера в3</b></font>\n",
    "    <br /> \n",
    "    <font size=\"3\", color = \"black\">\n",
    "<br /> При 100-а розданных промокодов, вероятность того, что успешно продлят подписку менее или равно 99 пользователей будет равна 1-ке, или по другому можно сказать, что это может быть или 5 продливших подписку пользователей, или 99 пользователей\n",
    "                \n",
    "т.е. это нулевой для маркетологов результат, который никого не устраивает\n",
    "        \n",
    "А чем больше промокодов мы раздаем, тем вероятность получить такой результат уменьшается, например при 900-а розданных промокодов уже только с 0,856 вероятностью мы получим или 5 продливших подписку пользователей, или 99 пользователей        \n",
    "        \n",
    "т.е. с вероятностью 0,144 мы получим 100 или более пользователей продливших подписку, но нам надо 95%        \n"
   ]
  },
  {
   "attachments": {
    "image.png": {
     "image/png": "[encoded data removed]"
    }
   },
   "cell_type": "markdown",
   "id": "f2654e93",
   "metadata": {},
   "source": [
    "<div class=\"alert alert-success\">\n",
    "<font size=\"4\", color= \"seagreen\"><b>✔️ Комментарий ревьюера в3</b></font>\n",
    "    <br /> \n",
    "    <font size=\"3\", color = \"black\">\n",
    "<br />   Для того чтобы построить нужный нам график, придется из формулы вычесть 1-ку\n",
    "        \n",
    "1 - значение кумулятивной функции распределения `binom.cdf(k, n, p)` покажет вероятность того, что случайная величина примет значение, которое будет не меньше заданной, т.к. нам необходимо выйти на уровень 95%\n",
    "        \n",
    "![image.png](attachment:image.png)        \n",
    "        \n",
    "почему выбираем значение 99, т.к. по определению функции → меньше или равно       \n",
    "        \n",
    "        "
   ]
  },
  {
   "cell_type": "code",
   "execution_count": 61,
   "id": "b3c85ab3",
   "metadata": {
    "scrolled": false
   },
   "outputs": [
    {
     "name": "stdout",
     "output_type": "stream",
     "text": [
      "i: (1, 100)\ttarget_probability: 0.0\n",
      "i: (2, 200)\ttarget_probability: 0.0\n",
      "i: (3, 300)\ttarget_probability: 0.0\n",
      "i: (4, 400)\ttarget_probability: 0.0\n",
      "i: (5, 500)\ttarget_probability: 0.0\n",
      "i: (6, 600)\ttarget_probability: 0.0\n",
      "i: (7, 700)\ttarget_probability: 0.0\n",
      "i: (8, 800)\ttarget_probability: 0.013\n",
      "i: (9, 900)\ttarget_probability: 0.146\n",
      "i: (10, 1000)\ttarget_probability: 0.515\n",
      "i: (11, 1100)\ttarget_probability: 0.855\n",
      "i: (12, 1200)\ttarget_probability: 0.978\n",
      "i: (13, 1161)\ttarget_probability: 0.95\n"
     ]
    }
   ],
   "source": [
    "for i in range (1, 13):\n",
    "    trials = 100 * i\n",
    "    print(f\"i: {i, trials}\\ttarget_probability: {(1 - st.binom.cdf(99, trials, 0.1)).round(3)}\");    \n",
    "   \n",
    "print(f\"i: {13, 1161}\\ttarget_probability: {(1 - st.binom.cdf(99, 1161, 0.1)).round(3)}\")"
   ]
  },
  {
   "attachments": {
    "image.png": {
     "image/png": "[encoded data removed]"
    }
   },
   "cell_type": "markdown",
   "id": "2ba3597c",
   "metadata": {},
   "source": [
    "<div class=\"alert alert-warning\", style=\"border:solid coral 3px; padding: 20px\">\n",
    "<font size=\"4\", color = \"DimGrey\"><b>⚠️ Комментарий ревьюера в3</b></font>\n",
    "    <br /> \n",
    "    <font size=\"3\", color = \"black\">\n",
    "<br />  \n",
    "        \n",
    "![image.png](attachment:image.png)        "
   ]
  },
  {
   "cell_type": "markdown",
   "id": "55fac4f6",
   "metadata": {},
   "source": [
    "##### check"
   ]
  },
  {
   "cell_type": "markdown",
   "id": "8a56de88",
   "metadata": {},
   "source": [
    "<div class=\"alert alert-success\">\n",
    "<font size=\"4\", color= \"seagreen\"><b>✔️ Комментарий ревьюера в3</b></font>\n",
    "    <br /> \n",
    "    <font size=\"3\", color = \"black\">\n",
    "<br /> Примеры особенности объединения, в т.ч. с параметрами по умолчанию при merge (для справки в join такая же «засада» по характеру, но другая по исполнению)\n",
    "        \n",
    "Использование параметров по умолчанию может привести к потере данных при объединении        \n",
    "     \n",
    "         "
   ]
  },
  {
   "cell_type": "code",
   "execution_count": 62,
   "id": "f0d81961",
   "metadata": {},
   "outputs": [],
   "source": [
    "dfg1 = pd.DataFrame(\n",
    "    {\n",
    "        \"A\": [\"A0\", \"A1\", \"A2\", \"A3\"],\n",
    "        \"B\": [\"B0\", \"B1\", \"B2\", \"B3\"],\n",
    "        \"C\": [\"C0\", \"C1\", \"C2\", \"C3\"],\n",
    "        \"D\": [\"D0\", \"D1\", \"D2\", \"D3\"],\n",
    "    },\n",
    "    index=[0, 1, 2, 3],\n",
    ")\n",
    "\n",
    "dfr4 = pd.DataFrame(\n",
    "    {\n",
    "        \"B\": [\"B2\", \"B3\", \"B6\", \"B7\"],\n",
    "        \"D\": [\"D2\", \"D3\", \"D6\", \"D7\"],\n",
    "        \"F\": [\"F2\", \"F3\", \"F6\", \"F7\"],\n",
    "        \"E\": [np.nan, np.nan, np.nan, np.nan]\n",
    "    },\n",
    "    index=[2, 3, 6, 0],\n",
    ")"
   ]
  },
  {
   "cell_type": "code",
   "execution_count": 63,
   "id": "98d67ae7",
   "metadata": {
    "scrolled": true
   },
   "outputs": [
    {
     "data": {
      "text/html": [
       "<div>\n",
       "<style scoped>\n",
       "    .dataframe tbody tr th:only-of-type {\n",
       "        vertical-align: middle;\n",
       "    }\n",
       "\n",
       "    .dataframe tbody tr th {\n",
       "        vertical-align: top;\n",
       "    }\n",
       "\n",
       "    .dataframe thead th {\n",
       "        text-align: right;\n",
       "    }\n",
       "</style>\n",
       "<table border=\"1\" class=\"dataframe\">\n",
       "  <thead>\n",
       "    <tr style=\"text-align: right;\">\n",
       "      <th></th>\n",
       "      <th>A</th>\n",
       "      <th>B</th>\n",
       "      <th>C</th>\n",
       "      <th>D</th>\n",
       "    </tr>\n",
       "  </thead>\n",
       "  <tbody>\n",
       "    <tr>\n",
       "      <th>0</th>\n",
       "      <td>A0</td>\n",
       "      <td>B0</td>\n",
       "      <td>C0</td>\n",
       "      <td>D0</td>\n",
       "    </tr>\n",
       "    <tr>\n",
       "      <th>1</th>\n",
       "      <td>A1</td>\n",
       "      <td>B1</td>\n",
       "      <td>C1</td>\n",
       "      <td>D1</td>\n",
       "    </tr>\n",
       "    <tr>\n",
       "      <th>2</th>\n",
       "      <td>A2</td>\n",
       "      <td>B2</td>\n",
       "      <td>C2</td>\n",
       "      <td>D2</td>\n",
       "    </tr>\n",
       "    <tr>\n",
       "      <th>3</th>\n",
       "      <td>A3</td>\n",
       "      <td>B3</td>\n",
       "      <td>C3</td>\n",
       "      <td>D3</td>\n",
       "    </tr>\n",
       "  </tbody>\n",
       "</table>\n",
       "</div>"
      ],
      "text/plain": [
       "    A   B   C   D\n",
       "0  A0  B0  C0  D0\n",
       "1  A1  B1  C1  D1\n",
       "2  A2  B2  C2  D2\n",
       "3  A3  B3  C3  D3"
      ]
     },
     "metadata": {},
     "output_type": "display_data"
    },
    {
     "data": {
      "text/html": [
       "<div>\n",
       "<style scoped>\n",
       "    .dataframe tbody tr th:only-of-type {\n",
       "        vertical-align: middle;\n",
       "    }\n",
       "\n",
       "    .dataframe tbody tr th {\n",
       "        vertical-align: top;\n",
       "    }\n",
       "\n",
       "    .dataframe thead th {\n",
       "        text-align: right;\n",
       "    }\n",
       "</style>\n",
       "<table border=\"1\" class=\"dataframe\">\n",
       "  <thead>\n",
       "    <tr style=\"text-align: right;\">\n",
       "      <th></th>\n",
       "      <th>B</th>\n",
       "      <th>D</th>\n",
       "      <th>F</th>\n",
       "      <th>E</th>\n",
       "    </tr>\n",
       "  </thead>\n",
       "  <tbody>\n",
       "    <tr>\n",
       "      <th>2</th>\n",
       "      <td>B2</td>\n",
       "      <td>D2</td>\n",
       "      <td>F2</td>\n",
       "      <td>NaN</td>\n",
       "    </tr>\n",
       "    <tr>\n",
       "      <th>3</th>\n",
       "      <td>B3</td>\n",
       "      <td>D3</td>\n",
       "      <td>F3</td>\n",
       "      <td>NaN</td>\n",
       "    </tr>\n",
       "    <tr>\n",
       "      <th>6</th>\n",
       "      <td>B6</td>\n",
       "      <td>D6</td>\n",
       "      <td>F6</td>\n",
       "      <td>NaN</td>\n",
       "    </tr>\n",
       "    <tr>\n",
       "      <th>0</th>\n",
       "      <td>B7</td>\n",
       "      <td>D7</td>\n",
       "      <td>F7</td>\n",
       "      <td>NaN</td>\n",
       "    </tr>\n",
       "  </tbody>\n",
       "</table>\n",
       "</div>"
      ],
      "text/plain": [
       "    B   D   F   E\n",
       "2  B2  D2  F2 NaN\n",
       "3  B3  D3  F3 NaN\n",
       "6  B6  D6  F6 NaN\n",
       "0  B7  D7  F7 NaN"
      ]
     },
     "metadata": {},
     "output_type": "display_data"
    }
   ],
   "source": [
    "display(dfg1, dfr4)"
   ]
  },
  {
   "cell_type": "code",
   "execution_count": 64,
   "id": "46c9d8da",
   "metadata": {},
   "outputs": [
    {
     "data": {
      "text/html": [
       "<div>\n",
       "<style scoped>\n",
       "    .dataframe tbody tr th:only-of-type {\n",
       "        vertical-align: middle;\n",
       "    }\n",
       "\n",
       "    .dataframe tbody tr th {\n",
       "        vertical-align: top;\n",
       "    }\n",
       "\n",
       "    .dataframe thead th {\n",
       "        text-align: right;\n",
       "    }\n",
       "</style>\n",
       "<table border=\"1\" class=\"dataframe\">\n",
       "  <thead>\n",
       "    <tr style=\"text-align: right;\">\n",
       "      <th></th>\n",
       "      <th>key_0</th>\n",
       "      <th>A</th>\n",
       "      <th>B_x</th>\n",
       "      <th>C</th>\n",
       "      <th>D_x</th>\n",
       "      <th>B_y</th>\n",
       "      <th>D_y</th>\n",
       "      <th>F</th>\n",
       "      <th>E</th>\n",
       "    </tr>\n",
       "  </thead>\n",
       "  <tbody>\n",
       "    <tr>\n",
       "      <th>0</th>\n",
       "      <td>0</td>\n",
       "      <td>A0</td>\n",
       "      <td>B0</td>\n",
       "      <td>C0</td>\n",
       "      <td>D0</td>\n",
       "      <td>B7</td>\n",
       "      <td>D7</td>\n",
       "      <td>F7</td>\n",
       "      <td>NaN</td>\n",
       "    </tr>\n",
       "    <tr>\n",
       "      <th>1</th>\n",
       "      <td>1</td>\n",
       "      <td>A1</td>\n",
       "      <td>B1</td>\n",
       "      <td>C1</td>\n",
       "      <td>D1</td>\n",
       "      <td>NaN</td>\n",
       "      <td>NaN</td>\n",
       "      <td>NaN</td>\n",
       "      <td>NaN</td>\n",
       "    </tr>\n",
       "    <tr>\n",
       "      <th>2</th>\n",
       "      <td>2</td>\n",
       "      <td>A2</td>\n",
       "      <td>B2</td>\n",
       "      <td>C2</td>\n",
       "      <td>D2</td>\n",
       "      <td>B2</td>\n",
       "      <td>D2</td>\n",
       "      <td>F2</td>\n",
       "      <td>NaN</td>\n",
       "    </tr>\n",
       "    <tr>\n",
       "      <th>3</th>\n",
       "      <td>3</td>\n",
       "      <td>A3</td>\n",
       "      <td>B3</td>\n",
       "      <td>C3</td>\n",
       "      <td>D3</td>\n",
       "      <td>B3</td>\n",
       "      <td>D3</td>\n",
       "      <td>F3</td>\n",
       "      <td>NaN</td>\n",
       "    </tr>\n",
       "    <tr>\n",
       "      <th>4</th>\n",
       "      <td>6</td>\n",
       "      <td>NaN</td>\n",
       "      <td>NaN</td>\n",
       "      <td>NaN</td>\n",
       "      <td>NaN</td>\n",
       "      <td>B6</td>\n",
       "      <td>D6</td>\n",
       "      <td>F6</td>\n",
       "      <td>NaN</td>\n",
       "    </tr>\n",
       "  </tbody>\n",
       "</table>\n",
       "</div>"
      ],
      "text/plain": [
       "   key_0    A  B_x    C  D_x  B_y  D_y    F   E\n",
       "0      0   A0   B0   C0   D0   B7   D7   F7 NaN\n",
       "1      1   A1   B1   C1   D1  NaN  NaN  NaN NaN\n",
       "2      2   A2   B2   C2   D2   B2   D2   F2 NaN\n",
       "3      3   A3   B3   C3   D3   B3   D3   F3 NaN\n",
       "4      6  NaN  NaN  NaN  NaN   B6   D6   F6 NaN"
      ]
     },
     "execution_count": 64,
     "metadata": {},
     "output_type": "execute_result"
    }
   ],
   "source": [
    "dfg1.merge(dfr4, left_on=dfg1.index, right_on=dfr4.index, how='outer')"
   ]
  },
  {
   "cell_type": "code",
   "execution_count": 65,
   "id": "724cb1b4",
   "metadata": {
    "scrolled": true
   },
   "outputs": [
    {
     "data": {
      "text/html": [
       "<div>\n",
       "<style scoped>\n",
       "    .dataframe tbody tr th:only-of-type {\n",
       "        vertical-align: middle;\n",
       "    }\n",
       "\n",
       "    .dataframe tbody tr th {\n",
       "        vertical-align: top;\n",
       "    }\n",
       "\n",
       "    .dataframe thead th {\n",
       "        text-align: right;\n",
       "    }\n",
       "</style>\n",
       "<table border=\"1\" class=\"dataframe\">\n",
       "  <thead>\n",
       "    <tr style=\"text-align: right;\">\n",
       "      <th></th>\n",
       "      <th>A</th>\n",
       "      <th>B</th>\n",
       "      <th>C</th>\n",
       "      <th>D</th>\n",
       "      <th>F</th>\n",
       "      <th>E</th>\n",
       "    </tr>\n",
       "  </thead>\n",
       "  <tbody>\n",
       "    <tr>\n",
       "      <th>0</th>\n",
       "      <td>A0</td>\n",
       "      <td>B0</td>\n",
       "      <td>C0</td>\n",
       "      <td>D0</td>\n",
       "      <td>NaN</td>\n",
       "      <td>NaN</td>\n",
       "    </tr>\n",
       "    <tr>\n",
       "      <th>1</th>\n",
       "      <td>A1</td>\n",
       "      <td>B1</td>\n",
       "      <td>C1</td>\n",
       "      <td>D1</td>\n",
       "      <td>NaN</td>\n",
       "      <td>NaN</td>\n",
       "    </tr>\n",
       "    <tr>\n",
       "      <th>2</th>\n",
       "      <td>A2</td>\n",
       "      <td>B2</td>\n",
       "      <td>C2</td>\n",
       "      <td>D2</td>\n",
       "      <td>F2</td>\n",
       "      <td>NaN</td>\n",
       "    </tr>\n",
       "    <tr>\n",
       "      <th>3</th>\n",
       "      <td>A3</td>\n",
       "      <td>B3</td>\n",
       "      <td>C3</td>\n",
       "      <td>D3</td>\n",
       "      <td>F3</td>\n",
       "      <td>NaN</td>\n",
       "    </tr>\n",
       "    <tr>\n",
       "      <th>4</th>\n",
       "      <td>NaN</td>\n",
       "      <td>B6</td>\n",
       "      <td>NaN</td>\n",
       "      <td>D6</td>\n",
       "      <td>F6</td>\n",
       "      <td>NaN</td>\n",
       "    </tr>\n",
       "    <tr>\n",
       "      <th>5</th>\n",
       "      <td>NaN</td>\n",
       "      <td>B7</td>\n",
       "      <td>NaN</td>\n",
       "      <td>D7</td>\n",
       "      <td>F7</td>\n",
       "      <td>NaN</td>\n",
       "    </tr>\n",
       "  </tbody>\n",
       "</table>\n",
       "</div>"
      ],
      "text/plain": [
       "     A   B    C   D    F   E\n",
       "0   A0  B0   C0  D0  NaN NaN\n",
       "1   A1  B1   C1  D1  NaN NaN\n",
       "2   A2  B2   C2  D2   F2 NaN\n",
       "3   A3  B3   C3  D3   F3 NaN\n",
       "4  NaN  B6  NaN  D6   F6 NaN\n",
       "5  NaN  B7  NaN  D7   F7 NaN"
      ]
     },
     "execution_count": 65,
     "metadata": {},
     "output_type": "execute_result"
    }
   ],
   "source": [
    "dfg1.merge(dfr4, 'outer')"
   ]
  },
  {
   "cell_type": "code",
   "execution_count": 66,
   "id": "ac65d621",
   "metadata": {
    "scrolled": false
   },
   "outputs": [
    {
     "data": {
      "text/html": [
       "<div>\n",
       "<style scoped>\n",
       "    .dataframe tbody tr th:only-of-type {\n",
       "        vertical-align: middle;\n",
       "    }\n",
       "\n",
       "    .dataframe tbody tr th {\n",
       "        vertical-align: top;\n",
       "    }\n",
       "\n",
       "    .dataframe thead th {\n",
       "        text-align: right;\n",
       "    }\n",
       "</style>\n",
       "<table border=\"1\" class=\"dataframe\">\n",
       "  <thead>\n",
       "    <tr style=\"text-align: right;\">\n",
       "      <th></th>\n",
       "      <th>A</th>\n",
       "      <th>B</th>\n",
       "      <th>C</th>\n",
       "      <th>D</th>\n",
       "      <th>F</th>\n",
       "      <th>E</th>\n",
       "    </tr>\n",
       "  </thead>\n",
       "  <tbody>\n",
       "    <tr>\n",
       "      <th>0</th>\n",
       "      <td>A2</td>\n",
       "      <td>B2</td>\n",
       "      <td>C2</td>\n",
       "      <td>D2</td>\n",
       "      <td>F2</td>\n",
       "      <td>NaN</td>\n",
       "    </tr>\n",
       "    <tr>\n",
       "      <th>1</th>\n",
       "      <td>A3</td>\n",
       "      <td>B3</td>\n",
       "      <td>C3</td>\n",
       "      <td>D3</td>\n",
       "      <td>F3</td>\n",
       "      <td>NaN</td>\n",
       "    </tr>\n",
       "  </tbody>\n",
       "</table>\n",
       "</div>"
      ],
      "text/plain": [
       "    A   B   C   D   F   E\n",
       "0  A2  B2  C2  D2  F2 NaN\n",
       "1  A3  B3  C3  D3  F3 NaN"
      ]
     },
     "execution_count": 66,
     "metadata": {},
     "output_type": "execute_result"
    }
   ],
   "source": [
    "dfg1.merge(dfr4)"
   ]
  },
  {
   "cell_type": "code",
   "execution_count": 67,
   "id": "6a1b56d4",
   "metadata": {},
   "outputs": [
    {
     "data": {
      "text/html": [
       "<div>\n",
       "<style scoped>\n",
       "    .dataframe tbody tr th:only-of-type {\n",
       "        vertical-align: middle;\n",
       "    }\n",
       "\n",
       "    .dataframe tbody tr th {\n",
       "        vertical-align: top;\n",
       "    }\n",
       "\n",
       "    .dataframe thead th {\n",
       "        text-align: right;\n",
       "    }\n",
       "</style>\n",
       "<table border=\"1\" class=\"dataframe\">\n",
       "  <thead>\n",
       "    <tr style=\"text-align: right;\">\n",
       "      <th></th>\n",
       "      <th>A</th>\n",
       "      <th>B</th>\n",
       "      <th>C</th>\n",
       "      <th>D</th>\n",
       "      <th>F</th>\n",
       "      <th>E</th>\n",
       "    </tr>\n",
       "  </thead>\n",
       "  <tbody>\n",
       "    <tr>\n",
       "      <th>0</th>\n",
       "      <td>A2</td>\n",
       "      <td>B2</td>\n",
       "      <td>C2</td>\n",
       "      <td>D2</td>\n",
       "      <td>F2</td>\n",
       "      <td>NaN</td>\n",
       "    </tr>\n",
       "    <tr>\n",
       "      <th>1</th>\n",
       "      <td>A3</td>\n",
       "      <td>B3</td>\n",
       "      <td>C3</td>\n",
       "      <td>D3</td>\n",
       "      <td>F3</td>\n",
       "      <td>NaN</td>\n",
       "    </tr>\n",
       "  </tbody>\n",
       "</table>\n",
       "</div>"
      ],
      "text/plain": [
       "    A   B   C   D   F   E\n",
       "0  A2  B2  C2  D2  F2 NaN\n",
       "1  A3  B3  C3  D3  F3 NaN"
      ]
     },
     "execution_count": 67,
     "metadata": {},
     "output_type": "execute_result"
    }
   ],
   "source": [
    "dfg1.merge(dfr4, 'inner')"
   ]
  },
  {
   "cell_type": "markdown",
   "id": "ddc52b69",
   "metadata": {},
   "source": [
    "##### check при объединении без пропусков получаем пропуски"
   ]
  },
  {
   "cell_type": "code",
   "execution_count": 68,
   "id": "4d89391e",
   "metadata": {},
   "outputs": [],
   "source": [
    "dfg1 = pd.DataFrame(\n",
    "    {\n",
    "        \"A\": [\"A0\", \"A1\", \"A2\", \"A3\"],\n",
    "        \"B\": [\"B0\", \"B1\", \"B2\", \"B3\"],\n",
    "        \"C\": [\"C0\", \"C1\", \"C2\", \"C3\"],\n",
    "        \"D\": [\"D0\", \"D1\", \"D2\", \"D3\"],\n",
    "    },\n",
    "    index=[0, 1, 2, 3],\n",
    ")\n",
    "\n",
    "dfr4 = pd.DataFrame(\n",
    "    {\n",
    "        \"B\": [\"B2\", \"B3\", \"B6\", \"B7\"],\n",
    "        \"D\": [\"D2\", \"D3\", \"D6\", \"D7\"],\n",
    "        \"F\": [\"F2\", \"F3\", \"F6\", \"F7\"],\n",
    "        \n",
    "        \n",
    "    },\n",
    "    index=[2, 3, 6, 0],\n",
    ")"
   ]
  },
  {
   "cell_type": "code",
   "execution_count": 69,
   "id": "a8d86d59",
   "metadata": {},
   "outputs": [
    {
     "data": {
      "text/html": [
       "<div>\n",
       "<style scoped>\n",
       "    .dataframe tbody tr th:only-of-type {\n",
       "        vertical-align: middle;\n",
       "    }\n",
       "\n",
       "    .dataframe tbody tr th {\n",
       "        vertical-align: top;\n",
       "    }\n",
       "\n",
       "    .dataframe thead th {\n",
       "        text-align: right;\n",
       "    }\n",
       "</style>\n",
       "<table border=\"1\" class=\"dataframe\">\n",
       "  <thead>\n",
       "    <tr style=\"text-align: right;\">\n",
       "      <th></th>\n",
       "      <th>A</th>\n",
       "      <th>B</th>\n",
       "      <th>C</th>\n",
       "      <th>D</th>\n",
       "      <th>F</th>\n",
       "    </tr>\n",
       "  </thead>\n",
       "  <tbody>\n",
       "    <tr>\n",
       "      <th>0</th>\n",
       "      <td>A0</td>\n",
       "      <td>B0</td>\n",
       "      <td>C0</td>\n",
       "      <td>D0</td>\n",
       "      <td>NaN</td>\n",
       "    </tr>\n",
       "    <tr>\n",
       "      <th>1</th>\n",
       "      <td>A1</td>\n",
       "      <td>B1</td>\n",
       "      <td>C1</td>\n",
       "      <td>D1</td>\n",
       "      <td>NaN</td>\n",
       "    </tr>\n",
       "    <tr>\n",
       "      <th>2</th>\n",
       "      <td>A2</td>\n",
       "      <td>B2</td>\n",
       "      <td>C2</td>\n",
       "      <td>D2</td>\n",
       "      <td>F2</td>\n",
       "    </tr>\n",
       "    <tr>\n",
       "      <th>3</th>\n",
       "      <td>A3</td>\n",
       "      <td>B3</td>\n",
       "      <td>C3</td>\n",
       "      <td>D3</td>\n",
       "      <td>F3</td>\n",
       "    </tr>\n",
       "    <tr>\n",
       "      <th>4</th>\n",
       "      <td>NaN</td>\n",
       "      <td>B6</td>\n",
       "      <td>NaN</td>\n",
       "      <td>D6</td>\n",
       "      <td>F6</td>\n",
       "    </tr>\n",
       "    <tr>\n",
       "      <th>5</th>\n",
       "      <td>NaN</td>\n",
       "      <td>B7</td>\n",
       "      <td>NaN</td>\n",
       "      <td>D7</td>\n",
       "      <td>F7</td>\n",
       "    </tr>\n",
       "  </tbody>\n",
       "</table>\n",
       "</div>"
      ],
      "text/plain": [
       "     A   B    C   D    F\n",
       "0   A0  B0   C0  D0  NaN\n",
       "1   A1  B1   C1  D1  NaN\n",
       "2   A2  B2   C2  D2   F2\n",
       "3   A3  B3   C3  D3   F3\n",
       "4  NaN  B6  NaN  D6   F6\n",
       "5  NaN  B7  NaN  D7   F7"
      ]
     },
     "execution_count": 69,
     "metadata": {},
     "output_type": "execute_result"
    }
   ],
   "source": [
    "dfg1.merge(dfr4, how='outer')"
   ]
  },
  {
   "cell_type": "markdown",
   "id": "f9935064",
   "metadata": {},
   "source": [
    "##### check"
   ]
  },
  {
   "cell_type": "markdown",
   "id": "1869de64",
   "metadata": {},
   "source": [
    "<div class=\"alert alert-success\">\n",
    "<font size=\"4\", color= \"seagreen\"><b>✔️ Комментарий ревьюера в3</b></font>\n",
    "    <br /> \n",
    "    <font size=\"3\", color = \"black\">\n",
    "<br />Пример Закона больших чисел в действии (обратном), удалим 20 процентов (больше общепринятых 10%) всех данных из таблицы, где мы рассчитали выручку"
   ]
  },
  {
   "cell_type": "code",
   "execution_count": null,
   "id": "72910c17",
   "metadata": {},
   "outputs": [],
   "source": []
  },
  {
   "cell_type": "code",
   "execution_count": 70,
   "id": "e6a9307d",
   "metadata": {
    "scrolled": false
   },
   "outputs": [
    {
     "data": {
      "text/plain": [
       "Index(['distance_count', 'distance_sum', 'duration_sum', 'minute_price_first',\n",
       "       'start_ride_price_first', 'subscription_fee_first',\n",
       "       'subscription_type_min', 'monthly'],\n",
       "      dtype='object')"
      ]
     },
     "execution_count": 70,
     "metadata": {},
     "output_type": "execute_result"
    }
   ],
   "source": [
    "dfg_first = res.copy()\n",
    "dfg_first.columns"
   ]
  },
  {
   "cell_type": "code",
   "execution_count": 71,
   "id": "7b365405",
   "metadata": {},
   "outputs": [
    {
     "data": {
      "text/plain": [
       "'monthly'"
      ]
     },
     "execution_count": 71,
     "metadata": {},
     "output_type": "execute_result"
    }
   ],
   "source": [
    "x = 'subscription_fee_first'\n",
    "y = dfg_first.columns[-1]\n",
    "y"
   ]
  },
  {
   "cell_type": "code",
   "execution_count": 72,
   "id": "25f639ff",
   "metadata": {},
   "outputs": [
    {
     "data": {
      "text/html": [
       "<div>\n",
       "<style scoped>\n",
       "    .dataframe tbody tr th:only-of-type {\n",
       "        vertical-align: middle;\n",
       "    }\n",
       "\n",
       "    .dataframe tbody tr th {\n",
       "        vertical-align: top;\n",
       "    }\n",
       "\n",
       "    .dataframe thead th {\n",
       "        text-align: right;\n",
       "    }\n",
       "</style>\n",
       "<table border=\"1\" class=\"dataframe\">\n",
       "  <thead>\n",
       "    <tr style=\"text-align: right;\">\n",
       "      <th></th>\n",
       "      <th>monthly</th>\n",
       "    </tr>\n",
       "    <tr>\n",
       "      <th>subscription_fee_first</th>\n",
       "      <th></th>\n",
       "    </tr>\n",
       "  </thead>\n",
       "  <tbody>\n",
       "    <tr>\n",
       "      <th>0</th>\n",
       "      <td>328.6</td>\n",
       "    </tr>\n",
       "    <tr>\n",
       "      <th>199</th>\n",
       "      <td>362.8</td>\n",
       "    </tr>\n",
       "  </tbody>\n",
       "</table>\n",
       "</div>"
      ],
      "text/plain": [
       "                        monthly\n",
       "subscription_fee_first         \n",
       "0                         328.6\n",
       "199                       362.8"
      ]
     },
     "execution_count": 72,
     "metadata": {},
     "output_type": "execute_result"
    }
   ],
   "source": [
    "dfg_first.groupby(x)[y].mean().round(1).to_frame()"
   ]
  },
  {
   "cell_type": "code",
   "execution_count": 73,
   "id": "bd82b169",
   "metadata": {},
   "outputs": [
    {
     "data": {
      "image/png": "[encoded data removed]",
      "text/plain": [
       "<Figure size 1080x216 with 1 Axes>"
      ]
     },
     "metadata": {
      "needs_background": "light"
     },
     "output_type": "display_data"
    }
   ],
   "source": [
    "dfg_first.groupby(x)[y].hist(bins=200, figsize=(15,3), legend=True)\n",
    "plt.title('Гистограммы ежесячной выручки двух групп пользователей')\n",
    "plt.xlabel('руб.')\n",
    "plt.ylabel('кол-во');"
   ]
  },
  {
   "cell_type": "code",
   "execution_count": 74,
   "id": "9e1a3755",
   "metadata": {},
   "outputs": [],
   "source": [
    "# копируем таблицу\n",
    "dfg = dfg_first.copy()\n"
   ]
  },
  {
   "cell_type": "code",
   "execution_count": 75,
   "id": "95b9208a",
   "metadata": {},
   "outputs": [
    {
     "name": "stdout",
     "output_type": "stream",
     "text": [
      "<class 'pandas.core.frame.DataFrame'>\n",
      "MultiIndex: 11331 entries, (1, 1) to (1534, 12)\n",
      "Data columns (total 8 columns):\n",
      " #   Column                  Non-Null Count  Dtype  \n",
      "---  ------                  --------------  -----  \n",
      " 0   distance_count          11331 non-null  int64  \n",
      " 1   distance_sum            11331 non-null  float64\n",
      " 2   duration_sum            11331 non-null  float64\n",
      " 3   minute_price_first      11331 non-null  int64  \n",
      " 4   start_ride_price_first  11331 non-null  int64  \n",
      " 5   subscription_fee_first  11331 non-null  int64  \n",
      " 6   subscription_type_min   11331 non-null  object \n",
      " 7   monthly                 11331 non-null  float64\n",
      "dtypes: float64(3), int64(4), object(1)\n",
      "memory usage: 753.6+ KB\n"
     ]
    }
   ],
   "source": [
    "dfg.info()"
   ]
  },
  {
   "cell_type": "code",
   "execution_count": 76,
   "id": "afbd526b",
   "metadata": {},
   "outputs": [],
   "source": [
    "# удаляем данные, 20%\n",
    "for col in dfg.columns:\n",
    "    dfg.loc[dfg.sample(frac=0.2).index, col] = np.nan"
   ]
  },
  {
   "cell_type": "code",
   "execution_count": 77,
   "id": "8b46a82a",
   "metadata": {},
   "outputs": [
    {
     "name": "stdout",
     "output_type": "stream",
     "text": [
      "<class 'pandas.core.frame.DataFrame'>\n",
      "MultiIndex: 11331 entries, (1, 1) to (1534, 12)\n",
      "Data columns (total 8 columns):\n",
      " #   Column                  Non-Null Count  Dtype  \n",
      "---  ------                  --------------  -----  \n",
      " 0   distance_count          9065 non-null   float64\n",
      " 1   distance_sum            9065 non-null   float64\n",
      " 2   duration_sum            9065 non-null   float64\n",
      " 3   minute_price_first      9065 non-null   float64\n",
      " 4   start_ride_price_first  9065 non-null   float64\n",
      " 5   subscription_fee_first  9065 non-null   float64\n",
      " 6   subscription_type_min   9065 non-null   object \n",
      " 7   monthly                 9065 non-null   float64\n",
      "dtypes: float64(7), object(1)\n",
      "memory usage: 1.0+ MB\n"
     ]
    }
   ],
   "source": [
    "dfg.info()"
   ]
  },
  {
   "cell_type": "code",
   "execution_count": 78,
   "id": "49c3a47c",
   "metadata": {},
   "outputs": [
    {
     "data": {
      "text/html": [
       "<div>\n",
       "<style scoped>\n",
       "    .dataframe tbody tr th:only-of-type {\n",
       "        vertical-align: middle;\n",
       "    }\n",
       "\n",
       "    .dataframe tbody tr th {\n",
       "        vertical-align: top;\n",
       "    }\n",
       "\n",
       "    .dataframe thead th {\n",
       "        text-align: right;\n",
       "    }\n",
       "</style>\n",
       "<table border=\"1\" class=\"dataframe\">\n",
       "  <thead>\n",
       "    <tr style=\"text-align: right;\">\n",
       "      <th></th>\n",
       "      <th>monthly</th>\n",
       "    </tr>\n",
       "    <tr>\n",
       "      <th>subscription_fee_first</th>\n",
       "      <th></th>\n",
       "    </tr>\n",
       "  </thead>\n",
       "  <tbody>\n",
       "    <tr>\n",
       "      <th>0.0</th>\n",
       "      <td>330.2</td>\n",
       "    </tr>\n",
       "    <tr>\n",
       "      <th>199.0</th>\n",
       "      <td>361.7</td>\n",
       "    </tr>\n",
       "  </tbody>\n",
       "</table>\n",
       "</div>"
      ],
      "text/plain": [
       "                        monthly\n",
       "subscription_fee_first         \n",
       "0.0                       330.2\n",
       "199.0                     361.7"
      ]
     },
     "execution_count": 78,
     "metadata": {},
     "output_type": "execute_result"
    }
   ],
   "source": [
    "dfg.groupby(x)[y].mean().round(1).to_frame()"
   ]
  },
  {
   "cell_type": "code",
   "execution_count": 79,
   "id": "cfd220f6",
   "metadata": {
    "scrolled": false
   },
   "outputs": [
    {
     "data": {
      "image/png": "[encoded data removed]",
      "text/plain": [
       "<Figure size 1080x216 with 1 Axes>"
      ]
     },
     "metadata": {
      "needs_background": "light"
     },
     "output_type": "display_data"
    }
   ],
   "source": [
    "dfg.groupby(x)[y].hist(bins=200, figsize=(15,3), legend=True)\n",
    "plt.title('Гистограммы ежесячной выручки двух групп пользователей')\n",
    "plt.xlabel('руб.')\n",
    "plt.ylabel('кол-во');"
   ]
  },
  {
   "attachments": {
    "image-2.png": {
     "image/png": "[encoded data removed]"
    }
   },
   "cell_type": "markdown",
   "id": "3b66f297",
   "metadata": {},
   "source": [
    "<div class=\"alert alert-success\">\n",
    "<font size=\"4\", color= \"seagreen\"><b>✔️ Комментарий ревьюера в3</b></font>\n",
    "    <br /> \n",
    "    <font size=\"3\", color = \"black\">\n",
    "<br />Если сравнить средние значения выручки, даже после удаления 20-ти процентов данных (но одно важное условие — данные удалялись случайным образом), они изменились незначительно, как и характер распределения самих данных (кол-во данных уменьшилось, безусловно).\n",
    "        \n",
    "Для сравнения представлен рисунок первой гистограммы\n",
    "        \n",
    "Закон больших чисел действует и в обратном направлении — у нас нет необходимости собирать 100% данных, чтобы проверить основные гипотезы, при условии, что выборка достаточно большая        \n",
    "        \n",
    "![image-2.png](attachment:image-2.png)   \n",
    "         "
   ]
  },
  {
   "cell_type": "code",
   "execution_count": null,
   "id": "95cd1d51",
   "metadata": {},
   "outputs": [],
   "source": []
  }
 ],
 "metadata": {
  "ExecuteTimeLog": [
   {
    "duration": 43,
    "start_time": "2024-04-01T18:17:06.364Z"
   },
   {
    "duration": 315,
    "start_time": "2024-04-01T18:17:07.930Z"
   },
   {
    "duration": 95,
    "start_time": "2024-04-01T18:17:09.839Z"
   },
   {
    "duration": 241,
    "start_time": "2024-04-01T18:18:15.901Z"
   },
   {
    "duration": 11,
    "start_time": "2024-04-01T18:22:00.069Z"
   },
   {
    "duration": 10,
    "start_time": "2024-04-01T18:22:29.914Z"
   },
   {
    "duration": 3,
    "start_time": "2024-04-01T18:22:55.401Z"
   },
   {
    "duration": 24,
    "start_time": "2024-04-01T18:23:36.204Z"
   },
   {
    "duration": 6,
    "start_time": "2024-04-01T18:23:49.018Z"
   },
   {
    "duration": 5,
    "start_time": "2024-04-01T18:24:06.066Z"
   },
   {
    "duration": 2,
    "start_time": "2024-04-01T18:26:31.535Z"
   },
   {
    "duration": 3,
    "start_time": "2024-04-01T18:26:49.266Z"
   },
   {
    "duration": 60,
    "start_time": "2024-04-01T18:26:53.341Z"
   },
   {
    "duration": 3,
    "start_time": "2024-04-01T18:26:54.654Z"
   },
   {
    "duration": 6,
    "start_time": "2024-04-01T18:27:55.691Z"
   },
   {
    "duration": 3,
    "start_time": "2024-04-01T18:28:02.231Z"
   },
   {
    "duration": 3,
    "start_time": "2024-04-01T18:28:08.094Z"
   },
   {
    "duration": 7,
    "start_time": "2024-04-01T18:28:19.534Z"
   },
   {
    "duration": 7,
    "start_time": "2024-04-01T18:29:17.058Z"
   },
   {
    "duration": 8,
    "start_time": "2024-04-01T18:29:23.913Z"
   },
   {
    "duration": 8,
    "start_time": "2024-04-01T18:29:32.378Z"
   },
   {
    "duration": 1401,
    "start_time": "2024-04-01T18:30:51.690Z"
   },
   {
    "duration": 595,
    "start_time": "2024-04-01T18:31:05.918Z"
   },
   {
    "duration": 584,
    "start_time": "2024-04-01T18:31:14.216Z"
   },
   {
    "duration": 662,
    "start_time": "2024-04-01T18:31:19.866Z"
   },
   {
    "duration": 595,
    "start_time": "2024-04-01T18:31:27.193Z"
   },
   {
    "duration": 20,
    "start_time": "2024-04-01T18:32:34.166Z"
   },
   {
    "duration": 24,
    "start_time": "2024-04-01T18:32:43.535Z"
   },
   {
    "duration": 24,
    "start_time": "2024-04-01T18:33:04.803Z"
   },
   {
    "duration": 18,
    "start_time": "2024-04-01T18:34:05.497Z"
   },
   {
    "duration": 6,
    "start_time": "2024-04-01T18:40:59.421Z"
   },
   {
    "duration": 62,
    "start_time": "2024-04-01T18:41:13.249Z"
   },
   {
    "duration": 10,
    "start_time": "2024-04-01T18:46:46.349Z"
   },
   {
    "duration": 10,
    "start_time": "2024-04-01T18:46:52.394Z"
   },
   {
    "duration": 16,
    "start_time": "2024-04-01T18:47:02.729Z"
   },
   {
    "duration": 18,
    "start_time": "2024-04-01T18:47:09.603Z"
   },
   {
    "duration": 4,
    "start_time": "2024-04-01T18:52:32.556Z"
   },
   {
    "duration": 4,
    "start_time": "2024-04-01T18:52:55.609Z"
   },
   {
    "duration": 5,
    "start_time": "2024-04-01T18:53:31.784Z"
   },
   {
    "duration": 7,
    "start_time": "2024-04-01T18:54:05.786Z"
   },
   {
    "duration": 7,
    "start_time": "2024-04-01T18:54:13.208Z"
   },
   {
    "duration": 10,
    "start_time": "2024-04-01T18:55:47.745Z"
   },
   {
    "duration": 8,
    "start_time": "2024-04-01T18:56:10.678Z"
   },
   {
    "duration": 11,
    "start_time": "2024-04-01T18:56:12.860Z"
   },
   {
    "duration": 5,
    "start_time": "2024-04-01T18:56:19.458Z"
   },
   {
    "duration": 8,
    "start_time": "2024-04-01T18:56:22.557Z"
   },
   {
    "duration": 8,
    "start_time": "2024-04-01T18:56:35.136Z"
   },
   {
    "duration": 5,
    "start_time": "2024-04-01T18:56:35.933Z"
   },
   {
    "duration": 4,
    "start_time": "2024-04-01T18:58:40.485Z"
   },
   {
    "duration": 8,
    "start_time": "2024-04-01T18:58:41.301Z"
   },
   {
    "duration": 4,
    "start_time": "2024-04-01T18:58:42.838Z"
   },
   {
    "duration": 7,
    "start_time": "2024-04-01T18:58:55.802Z"
   },
   {
    "duration": 306,
    "start_time": "2024-04-01T18:59:15.634Z"
   },
   {
    "duration": 58,
    "start_time": "2024-04-01T18:59:15.942Z"
   },
   {
    "duration": 4,
    "start_time": "2024-04-01T18:59:16.001Z"
   },
   {
    "duration": 10,
    "start_time": "2024-04-01T18:59:16.006Z"
   },
   {
    "duration": 808,
    "start_time": "2024-04-01T18:59:16.017Z"
   },
   {
    "duration": 61,
    "start_time": "2024-04-01T18:59:16.826Z"
   },
   {
    "duration": 10,
    "start_time": "2024-04-01T18:59:16.888Z"
   },
   {
    "duration": 17,
    "start_time": "2024-04-01T18:59:16.900Z"
   },
   {
    "duration": 3,
    "start_time": "2024-04-01T18:59:16.919Z"
   },
   {
    "duration": 4,
    "start_time": "2024-04-01T18:59:16.923Z"
   },
   {
    "duration": 4,
    "start_time": "2024-04-01T18:59:16.928Z"
   },
   {
    "duration": 9,
    "start_time": "2024-04-01T18:59:16.933Z"
   },
   {
    "duration": 10,
    "start_time": "2024-04-01T18:59:16.943Z"
   },
   {
    "duration": 11,
    "start_time": "2024-04-01T18:59:31.476Z"
   },
   {
    "duration": 11,
    "start_time": "2024-04-01T19:00:40.609Z"
   },
   {
    "duration": 10,
    "start_time": "2024-04-01T19:00:53.021Z"
   },
   {
    "duration": 6,
    "start_time": "2024-04-01T19:01:08.756Z"
   },
   {
    "duration": 5,
    "start_time": "2024-04-01T19:01:48.747Z"
   },
   {
    "duration": 3,
    "start_time": "2024-04-01T19:07:48.716Z"
   },
   {
    "duration": 17,
    "start_time": "2024-04-01T19:09:18.716Z"
   },
   {
    "duration": 10,
    "start_time": "2024-04-01T19:09:24.971Z"
   },
   {
    "duration": 58,
    "start_time": "2024-04-01T19:11:03.165Z"
   },
   {
    "duration": 8,
    "start_time": "2024-04-01T19:11:07.149Z"
   },
   {
    "duration": 3,
    "start_time": "2024-04-01T19:11:09.269Z"
   },
   {
    "duration": 7,
    "start_time": "2024-04-01T19:11:15.832Z"
   },
   {
    "duration": 3,
    "start_time": "2024-04-01T19:11:20.794Z"
   },
   {
    "duration": 631,
    "start_time": "2024-04-01T19:11:24.346Z"
   },
   {
    "duration": 58,
    "start_time": "2024-04-01T19:11:50.723Z"
   },
   {
    "duration": 36,
    "start_time": "2024-04-01T19:12:03.561Z"
   },
   {
    "duration": 10,
    "start_time": "2024-04-01T19:16:59.294Z"
   },
   {
    "duration": 1508,
    "start_time": "2024-04-01T19:17:42.977Z"
   },
   {
    "duration": 1359,
    "start_time": "2024-04-01T19:17:58.565Z"
   },
   {
    "duration": 188,
    "start_time": "2024-04-01T19:18:34.601Z"
   },
   {
    "duration": 136,
    "start_time": "2024-04-01T19:20:12.624Z"
   },
   {
    "duration": 117,
    "start_time": "2024-04-01T19:20:44.883Z"
   },
   {
    "duration": 215,
    "start_time": "2024-04-01T19:21:19.428Z"
   },
   {
    "duration": 9,
    "start_time": "2024-04-01T19:24:18.247Z"
   },
   {
    "duration": 5,
    "start_time": "2024-04-01T19:24:30.713Z"
   },
   {
    "duration": 85,
    "start_time": "2024-04-01T19:25:31.679Z"
   },
   {
    "duration": 5,
    "start_time": "2024-04-01T19:25:35.044Z"
   },
   {
    "duration": 5,
    "start_time": "2024-04-01T19:26:04.203Z"
   },
   {
    "duration": 5,
    "start_time": "2024-04-01T19:27:06.896Z"
   },
   {
    "duration": 4,
    "start_time": "2024-04-01T19:30:21.372Z"
   },
   {
    "duration": 9,
    "start_time": "2024-04-01T19:30:23.842Z"
   },
   {
    "duration": 4,
    "start_time": "2024-04-01T19:30:25.778Z"
   },
   {
    "duration": 390,
    "start_time": "2024-04-03T13:24:58.182Z"
   },
   {
    "duration": 306,
    "start_time": "2024-04-03T13:24:58.573Z"
   },
   {
    "duration": 61,
    "start_time": "2024-04-03T13:24:58.880Z"
   },
   {
    "duration": 0,
    "start_time": "2024-04-03T13:24:58.942Z"
   },
   {
    "duration": 0,
    "start_time": "2024-04-03T13:24:58.944Z"
   },
   {
    "duration": 0,
    "start_time": "2024-04-03T13:24:58.945Z"
   },
   {
    "duration": 1,
    "start_time": "2024-04-03T13:24:58.945Z"
   },
   {
    "duration": 0,
    "start_time": "2024-04-03T13:24:58.947Z"
   },
   {
    "duration": 0,
    "start_time": "2024-04-03T13:24:58.947Z"
   },
   {
    "duration": 0,
    "start_time": "2024-04-03T13:24:58.948Z"
   },
   {
    "duration": 1,
    "start_time": "2024-04-03T13:24:58.949Z"
   },
   {
    "duration": 0,
    "start_time": "2024-04-03T13:24:58.950Z"
   },
   {
    "duration": 0,
    "start_time": "2024-04-03T13:24:58.951Z"
   },
   {
    "duration": 0,
    "start_time": "2024-04-03T13:24:58.952Z"
   },
   {
    "duration": 0,
    "start_time": "2024-04-03T13:24:58.953Z"
   },
   {
    "duration": 0,
    "start_time": "2024-04-03T13:24:58.954Z"
   },
   {
    "duration": 0,
    "start_time": "2024-04-03T13:24:58.958Z"
   },
   {
    "duration": 0,
    "start_time": "2024-04-03T13:24:58.959Z"
   },
   {
    "duration": 10,
    "start_time": "2024-04-03T13:25:49.312Z"
   },
   {
    "duration": 538,
    "start_time": "2024-04-03T13:26:25.423Z"
   },
   {
    "duration": 3,
    "start_time": "2024-04-03T13:27:20.754Z"
   },
   {
    "duration": 67,
    "start_time": "2024-04-03T13:27:22.563Z"
   },
   {
    "duration": 17,
    "start_time": "2024-04-03T13:27:23.982Z"
   },
   {
    "duration": 2,
    "start_time": "2024-04-03T13:28:18.826Z"
   },
   {
    "duration": 11,
    "start_time": "2024-04-03T13:28:19.476Z"
   },
   {
    "duration": 3,
    "start_time": "2024-04-03T13:28:20.060Z"
   },
   {
    "duration": 803,
    "start_time": "2024-04-03T13:28:20.476Z"
   },
   {
    "duration": 23,
    "start_time": "2024-04-03T13:28:21.280Z"
   },
   {
    "duration": 30,
    "start_time": "2024-04-03T13:28:21.319Z"
   },
   {
    "duration": 224,
    "start_time": "2024-04-03T13:28:21.791Z"
   },
   {
    "duration": 151,
    "start_time": "2024-04-03T13:28:22.386Z"
   },
   {
    "duration": 6,
    "start_time": "2024-04-03T13:28:23.725Z"
   },
   {
    "duration": 13,
    "start_time": "2024-04-03T13:28:26.964Z"
   },
   {
    "duration": 4,
    "start_time": "2024-04-03T13:28:28.526Z"
   },
   {
    "duration": 14,
    "start_time": "2024-04-03T13:28:29.216Z"
   },
   {
    "duration": 5,
    "start_time": "2024-04-03T13:28:29.553Z"
   },
   {
    "duration": 5,
    "start_time": "2024-04-03T13:28:29.977Z"
   },
   {
    "duration": 4,
    "start_time": "2024-04-03T13:28:30.307Z"
   },
   {
    "duration": 10,
    "start_time": "2024-04-03T13:28:30.740Z"
   },
   {
    "duration": 4,
    "start_time": "2024-04-03T13:28:31.100Z"
   },
   {
    "duration": 8,
    "start_time": "2024-04-03T13:28:32.534Z"
   },
   {
    "duration": 114,
    "start_time": "2024-04-03T13:28:33.353Z"
   },
   {
    "duration": 259,
    "start_time": "2024-04-03T13:35:25.340Z"
   },
   {
    "duration": 238,
    "start_time": "2024-04-03T13:36:02.687Z"
   },
   {
    "duration": 98,
    "start_time": "2024-04-03T13:38:15.902Z"
   },
   {
    "duration": 414,
    "start_time": "2024-04-03T13:54:05.828Z"
   },
   {
    "duration": 65,
    "start_time": "2024-04-03T13:54:06.244Z"
   },
   {
    "duration": 3,
    "start_time": "2024-04-03T13:54:06.310Z"
   },
   {
    "duration": 16,
    "start_time": "2024-04-03T13:54:06.314Z"
   },
   {
    "duration": 4,
    "start_time": "2024-04-03T13:54:06.331Z"
   },
   {
    "duration": 975,
    "start_time": "2024-04-03T13:54:06.336Z"
   },
   {
    "duration": 87,
    "start_time": "2024-04-03T13:54:07.313Z"
   },
   {
    "duration": 28,
    "start_time": "2024-04-03T13:54:07.401Z"
   },
   {
    "duration": 253,
    "start_time": "2024-04-03T13:54:07.430Z"
   },
   {
    "duration": 146,
    "start_time": "2024-04-03T13:54:07.685Z"
   },
   {
    "duration": 5,
    "start_time": "2024-04-03T13:54:07.833Z"
   },
   {
    "duration": 24,
    "start_time": "2024-04-03T13:54:07.840Z"
   },
   {
    "duration": 12,
    "start_time": "2024-04-03T13:54:07.865Z"
   },
   {
    "duration": 16,
    "start_time": "2024-04-03T13:54:07.878Z"
   },
   {
    "duration": 5,
    "start_time": "2024-04-03T13:54:07.896Z"
   },
   {
    "duration": 20,
    "start_time": "2024-04-03T13:54:07.902Z"
   },
   {
    "duration": 8,
    "start_time": "2024-04-03T13:54:07.923Z"
   },
   {
    "duration": 13,
    "start_time": "2024-04-03T13:54:07.932Z"
   },
   {
    "duration": 7,
    "start_time": "2024-04-03T13:54:07.946Z"
   },
   {
    "duration": 21,
    "start_time": "2024-04-03T13:54:07.954Z"
   },
   {
    "duration": 82,
    "start_time": "2024-04-03T13:54:07.976Z"
   },
   {
    "duration": 0,
    "start_time": "2024-04-03T13:54:08.059Z"
   },
   {
    "duration": 254,
    "start_time": "2024-04-03T13:54:27.238Z"
   },
   {
    "duration": 271,
    "start_time": "2024-04-03T13:54:50.548Z"
   },
   {
    "duration": 15,
    "start_time": "2024-04-03T13:55:01.772Z"
   },
   {
    "duration": 145,
    "start_time": "2024-04-03T13:55:18.966Z"
   },
   {
    "duration": 4,
    "start_time": "2024-04-03T13:57:07.017Z"
   },
   {
    "duration": 13,
    "start_time": "2024-04-03T13:57:18.732Z"
   },
   {
    "duration": 147,
    "start_time": "2024-04-03T13:57:36.009Z"
   },
   {
    "duration": 7,
    "start_time": "2024-04-03T14:12:15.244Z"
   },
   {
    "duration": 5,
    "start_time": "2024-04-03T14:12:23.190Z"
   },
   {
    "duration": 6,
    "start_time": "2024-04-03T14:12:24.111Z"
   },
   {
    "duration": 443,
    "start_time": "2024-04-03T19:56:32.693Z"
   },
   {
    "duration": 215,
    "start_time": "2024-04-03T19:56:33.138Z"
   },
   {
    "duration": 2,
    "start_time": "2024-04-03T19:56:33.355Z"
   },
   {
    "duration": 11,
    "start_time": "2024-04-03T19:56:33.359Z"
   },
   {
    "duration": 3,
    "start_time": "2024-04-03T19:56:33.371Z"
   },
   {
    "duration": 1250,
    "start_time": "2024-04-03T19:56:33.375Z"
   },
   {
    "duration": 25,
    "start_time": "2024-04-03T19:56:34.627Z"
   },
   {
    "duration": 32,
    "start_time": "2024-04-03T19:56:34.654Z"
   },
   {
    "duration": 281,
    "start_time": "2024-04-03T19:56:34.688Z"
   },
   {
    "duration": 163,
    "start_time": "2024-04-03T19:56:34.973Z"
   },
   {
    "duration": 8,
    "start_time": "2024-04-03T19:56:35.138Z"
   },
   {
    "duration": 14,
    "start_time": "2024-04-03T19:56:35.148Z"
   },
   {
    "duration": 4,
    "start_time": "2024-04-03T19:56:35.164Z"
   },
   {
    "duration": 47,
    "start_time": "2024-04-03T19:56:35.171Z"
   },
   {
    "duration": 6,
    "start_time": "2024-04-03T19:56:35.220Z"
   },
   {
    "duration": 6,
    "start_time": "2024-04-03T19:56:35.228Z"
   },
   {
    "duration": 4,
    "start_time": "2024-04-03T19:56:35.236Z"
   },
   {
    "duration": 11,
    "start_time": "2024-04-03T19:56:35.242Z"
   },
   {
    "duration": 4,
    "start_time": "2024-04-03T19:56:35.254Z"
   },
   {
    "duration": 5,
    "start_time": "2024-04-03T19:56:35.260Z"
   },
   {
    "duration": 293,
    "start_time": "2024-04-03T19:56:35.266Z"
   },
   {
    "duration": 193,
    "start_time": "2024-04-03T19:56:35.561Z"
   },
   {
    "duration": 7,
    "start_time": "2024-04-03T19:56:35.756Z"
   },
   {
    "duration": 8,
    "start_time": "2024-04-03T19:56:35.765Z"
   },
   {
    "duration": 146,
    "start_time": "2024-04-03T19:57:19.743Z"
   },
   {
    "duration": 7,
    "start_time": "2024-04-03T20:03:59.345Z"
   },
   {
    "duration": 73,
    "start_time": "2024-04-03T20:04:34.681Z"
   },
   {
    "duration": 130,
    "start_time": "2024-04-03T20:04:40.058Z"
   },
   {
    "duration": 125,
    "start_time": "2024-04-03T20:05:15.426Z"
   },
   {
    "duration": 9,
    "start_time": "2024-04-03T20:06:34.346Z"
   },
   {
    "duration": 3,
    "start_time": "2024-04-03T20:07:06.754Z"
   },
   {
    "duration": 141,
    "start_time": "2024-04-03T20:07:23.056Z"
   },
   {
    "duration": 140,
    "start_time": "2024-04-03T20:07:58.989Z"
   },
   {
    "duration": 5,
    "start_time": "2024-04-03T20:09:34.031Z"
   },
   {
    "duration": 8,
    "start_time": "2024-04-03T20:09:49.577Z"
   },
   {
    "duration": 220,
    "start_time": "2024-04-03T20:10:47.659Z"
   },
   {
    "duration": 128,
    "start_time": "2024-04-03T20:11:04.164Z"
   },
   {
    "duration": 125,
    "start_time": "2024-04-03T20:11:18.728Z"
   },
   {
    "duration": 270,
    "start_time": "2024-04-03T20:11:38.391Z"
   },
   {
    "duration": 227,
    "start_time": "2024-04-03T20:24:14.991Z"
   },
   {
    "duration": 263,
    "start_time": "2024-04-03T20:25:27.223Z"
   },
   {
    "duration": 235,
    "start_time": "2024-04-03T20:26:50.961Z"
   },
   {
    "duration": 310,
    "start_time": "2024-04-03T20:27:14.648Z"
   },
   {
    "duration": 132,
    "start_time": "2024-04-03T20:27:19.227Z"
   },
   {
    "duration": 196,
    "start_time": "2024-04-03T20:27:25.136Z"
   },
   {
    "duration": 8,
    "start_time": "2024-04-03T20:31:15.961Z"
   },
   {
    "duration": 186,
    "start_time": "2024-04-03T20:31:17.185Z"
   },
   {
    "duration": 8,
    "start_time": "2024-04-03T20:35:55.563Z"
   },
   {
    "duration": 7,
    "start_time": "2024-04-03T20:36:08.067Z"
   },
   {
    "duration": 8,
    "start_time": "2024-04-03T20:36:17.754Z"
   },
   {
    "duration": 9,
    "start_time": "2024-04-03T20:37:18.705Z"
   },
   {
    "duration": 9,
    "start_time": "2024-04-03T20:37:22.000Z"
   },
   {
    "duration": 8,
    "start_time": "2024-04-03T20:37:45.188Z"
   },
   {
    "duration": 8,
    "start_time": "2024-04-03T20:40:34.013Z"
   },
   {
    "duration": 7,
    "start_time": "2024-04-03T20:40:36.961Z"
   },
   {
    "duration": 150,
    "start_time": "2024-04-03T20:44:48.873Z"
   },
   {
    "duration": 8,
    "start_time": "2024-04-03T20:50:06.761Z"
   },
   {
    "duration": 10,
    "start_time": "2024-04-03T20:50:15.641Z"
   },
   {
    "duration": 24,
    "start_time": "2024-04-03T20:50:28.350Z"
   },
   {
    "duration": 9,
    "start_time": "2024-04-03T20:54:03.346Z"
   },
   {
    "duration": 29,
    "start_time": "2024-04-03T20:54:10.545Z"
   },
   {
    "duration": 14,
    "start_time": "2024-04-03T20:55:59.723Z"
   },
   {
    "duration": 32,
    "start_time": "2024-04-03T20:56:10.249Z"
   },
   {
    "duration": 3,
    "start_time": "2024-04-03T20:56:26.056Z"
   },
   {
    "duration": 28,
    "start_time": "2024-04-03T20:56:30.143Z"
   },
   {
    "duration": 17,
    "start_time": "2024-04-03T20:58:29.494Z"
   },
   {
    "duration": 7,
    "start_time": "2024-04-03T20:58:41.834Z"
   },
   {
    "duration": 9,
    "start_time": "2024-04-03T20:58:56.565Z"
   },
   {
    "duration": 20,
    "start_time": "2024-04-03T20:59:01.539Z"
   },
   {
    "duration": 19,
    "start_time": "2024-04-03T21:01:00.351Z"
   },
   {
    "duration": 20,
    "start_time": "2024-04-03T21:01:06.835Z"
   },
   {
    "duration": 27,
    "start_time": "2024-04-03T21:01:38.281Z"
   },
   {
    "duration": 15,
    "start_time": "2024-04-03T21:02:51.211Z"
   },
   {
    "duration": 16,
    "start_time": "2024-04-03T21:03:57.008Z"
   },
   {
    "duration": 20,
    "start_time": "2024-04-03T21:04:03.225Z"
   },
   {
    "duration": 19,
    "start_time": "2024-04-03T21:04:10.996Z"
   },
   {
    "duration": 826,
    "start_time": "2024-04-04T11:51:14.046Z"
   },
   {
    "duration": 219,
    "start_time": "2024-04-04T11:51:14.874Z"
   },
   {
    "duration": 4,
    "start_time": "2024-04-04T11:51:15.095Z"
   },
   {
    "duration": 28,
    "start_time": "2024-04-04T11:51:15.101Z"
   },
   {
    "duration": 32,
    "start_time": "2024-04-04T11:51:15.131Z"
   },
   {
    "duration": 977,
    "start_time": "2024-04-04T11:51:15.165Z"
   },
   {
    "duration": 24,
    "start_time": "2024-04-04T11:51:16.144Z"
   },
   {
    "duration": 104,
    "start_time": "2024-04-04T11:51:16.170Z"
   },
   {
    "duration": 293,
    "start_time": "2024-04-04T11:51:16.282Z"
   },
   {
    "duration": 178,
    "start_time": "2024-04-04T11:51:16.577Z"
   },
   {
    "duration": 6,
    "start_time": "2024-04-04T11:51:16.757Z"
   },
   {
    "duration": 32,
    "start_time": "2024-04-04T11:51:16.764Z"
   },
   {
    "duration": 4,
    "start_time": "2024-04-04T11:51:16.798Z"
   },
   {
    "duration": 39,
    "start_time": "2024-04-04T11:51:16.803Z"
   },
   {
    "duration": 5,
    "start_time": "2024-04-04T11:51:16.844Z"
   },
   {
    "duration": 19,
    "start_time": "2024-04-04T11:51:16.850Z"
   },
   {
    "duration": 6,
    "start_time": "2024-04-04T11:51:16.871Z"
   },
   {
    "duration": 25,
    "start_time": "2024-04-04T11:51:16.878Z"
   },
   {
    "duration": 7,
    "start_time": "2024-04-04T11:51:16.905Z"
   },
   {
    "duration": 18,
    "start_time": "2024-04-04T11:51:16.913Z"
   },
   {
    "duration": 295,
    "start_time": "2024-04-04T11:51:16.932Z"
   },
   {
    "duration": 181,
    "start_time": "2024-04-04T11:51:17.228Z"
   },
   {
    "duration": 6,
    "start_time": "2024-04-04T11:51:17.411Z"
   },
   {
    "duration": 8,
    "start_time": "2024-04-04T11:51:17.419Z"
   },
   {
    "duration": 158,
    "start_time": "2024-04-04T11:51:17.429Z"
   },
   {
    "duration": 10,
    "start_time": "2024-04-04T11:51:17.589Z"
   },
   {
    "duration": 168,
    "start_time": "2024-04-04T11:51:17.601Z"
   },
   {
    "duration": 11,
    "start_time": "2024-04-04T11:51:17.772Z"
   },
   {
    "duration": 344,
    "start_time": "2024-04-04T11:51:17.785Z"
   },
   {
    "duration": 9,
    "start_time": "2024-04-04T11:51:18.130Z"
   },
   {
    "duration": 6,
    "start_time": "2024-04-04T11:51:18.141Z"
   },
   {
    "duration": 253,
    "start_time": "2024-04-04T11:51:18.148Z"
   },
   {
    "duration": 33,
    "start_time": "2024-04-04T11:51:18.403Z"
   },
   {
    "duration": 108,
    "start_time": "2024-04-04T11:51:18.437Z"
   },
   {
    "duration": 21,
    "start_time": "2024-04-04T11:51:18.546Z"
   },
   {
    "duration": 3,
    "start_time": "2024-04-04T11:51:18.582Z"
   },
   {
    "duration": 78,
    "start_time": "2024-04-04T11:54:36.717Z"
   },
   {
    "duration": 10,
    "start_time": "2024-04-04T11:54:48.571Z"
   },
   {
    "duration": 8,
    "start_time": "2024-04-04T11:57:09.253Z"
   },
   {
    "duration": 128,
    "start_time": "2024-04-04T11:57:19.291Z"
   },
   {
    "duration": 127,
    "start_time": "2024-04-04T11:57:35.439Z"
   },
   {
    "duration": 129,
    "start_time": "2024-04-04T11:58:07.037Z"
   },
   {
    "duration": 121,
    "start_time": "2024-04-04T11:58:14.901Z"
   },
   {
    "duration": 127,
    "start_time": "2024-04-04T11:58:48.104Z"
   },
   {
    "duration": 175,
    "start_time": "2024-04-04T12:02:04.868Z"
   },
   {
    "duration": 172,
    "start_time": "2024-04-04T12:02:23.963Z"
   },
   {
    "duration": 170,
    "start_time": "2024-04-04T12:02:38.104Z"
   },
   {
    "duration": 206,
    "start_time": "2024-04-04T12:02:58.955Z"
   },
   {
    "duration": 197,
    "start_time": "2024-04-04T12:03:09.331Z"
   },
   {
    "duration": 189,
    "start_time": "2024-04-04T12:03:19.357Z"
   },
   {
    "duration": 197,
    "start_time": "2024-04-04T12:03:24.279Z"
   },
   {
    "duration": 207,
    "start_time": "2024-04-04T12:03:55.731Z"
   },
   {
    "duration": 195,
    "start_time": "2024-04-04T12:04:05.625Z"
   },
   {
    "duration": 202,
    "start_time": "2024-04-04T12:04:15.193Z"
   },
   {
    "duration": 207,
    "start_time": "2024-04-04T12:04:24.480Z"
   },
   {
    "duration": 194,
    "start_time": "2024-04-04T12:04:33.509Z"
   },
   {
    "duration": 198,
    "start_time": "2024-04-04T12:04:49.670Z"
   },
   {
    "duration": 191,
    "start_time": "2024-04-04T12:05:23.558Z"
   },
   {
    "duration": 263,
    "start_time": "2024-04-04T12:05:36.436Z"
   },
   {
    "duration": 194,
    "start_time": "2024-04-04T12:05:39.630Z"
   },
   {
    "duration": 855,
    "start_time": "2024-04-04T21:13:13.948Z"
   },
   {
    "duration": 300,
    "start_time": "2024-04-04T21:13:14.805Z"
   },
   {
    "duration": 3,
    "start_time": "2024-04-04T21:13:15.106Z"
   },
   {
    "duration": 44,
    "start_time": "2024-04-04T21:13:15.111Z"
   },
   {
    "duration": 6,
    "start_time": "2024-04-04T21:13:15.157Z"
   },
   {
    "duration": 809,
    "start_time": "2024-04-04T21:13:15.165Z"
   },
   {
    "duration": 29,
    "start_time": "2024-04-04T21:13:15.979Z"
   },
   {
    "duration": 108,
    "start_time": "2024-04-04T21:13:16.009Z"
   },
   {
    "duration": 293,
    "start_time": "2024-04-04T21:13:16.119Z"
   },
   {
    "duration": 178,
    "start_time": "2024-04-04T21:13:16.415Z"
   },
   {
    "duration": 7,
    "start_time": "2024-04-04T21:13:16.595Z"
   },
   {
    "duration": 18,
    "start_time": "2024-04-04T21:13:16.604Z"
   },
   {
    "duration": 4,
    "start_time": "2024-04-04T21:13:16.624Z"
   },
   {
    "duration": 18,
    "start_time": "2024-04-04T21:13:16.629Z"
   },
   {
    "duration": 4,
    "start_time": "2024-04-04T21:13:16.649Z"
   },
   {
    "duration": 29,
    "start_time": "2024-04-04T21:13:16.654Z"
   },
   {
    "duration": 5,
    "start_time": "2024-04-04T21:13:16.684Z"
   },
   {
    "duration": 15,
    "start_time": "2024-04-04T21:13:16.691Z"
   },
   {
    "duration": 5,
    "start_time": "2024-04-04T21:13:16.707Z"
   },
   {
    "duration": 12,
    "start_time": "2024-04-04T21:13:16.713Z"
   },
   {
    "duration": 264,
    "start_time": "2024-04-04T21:13:16.726Z"
   },
   {
    "duration": 153,
    "start_time": "2024-04-04T21:13:16.991Z"
   },
   {
    "duration": 6,
    "start_time": "2024-04-04T21:13:17.145Z"
   },
   {
    "duration": 6,
    "start_time": "2024-04-04T21:13:17.152Z"
   },
   {
    "duration": 162,
    "start_time": "2024-04-04T21:13:17.160Z"
   },
   {
    "duration": 9,
    "start_time": "2024-04-04T21:13:17.324Z"
   },
   {
    "duration": 159,
    "start_time": "2024-04-04T21:13:17.334Z"
   },
   {
    "duration": 8,
    "start_time": "2024-04-04T21:13:17.497Z"
   },
   {
    "duration": 268,
    "start_time": "2024-04-04T21:13:17.506Z"
   },
   {
    "duration": 9,
    "start_time": "2024-04-04T21:13:17.779Z"
   },
   {
    "duration": 9,
    "start_time": "2024-04-04T21:13:17.790Z"
   },
   {
    "duration": 232,
    "start_time": "2024-04-04T21:13:17.801Z"
   },
   {
    "duration": 47,
    "start_time": "2024-04-04T21:13:18.035Z"
   },
   {
    "duration": 97,
    "start_time": "2024-04-04T21:13:18.084Z"
   },
   {
    "duration": 21,
    "start_time": "2024-04-04T21:13:18.183Z"
   },
   {
    "duration": 9,
    "start_time": "2024-04-04T21:13:18.206Z"
   },
   {
    "duration": 148,
    "start_time": "2024-04-04T21:13:18.217Z"
   },
   {
    "duration": 216,
    "start_time": "2024-04-04T21:13:18.367Z"
   },
   {
    "duration": 212,
    "start_time": "2024-04-04T21:13:18.584Z"
   },
   {
    "duration": 3,
    "start_time": "2024-04-04T21:13:18.797Z"
   },
   {
    "duration": 181,
    "start_time": "2024-04-04T21:20:47.676Z"
   },
   {
    "duration": 183,
    "start_time": "2024-04-04T21:21:39.033Z"
   },
   {
    "duration": 8,
    "start_time": "2024-04-04T21:21:52.325Z"
   },
   {
    "duration": 214,
    "start_time": "2024-04-04T21:22:05.752Z"
   },
   {
    "duration": 205,
    "start_time": "2024-04-04T21:22:19.736Z"
   },
   {
    "duration": 194,
    "start_time": "2024-04-04T21:23:07.363Z"
   },
   {
    "duration": 22,
    "start_time": "2024-04-04T21:25:22.360Z"
   },
   {
    "duration": 11,
    "start_time": "2024-04-04T21:26:58.564Z"
   },
   {
    "duration": 125,
    "start_time": "2024-04-04T21:28:48.007Z"
   },
   {
    "duration": 204,
    "start_time": "2024-04-04T21:30:12.424Z"
   },
   {
    "duration": 77,
    "start_time": "2024-04-04T21:30:53.706Z"
   },
   {
    "duration": 187,
    "start_time": "2024-04-04T21:32:11.893Z"
   },
   {
    "duration": 81,
    "start_time": "2024-04-04T21:33:11.136Z"
   },
   {
    "duration": 9,
    "start_time": "2024-04-04T21:33:53.838Z"
   },
   {
    "duration": 200,
    "start_time": "2024-04-04T21:35:23.573Z"
   },
   {
    "duration": 48,
    "start_time": "2024-04-05T15:41:42.566Z"
   },
   {
    "duration": 751,
    "start_time": "2024-04-05T15:41:50.439Z"
   },
   {
    "duration": 313,
    "start_time": "2024-04-05T15:41:51.192Z"
   },
   {
    "duration": 2,
    "start_time": "2024-04-05T15:41:51.506Z"
   },
   {
    "duration": 14,
    "start_time": "2024-04-05T15:41:51.510Z"
   },
   {
    "duration": 4,
    "start_time": "2024-04-05T15:41:51.525Z"
   },
   {
    "duration": 781,
    "start_time": "2024-04-05T15:41:51.530Z"
   },
   {
    "duration": 24,
    "start_time": "2024-04-05T15:41:52.312Z"
   },
   {
    "duration": 102,
    "start_time": "2024-04-05T15:41:52.337Z"
   },
   {
    "duration": 271,
    "start_time": "2024-04-05T15:41:52.440Z"
   },
   {
    "duration": 158,
    "start_time": "2024-04-05T15:41:52.713Z"
   },
   {
    "duration": 16,
    "start_time": "2024-04-05T15:41:52.872Z"
   },
   {
    "duration": 32,
    "start_time": "2024-04-05T15:41:52.890Z"
   },
   {
    "duration": 13,
    "start_time": "2024-04-05T15:41:52.923Z"
   },
   {
    "duration": 14,
    "start_time": "2024-04-05T15:41:52.937Z"
   },
   {
    "duration": 4,
    "start_time": "2024-04-05T15:41:52.952Z"
   },
   {
    "duration": 9,
    "start_time": "2024-04-05T15:41:52.958Z"
   },
   {
    "duration": 7,
    "start_time": "2024-04-05T15:41:52.969Z"
   },
   {
    "duration": 28,
    "start_time": "2024-04-05T15:41:52.977Z"
   },
   {
    "duration": 5,
    "start_time": "2024-04-05T15:41:53.006Z"
   },
   {
    "duration": 7,
    "start_time": "2024-04-05T15:41:53.012Z"
   },
   {
    "duration": 255,
    "start_time": "2024-04-05T15:41:53.021Z"
   },
   {
    "duration": 154,
    "start_time": "2024-04-05T15:41:53.277Z"
   },
   {
    "duration": 5,
    "start_time": "2024-04-05T15:41:53.432Z"
   },
   {
    "duration": 7,
    "start_time": "2024-04-05T15:41:53.438Z"
   },
   {
    "duration": 150,
    "start_time": "2024-04-05T15:41:53.447Z"
   },
   {
    "duration": 6,
    "start_time": "2024-04-05T15:41:53.599Z"
   },
   {
    "duration": 158,
    "start_time": "2024-04-05T15:41:53.607Z"
   },
   {
    "duration": 8,
    "start_time": "2024-04-05T15:41:53.768Z"
   },
   {
    "duration": 291,
    "start_time": "2024-04-05T15:41:53.777Z"
   },
   {
    "duration": 8,
    "start_time": "2024-04-05T15:41:54.070Z"
   },
   {
    "duration": 15,
    "start_time": "2024-04-05T15:41:54.079Z"
   },
   {
    "duration": 196,
    "start_time": "2024-04-05T15:41:54.096Z"
   },
   {
    "duration": 30,
    "start_time": "2024-04-05T15:41:54.294Z"
   },
   {
    "duration": 115,
    "start_time": "2024-04-05T15:41:54.325Z"
   },
   {
    "duration": 25,
    "start_time": "2024-04-05T15:41:54.443Z"
   },
   {
    "duration": 7,
    "start_time": "2024-04-05T15:41:54.487Z"
   },
   {
    "duration": 128,
    "start_time": "2024-04-05T15:41:54.496Z"
   },
   {
    "duration": 186,
    "start_time": "2024-04-05T15:41:54.625Z"
   },
   {
    "duration": 7,
    "start_time": "2024-04-05T15:41:54.813Z"
   },
   {
    "duration": 202,
    "start_time": "2024-04-05T15:41:54.821Z"
   },
   {
    "duration": 8,
    "start_time": "2024-04-05T15:41:55.025Z"
   },
   {
    "duration": 128,
    "start_time": "2024-04-05T15:41:55.035Z"
   },
   {
    "duration": 195,
    "start_time": "2024-04-05T15:41:55.164Z"
   },
   {
    "duration": 8,
    "start_time": "2024-04-05T15:41:55.360Z"
   },
   {
    "duration": 189,
    "start_time": "2024-04-05T15:41:55.370Z"
   },
   {
    "duration": 3,
    "start_time": "2024-04-05T15:41:55.561Z"
   },
   {
    "duration": 32,
    "start_time": "2024-04-05T15:42:15.897Z"
   },
   {
    "duration": 145,
    "start_time": "2024-04-05T15:51:34.885Z"
   },
   {
    "duration": 77,
    "start_time": "2024-04-05T15:51:46.422Z"
   },
   {
    "duration": 70,
    "start_time": "2024-04-05T15:52:13.225Z"
   },
   {
    "duration": 8,
    "start_time": "2024-04-05T15:52:43.561Z"
   },
   {
    "duration": 205,
    "start_time": "2024-04-05T15:54:34.147Z"
   },
   {
    "duration": 77,
    "start_time": "2024-04-05T15:56:13.299Z"
   },
   {
    "duration": 305,
    "start_time": "2024-04-05T15:56:21.656Z"
   },
   {
    "duration": 24,
    "start_time": "2024-04-05T15:56:45.923Z"
   },
   {
    "duration": 12,
    "start_time": "2024-04-05T16:00:10.943Z"
   },
   {
    "duration": 14,
    "start_time": "2024-04-05T16:00:25.963Z"
   },
   {
    "duration": 20,
    "start_time": "2024-04-05T16:01:52.917Z"
   },
   {
    "duration": 22,
    "start_time": "2024-04-05T16:02:32.887Z"
   },
   {
    "duration": 15,
    "start_time": "2024-04-05T16:03:25.722Z"
   },
   {
    "duration": 5,
    "start_time": "2024-04-05T16:03:37.151Z"
   },
   {
    "duration": 16,
    "start_time": "2024-04-05T16:04:18.477Z"
   },
   {
    "duration": 23,
    "start_time": "2024-04-05T16:04:23.138Z"
   },
   {
    "duration": 3,
    "start_time": "2024-04-05T16:06:09.735Z"
   },
   {
    "duration": 4,
    "start_time": "2024-04-05T16:06:16.626Z"
   },
   {
    "duration": 4,
    "start_time": "2024-04-05T16:06:39.212Z"
   },
   {
    "duration": 23,
    "start_time": "2024-04-05T16:06:44.114Z"
   },
   {
    "duration": 3,
    "start_time": "2024-04-05T16:06:45.196Z"
   },
   {
    "duration": 5,
    "start_time": "2024-04-05T16:06:49.485Z"
   },
   {
    "duration": 31,
    "start_time": "2024-04-05T16:09:33.345Z"
   },
   {
    "duration": 4,
    "start_time": "2024-04-05T16:09:40.414Z"
   },
   {
    "duration": 5,
    "start_time": "2024-04-05T16:09:42.850Z"
   },
   {
    "duration": 15,
    "start_time": "2024-04-05T16:09:59.996Z"
   },
   {
    "duration": 8,
    "start_time": "2024-04-05T16:18:48.075Z"
   },
   {
    "duration": 7,
    "start_time": "2024-04-05T16:18:52.620Z"
   },
   {
    "duration": 3,
    "start_time": "2024-04-05T16:19:08.824Z"
   },
   {
    "duration": 6,
    "start_time": "2024-04-05T16:19:22.813Z"
   },
   {
    "duration": 4,
    "start_time": "2024-04-05T16:19:28.782Z"
   },
   {
    "duration": 31,
    "start_time": "2024-04-05T16:24:15.976Z"
   },
   {
    "duration": 4,
    "start_time": "2024-04-05T16:24:17.928Z"
   },
   {
    "duration": 5,
    "start_time": "2024-04-05T16:24:26.599Z"
   },
   {
    "duration": 80,
    "start_time": "2024-04-05T16:28:18.693Z"
   },
   {
    "duration": 17,
    "start_time": "2024-04-05T16:31:25.828Z"
   },
   {
    "duration": 31,
    "start_time": "2024-04-05T16:32:35.117Z"
   },
   {
    "duration": 843,
    "start_time": "2024-04-05T16:35:49.353Z"
   },
   {
    "duration": 4,
    "start_time": "2024-04-05T16:36:09.571Z"
   },
   {
    "duration": 935,
    "start_time": "2024-04-05T16:36:39.455Z"
   },
   {
    "duration": 18,
    "start_time": "2024-04-05T16:37:51.411Z"
   },
   {
    "duration": 15,
    "start_time": "2024-04-05T16:38:14.694Z"
   },
   {
    "duration": 16,
    "start_time": "2024-04-05T16:38:19.930Z"
   },
   {
    "duration": 17,
    "start_time": "2024-04-05T16:38:53.780Z"
   },
   {
    "duration": 25,
    "start_time": "2024-04-05T16:39:06.807Z"
   },
   {
    "duration": 870,
    "start_time": "2024-04-05T16:39:52.908Z"
   },
   {
    "duration": 940,
    "start_time": "2024-04-05T16:40:59.886Z"
   },
   {
    "duration": 776,
    "start_time": "2024-04-05T21:18:22.085Z"
   },
   {
    "duration": 210,
    "start_time": "2024-04-05T21:18:22.865Z"
   },
   {
    "duration": 3,
    "start_time": "2024-04-05T21:18:23.077Z"
   },
   {
    "duration": 13,
    "start_time": "2024-04-05T21:18:23.081Z"
   },
   {
    "duration": 4,
    "start_time": "2024-04-05T21:18:23.095Z"
   },
   {
    "duration": 841,
    "start_time": "2024-04-05T21:18:23.100Z"
   },
   {
    "duration": 33,
    "start_time": "2024-04-05T21:18:23.943Z"
   },
   {
    "duration": 100,
    "start_time": "2024-04-05T21:18:23.977Z"
   },
   {
    "duration": 258,
    "start_time": "2024-04-05T21:18:24.079Z"
   },
   {
    "duration": 162,
    "start_time": "2024-04-05T21:18:24.340Z"
   },
   {
    "duration": 6,
    "start_time": "2024-04-05T21:18:24.503Z"
   },
   {
    "duration": 29,
    "start_time": "2024-04-05T21:18:24.511Z"
   },
   {
    "duration": 3,
    "start_time": "2024-04-05T21:18:24.542Z"
   },
   {
    "duration": 28,
    "start_time": "2024-04-05T21:18:24.547Z"
   },
   {
    "duration": 5,
    "start_time": "2024-04-05T21:18:24.577Z"
   },
   {
    "duration": 10,
    "start_time": "2024-04-05T21:18:24.584Z"
   },
   {
    "duration": 5,
    "start_time": "2024-04-05T21:18:24.595Z"
   },
   {
    "duration": 11,
    "start_time": "2024-04-05T21:18:24.601Z"
   },
   {
    "duration": 4,
    "start_time": "2024-04-05T21:18:24.613Z"
   },
   {
    "duration": 4,
    "start_time": "2024-04-05T21:18:24.619Z"
   },
   {
    "duration": 292,
    "start_time": "2024-04-05T21:18:24.625Z"
   },
   {
    "duration": 166,
    "start_time": "2024-04-05T21:18:24.919Z"
   },
   {
    "duration": 5,
    "start_time": "2024-04-05T21:18:25.087Z"
   },
   {
    "duration": 9,
    "start_time": "2024-04-05T21:18:25.093Z"
   },
   {
    "duration": 155,
    "start_time": "2024-04-05T21:18:25.103Z"
   },
   {
    "duration": 18,
    "start_time": "2024-04-05T21:18:25.265Z"
   },
   {
    "duration": 144,
    "start_time": "2024-04-05T21:18:25.284Z"
   },
   {
    "duration": 7,
    "start_time": "2024-04-05T21:18:25.431Z"
   },
   {
    "duration": 257,
    "start_time": "2024-04-05T21:18:25.439Z"
   },
   {
    "duration": 8,
    "start_time": "2024-04-05T21:18:25.697Z"
   },
   {
    "duration": 13,
    "start_time": "2024-04-05T21:18:25.706Z"
   },
   {
    "duration": 216,
    "start_time": "2024-04-05T21:18:25.721Z"
   },
   {
    "duration": 48,
    "start_time": "2024-04-05T21:18:25.938Z"
   },
   {
    "duration": 98,
    "start_time": "2024-04-05T21:18:25.988Z"
   },
   {
    "duration": 31,
    "start_time": "2024-04-05T21:18:26.088Z"
   },
   {
    "duration": 8,
    "start_time": "2024-04-05T21:18:26.121Z"
   },
   {
    "duration": 148,
    "start_time": "2024-04-05T21:18:26.130Z"
   },
   {
    "duration": 198,
    "start_time": "2024-04-05T21:18:26.279Z"
   },
   {
    "duration": 10,
    "start_time": "2024-04-05T21:18:26.484Z"
   },
   {
    "duration": 192,
    "start_time": "2024-04-05T21:18:26.496Z"
   },
   {
    "duration": 8,
    "start_time": "2024-04-05T21:18:26.689Z"
   },
   {
    "duration": 134,
    "start_time": "2024-04-05T21:18:26.698Z"
   },
   {
    "duration": 195,
    "start_time": "2024-04-05T21:18:26.834Z"
   },
   {
    "duration": 8,
    "start_time": "2024-04-05T21:18:27.031Z"
   },
   {
    "duration": 201,
    "start_time": "2024-04-05T21:18:27.040Z"
   },
   {
    "duration": 36,
    "start_time": "2024-04-05T21:18:27.242Z"
   },
   {
    "duration": 863,
    "start_time": "2024-04-05T21:18:27.279Z"
   },
   {
    "duration": 32,
    "start_time": "2024-04-05T21:18:28.144Z"
   },
   {
    "duration": 15,
    "start_time": "2024-04-05T21:18:28.177Z"
   },
   {
    "duration": 337,
    "start_time": "2024-04-05T21:18:28.196Z"
   },
   {
    "duration": 0,
    "start_time": "2024-04-05T21:18:28.535Z"
   },
   {
    "duration": 278,
    "start_time": "2024-04-05T21:20:04.306Z"
   },
   {
    "duration": 5,
    "start_time": "2024-04-05T21:20:20.096Z"
   },
   {
    "duration": 3,
    "start_time": "2024-04-05T21:28:19.649Z"
   },
   {
    "duration": 3,
    "start_time": "2024-04-05T21:29:55.424Z"
   },
   {
    "duration": 178,
    "start_time": "2024-04-05T21:32:29.077Z"
   },
   {
    "duration": 191,
    "start_time": "2024-04-05T21:32:34.187Z"
   },
   {
    "duration": 811,
    "start_time": "2024-04-06T18:02:08.823Z"
   },
   {
    "duration": 307,
    "start_time": "2024-04-06T18:02:09.637Z"
   },
   {
    "duration": 2,
    "start_time": "2024-04-06T18:02:09.946Z"
   },
   {
    "duration": 20,
    "start_time": "2024-04-06T18:02:09.950Z"
   },
   {
    "duration": 5,
    "start_time": "2024-04-06T18:02:09.972Z"
   },
   {
    "duration": 883,
    "start_time": "2024-04-06T18:02:09.978Z"
   },
   {
    "duration": 26,
    "start_time": "2024-04-06T18:02:10.863Z"
   },
   {
    "duration": 100,
    "start_time": "2024-04-06T18:02:10.891Z"
   },
   {
    "duration": 264,
    "start_time": "2024-04-06T18:02:10.992Z"
   },
   {
    "duration": 154,
    "start_time": "2024-04-06T18:02:11.258Z"
   },
   {
    "duration": 6,
    "start_time": "2024-04-06T18:02:11.414Z"
   },
   {
    "duration": 14,
    "start_time": "2024-04-06T18:02:11.421Z"
   },
   {
    "duration": 4,
    "start_time": "2024-04-06T18:02:11.437Z"
   },
   {
    "duration": 38,
    "start_time": "2024-04-06T18:02:11.442Z"
   },
   {
    "duration": 5,
    "start_time": "2024-04-06T18:02:11.482Z"
   },
   {
    "duration": 14,
    "start_time": "2024-04-06T18:02:11.488Z"
   },
   {
    "duration": 4,
    "start_time": "2024-04-06T18:02:11.504Z"
   },
   {
    "duration": 22,
    "start_time": "2024-04-06T18:02:11.509Z"
   },
   {
    "duration": 5,
    "start_time": "2024-04-06T18:02:11.532Z"
   },
   {
    "duration": 6,
    "start_time": "2024-04-06T18:02:11.538Z"
   },
   {
    "duration": 279,
    "start_time": "2024-04-06T18:02:11.546Z"
   },
   {
    "duration": 157,
    "start_time": "2024-04-06T18:02:11.826Z"
   },
   {
    "duration": 5,
    "start_time": "2024-04-06T18:02:11.984Z"
   },
   {
    "duration": 15,
    "start_time": "2024-04-06T18:02:11.990Z"
   },
   {
    "duration": 150,
    "start_time": "2024-04-06T18:02:12.006Z"
   },
   {
    "duration": 14,
    "start_time": "2024-04-06T18:02:12.158Z"
   },
   {
    "duration": 139,
    "start_time": "2024-04-06T18:02:12.174Z"
   },
   {
    "duration": 7,
    "start_time": "2024-04-06T18:02:12.316Z"
   },
   {
    "duration": 266,
    "start_time": "2024-04-06T18:02:12.324Z"
   },
   {
    "duration": 8,
    "start_time": "2024-04-06T18:02:12.592Z"
   },
   {
    "duration": 5,
    "start_time": "2024-04-06T18:02:12.601Z"
   },
   {
    "duration": 205,
    "start_time": "2024-04-06T18:02:12.607Z"
   },
   {
    "duration": 32,
    "start_time": "2024-04-06T18:02:12.813Z"
   },
   {
    "duration": 100,
    "start_time": "2024-04-06T18:02:12.846Z"
   },
   {
    "duration": 40,
    "start_time": "2024-04-06T18:02:12.947Z"
   },
   {
    "duration": 6,
    "start_time": "2024-04-06T18:02:12.989Z"
   },
   {
    "duration": 144,
    "start_time": "2024-04-06T18:02:12.996Z"
   },
   {
    "duration": 182,
    "start_time": "2024-04-06T18:02:13.141Z"
   },
   {
    "duration": 8,
    "start_time": "2024-04-06T18:02:13.325Z"
   },
   {
    "duration": 198,
    "start_time": "2024-04-06T18:02:13.334Z"
   },
   {
    "duration": 8,
    "start_time": "2024-04-06T18:02:13.533Z"
   },
   {
    "duration": 127,
    "start_time": "2024-04-06T18:02:13.542Z"
   },
   {
    "duration": 172,
    "start_time": "2024-04-06T18:02:13.670Z"
   },
   {
    "duration": 7,
    "start_time": "2024-04-06T18:02:13.844Z"
   },
   {
    "duration": 186,
    "start_time": "2024-04-06T18:02:13.852Z"
   },
   {
    "duration": 17,
    "start_time": "2024-04-06T18:02:14.040Z"
   },
   {
    "duration": 818,
    "start_time": "2024-04-06T18:02:14.070Z"
   },
   {
    "duration": 14,
    "start_time": "2024-04-06T18:02:14.889Z"
   },
   {
    "duration": 8,
    "start_time": "2024-04-06T18:02:14.905Z"
   },
   {
    "duration": 8,
    "start_time": "2024-04-06T18:02:14.914Z"
   },
   {
    "duration": 14,
    "start_time": "2024-04-06T18:02:14.923Z"
   },
   {
    "duration": 201,
    "start_time": "2024-04-06T18:02:14.938Z"
   },
   {
    "duration": 2,
    "start_time": "2024-04-06T18:02:15.140Z"
   },
   {
    "duration": 467,
    "start_time": "2024-04-06T19:02:32.803Z"
   },
   {
    "duration": 1085,
    "start_time": "2024-04-06T19:39:47.426Z"
   },
   {
    "duration": 68,
    "start_time": "2024-04-06T19:39:48.513Z"
   },
   {
    "duration": 3,
    "start_time": "2024-04-06T19:39:48.582Z"
   },
   {
    "duration": 16,
    "start_time": "2024-04-06T19:39:48.588Z"
   },
   {
    "duration": 3,
    "start_time": "2024-04-06T19:39:48.605Z"
   },
   {
    "duration": 777,
    "start_time": "2024-04-06T19:39:48.609Z"
   },
   {
    "duration": 25,
    "start_time": "2024-04-06T19:39:49.387Z"
   },
   {
    "duration": 30,
    "start_time": "2024-04-06T19:39:49.414Z"
   },
   {
    "duration": 295,
    "start_time": "2024-04-06T19:39:49.445Z"
   },
   {
    "duration": 161,
    "start_time": "2024-04-06T19:39:49.742Z"
   },
   {
    "duration": 6,
    "start_time": "2024-04-06T19:39:49.904Z"
   },
   {
    "duration": 18,
    "start_time": "2024-04-06T19:39:49.912Z"
   },
   {
    "duration": 4,
    "start_time": "2024-04-06T19:39:49.931Z"
   },
   {
    "duration": 41,
    "start_time": "2024-04-06T19:39:49.937Z"
   },
   {
    "duration": 5,
    "start_time": "2024-04-06T19:39:49.980Z"
   },
   {
    "duration": 11,
    "start_time": "2024-04-06T19:39:49.986Z"
   },
   {
    "duration": 6,
    "start_time": "2024-04-06T19:39:49.999Z"
   },
   {
    "duration": 34,
    "start_time": "2024-04-06T19:39:50.007Z"
   },
   {
    "duration": 5,
    "start_time": "2024-04-06T19:39:50.043Z"
   },
   {
    "duration": 31,
    "start_time": "2024-04-06T19:39:50.049Z"
   },
   {
    "duration": 255,
    "start_time": "2024-04-06T19:39:50.082Z"
   },
   {
    "duration": 164,
    "start_time": "2024-04-06T19:39:50.339Z"
   },
   {
    "duration": 6,
    "start_time": "2024-04-06T19:39:50.504Z"
   },
   {
    "duration": 15,
    "start_time": "2024-04-06T19:39:50.511Z"
   },
   {
    "duration": 210,
    "start_time": "2024-04-06T19:39:50.528Z"
   },
   {
    "duration": 7,
    "start_time": "2024-04-06T19:39:50.740Z"
   },
   {
    "duration": 160,
    "start_time": "2024-04-06T19:39:50.749Z"
   },
   {
    "duration": 8,
    "start_time": "2024-04-06T19:39:50.912Z"
   },
   {
    "duration": 276,
    "start_time": "2024-04-06T19:39:50.922Z"
   },
   {
    "duration": 8,
    "start_time": "2024-04-06T19:39:51.200Z"
   },
   {
    "duration": 32,
    "start_time": "2024-04-06T19:39:51.210Z"
   },
   {
    "duration": 187,
    "start_time": "2024-04-06T19:39:51.243Z"
   },
   {
    "duration": 37,
    "start_time": "2024-04-06T19:39:51.432Z"
   },
   {
    "duration": 34,
    "start_time": "2024-04-06T19:39:51.471Z"
   },
   {
    "duration": 32,
    "start_time": "2024-04-06T19:39:51.506Z"
   },
   {
    "duration": 7,
    "start_time": "2024-04-06T19:39:51.539Z"
   },
   {
    "duration": 134,
    "start_time": "2024-04-06T19:39:51.548Z"
   },
   {
    "duration": 206,
    "start_time": "2024-04-06T19:39:51.684Z"
   },
   {
    "duration": 10,
    "start_time": "2024-04-06T19:39:51.892Z"
   },
   {
    "duration": 199,
    "start_time": "2024-04-06T19:39:51.903Z"
   },
   {
    "duration": 8,
    "start_time": "2024-04-06T19:39:52.103Z"
   },
   {
    "duration": 130,
    "start_time": "2024-04-06T19:39:52.112Z"
   },
   {
    "duration": 249,
    "start_time": "2024-04-06T19:39:52.244Z"
   },
   {
    "duration": 8,
    "start_time": "2024-04-06T19:39:52.495Z"
   },
   {
    "duration": 192,
    "start_time": "2024-04-06T19:39:52.504Z"
   },
   {
    "duration": 19,
    "start_time": "2024-04-06T19:39:52.698Z"
   },
   {
    "duration": 884,
    "start_time": "2024-04-06T19:39:52.719Z"
   },
   {
    "duration": 16,
    "start_time": "2024-04-06T19:39:53.605Z"
   },
   {
    "duration": 13,
    "start_time": "2024-04-06T19:39:53.623Z"
   },
   {
    "duration": 17,
    "start_time": "2024-04-06T19:39:53.638Z"
   },
   {
    "duration": 22,
    "start_time": "2024-04-06T19:39:53.657Z"
   },
   {
    "duration": 197,
    "start_time": "2024-04-06T19:39:53.681Z"
   },
   {
    "duration": 2,
    "start_time": "2024-04-06T19:39:53.880Z"
   },
   {
    "duration": 19,
    "start_time": "2024-04-06T19:39:53.884Z"
   },
   {
    "duration": 3,
    "start_time": "2024-04-06T19:40:57.616Z"
   },
   {
    "duration": 2,
    "start_time": "2024-04-06T19:42:51.439Z"
   },
   {
    "duration": 3,
    "start_time": "2024-04-06T19:44:43.678Z"
   },
   {
    "duration": 114,
    "start_time": "2024-04-06T20:03:25.468Z"
   },
   {
    "duration": 6,
    "start_time": "2024-04-06T20:04:03.041Z"
   },
   {
    "duration": 4,
    "start_time": "2024-04-06T20:04:28.403Z"
   },
   {
    "duration": 5,
    "start_time": "2024-04-06T20:04:32.909Z"
   },
   {
    "duration": 83,
    "start_time": "2024-04-06T20:06:03.246Z"
   },
   {
    "duration": 6,
    "start_time": "2024-04-06T20:06:12.670Z"
   },
   {
    "duration": 1101,
    "start_time": "2024-04-06T20:07:05.943Z"
   },
   {
    "duration": 77,
    "start_time": "2024-04-06T20:07:07.046Z"
   },
   {
    "duration": 3,
    "start_time": "2024-04-06T20:07:07.124Z"
   },
   {
    "duration": 22,
    "start_time": "2024-04-06T20:07:07.130Z"
   },
   {
    "duration": 5,
    "start_time": "2024-04-06T20:07:07.154Z"
   },
   {
    "duration": 794,
    "start_time": "2024-04-06T20:07:07.160Z"
   },
   {
    "duration": 31,
    "start_time": "2024-04-06T20:07:07.956Z"
   },
   {
    "duration": 30,
    "start_time": "2024-04-06T20:07:07.989Z"
   },
   {
    "duration": 271,
    "start_time": "2024-04-06T20:07:08.021Z"
   },
   {
    "duration": 163,
    "start_time": "2024-04-06T20:07:08.295Z"
   },
   {
    "duration": 11,
    "start_time": "2024-04-06T20:07:08.460Z"
   },
   {
    "duration": 21,
    "start_time": "2024-04-06T20:07:08.472Z"
   },
   {
    "duration": 4,
    "start_time": "2024-04-06T20:07:08.494Z"
   },
   {
    "duration": 15,
    "start_time": "2024-04-06T20:07:08.499Z"
   },
   {
    "duration": 4,
    "start_time": "2024-04-06T20:07:08.516Z"
   },
   {
    "duration": 9,
    "start_time": "2024-04-06T20:07:08.522Z"
   },
   {
    "duration": 5,
    "start_time": "2024-04-06T20:07:08.533Z"
   },
   {
    "duration": 31,
    "start_time": "2024-04-06T20:07:08.540Z"
   },
   {
    "duration": 5,
    "start_time": "2024-04-06T20:07:08.572Z"
   },
   {
    "duration": 9,
    "start_time": "2024-04-06T20:07:08.578Z"
   },
   {
    "duration": 263,
    "start_time": "2024-04-06T20:07:08.588Z"
   },
   {
    "duration": 148,
    "start_time": "2024-04-06T20:07:08.853Z"
   },
   {
    "duration": 5,
    "start_time": "2024-04-06T20:07:09.003Z"
   },
   {
    "duration": 20,
    "start_time": "2024-04-06T20:07:09.009Z"
   },
   {
    "duration": 208,
    "start_time": "2024-04-06T20:07:09.031Z"
   },
   {
    "duration": 7,
    "start_time": "2024-04-06T20:07:09.241Z"
   },
   {
    "duration": 158,
    "start_time": "2024-04-06T20:07:09.250Z"
   },
   {
    "duration": 9,
    "start_time": "2024-04-06T20:07:09.411Z"
   },
   {
    "duration": 273,
    "start_time": "2024-04-06T20:07:09.421Z"
   },
   {
    "duration": 8,
    "start_time": "2024-04-06T20:07:09.696Z"
   },
   {
    "duration": 6,
    "start_time": "2024-04-06T20:07:09.705Z"
   },
   {
    "duration": 202,
    "start_time": "2024-04-06T20:07:09.713Z"
   },
   {
    "duration": 33,
    "start_time": "2024-04-06T20:07:09.916Z"
   },
   {
    "duration": 54,
    "start_time": "2024-04-06T20:07:09.951Z"
   },
   {
    "duration": 35,
    "start_time": "2024-04-06T20:07:10.006Z"
   },
   {
    "duration": 8,
    "start_time": "2024-04-06T20:07:10.043Z"
   },
   {
    "duration": 126,
    "start_time": "2024-04-06T20:07:10.070Z"
   },
   {
    "duration": 199,
    "start_time": "2024-04-06T20:07:10.197Z"
   },
   {
    "duration": 9,
    "start_time": "2024-04-06T20:07:10.397Z"
   },
   {
    "duration": 218,
    "start_time": "2024-04-06T20:07:10.408Z"
   },
   {
    "duration": 10,
    "start_time": "2024-04-06T20:07:10.628Z"
   },
   {
    "duration": 158,
    "start_time": "2024-04-06T20:07:10.639Z"
   },
   {
    "duration": 260,
    "start_time": "2024-04-06T20:07:10.798Z"
   },
   {
    "duration": 14,
    "start_time": "2024-04-06T20:07:11.059Z"
   },
   {
    "duration": 189,
    "start_time": "2024-04-06T20:07:11.075Z"
   },
   {
    "duration": 18,
    "start_time": "2024-04-06T20:07:11.268Z"
   },
   {
    "duration": 890,
    "start_time": "2024-04-06T20:07:11.288Z"
   },
   {
    "duration": 16,
    "start_time": "2024-04-06T20:07:12.179Z"
   },
   {
    "duration": 7,
    "start_time": "2024-04-06T20:07:12.196Z"
   },
   {
    "duration": 7,
    "start_time": "2024-04-06T20:07:12.204Z"
   },
   {
    "duration": 12,
    "start_time": "2024-04-06T20:07:12.213Z"
   },
   {
    "duration": 199,
    "start_time": "2024-04-06T20:07:12.226Z"
   },
   {
    "duration": 5,
    "start_time": "2024-04-06T20:07:12.427Z"
   },
   {
    "duration": 5,
    "start_time": "2024-04-06T20:07:12.433Z"
   },
   {
    "duration": 79,
    "start_time": "2024-04-06T20:11:55.619Z"
   },
   {
    "duration": 6,
    "start_time": "2024-04-06T20:44:27.352Z"
   },
   {
    "duration": 5,
    "start_time": "2024-04-06T20:45:10.739Z"
   },
   {
    "duration": 79,
    "start_time": "2024-04-06T20:52:05.523Z"
   },
   {
    "duration": 23,
    "start_time": "2024-04-06T20:55:15.864Z"
   },
   {
    "duration": 9,
    "start_time": "2024-04-06T20:55:32.050Z"
   },
   {
    "duration": 9,
    "start_time": "2024-04-06T20:57:40.017Z"
   },
   {
    "duration": 9,
    "start_time": "2024-04-06T20:58:16.025Z"
   },
   {
    "duration": 10,
    "start_time": "2024-04-06T20:58:55.954Z"
   },
   {
    "duration": 6,
    "start_time": "2024-04-06T21:08:26.685Z"
   },
   {
    "duration": 5,
    "start_time": "2024-04-06T21:08:31.716Z"
   },
   {
    "duration": 10,
    "start_time": "2024-04-06T21:08:39.896Z"
   },
   {
    "duration": 45,
    "start_time": "2024-04-06T21:20:13.651Z"
   },
   {
    "duration": 40,
    "start_time": "2024-04-06T21:20:42.432Z"
   },
   {
    "duration": 69,
    "start_time": "2024-04-06T21:20:52.715Z"
   },
   {
    "duration": 128,
    "start_time": "2024-04-06T21:22:37.625Z"
   },
   {
    "duration": 1154,
    "start_time": "2024-04-06T21:35:28.890Z"
   },
   {
    "duration": 70,
    "start_time": "2024-04-06T21:35:30.046Z"
   },
   {
    "duration": 3,
    "start_time": "2024-04-06T21:35:30.118Z"
   },
   {
    "duration": 36,
    "start_time": "2024-04-06T21:35:30.124Z"
   },
   {
    "duration": 42,
    "start_time": "2024-04-06T21:35:30.162Z"
   },
   {
    "duration": 924,
    "start_time": "2024-04-06T21:35:30.206Z"
   },
   {
    "duration": 26,
    "start_time": "2024-04-06T21:35:31.132Z"
   },
   {
    "duration": 64,
    "start_time": "2024-04-06T21:35:31.160Z"
   },
   {
    "duration": 284,
    "start_time": "2024-04-06T21:35:31.226Z"
   },
   {
    "duration": 173,
    "start_time": "2024-04-06T21:35:31.513Z"
   },
   {
    "duration": 6,
    "start_time": "2024-04-06T21:35:31.687Z"
   },
   {
    "duration": 59,
    "start_time": "2024-04-06T21:35:31.695Z"
   },
   {
    "duration": 41,
    "start_time": "2024-04-06T21:35:31.756Z"
   },
   {
    "duration": 32,
    "start_time": "2024-04-06T21:35:31.798Z"
   },
   {
    "duration": 30,
    "start_time": "2024-04-06T21:35:31.832Z"
   },
   {
    "duration": 32,
    "start_time": "2024-04-06T21:35:31.863Z"
   },
   {
    "duration": 22,
    "start_time": "2024-04-06T21:35:31.896Z"
   },
   {
    "duration": 46,
    "start_time": "2024-04-06T21:35:31.920Z"
   },
   {
    "duration": 114,
    "start_time": "2024-04-06T21:35:31.968Z"
   },
   {
    "duration": 153,
    "start_time": "2024-04-06T21:35:32.084Z"
   },
   {
    "duration": 263,
    "start_time": "2024-04-06T21:35:32.239Z"
   },
   {
    "duration": 156,
    "start_time": "2024-04-06T21:35:32.504Z"
   },
   {
    "duration": 10,
    "start_time": "2024-04-06T21:35:32.661Z"
   },
   {
    "duration": 6,
    "start_time": "2024-04-06T21:35:32.672Z"
   },
   {
    "duration": 217,
    "start_time": "2024-04-06T21:35:32.679Z"
   },
   {
    "duration": 8,
    "start_time": "2024-04-06T21:35:32.897Z"
   },
   {
    "duration": 160,
    "start_time": "2024-04-06T21:35:32.906Z"
   },
   {
    "duration": 9,
    "start_time": "2024-04-06T21:35:33.070Z"
   },
   {
    "duration": 266,
    "start_time": "2024-04-06T21:35:33.080Z"
   },
   {
    "duration": 9,
    "start_time": "2024-04-06T21:35:33.348Z"
   },
   {
    "duration": 6,
    "start_time": "2024-04-06T21:35:33.369Z"
   },
   {
    "duration": 197,
    "start_time": "2024-04-06T21:35:33.376Z"
   },
   {
    "duration": 32,
    "start_time": "2024-04-06T21:35:33.574Z"
   },
   {
    "duration": 35,
    "start_time": "2024-04-06T21:35:33.608Z"
   },
   {
    "duration": 50,
    "start_time": "2024-04-06T21:35:33.645Z"
   },
   {
    "duration": 7,
    "start_time": "2024-04-06T21:35:33.697Z"
   },
   {
    "duration": 135,
    "start_time": "2024-04-06T21:35:33.706Z"
   },
   {
    "duration": 216,
    "start_time": "2024-04-06T21:35:33.843Z"
   },
   {
    "duration": 13,
    "start_time": "2024-04-06T21:35:34.061Z"
   },
   {
    "duration": 201,
    "start_time": "2024-04-06T21:35:34.076Z"
   },
   {
    "duration": 8,
    "start_time": "2024-04-06T21:35:34.278Z"
   },
   {
    "duration": 128,
    "start_time": "2024-04-06T21:35:34.287Z"
   },
   {
    "duration": 253,
    "start_time": "2024-04-06T21:35:34.416Z"
   },
   {
    "duration": 7,
    "start_time": "2024-04-06T21:35:34.671Z"
   },
   {
    "duration": 182,
    "start_time": "2024-04-06T21:35:34.680Z"
   },
   {
    "duration": 19,
    "start_time": "2024-04-06T21:35:34.863Z"
   },
   {
    "duration": 822,
    "start_time": "2024-04-06T21:35:34.884Z"
   },
   {
    "duration": 15,
    "start_time": "2024-04-06T21:35:35.707Z"
   },
   {
    "duration": 7,
    "start_time": "2024-04-06T21:35:35.723Z"
   },
   {
    "duration": 20,
    "start_time": "2024-04-06T21:35:35.731Z"
   },
   {
    "duration": 4,
    "start_time": "2024-04-06T21:35:35.753Z"
   },
   {
    "duration": 195,
    "start_time": "2024-04-06T21:35:35.759Z"
   },
   {
    "duration": 5,
    "start_time": "2024-04-06T21:35:35.955Z"
   },
   {
    "duration": 5,
    "start_time": "2024-04-06T21:35:35.969Z"
   },
   {
    "duration": 11,
    "start_time": "2024-04-06T21:35:35.976Z"
   },
   {
    "duration": 2,
    "start_time": "2024-04-06T21:35:35.988Z"
   },
   {
    "duration": 2338,
    "start_time": "2024-04-07T11:56:09.779Z"
   },
   {
    "duration": 308,
    "start_time": "2024-04-07T11:56:12.122Z"
   },
   {
    "duration": 3,
    "start_time": "2024-04-07T11:56:12.432Z"
   },
   {
    "duration": 57,
    "start_time": "2024-04-07T11:56:12.436Z"
   },
   {
    "duration": 4,
    "start_time": "2024-04-07T11:56:12.501Z"
   },
   {
    "duration": 2402,
    "start_time": "2024-04-07T11:56:12.507Z"
   },
   {
    "duration": 89,
    "start_time": "2024-04-07T11:56:14.911Z"
   },
   {
    "duration": 195,
    "start_time": "2024-04-07T11:56:15.002Z"
   },
   {
    "duration": 792,
    "start_time": "2024-04-07T11:56:15.199Z"
   },
   {
    "duration": 530,
    "start_time": "2024-04-07T11:56:15.997Z"
   },
   {
    "duration": 59,
    "start_time": "2024-04-07T11:56:16.530Z"
   },
   {
    "duration": 28,
    "start_time": "2024-04-07T11:56:16.591Z"
   },
   {
    "duration": 58,
    "start_time": "2024-04-07T11:56:16.622Z"
   },
   {
    "duration": 26,
    "start_time": "2024-04-07T11:56:16.685Z"
   },
   {
    "duration": 76,
    "start_time": "2024-04-07T11:56:16.713Z"
   },
   {
    "duration": 13,
    "start_time": "2024-04-07T11:56:16.798Z"
   },
   {
    "duration": 19,
    "start_time": "2024-04-07T11:56:16.813Z"
   },
   {
    "duration": 17,
    "start_time": "2024-04-07T11:56:16.880Z"
   },
   {
    "duration": 7,
    "start_time": "2024-04-07T11:56:16.899Z"
   },
   {
    "duration": 10,
    "start_time": "2024-04-07T11:56:16.908Z"
   },
   {
    "duration": 697,
    "start_time": "2024-04-07T11:56:16.920Z"
   },
   {
    "duration": 468,
    "start_time": "2024-04-07T11:56:17.619Z"
   },
   {
    "duration": 15,
    "start_time": "2024-04-07T11:56:18.089Z"
   },
   {
    "duration": 16,
    "start_time": "2024-04-07T11:56:18.106Z"
   },
   {
    "duration": 597,
    "start_time": "2024-04-07T11:56:18.123Z"
   },
   {
    "duration": 75,
    "start_time": "2024-04-07T11:56:18.723Z"
   },
   {
    "duration": 400,
    "start_time": "2024-04-07T11:56:18.806Z"
   },
   {
    "duration": 9,
    "start_time": "2024-04-07T11:56:19.207Z"
   },
   {
    "duration": 768,
    "start_time": "2024-04-07T11:56:19.218Z"
   },
   {
    "duration": 12,
    "start_time": "2024-04-07T11:56:19.988Z"
   },
   {
    "duration": 84,
    "start_time": "2024-04-07T11:56:20.002Z"
   },
   {
    "duration": 517,
    "start_time": "2024-04-07T11:56:20.090Z"
   },
   {
    "duration": 106,
    "start_time": "2024-04-07T11:56:20.609Z"
   },
   {
    "duration": 115,
    "start_time": "2024-04-07T11:56:20.717Z"
   },
   {
    "duration": 39,
    "start_time": "2024-04-07T11:56:20.880Z"
   },
   {
    "duration": 61,
    "start_time": "2024-04-07T11:56:20.921Z"
   },
   {
    "duration": 326,
    "start_time": "2024-04-07T11:56:20.989Z"
   },
   {
    "duration": 590,
    "start_time": "2024-04-07T11:56:21.317Z"
   },
   {
    "duration": 8,
    "start_time": "2024-04-07T11:56:21.909Z"
   },
   {
    "duration": 611,
    "start_time": "2024-04-07T11:56:21.919Z"
   },
   {
    "duration": 28,
    "start_time": "2024-04-07T11:56:22.583Z"
   },
   {
    "duration": 305,
    "start_time": "2024-04-07T11:56:22.615Z"
   },
   {
    "duration": 707,
    "start_time": "2024-04-07T11:56:22.922Z"
   },
   {
    "duration": 11,
    "start_time": "2024-04-07T11:56:23.681Z"
   },
   {
    "duration": 438,
    "start_time": "2024-04-07T11:56:23.696Z"
   },
   {
    "duration": 26,
    "start_time": "2024-04-07T11:56:24.184Z"
   },
   {
    "duration": 2416,
    "start_time": "2024-04-07T11:56:24.212Z"
   },
   {
    "duration": 71,
    "start_time": "2024-04-07T11:56:26.630Z"
   },
   {
    "duration": 11,
    "start_time": "2024-04-07T11:56:26.707Z"
   },
   {
    "duration": 76,
    "start_time": "2024-04-07T11:56:26.720Z"
   },
   {
    "duration": 6,
    "start_time": "2024-04-07T11:56:26.799Z"
   },
   {
    "duration": 519,
    "start_time": "2024-04-07T11:56:26.808Z"
   },
   {
    "duration": 66,
    "start_time": "2024-04-07T11:56:27.329Z"
   },
   {
    "duration": 18,
    "start_time": "2024-04-07T11:56:27.403Z"
   },
   {
    "duration": 73,
    "start_time": "2024-04-07T11:56:27.423Z"
   },
   {
    "duration": 3,
    "start_time": "2024-04-07T11:56:27.498Z"
   },
   {
    "duration": 6,
    "start_time": "2024-04-07T12:45:04.910Z"
   },
   {
    "duration": 9,
    "start_time": "2024-04-07T12:46:19.627Z"
   },
   {
    "duration": 8,
    "start_time": "2024-04-07T12:46:32.550Z"
   },
   {
    "duration": 7,
    "start_time": "2024-04-07T12:47:59.683Z"
   },
   {
    "duration": 7,
    "start_time": "2024-04-07T12:48:13.419Z"
   },
   {
    "duration": 1339,
    "start_time": "2024-04-07T12:52:27.643Z"
   },
   {
    "duration": 80,
    "start_time": "2024-04-07T12:52:28.986Z"
   },
   {
    "duration": 4,
    "start_time": "2024-04-07T12:52:29.068Z"
   },
   {
    "duration": 43,
    "start_time": "2024-04-07T12:52:29.073Z"
   },
   {
    "duration": 10,
    "start_time": "2024-04-07T12:52:29.119Z"
   },
   {
    "duration": 988,
    "start_time": "2024-04-07T12:52:29.131Z"
   },
   {
    "duration": 27,
    "start_time": "2024-04-07T12:52:30.121Z"
   },
   {
    "duration": 79,
    "start_time": "2024-04-07T12:52:30.150Z"
   },
   {
    "duration": 363,
    "start_time": "2024-04-07T12:52:30.231Z"
   },
   {
    "duration": 199,
    "start_time": "2024-04-07T12:52:30.598Z"
   },
   {
    "duration": 9,
    "start_time": "2024-04-07T12:52:30.799Z"
   },
   {
    "duration": 72,
    "start_time": "2024-04-07T12:52:30.810Z"
   },
   {
    "duration": 45,
    "start_time": "2024-04-07T12:52:30.884Z"
   },
   {
    "duration": 69,
    "start_time": "2024-04-07T12:52:30.933Z"
   },
   {
    "duration": 54,
    "start_time": "2024-04-07T12:52:31.005Z"
   },
   {
    "duration": 51,
    "start_time": "2024-04-07T12:52:31.061Z"
   },
   {
    "duration": 35,
    "start_time": "2024-04-07T12:52:31.114Z"
   },
   {
    "duration": 51,
    "start_time": "2024-04-07T12:52:31.152Z"
   },
   {
    "duration": 31,
    "start_time": "2024-04-07T12:52:31.206Z"
   },
   {
    "duration": 74,
    "start_time": "2024-04-07T12:52:31.240Z"
   },
   {
    "duration": 337,
    "start_time": "2024-04-07T12:52:31.315Z"
   },
   {
    "duration": 192,
    "start_time": "2024-04-07T12:52:31.653Z"
   },
   {
    "duration": 7,
    "start_time": "2024-04-07T12:52:31.847Z"
   },
   {
    "duration": 24,
    "start_time": "2024-04-07T12:52:31.856Z"
   },
   {
    "duration": 280,
    "start_time": "2024-04-07T12:52:31.882Z"
   },
   {
    "duration": 9,
    "start_time": "2024-04-07T12:52:32.164Z"
   },
   {
    "duration": 178,
    "start_time": "2024-04-07T12:52:32.180Z"
   },
   {
    "duration": 9,
    "start_time": "2024-04-07T12:52:32.359Z"
   },
   {
    "duration": 323,
    "start_time": "2024-04-07T12:52:32.380Z"
   },
   {
    "duration": 11,
    "start_time": "2024-04-07T12:52:32.705Z"
   },
   {
    "duration": 10,
    "start_time": "2024-04-07T12:52:32.718Z"
   },
   {
    "duration": 245,
    "start_time": "2024-04-07T12:52:32.730Z"
   },
   {
    "duration": 39,
    "start_time": "2024-04-07T12:52:32.980Z"
   },
   {
    "duration": 38,
    "start_time": "2024-04-07T12:52:33.021Z"
   },
   {
    "duration": 62,
    "start_time": "2024-04-07T12:52:33.060Z"
   },
   {
    "duration": 8,
    "start_time": "2024-04-07T12:52:33.124Z"
   },
   {
    "duration": 150,
    "start_time": "2024-04-07T12:52:33.133Z"
   },
   {
    "duration": 210,
    "start_time": "2024-04-07T12:52:33.285Z"
   },
   {
    "duration": 8,
    "start_time": "2024-04-07T12:52:33.497Z"
   },
   {
    "duration": 224,
    "start_time": "2024-04-07T12:52:33.507Z"
   },
   {
    "duration": 9,
    "start_time": "2024-04-07T12:52:33.735Z"
   },
   {
    "duration": 150,
    "start_time": "2024-04-07T12:52:33.745Z"
   },
   {
    "duration": 316,
    "start_time": "2024-04-07T12:52:33.897Z"
   },
   {
    "duration": 9,
    "start_time": "2024-04-07T12:52:34.214Z"
   },
   {
    "duration": 225,
    "start_time": "2024-04-07T12:52:34.225Z"
   },
   {
    "duration": 33,
    "start_time": "2024-04-07T12:52:34.452Z"
   },
   {
    "duration": 931,
    "start_time": "2024-04-07T12:52:34.487Z"
   },
   {
    "duration": 15,
    "start_time": "2024-04-07T12:52:35.423Z"
   },
   {
    "duration": 5,
    "start_time": "2024-04-07T12:52:35.440Z"
   },
   {
    "duration": 7,
    "start_time": "2024-04-07T12:52:35.446Z"
   },
   {
    "duration": 29,
    "start_time": "2024-04-07T12:52:35.455Z"
   },
   {
    "duration": 235,
    "start_time": "2024-04-07T12:52:35.486Z"
   },
   {
    "duration": 5,
    "start_time": "2024-04-07T12:52:35.723Z"
   },
   {
    "duration": 8,
    "start_time": "2024-04-07T12:52:35.730Z"
   },
   {
    "duration": 6,
    "start_time": "2024-04-07T12:52:35.740Z"
   },
   {
    "duration": 48,
    "start_time": "2024-04-07T12:52:35.748Z"
   },
   {
    "duration": 5,
    "start_time": "2024-04-07T12:52:35.799Z"
   },
   {
    "duration": 49,
    "start_time": "2024-04-07T14:35:44.210Z"
   },
   {
    "duration": 6,
    "start_time": "2024-04-07T14:35:48.282Z"
   },
   {
    "duration": 1269,
    "start_time": "2024-04-07T14:35:54.067Z"
   },
   {
    "duration": 303,
    "start_time": "2024-04-07T14:35:55.455Z"
   },
   {
    "duration": 3,
    "start_time": "2024-04-07T14:35:57.913Z"
   },
   {
    "duration": 24,
    "start_time": "2024-04-07T14:35:58.683Z"
   },
   {
    "duration": 17,
    "start_time": "2024-04-07T14:36:14.009Z"
   },
   {
    "duration": 84,
    "start_time": "2024-04-07T14:36:33.320Z"
   },
   {
    "duration": 3,
    "start_time": "2024-04-07T14:39:20.811Z"
   },
   {
    "duration": 49,
    "start_time": "2024-04-07T14:39:31.791Z"
   },
   {
    "duration": 54,
    "start_time": "2024-04-07T14:40:54.352Z"
   },
   {
    "duration": 54,
    "start_time": "2024-04-07T14:41:30.036Z"
   },
   {
    "duration": 59,
    "start_time": "2024-04-07T14:42:28.759Z"
   },
   {
    "duration": 54,
    "start_time": "2024-04-07T14:43:53.791Z"
   },
   {
    "duration": 61,
    "start_time": "2024-04-07T14:44:23.541Z"
   },
   {
    "duration": 46,
    "start_time": "2024-04-07T14:44:46.460Z"
   },
   {
    "duration": 77,
    "start_time": "2024-04-07T14:48:39.563Z"
   },
   {
    "duration": 267,
    "start_time": "2024-04-07T14:48:46.498Z"
   },
   {
    "duration": 149,
    "start_time": "2024-04-07T14:52:40.966Z"
   },
   {
    "duration": 174,
    "start_time": "2024-04-07T14:54:11.668Z"
   },
   {
    "duration": 153,
    "start_time": "2024-04-07T14:54:31.149Z"
   },
   {
    "duration": 165,
    "start_time": "2024-04-07T14:54:39.942Z"
   },
   {
    "duration": 162,
    "start_time": "2024-04-07T14:57:35.824Z"
   },
   {
    "duration": 108,
    "start_time": "2024-04-07T15:01:32.861Z"
   },
   {
    "duration": 155,
    "start_time": "2024-04-07T15:02:51.402Z"
   },
   {
    "duration": 154,
    "start_time": "2024-04-07T15:04:00.066Z"
   },
   {
    "duration": 137,
    "start_time": "2024-04-07T15:04:15.790Z"
   },
   {
    "duration": 212,
    "start_time": "2024-04-07T15:04:25.192Z"
   },
   {
    "duration": 131,
    "start_time": "2024-04-07T15:07:42.918Z"
   },
   {
    "duration": 166,
    "start_time": "2024-04-07T15:08:48.377Z"
   },
   {
    "duration": 181,
    "start_time": "2024-04-07T15:08:55.394Z"
   },
   {
    "duration": 141,
    "start_time": "2024-04-07T15:09:03.452Z"
   },
   {
    "duration": 177,
    "start_time": "2024-04-07T15:09:12.038Z"
   },
   {
    "duration": 169,
    "start_time": "2024-04-07T15:09:16.689Z"
   },
   {
    "duration": 169,
    "start_time": "2024-04-07T15:09:29.309Z"
   },
   {
    "duration": 189,
    "start_time": "2024-04-07T15:09:38.974Z"
   },
   {
    "duration": 189,
    "start_time": "2024-04-07T15:09:49.969Z"
   },
   {
    "duration": 62,
    "start_time": "2024-04-07T16:17:41.351Z"
   },
   {
    "duration": 1046,
    "start_time": "2024-04-07T16:17:48.016Z"
   },
   {
    "duration": 76,
    "start_time": "2024-04-07T16:17:49.064Z"
   },
   {
    "duration": 3,
    "start_time": "2024-04-07T16:17:49.142Z"
   },
   {
    "duration": 24,
    "start_time": "2024-04-07T16:17:49.148Z"
   },
   {
    "duration": 45,
    "start_time": "2024-04-07T16:17:49.173Z"
   },
   {
    "duration": 840,
    "start_time": "2024-04-07T16:17:49.220Z"
   },
   {
    "duration": 28,
    "start_time": "2024-04-07T16:17:50.062Z"
   },
   {
    "duration": 34,
    "start_time": "2024-04-07T16:17:50.092Z"
   },
   {
    "duration": 42,
    "start_time": "2024-04-07T16:17:50.128Z"
   },
   {
    "duration": 5,
    "start_time": "2024-04-07T16:17:50.173Z"
   },
   {
    "duration": 17,
    "start_time": "2024-04-07T16:17:50.180Z"
   },
   {
    "duration": 5,
    "start_time": "2024-04-07T16:17:50.199Z"
   },
   {
    "duration": 7,
    "start_time": "2024-04-07T16:17:50.206Z"
   },
   {
    "duration": 5,
    "start_time": "2024-04-07T16:17:50.214Z"
   },
   {
    "duration": 12,
    "start_time": "2024-04-07T16:17:50.220Z"
   },
   {
    "duration": 36,
    "start_time": "2024-04-07T16:17:50.233Z"
   },
   {
    "duration": 8,
    "start_time": "2024-04-07T16:17:50.271Z"
   },
   {
    "duration": 186,
    "start_time": "2024-04-07T16:17:50.281Z"
   },
   {
    "duration": 6,
    "start_time": "2024-04-07T16:17:50.469Z"
   },
   {
    "duration": 16,
    "start_time": "2024-04-07T16:17:50.476Z"
   },
   {
    "duration": 150,
    "start_time": "2024-04-07T16:17:50.494Z"
   },
   {
    "duration": 8,
    "start_time": "2024-04-07T16:17:50.646Z"
   },
   {
    "duration": 197,
    "start_time": "2024-04-07T16:17:50.656Z"
   },
   {
    "duration": 15,
    "start_time": "2024-04-07T16:17:50.855Z"
   },
   {
    "duration": 340,
    "start_time": "2024-04-07T16:17:50.871Z"
   },
   {
    "duration": 9,
    "start_time": "2024-04-07T16:17:51.212Z"
   },
   {
    "duration": 6,
    "start_time": "2024-04-07T16:17:51.222Z"
   },
   {
    "duration": 205,
    "start_time": "2024-04-07T16:17:51.231Z"
   },
   {
    "duration": 44,
    "start_time": "2024-04-07T16:17:51.437Z"
   },
   {
    "duration": 12,
    "start_time": "2024-04-07T16:17:51.483Z"
   },
   {
    "duration": 36,
    "start_time": "2024-04-07T16:17:51.496Z"
   },
   {
    "duration": 50,
    "start_time": "2024-04-07T16:17:51.534Z"
   },
   {
    "duration": 7,
    "start_time": "2024-04-07T16:17:51.586Z"
   },
   {
    "duration": 129,
    "start_time": "2024-04-07T16:17:51.594Z"
   },
   {
    "duration": 191,
    "start_time": "2024-04-07T16:17:51.725Z"
   },
   {
    "duration": 9,
    "start_time": "2024-04-07T16:17:51.917Z"
   },
   {
    "duration": 202,
    "start_time": "2024-04-07T16:17:51.927Z"
   },
   {
    "duration": 8,
    "start_time": "2024-04-07T16:17:52.130Z"
   },
   {
    "duration": 132,
    "start_time": "2024-04-07T16:17:52.139Z"
   },
   {
    "duration": 171,
    "start_time": "2024-04-07T16:17:52.273Z"
   },
   {
    "duration": 7,
    "start_time": "2024-04-07T16:17:52.446Z"
   },
   {
    "duration": 195,
    "start_time": "2024-04-07T16:17:52.454Z"
   },
   {
    "duration": 24,
    "start_time": "2024-04-07T16:17:52.651Z"
   },
   {
    "duration": 822,
    "start_time": "2024-04-07T16:17:52.677Z"
   },
   {
    "duration": 15,
    "start_time": "2024-04-07T16:17:53.501Z"
   },
   {
    "duration": 9,
    "start_time": "2024-04-07T16:17:53.517Z"
   },
   {
    "duration": 10,
    "start_time": "2024-04-07T16:17:53.527Z"
   },
   {
    "duration": 6,
    "start_time": "2024-04-07T16:17:53.538Z"
   },
   {
    "duration": 291,
    "start_time": "2024-04-07T16:17:53.545Z"
   },
   {
    "duration": 4,
    "start_time": "2024-04-07T16:17:53.838Z"
   },
   {
    "duration": 18,
    "start_time": "2024-04-07T16:17:53.843Z"
   },
   {
    "duration": 19,
    "start_time": "2024-04-07T16:17:53.863Z"
   },
   {
    "duration": 28,
    "start_time": "2024-04-07T16:17:53.884Z"
   },
   {
    "duration": 7,
    "start_time": "2024-04-07T16:17:53.914Z"
   },
   {
    "duration": 4,
    "start_time": "2024-04-07T16:20:05.618Z"
   },
   {
    "duration": 4,
    "start_time": "2024-04-07T16:20:45.104Z"
   },
   {
    "duration": 1094,
    "start_time": "2024-04-07T16:43:43.634Z"
   },
   {
    "duration": 67,
    "start_time": "2024-04-07T16:43:44.730Z"
   },
   {
    "duration": 3,
    "start_time": "2024-04-07T16:43:44.798Z"
   },
   {
    "duration": 38,
    "start_time": "2024-04-07T16:43:44.806Z"
   },
   {
    "duration": 54,
    "start_time": "2024-04-07T16:43:44.846Z"
   },
   {
    "duration": 884,
    "start_time": "2024-04-07T16:43:44.902Z"
   },
   {
    "duration": 24,
    "start_time": "2024-04-07T16:43:45.787Z"
   },
   {
    "duration": 40,
    "start_time": "2024-04-07T16:43:45.812Z"
   },
   {
    "duration": 26,
    "start_time": "2024-04-07T16:43:45.854Z"
   },
   {
    "duration": 5,
    "start_time": "2024-04-07T16:43:45.882Z"
   },
   {
    "duration": 23,
    "start_time": "2024-04-07T16:43:45.888Z"
   },
   {
    "duration": 7,
    "start_time": "2024-04-07T16:43:45.913Z"
   },
   {
    "duration": 10,
    "start_time": "2024-04-07T16:43:45.921Z"
   },
   {
    "duration": 7,
    "start_time": "2024-04-07T16:43:45.933Z"
   },
   {
    "duration": 10,
    "start_time": "2024-04-07T16:43:45.941Z"
   },
   {
    "duration": 19,
    "start_time": "2024-04-07T16:43:45.953Z"
   },
   {
    "duration": 28,
    "start_time": "2024-04-07T16:43:45.974Z"
   },
   {
    "duration": 185,
    "start_time": "2024-04-07T16:43:46.003Z"
   },
   {
    "duration": 7,
    "start_time": "2024-04-07T16:43:46.190Z"
   },
   {
    "duration": 8,
    "start_time": "2024-04-07T16:43:46.198Z"
   },
   {
    "duration": 163,
    "start_time": "2024-04-07T16:43:46.207Z"
   },
   {
    "duration": 8,
    "start_time": "2024-04-07T16:43:46.372Z"
   },
   {
    "duration": 200,
    "start_time": "2024-04-07T16:43:46.381Z"
   },
   {
    "duration": 12,
    "start_time": "2024-04-07T16:43:46.582Z"
   },
   {
    "duration": 382,
    "start_time": "2024-04-07T16:43:46.596Z"
   },
   {
    "duration": 8,
    "start_time": "2024-04-07T16:43:46.979Z"
   },
   {
    "duration": 6,
    "start_time": "2024-04-07T16:43:46.989Z"
   },
   {
    "duration": 209,
    "start_time": "2024-04-07T16:43:46.999Z"
   },
   {
    "duration": 30,
    "start_time": "2024-04-07T16:43:47.209Z"
   },
   {
    "duration": 9,
    "start_time": "2024-04-07T16:43:47.240Z"
   },
   {
    "duration": 21,
    "start_time": "2024-04-07T16:43:47.250Z"
   },
   {
    "duration": 40,
    "start_time": "2024-04-07T16:43:47.273Z"
   },
   {
    "duration": 34,
    "start_time": "2024-04-07T16:43:47.315Z"
   },
   {
    "duration": 27,
    "start_time": "2024-04-07T16:43:47.350Z"
   },
   {
    "duration": 139,
    "start_time": "2024-04-07T16:43:47.378Z"
   },
   {
    "duration": 189,
    "start_time": "2024-04-07T16:43:47.518Z"
   },
   {
    "duration": 8,
    "start_time": "2024-04-07T16:43:47.709Z"
   },
   {
    "duration": 199,
    "start_time": "2024-04-07T16:43:47.719Z"
   },
   {
    "duration": 281,
    "start_time": "2024-04-07T16:43:47.919Z"
   },
   {
    "duration": 0,
    "start_time": "2024-04-07T16:43:48.202Z"
   },
   {
    "duration": 0,
    "start_time": "2024-04-07T16:43:48.203Z"
   },
   {
    "duration": 0,
    "start_time": "2024-04-07T16:43:48.204Z"
   },
   {
    "duration": 0,
    "start_time": "2024-04-07T16:43:48.206Z"
   },
   {
    "duration": 0,
    "start_time": "2024-04-07T16:43:48.207Z"
   },
   {
    "duration": 0,
    "start_time": "2024-04-07T16:43:48.208Z"
   },
   {
    "duration": 0,
    "start_time": "2024-04-07T16:43:48.209Z"
   },
   {
    "duration": 0,
    "start_time": "2024-04-07T16:43:48.210Z"
   },
   {
    "duration": 0,
    "start_time": "2024-04-07T16:43:48.211Z"
   },
   {
    "duration": 0,
    "start_time": "2024-04-07T16:43:48.212Z"
   },
   {
    "duration": 0,
    "start_time": "2024-04-07T16:43:48.213Z"
   },
   {
    "duration": 0,
    "start_time": "2024-04-07T16:43:48.214Z"
   },
   {
    "duration": 0,
    "start_time": "2024-04-07T16:43:48.215Z"
   },
   {
    "duration": 0,
    "start_time": "2024-04-07T16:43:48.216Z"
   },
   {
    "duration": 0,
    "start_time": "2024-04-07T16:43:48.217Z"
   },
   {
    "duration": 1,
    "start_time": "2024-04-07T16:43:48.218Z"
   },
   {
    "duration": 0,
    "start_time": "2024-04-07T16:43:48.219Z"
   },
   {
    "duration": 1148,
    "start_time": "2024-04-07T16:45:46.688Z"
   },
   {
    "duration": 67,
    "start_time": "2024-04-07T16:45:47.838Z"
   },
   {
    "duration": 3,
    "start_time": "2024-04-07T16:45:47.907Z"
   },
   {
    "duration": 22,
    "start_time": "2024-04-07T16:45:47.912Z"
   },
   {
    "duration": 48,
    "start_time": "2024-04-07T16:45:47.935Z"
   },
   {
    "duration": 885,
    "start_time": "2024-04-07T16:45:47.984Z"
   },
   {
    "duration": 25,
    "start_time": "2024-04-07T16:45:48.871Z"
   },
   {
    "duration": 34,
    "start_time": "2024-04-07T16:45:48.897Z"
   },
   {
    "duration": 40,
    "start_time": "2024-04-07T16:45:48.933Z"
   },
   {
    "duration": 5,
    "start_time": "2024-04-07T16:45:48.976Z"
   },
   {
    "duration": 15,
    "start_time": "2024-04-07T16:45:48.982Z"
   },
   {
    "duration": 5,
    "start_time": "2024-04-07T16:45:48.998Z"
   },
   {
    "duration": 9,
    "start_time": "2024-04-07T16:45:49.004Z"
   },
   {
    "duration": 9,
    "start_time": "2024-04-07T16:45:49.014Z"
   },
   {
    "duration": 10,
    "start_time": "2024-04-07T16:45:49.025Z"
   },
   {
    "duration": 35,
    "start_time": "2024-04-07T16:45:49.037Z"
   },
   {
    "duration": 10,
    "start_time": "2024-04-07T16:45:49.074Z"
   },
   {
    "duration": 178,
    "start_time": "2024-04-07T16:45:49.086Z"
   },
   {
    "duration": 7,
    "start_time": "2024-04-07T16:45:49.265Z"
   },
   {
    "duration": 7,
    "start_time": "2024-04-07T16:45:49.274Z"
   },
   {
    "duration": 150,
    "start_time": "2024-04-07T16:45:49.283Z"
   },
   {
    "duration": 7,
    "start_time": "2024-04-07T16:45:49.435Z"
   },
   {
    "duration": 200,
    "start_time": "2024-04-07T16:45:49.443Z"
   },
   {
    "duration": 9,
    "start_time": "2024-04-07T16:45:49.645Z"
   },
   {
    "duration": 356,
    "start_time": "2024-04-07T16:45:49.656Z"
   },
   {
    "duration": 8,
    "start_time": "2024-04-07T16:45:50.014Z"
   },
   {
    "duration": 13,
    "start_time": "2024-04-07T16:45:50.024Z"
   },
   {
    "duration": 212,
    "start_time": "2024-04-07T16:45:50.041Z"
   },
   {
    "duration": 36,
    "start_time": "2024-04-07T16:45:50.255Z"
   },
   {
    "duration": 9,
    "start_time": "2024-04-07T16:45:50.292Z"
   },
   {
    "duration": 4,
    "start_time": "2024-04-07T16:45:50.302Z"
   },
   {
    "duration": 36,
    "start_time": "2024-04-07T16:45:50.308Z"
   },
   {
    "duration": 54,
    "start_time": "2024-04-07T16:45:50.346Z"
   },
   {
    "duration": 8,
    "start_time": "2024-04-07T16:45:50.402Z"
   },
   {
    "duration": 152,
    "start_time": "2024-04-07T16:45:50.411Z"
   },
   {
    "duration": 191,
    "start_time": "2024-04-07T16:45:50.569Z"
   },
   {
    "duration": 9,
    "start_time": "2024-04-07T16:45:50.761Z"
   },
   {
    "duration": 212,
    "start_time": "2024-04-07T16:45:50.772Z"
   },
   {
    "duration": 271,
    "start_time": "2024-04-07T16:45:50.985Z"
   },
   {
    "duration": 0,
    "start_time": "2024-04-07T16:45:51.258Z"
   },
   {
    "duration": 0,
    "start_time": "2024-04-07T16:45:51.259Z"
   },
   {
    "duration": 0,
    "start_time": "2024-04-07T16:45:51.260Z"
   },
   {
    "duration": 0,
    "start_time": "2024-04-07T16:45:51.262Z"
   },
   {
    "duration": 0,
    "start_time": "2024-04-07T16:45:51.262Z"
   },
   {
    "duration": 0,
    "start_time": "2024-04-07T16:45:51.269Z"
   },
   {
    "duration": 0,
    "start_time": "2024-04-07T16:45:51.270Z"
   },
   {
    "duration": 0,
    "start_time": "2024-04-07T16:45:51.271Z"
   },
   {
    "duration": 0,
    "start_time": "2024-04-07T16:45:51.272Z"
   },
   {
    "duration": 0,
    "start_time": "2024-04-07T16:45:51.273Z"
   },
   {
    "duration": 0,
    "start_time": "2024-04-07T16:45:51.274Z"
   },
   {
    "duration": 0,
    "start_time": "2024-04-07T16:45:51.275Z"
   },
   {
    "duration": 0,
    "start_time": "2024-04-07T16:45:51.276Z"
   },
   {
    "duration": 0,
    "start_time": "2024-04-07T16:45:51.277Z"
   },
   {
    "duration": 0,
    "start_time": "2024-04-07T16:45:51.278Z"
   },
   {
    "duration": 0,
    "start_time": "2024-04-07T16:45:51.279Z"
   },
   {
    "duration": 0,
    "start_time": "2024-04-07T16:45:51.279Z"
   },
   {
    "duration": 441,
    "start_time": "2024-04-07T16:46:42.034Z"
   },
   {
    "duration": 482,
    "start_time": "2024-04-07T16:46:53.410Z"
   },
   {
    "duration": 434,
    "start_time": "2024-04-07T16:47:14.536Z"
   },
   {
    "duration": 444,
    "start_time": "2024-04-07T16:48:13.746Z"
   },
   {
    "duration": 347,
    "start_time": "2024-04-07T16:48:49.731Z"
   },
   {
    "duration": 76,
    "start_time": "2024-04-07T16:49:03.992Z"
   },
   {
    "duration": 81,
    "start_time": "2024-04-07T16:50:16.869Z"
   },
   {
    "duration": 541,
    "start_time": "2024-04-07T16:50:22.431Z"
   },
   {
    "duration": 193,
    "start_time": "2024-04-07T16:50:43.172Z"
   },
   {
    "duration": 430,
    "start_time": "2024-04-07T16:50:58.220Z"
   },
   {
    "duration": 432,
    "start_time": "2024-04-07T16:51:04.097Z"
   },
   {
    "duration": 670,
    "start_time": "2024-04-07T16:51:39.983Z"
   },
   {
    "duration": 433,
    "start_time": "2024-04-07T16:51:47.189Z"
   },
   {
    "duration": 168,
    "start_time": "2024-04-07T16:52:05.890Z"
   },
   {
    "duration": 526,
    "start_time": "2024-04-07T16:53:24.780Z"
   },
   {
    "duration": 575,
    "start_time": "2024-04-07T16:53:35.782Z"
   },
   {
    "duration": 427,
    "start_time": "2024-04-07T16:53:47.002Z"
   },
   {
    "duration": 409,
    "start_time": "2024-04-07T16:54:03.507Z"
   },
   {
    "duration": 395,
    "start_time": "2024-04-07T16:54:16.208Z"
   },
   {
    "duration": 531,
    "start_time": "2024-04-07T16:54:35.201Z"
   },
   {
    "duration": 407,
    "start_time": "2024-04-07T16:54:40.716Z"
   },
   {
    "duration": 426,
    "start_time": "2024-04-07T16:54:48.842Z"
   },
   {
    "duration": 624,
    "start_time": "2024-04-07T16:55:00.015Z"
   },
   {
    "duration": 456,
    "start_time": "2024-04-07T16:55:54.833Z"
   },
   {
    "duration": 204,
    "start_time": "2024-04-07T16:56:52.336Z"
   },
   {
    "duration": 476,
    "start_time": "2024-04-07T16:57:18.065Z"
   },
   {
    "duration": 192,
    "start_time": "2024-04-07T16:57:27.834Z"
   },
   {
    "duration": 590,
    "start_time": "2024-04-07T16:58:03.649Z"
   },
   {
    "duration": 1160,
    "start_time": "2024-04-07T17:09:19.427Z"
   },
   {
    "duration": 68,
    "start_time": "2024-04-07T17:09:20.588Z"
   },
   {
    "duration": 2,
    "start_time": "2024-04-07T17:09:20.658Z"
   },
   {
    "duration": 37,
    "start_time": "2024-04-07T17:09:20.663Z"
   },
   {
    "duration": 68,
    "start_time": "2024-04-07T17:09:20.701Z"
   },
   {
    "duration": 875,
    "start_time": "2024-04-07T17:09:20.771Z"
   },
   {
    "duration": 28,
    "start_time": "2024-04-07T17:09:21.647Z"
   },
   {
    "duration": 37,
    "start_time": "2024-04-07T17:09:21.676Z"
   },
   {
    "duration": 13,
    "start_time": "2024-04-07T17:09:21.714Z"
   },
   {
    "duration": 4,
    "start_time": "2024-04-07T17:09:21.729Z"
   },
   {
    "duration": 47,
    "start_time": "2024-04-07T17:09:21.735Z"
   },
   {
    "duration": 9,
    "start_time": "2024-04-07T17:09:21.784Z"
   },
   {
    "duration": 6,
    "start_time": "2024-04-07T17:09:21.795Z"
   },
   {
    "duration": 5,
    "start_time": "2024-04-07T17:09:21.803Z"
   },
   {
    "duration": 14,
    "start_time": "2024-04-07T17:09:21.809Z"
   },
   {
    "duration": 5,
    "start_time": "2024-04-07T17:09:21.824Z"
   },
   {
    "duration": 6,
    "start_time": "2024-04-07T17:09:21.830Z"
   },
   {
    "duration": 215,
    "start_time": "2024-04-07T17:09:21.838Z"
   },
   {
    "duration": 5,
    "start_time": "2024-04-07T17:09:22.055Z"
   },
   {
    "duration": 8,
    "start_time": "2024-04-07T17:09:22.069Z"
   },
   {
    "duration": 173,
    "start_time": "2024-04-07T17:09:22.079Z"
   },
   {
    "duration": 8,
    "start_time": "2024-04-07T17:09:22.253Z"
   },
   {
    "duration": 198,
    "start_time": "2024-04-07T17:09:22.262Z"
   },
   {
    "duration": 15,
    "start_time": "2024-04-07T17:09:22.461Z"
   },
   {
    "duration": 369,
    "start_time": "2024-04-07T17:09:22.477Z"
   },
   {
    "duration": 9,
    "start_time": "2024-04-07T17:09:22.847Z"
   },
   {
    "duration": 16,
    "start_time": "2024-04-07T17:09:22.857Z"
   },
   {
    "duration": 234,
    "start_time": "2024-04-07T17:09:22.876Z"
   },
   {
    "duration": 32,
    "start_time": "2024-04-07T17:09:23.112Z"
   },
   {
    "duration": 27,
    "start_time": "2024-04-07T17:09:23.145Z"
   },
   {
    "duration": 5,
    "start_time": "2024-04-07T17:09:23.175Z"
   },
   {
    "duration": 50,
    "start_time": "2024-04-07T17:09:23.182Z"
   },
   {
    "duration": 42,
    "start_time": "2024-04-07T17:09:23.233Z"
   },
   {
    "duration": 7,
    "start_time": "2024-04-07T17:09:23.277Z"
   },
   {
    "duration": 150,
    "start_time": "2024-04-07T17:09:23.286Z"
   },
   {
    "duration": 199,
    "start_time": "2024-04-07T17:09:23.438Z"
   },
   {
    "duration": 9,
    "start_time": "2024-04-07T17:09:23.639Z"
   },
   {
    "duration": 217,
    "start_time": "2024-04-07T17:09:23.650Z"
   },
   {
    "duration": 322,
    "start_time": "2024-04-07T17:09:23.870Z"
   },
   {
    "duration": 0,
    "start_time": "2024-04-07T17:09:24.193Z"
   },
   {
    "duration": 0,
    "start_time": "2024-04-07T17:09:24.195Z"
   },
   {
    "duration": 0,
    "start_time": "2024-04-07T17:09:24.195Z"
   },
   {
    "duration": 0,
    "start_time": "2024-04-07T17:09:24.197Z"
   },
   {
    "duration": 0,
    "start_time": "2024-04-07T17:09:24.198Z"
   },
   {
    "duration": 0,
    "start_time": "2024-04-07T17:09:24.200Z"
   },
   {
    "duration": 0,
    "start_time": "2024-04-07T17:09:24.202Z"
   },
   {
    "duration": 0,
    "start_time": "2024-04-07T17:09:24.203Z"
   },
   {
    "duration": 0,
    "start_time": "2024-04-07T17:09:24.205Z"
   },
   {
    "duration": 0,
    "start_time": "2024-04-07T17:09:24.206Z"
   },
   {
    "duration": 0,
    "start_time": "2024-04-07T17:09:24.208Z"
   },
   {
    "duration": 0,
    "start_time": "2024-04-07T17:09:24.209Z"
   },
   {
    "duration": 0,
    "start_time": "2024-04-07T17:09:24.211Z"
   },
   {
    "duration": 0,
    "start_time": "2024-04-07T17:09:24.213Z"
   },
   {
    "duration": 0,
    "start_time": "2024-04-07T17:09:24.214Z"
   },
   {
    "duration": 0,
    "start_time": "2024-04-07T17:09:24.216Z"
   },
   {
    "duration": 0,
    "start_time": "2024-04-07T17:09:24.217Z"
   },
   {
    "duration": 477,
    "start_time": "2024-04-07T17:10:43.903Z"
   },
   {
    "duration": 564,
    "start_time": "2024-04-07T17:15:51.735Z"
   },
   {
    "duration": 516,
    "start_time": "2024-04-07T17:16:00.384Z"
   },
   {
    "duration": 510,
    "start_time": "2024-04-07T17:16:38.081Z"
   },
   {
    "duration": 594,
    "start_time": "2024-04-07T17:16:44.542Z"
   },
   {
    "duration": 531,
    "start_time": "2024-04-07T17:16:51.043Z"
   },
   {
    "duration": 488,
    "start_time": "2024-04-07T17:16:59.329Z"
   },
   {
    "duration": 464,
    "start_time": "2024-04-07T17:19:01.899Z"
   },
   {
    "duration": 596,
    "start_time": "2024-04-07T17:22:52.465Z"
   },
   {
    "duration": 463,
    "start_time": "2024-04-07T17:23:34.759Z"
   },
   {
    "duration": 10,
    "start_time": "2024-04-07T17:24:29.112Z"
   },
   {
    "duration": 483,
    "start_time": "2024-04-07T17:25:57.307Z"
   },
   {
    "duration": 629,
    "start_time": "2024-04-07T17:26:07.193Z"
   },
   {
    "duration": 497,
    "start_time": "2024-04-07T17:30:13.033Z"
   },
   {
    "duration": 504,
    "start_time": "2024-04-07T17:30:54.262Z"
   },
   {
    "duration": 117,
    "start_time": "2024-04-07T17:31:29.464Z"
   },
   {
    "duration": 11,
    "start_time": "2024-04-07T17:31:36.492Z"
   },
   {
    "duration": 9,
    "start_time": "2024-04-07T17:40:24.093Z"
   },
   {
    "duration": 8,
    "start_time": "2024-04-07T17:46:35.512Z"
   },
   {
    "duration": 9,
    "start_time": "2024-04-07T17:52:09.824Z"
   },
   {
    "duration": 8,
    "start_time": "2024-04-07T17:53:27.835Z"
   },
   {
    "duration": 31,
    "start_time": "2024-04-07T17:53:28.643Z"
   },
   {
    "duration": 7,
    "start_time": "2024-04-07T17:53:46.444Z"
   },
   {
    "duration": 4,
    "start_time": "2024-04-07T17:54:25.982Z"
   },
   {
    "duration": 4,
    "start_time": "2024-04-07T17:54:46.333Z"
   },
   {
    "duration": 5,
    "start_time": "2024-04-07T17:55:20.016Z"
   },
   {
    "duration": 3,
    "start_time": "2024-04-07T17:55:48.212Z"
   },
   {
    "duration": 78,
    "start_time": "2024-04-07T17:56:49.647Z"
   },
   {
    "duration": 8,
    "start_time": "2024-04-07T18:02:19.102Z"
   },
   {
    "duration": 629,
    "start_time": "2024-04-07T18:04:31.946Z"
   },
   {
    "duration": 838,
    "start_time": "2024-04-07T18:05:08.141Z"
   },
   {
    "duration": 888,
    "start_time": "2024-04-07T18:05:29.371Z"
   },
   {
    "duration": 22,
    "start_time": "2024-04-07T18:05:39.948Z"
   },
   {
    "duration": 17,
    "start_time": "2024-04-07T18:06:05.878Z"
   },
   {
    "duration": 8,
    "start_time": "2024-04-07T18:08:28.061Z"
   },
   {
    "duration": 17,
    "start_time": "2024-04-07T18:09:49.918Z"
   },
   {
    "duration": 5,
    "start_time": "2024-04-07T18:09:51.568Z"
   },
   {
    "duration": 8,
    "start_time": "2024-04-07T18:10:38.936Z"
   },
   {
    "duration": 8,
    "start_time": "2024-04-07T18:11:13.901Z"
   },
   {
    "duration": 6,
    "start_time": "2024-04-07T18:11:23.633Z"
   },
   {
    "duration": 79,
    "start_time": "2024-04-07T18:15:06.690Z"
   },
   {
    "duration": 6,
    "start_time": "2024-04-07T18:16:02.597Z"
   },
   {
    "duration": 4,
    "start_time": "2024-04-07T18:29:24.590Z"
   },
   {
    "duration": 84,
    "start_time": "2024-04-07T18:31:44.676Z"
   },
   {
    "duration": 33,
    "start_time": "2024-04-07T18:37:42.452Z"
   },
   {
    "duration": 31,
    "start_time": "2024-04-07T18:37:49.507Z"
   },
   {
    "duration": 1034,
    "start_time": "2024-04-07T18:37:58.088Z"
   },
   {
    "duration": 66,
    "start_time": "2024-04-07T18:37:59.124Z"
   },
   {
    "duration": 2,
    "start_time": "2024-04-07T18:37:59.192Z"
   },
   {
    "duration": 19,
    "start_time": "2024-04-07T18:37:59.197Z"
   },
   {
    "duration": 54,
    "start_time": "2024-04-07T18:37:59.217Z"
   },
   {
    "duration": 823,
    "start_time": "2024-04-07T18:37:59.272Z"
   },
   {
    "duration": 28,
    "start_time": "2024-04-07T18:38:00.097Z"
   },
   {
    "duration": 71,
    "start_time": "2024-04-07T18:38:00.127Z"
   },
   {
    "duration": 22,
    "start_time": "2024-04-07T18:38:00.200Z"
   },
   {
    "duration": 38,
    "start_time": "2024-04-07T18:38:00.225Z"
   },
   {
    "duration": 51,
    "start_time": "2024-04-07T18:38:00.264Z"
   },
   {
    "duration": 61,
    "start_time": "2024-04-07T18:38:00.316Z"
   },
   {
    "duration": 98,
    "start_time": "2024-04-07T18:38:00.378Z"
   },
   {
    "duration": 91,
    "start_time": "2024-04-07T18:38:00.478Z"
   },
   {
    "duration": 59,
    "start_time": "2024-04-07T18:38:00.570Z"
   },
   {
    "duration": 63,
    "start_time": "2024-04-07T18:38:00.631Z"
   },
   {
    "duration": 41,
    "start_time": "2024-04-07T18:38:00.695Z"
   },
   {
    "duration": 216,
    "start_time": "2024-04-07T18:38:00.738Z"
   },
   {
    "duration": 6,
    "start_time": "2024-04-07T18:38:00.955Z"
   },
   {
    "duration": 31,
    "start_time": "2024-04-07T18:38:00.962Z"
   },
   {
    "duration": 188,
    "start_time": "2024-04-07T18:38:00.995Z"
   },
   {
    "duration": 8,
    "start_time": "2024-04-07T18:38:01.185Z"
   },
   {
    "duration": 216,
    "start_time": "2024-04-07T18:38:01.195Z"
   },
   {
    "duration": 7,
    "start_time": "2024-04-07T18:38:01.413Z"
   },
   {
    "duration": 378,
    "start_time": "2024-04-07T18:38:01.422Z"
   },
   {
    "duration": 8,
    "start_time": "2024-04-07T18:38:01.801Z"
   },
   {
    "duration": 39,
    "start_time": "2024-04-07T18:38:01.810Z"
   },
   {
    "duration": 203,
    "start_time": "2024-04-07T18:38:01.852Z"
   },
   {
    "duration": 34,
    "start_time": "2024-04-07T18:38:02.056Z"
   },
   {
    "duration": 40,
    "start_time": "2024-04-07T18:38:02.091Z"
   },
   {
    "duration": 12,
    "start_time": "2024-04-07T18:38:02.133Z"
   },
   {
    "duration": 64,
    "start_time": "2024-04-07T18:38:02.146Z"
   },
   {
    "duration": 7,
    "start_time": "2024-04-07T18:38:02.212Z"
   },
   {
    "duration": 57,
    "start_time": "2024-04-07T18:38:02.220Z"
   },
   {
    "duration": 7,
    "start_time": "2024-04-07T18:38:02.279Z"
   },
   {
    "duration": 18,
    "start_time": "2024-04-07T18:38:02.287Z"
   },
   {
    "duration": 43,
    "start_time": "2024-04-07T18:38:02.307Z"
   },
   {
    "duration": 51,
    "start_time": "2024-04-07T18:38:02.351Z"
   },
   {
    "duration": 131,
    "start_time": "2024-04-07T18:38:02.403Z"
   },
   {
    "duration": 125,
    "start_time": "2024-04-07T18:38:02.536Z"
   },
   {
    "duration": 511,
    "start_time": "2024-04-07T18:38:02.663Z"
   },
   {
    "duration": 9,
    "start_time": "2024-04-07T18:38:03.176Z"
   },
   {
    "duration": 32,
    "start_time": "2024-04-07T18:38:03.186Z"
   },
   {
    "duration": 626,
    "start_time": "2024-04-07T18:38:03.220Z"
   },
   {
    "duration": 32,
    "start_time": "2024-04-07T18:38:03.848Z"
   },
   {
    "duration": 827,
    "start_time": "2024-04-07T18:38:03.882Z"
   },
   {
    "duration": 6,
    "start_time": "2024-04-07T18:38:04.711Z"
   },
   {
    "duration": 24,
    "start_time": "2024-04-07T18:38:04.719Z"
   },
   {
    "duration": 5,
    "start_time": "2024-04-07T18:38:04.745Z"
   },
   {
    "duration": 19,
    "start_time": "2024-04-07T18:38:04.751Z"
   },
   {
    "duration": 3,
    "start_time": "2024-04-07T18:38:04.772Z"
   },
   {
    "duration": 1456,
    "start_time": "2024-04-07T18:38:04.777Z"
   },
   {
    "duration": 0,
    "start_time": "2024-04-07T18:38:06.236Z"
   },
   {
    "duration": 0,
    "start_time": "2024-04-07T18:38:06.237Z"
   },
   {
    "duration": 0,
    "start_time": "2024-04-07T18:38:06.238Z"
   },
   {
    "duration": 0,
    "start_time": "2024-04-07T18:38:06.239Z"
   },
   {
    "duration": 0,
    "start_time": "2024-04-07T18:38:06.240Z"
   },
   {
    "duration": 5,
    "start_time": "2024-04-07T18:44:52.777Z"
   },
   {
    "duration": 5,
    "start_time": "2024-04-07T18:44:53.675Z"
   },
   {
    "duration": 921,
    "start_time": "2024-04-07T18:45:05.915Z"
   },
   {
    "duration": 8,
    "start_time": "2024-04-07T18:45:07.193Z"
   },
   {
    "duration": 5,
    "start_time": "2024-04-07T18:45:09.907Z"
   },
   {
    "duration": 6,
    "start_time": "2024-04-07T18:45:10.995Z"
   },
   {
    "duration": 4,
    "start_time": "2024-04-07T18:46:09.138Z"
   },
   {
    "duration": 1429,
    "start_time": "2024-04-07T18:46:10.893Z"
   },
   {
    "duration": 4,
    "start_time": "2024-04-07T18:46:44.698Z"
   },
   {
    "duration": 1405,
    "start_time": "2024-04-07T18:46:47.614Z"
   },
   {
    "duration": 4,
    "start_time": "2024-04-07T18:48:26.218Z"
   },
   {
    "duration": 187,
    "start_time": "2024-04-07T18:48:28.193Z"
   },
   {
    "duration": 5,
    "start_time": "2024-04-07T18:48:33.068Z"
   },
   {
    "duration": 5,
    "start_time": "2024-04-07T18:50:19.917Z"
   },
   {
    "duration": 11,
    "start_time": "2024-04-07T18:51:42.785Z"
   },
   {
    "duration": 11,
    "start_time": "2024-04-07T19:26:39.625Z"
   },
   {
    "duration": 7,
    "start_time": "2024-04-07T19:26:47.282Z"
   },
   {
    "duration": 7,
    "start_time": "2024-04-07T19:27:50.825Z"
   },
   {
    "duration": 7,
    "start_time": "2024-04-07T19:30:01.558Z"
   },
   {
    "duration": 7,
    "start_time": "2024-04-07T19:30:39.464Z"
   },
   {
    "duration": 7,
    "start_time": "2024-04-07T19:30:44.024Z"
   },
   {
    "duration": 10,
    "start_time": "2024-04-07T19:31:42.365Z"
   },
   {
    "duration": 1494,
    "start_time": "2024-04-07T19:34:50.472Z"
   },
   {
    "duration": 1473,
    "start_time": "2024-04-07T19:35:34.803Z"
   },
   {
    "duration": 1483,
    "start_time": "2024-04-07T19:36:00.835Z"
   },
   {
    "duration": 1561,
    "start_time": "2024-04-07T19:36:19.352Z"
   },
   {
    "duration": 4,
    "start_time": "2024-04-07T19:36:26.394Z"
   },
   {
    "duration": 1419,
    "start_time": "2024-04-07T19:36:55.601Z"
   },
   {
    "duration": 1436,
    "start_time": "2024-04-07T19:37:08.803Z"
   },
   {
    "duration": 6,
    "start_time": "2024-04-07T19:37:16.093Z"
   },
   {
    "duration": 18,
    "start_time": "2024-04-07T19:37:29.678Z"
   },
   {
    "duration": 10,
    "start_time": "2024-04-07T19:37:38.310Z"
   },
   {
    "duration": 25,
    "start_time": "2024-04-07T19:37:47.012Z"
   },
   {
    "duration": 7,
    "start_time": "2024-04-07T19:37:53.341Z"
   },
   {
    "duration": 9,
    "start_time": "2024-04-07T19:38:44.458Z"
   },
   {
    "duration": 11,
    "start_time": "2024-04-07T19:39:35.267Z"
   },
   {
    "duration": 11,
    "start_time": "2024-04-07T19:40:18.155Z"
   },
   {
    "duration": 10,
    "start_time": "2024-04-07T19:40:23.987Z"
   },
   {
    "duration": 10,
    "start_time": "2024-04-07T19:40:51.266Z"
   },
   {
    "duration": 90,
    "start_time": "2024-04-07T19:48:03.552Z"
   },
   {
    "duration": 78,
    "start_time": "2024-04-07T19:48:07.819Z"
   },
   {
    "duration": 86,
    "start_time": "2024-04-07T19:48:23.747Z"
   },
   {
    "duration": 1158,
    "start_time": "2024-04-07T19:49:59.962Z"
   },
   {
    "duration": 70,
    "start_time": "2024-04-07T19:50:01.122Z"
   },
   {
    "duration": 2,
    "start_time": "2024-04-07T19:50:01.194Z"
   },
   {
    "duration": 77,
    "start_time": "2024-04-07T19:50:01.200Z"
   },
   {
    "duration": 60,
    "start_time": "2024-04-07T19:50:01.279Z"
   },
   {
    "duration": 863,
    "start_time": "2024-04-07T19:50:01.341Z"
   },
   {
    "duration": 21,
    "start_time": "2024-04-07T19:50:02.205Z"
   },
   {
    "duration": 79,
    "start_time": "2024-04-07T19:50:02.228Z"
   },
   {
    "duration": 15,
    "start_time": "2024-04-07T19:50:02.309Z"
   },
   {
    "duration": 21,
    "start_time": "2024-04-07T19:50:02.327Z"
   },
   {
    "duration": 45,
    "start_time": "2024-04-07T19:50:02.350Z"
   },
   {
    "duration": 31,
    "start_time": "2024-04-07T19:50:02.397Z"
   },
   {
    "duration": 37,
    "start_time": "2024-04-07T19:50:02.430Z"
   },
   {
    "duration": 25,
    "start_time": "2024-04-07T19:50:02.469Z"
   },
   {
    "duration": 49,
    "start_time": "2024-04-07T19:50:02.495Z"
   },
   {
    "duration": 87,
    "start_time": "2024-04-07T19:50:02.546Z"
   },
   {
    "duration": 31,
    "start_time": "2024-04-07T19:50:02.634Z"
   },
   {
    "duration": 225,
    "start_time": "2024-04-07T19:50:02.667Z"
   },
   {
    "duration": 6,
    "start_time": "2024-04-07T19:50:02.893Z"
   },
   {
    "duration": 7,
    "start_time": "2024-04-07T19:50:02.900Z"
   },
   {
    "duration": 146,
    "start_time": "2024-04-07T19:50:02.909Z"
   },
   {
    "duration": 14,
    "start_time": "2024-04-07T19:50:03.056Z"
   },
   {
    "duration": 197,
    "start_time": "2024-04-07T19:50:03.071Z"
   },
   {
    "duration": 7,
    "start_time": "2024-04-07T19:50:03.270Z"
   },
   {
    "duration": 330,
    "start_time": "2024-04-07T19:50:03.279Z"
   },
   {
    "duration": 8,
    "start_time": "2024-04-07T19:50:03.611Z"
   },
   {
    "duration": 26,
    "start_time": "2024-04-07T19:50:03.621Z"
   },
   {
    "duration": 183,
    "start_time": "2024-04-07T19:50:03.650Z"
   },
   {
    "duration": 36,
    "start_time": "2024-04-07T19:50:03.834Z"
   },
   {
    "duration": 9,
    "start_time": "2024-04-07T19:50:03.872Z"
   },
   {
    "duration": 16,
    "start_time": "2024-04-07T19:50:03.882Z"
   },
   {
    "duration": 64,
    "start_time": "2024-04-07T19:50:03.899Z"
   },
   {
    "duration": 26,
    "start_time": "2024-04-07T19:50:03.965Z"
   },
   {
    "duration": 62,
    "start_time": "2024-04-07T19:50:03.993Z"
   },
   {
    "duration": 6,
    "start_time": "2024-04-07T19:50:04.056Z"
   },
   {
    "duration": 14,
    "start_time": "2024-04-07T19:50:04.064Z"
   },
   {
    "duration": 17,
    "start_time": "2024-04-07T19:50:04.079Z"
   },
   {
    "duration": 23,
    "start_time": "2024-04-07T19:50:04.098Z"
   },
   {
    "duration": 147,
    "start_time": "2024-04-07T19:50:04.122Z"
   },
   {
    "duration": 119,
    "start_time": "2024-04-07T19:50:04.270Z"
   },
   {
    "duration": 496,
    "start_time": "2024-04-07T19:50:04.391Z"
   },
   {
    "duration": 8,
    "start_time": "2024-04-07T19:50:04.889Z"
   },
   {
    "duration": 8,
    "start_time": "2024-04-07T19:50:04.898Z"
   },
   {
    "duration": 594,
    "start_time": "2024-04-07T19:50:04.907Z"
   },
   {
    "duration": 22,
    "start_time": "2024-04-07T19:50:05.502Z"
   },
   {
    "duration": 878,
    "start_time": "2024-04-07T19:50:05.525Z"
   },
   {
    "duration": 6,
    "start_time": "2024-04-07T19:50:06.405Z"
   },
   {
    "duration": 22,
    "start_time": "2024-04-07T19:50:06.412Z"
   },
   {
    "duration": 4,
    "start_time": "2024-04-07T19:50:06.436Z"
   },
   {
    "duration": 4,
    "start_time": "2024-04-07T19:50:06.441Z"
   },
   {
    "duration": 230,
    "start_time": "2024-04-07T19:50:06.446Z"
   },
   {
    "duration": 10,
    "start_time": "2024-04-07T19:50:06.678Z"
   },
   {
    "duration": 11,
    "start_time": "2024-04-07T19:50:06.690Z"
   },
   {
    "duration": 3,
    "start_time": "2024-04-07T19:50:06.703Z"
   },
   {
    "duration": 6,
    "start_time": "2024-04-07T19:50:06.708Z"
   },
   {
    "duration": 5,
    "start_time": "2024-04-07T19:50:06.715Z"
   },
   {
    "duration": 10,
    "start_time": "2024-04-07T19:50:06.721Z"
   },
   {
    "duration": 37,
    "start_time": "2024-04-07T19:50:06.732Z"
   },
   {
    "duration": 79,
    "start_time": "2024-04-07T19:51:13.226Z"
   },
   {
    "duration": 44,
    "start_time": "2024-04-07T21:39:34.798Z"
   },
   {
    "duration": 1061,
    "start_time": "2024-04-07T21:39:39.081Z"
   },
   {
    "duration": 294,
    "start_time": "2024-04-07T21:39:40.144Z"
   },
   {
    "duration": 3,
    "start_time": "2024-04-07T21:39:40.439Z"
   },
   {
    "duration": 44,
    "start_time": "2024-04-07T21:39:40.443Z"
   },
   {
    "duration": 52,
    "start_time": "2024-04-07T21:39:40.489Z"
   },
   {
    "duration": 754,
    "start_time": "2024-04-07T21:39:40.542Z"
   },
   {
    "duration": 22,
    "start_time": "2024-04-07T21:39:41.298Z"
   },
   {
    "duration": 28,
    "start_time": "2024-04-07T21:39:41.321Z"
   },
   {
    "duration": 12,
    "start_time": "2024-04-07T21:39:41.351Z"
   },
   {
    "duration": 32,
    "start_time": "2024-04-07T21:39:41.364Z"
   },
   {
    "duration": 19,
    "start_time": "2024-04-07T21:39:41.397Z"
   },
   {
    "duration": 9,
    "start_time": "2024-04-07T21:39:41.417Z"
   },
   {
    "duration": 9,
    "start_time": "2024-04-07T21:39:41.428Z"
   },
   {
    "duration": 4,
    "start_time": "2024-04-07T21:39:41.439Z"
   },
   {
    "duration": 10,
    "start_time": "2024-04-07T21:39:41.444Z"
   },
   {
    "duration": 4,
    "start_time": "2024-04-07T21:39:41.455Z"
   },
   {
    "duration": 7,
    "start_time": "2024-04-07T21:39:41.460Z"
   },
   {
    "duration": 176,
    "start_time": "2024-04-07T21:39:41.468Z"
   },
   {
    "duration": 6,
    "start_time": "2024-04-07T21:39:41.645Z"
   },
   {
    "duration": 11,
    "start_time": "2024-04-07T21:39:41.652Z"
   },
   {
    "duration": 133,
    "start_time": "2024-04-07T21:39:41.665Z"
   },
   {
    "duration": 7,
    "start_time": "2024-04-07T21:39:41.799Z"
   },
   {
    "duration": 161,
    "start_time": "2024-04-07T21:39:41.807Z"
   },
   {
    "duration": 7,
    "start_time": "2024-04-07T21:39:41.970Z"
   },
   {
    "duration": 306,
    "start_time": "2024-04-07T21:39:41.978Z"
   },
   {
    "duration": 12,
    "start_time": "2024-04-07T21:39:42.286Z"
   },
   {
    "duration": 6,
    "start_time": "2024-04-07T21:39:42.299Z"
   },
   {
    "duration": 192,
    "start_time": "2024-04-07T21:39:42.306Z"
   },
   {
    "duration": 28,
    "start_time": "2024-04-07T21:39:42.500Z"
   },
   {
    "duration": 7,
    "start_time": "2024-04-07T21:39:42.529Z"
   },
   {
    "duration": 9,
    "start_time": "2024-04-07T21:39:42.538Z"
   },
   {
    "duration": 48,
    "start_time": "2024-04-07T21:39:42.549Z"
   },
   {
    "duration": 7,
    "start_time": "2024-04-07T21:39:42.598Z"
   },
   {
    "duration": 43,
    "start_time": "2024-04-07T21:39:42.606Z"
   },
   {
    "duration": 6,
    "start_time": "2024-04-07T21:39:42.650Z"
   },
   {
    "duration": 14,
    "start_time": "2024-04-07T21:39:42.658Z"
   },
   {
    "duration": 12,
    "start_time": "2024-04-07T21:39:42.674Z"
   },
   {
    "duration": 13,
    "start_time": "2024-04-07T21:39:42.687Z"
   },
   {
    "duration": 113,
    "start_time": "2024-04-07T21:39:42.701Z"
   },
   {
    "duration": 113,
    "start_time": "2024-04-07T21:39:42.815Z"
   },
   {
    "duration": 454,
    "start_time": "2024-04-07T21:39:42.931Z"
   },
   {
    "duration": 9,
    "start_time": "2024-04-07T21:39:43.387Z"
   },
   {
    "duration": 20,
    "start_time": "2024-04-07T21:39:43.397Z"
   },
   {
    "duration": 1001,
    "start_time": "2024-04-07T21:39:43.418Z"
   },
   {
    "duration": 16,
    "start_time": "2024-04-07T21:39:44.421Z"
   },
   {
    "duration": 1045,
    "start_time": "2024-04-07T21:39:44.493Z"
   },
   {
    "duration": 5,
    "start_time": "2024-04-07T21:39:45.540Z"
   },
   {
    "duration": 47,
    "start_time": "2024-04-07T21:39:45.546Z"
   },
   {
    "duration": 24,
    "start_time": "2024-04-07T21:39:45.594Z"
   },
   {
    "duration": 32,
    "start_time": "2024-04-07T21:39:45.619Z"
   },
   {
    "duration": 209,
    "start_time": "2024-04-07T21:39:45.652Z"
   },
   {
    "duration": 9,
    "start_time": "2024-04-07T21:39:45.863Z"
   },
   {
    "duration": 35,
    "start_time": "2024-04-07T21:39:45.873Z"
   },
   {
    "duration": 14,
    "start_time": "2024-04-07T21:39:45.910Z"
   },
   {
    "duration": 20,
    "start_time": "2024-04-07T21:39:45.926Z"
   },
   {
    "duration": 27,
    "start_time": "2024-04-07T21:39:45.947Z"
   },
   {
    "duration": 37,
    "start_time": "2024-04-07T21:39:45.975Z"
   },
   {
    "duration": 47,
    "start_time": "2024-04-07T21:39:46.014Z"
   },
   {
    "duration": 157,
    "start_time": "2024-04-07T21:39:49.418Z"
   },
   {
    "duration": 149,
    "start_time": "2024-04-07T21:39:51.832Z"
   },
   {
    "duration": 157,
    "start_time": "2024-04-07T21:39:58.706Z"
   },
   {
    "duration": 8,
    "start_time": "2024-04-07T21:42:50.434Z"
   },
   {
    "duration": 7,
    "start_time": "2024-04-07T21:43:05.705Z"
   },
   {
    "duration": 7,
    "start_time": "2024-04-07T21:43:12.794Z"
   },
   {
    "duration": 1120,
    "start_time": "2024-04-07T22:00:22.099Z"
   },
   {
    "duration": 64,
    "start_time": "2024-04-07T22:00:23.220Z"
   },
   {
    "duration": 3,
    "start_time": "2024-04-07T22:00:23.285Z"
   },
   {
    "duration": 29,
    "start_time": "2024-04-07T22:00:23.291Z"
   },
   {
    "duration": 50,
    "start_time": "2024-04-07T22:00:23.322Z"
   },
   {
    "duration": 799,
    "start_time": "2024-04-07T22:00:23.374Z"
   },
   {
    "duration": 28,
    "start_time": "2024-04-07T22:00:24.174Z"
   },
   {
    "duration": 30,
    "start_time": "2024-04-07T22:00:24.204Z"
   },
   {
    "duration": 11,
    "start_time": "2024-04-07T22:00:24.236Z"
   },
   {
    "duration": 5,
    "start_time": "2024-04-07T22:00:24.249Z"
   },
   {
    "duration": 43,
    "start_time": "2024-04-07T22:00:24.255Z"
   },
   {
    "duration": 10,
    "start_time": "2024-04-07T22:00:24.299Z"
   },
   {
    "duration": 12,
    "start_time": "2024-04-07T22:00:24.310Z"
   },
   {
    "duration": 16,
    "start_time": "2024-04-07T22:00:24.323Z"
   },
   {
    "duration": 30,
    "start_time": "2024-04-07T22:00:24.340Z"
   },
   {
    "duration": 10,
    "start_time": "2024-04-07T22:00:24.371Z"
   },
   {
    "duration": 12,
    "start_time": "2024-04-07T22:00:24.382Z"
   },
   {
    "duration": 159,
    "start_time": "2024-04-07T22:00:24.395Z"
   },
   {
    "duration": 5,
    "start_time": "2024-04-07T22:00:24.555Z"
   },
   {
    "duration": 17,
    "start_time": "2024-04-07T22:00:24.561Z"
   },
   {
    "duration": 131,
    "start_time": "2024-04-07T22:00:24.579Z"
   },
   {
    "duration": 7,
    "start_time": "2024-04-07T22:00:24.712Z"
   },
   {
    "duration": 169,
    "start_time": "2024-04-07T22:00:24.720Z"
   },
   {
    "duration": 8,
    "start_time": "2024-04-07T22:00:24.891Z"
   },
   {
    "duration": 317,
    "start_time": "2024-04-07T22:00:24.901Z"
   },
   {
    "duration": 7,
    "start_time": "2024-04-07T22:00:25.220Z"
   },
   {
    "duration": 15,
    "start_time": "2024-04-07T22:00:25.228Z"
   },
   {
    "duration": 207,
    "start_time": "2024-04-07T22:00:25.246Z"
   },
   {
    "duration": 29,
    "start_time": "2024-04-07T22:00:25.455Z"
   },
   {
    "duration": 12,
    "start_time": "2024-04-07T22:00:25.485Z"
   },
   {
    "duration": 10,
    "start_time": "2024-04-07T22:00:25.499Z"
   },
   {
    "duration": 42,
    "start_time": "2024-04-07T22:00:25.511Z"
   },
   {
    "duration": 7,
    "start_time": "2024-04-07T22:00:25.554Z"
   },
   {
    "duration": 39,
    "start_time": "2024-04-07T22:00:25.562Z"
   },
   {
    "duration": 6,
    "start_time": "2024-04-07T22:00:25.603Z"
   },
   {
    "duration": 26,
    "start_time": "2024-04-07T22:00:25.610Z"
   },
   {
    "duration": 26,
    "start_time": "2024-04-07T22:00:25.637Z"
   },
   {
    "duration": 28,
    "start_time": "2024-04-07T22:00:25.664Z"
   },
   {
    "duration": 111,
    "start_time": "2024-04-07T22:00:25.693Z"
   },
   {
    "duration": 117,
    "start_time": "2024-04-07T22:00:25.806Z"
   },
   {
    "duration": 478,
    "start_time": "2024-04-07T22:00:25.924Z"
   },
   {
    "duration": 8,
    "start_time": "2024-04-07T22:00:26.403Z"
   },
   {
    "duration": 27,
    "start_time": "2024-04-07T22:00:26.413Z"
   },
   {
    "duration": 559,
    "start_time": "2024-04-07T22:00:26.441Z"
   },
   {
    "duration": 16,
    "start_time": "2024-04-07T22:00:27.002Z"
   },
   {
    "duration": 825,
    "start_time": "2024-04-07T22:00:27.019Z"
   },
   {
    "duration": 5,
    "start_time": "2024-04-07T22:00:27.846Z"
   },
   {
    "duration": 24,
    "start_time": "2024-04-07T22:00:27.853Z"
   },
   {
    "duration": 8,
    "start_time": "2024-04-07T22:00:27.879Z"
   },
   {
    "duration": 20,
    "start_time": "2024-04-07T22:00:27.888Z"
   },
   {
    "duration": 207,
    "start_time": "2024-04-07T22:00:27.909Z"
   },
   {
    "duration": 10,
    "start_time": "2024-04-07T22:00:28.118Z"
   },
   {
    "duration": 9,
    "start_time": "2024-04-07T22:00:28.130Z"
   },
   {
    "duration": 14,
    "start_time": "2024-04-07T22:00:28.140Z"
   },
   {
    "duration": 17,
    "start_time": "2024-04-07T22:00:28.155Z"
   },
   {
    "duration": 34,
    "start_time": "2024-04-07T22:00:28.174Z"
   },
   {
    "duration": 26,
    "start_time": "2024-04-07T22:00:28.210Z"
   },
   {
    "duration": 20,
    "start_time": "2024-04-07T22:00:28.238Z"
   },
   {
    "duration": 7,
    "start_time": "2024-04-07T22:01:04.559Z"
   },
   {
    "duration": 90,
    "start_time": "2024-04-07T22:02:00.328Z"
   },
   {
    "duration": 4,
    "start_time": "2024-04-07T22:02:03.506Z"
   },
   {
    "duration": 54,
    "start_time": "2024-04-08T05:58:13.896Z"
   },
   {
    "duration": 1515,
    "start_time": "2024-04-08T06:17:08.131Z"
   },
   {
    "duration": 306,
    "start_time": "2024-04-08T06:17:09.648Z"
   },
   {
    "duration": 2,
    "start_time": "2024-04-08T06:17:09.956Z"
   },
   {
    "duration": 35,
    "start_time": "2024-04-08T06:17:09.961Z"
   },
   {
    "duration": 91,
    "start_time": "2024-04-08T06:17:09.998Z"
   },
   {
    "duration": 1013,
    "start_time": "2024-04-08T06:17:10.092Z"
   },
   {
    "duration": 31,
    "start_time": "2024-04-08T06:17:11.108Z"
   },
   {
    "duration": 66,
    "start_time": "2024-04-08T06:17:11.140Z"
   },
   {
    "duration": 22,
    "start_time": "2024-04-08T06:17:11.209Z"
   },
   {
    "duration": 6,
    "start_time": "2024-04-08T06:17:11.235Z"
   },
   {
    "duration": 53,
    "start_time": "2024-04-08T06:17:11.243Z"
   },
   {
    "duration": 16,
    "start_time": "2024-04-08T06:17:11.298Z"
   },
   {
    "duration": 8,
    "start_time": "2024-04-08T06:17:11.315Z"
   },
   {
    "duration": 13,
    "start_time": "2024-04-08T06:17:11.325Z"
   },
   {
    "duration": 12,
    "start_time": "2024-04-08T06:17:11.340Z"
   },
   {
    "duration": 6,
    "start_time": "2024-04-08T06:17:11.354Z"
   },
   {
    "duration": 24,
    "start_time": "2024-04-08T06:17:11.362Z"
   },
   {
    "duration": 228,
    "start_time": "2024-04-08T06:17:11.389Z"
   },
   {
    "duration": 8,
    "start_time": "2024-04-08T06:17:11.620Z"
   },
   {
    "duration": 13,
    "start_time": "2024-04-08T06:17:11.630Z"
   },
   {
    "duration": 196,
    "start_time": "2024-04-08T06:17:11.645Z"
   },
   {
    "duration": 8,
    "start_time": "2024-04-08T06:17:11.844Z"
   },
   {
    "duration": 248,
    "start_time": "2024-04-08T06:17:11.854Z"
   },
   {
    "duration": 13,
    "start_time": "2024-04-08T06:17:12.105Z"
   },
   {
    "duration": 430,
    "start_time": "2024-04-08T06:17:12.122Z"
   },
   {
    "duration": 10,
    "start_time": "2024-04-08T06:17:12.554Z"
   },
   {
    "duration": 18,
    "start_time": "2024-04-08T06:17:12.566Z"
   },
   {
    "duration": 260,
    "start_time": "2024-04-08T06:17:12.589Z"
   },
   {
    "duration": 51,
    "start_time": "2024-04-08T06:17:12.852Z"
   },
   {
    "duration": 19,
    "start_time": "2024-04-08T06:17:12.907Z"
   },
   {
    "duration": 6,
    "start_time": "2024-04-08T06:17:12.928Z"
   },
   {
    "duration": 78,
    "start_time": "2024-04-08T06:17:12.936Z"
   },
   {
    "duration": 12,
    "start_time": "2024-04-08T06:17:13.016Z"
   },
   {
    "duration": 54,
    "start_time": "2024-04-08T06:17:13.030Z"
   },
   {
    "duration": 10,
    "start_time": "2024-04-08T06:17:13.086Z"
   },
   {
    "duration": 5,
    "start_time": "2024-04-08T06:17:13.097Z"
   },
   {
    "duration": 11,
    "start_time": "2024-04-08T06:17:13.104Z"
   },
   {
    "duration": 11,
    "start_time": "2024-04-08T06:17:13.117Z"
   },
   {
    "duration": 196,
    "start_time": "2024-04-08T06:17:13.130Z"
   },
   {
    "duration": 168,
    "start_time": "2024-04-08T06:17:13.328Z"
   },
   {
    "duration": 601,
    "start_time": "2024-04-08T06:17:13.498Z"
   },
   {
    "duration": 10,
    "start_time": "2024-04-08T06:17:14.101Z"
   },
   {
    "duration": 8,
    "start_time": "2024-04-08T06:17:14.113Z"
   },
   {
    "duration": 708,
    "start_time": "2024-04-08T06:17:14.123Z"
   },
   {
    "duration": 20,
    "start_time": "2024-04-08T06:17:14.833Z"
   },
   {
    "duration": 1064,
    "start_time": "2024-04-08T06:17:14.855Z"
   },
   {
    "duration": 8,
    "start_time": "2024-04-08T06:17:15.921Z"
   },
   {
    "duration": 4,
    "start_time": "2024-04-08T06:17:15.931Z"
   },
   {
    "duration": 9,
    "start_time": "2024-04-08T06:17:15.937Z"
   },
   {
    "duration": 4,
    "start_time": "2024-04-08T06:17:15.947Z"
   },
   {
    "duration": 261,
    "start_time": "2024-04-08T06:17:15.953Z"
   },
   {
    "duration": 15,
    "start_time": "2024-04-08T06:17:16.216Z"
   },
   {
    "duration": 11,
    "start_time": "2024-04-08T06:17:16.233Z"
   },
   {
    "duration": 36,
    "start_time": "2024-04-08T06:17:16.246Z"
   },
   {
    "duration": 19,
    "start_time": "2024-04-08T06:17:16.285Z"
   },
   {
    "duration": 34,
    "start_time": "2024-04-08T06:17:16.306Z"
   },
   {
    "duration": 8,
    "start_time": "2024-04-08T06:17:16.342Z"
   },
   {
    "duration": 20,
    "start_time": "2024-04-08T06:17:16.351Z"
   },
   {
    "duration": 9,
    "start_time": "2024-04-08T06:17:16.373Z"
   },
   {
    "duration": 25,
    "start_time": "2024-04-08T06:20:54.577Z"
   },
   {
    "duration": 1561,
    "start_time": "2024-04-08T06:23:03.038Z"
   },
   {
    "duration": 106,
    "start_time": "2024-04-08T06:23:04.606Z"
   },
   {
    "duration": 4,
    "start_time": "2024-04-08T06:23:04.714Z"
   },
   {
    "duration": 28,
    "start_time": "2024-04-08T06:23:04.723Z"
   },
   {
    "duration": 82,
    "start_time": "2024-04-08T06:23:04.753Z"
   },
   {
    "duration": 1412,
    "start_time": "2024-04-08T06:23:04.837Z"
   },
   {
    "duration": 59,
    "start_time": "2024-04-08T06:23:06.251Z"
   },
   {
    "duration": 49,
    "start_time": "2024-04-08T06:23:06.315Z"
   },
   {
    "duration": 39,
    "start_time": "2024-04-08T06:23:06.366Z"
   },
   {
    "duration": 21,
    "start_time": "2024-04-08T06:23:06.410Z"
   },
   {
    "duration": 19,
    "start_time": "2024-04-08T06:23:06.434Z"
   },
   {
    "duration": 7,
    "start_time": "2024-04-08T06:23:06.454Z"
   },
   {
    "duration": 8,
    "start_time": "2024-04-08T06:23:06.462Z"
   },
   {
    "duration": 40,
    "start_time": "2024-04-08T06:23:06.472Z"
   },
   {
    "duration": 18,
    "start_time": "2024-04-08T06:23:06.520Z"
   },
   {
    "duration": 11,
    "start_time": "2024-04-08T06:23:06.540Z"
   },
   {
    "duration": 6,
    "start_time": "2024-04-08T06:23:06.553Z"
   },
   {
    "duration": 238,
    "start_time": "2024-04-08T06:23:06.561Z"
   },
   {
    "duration": 13,
    "start_time": "2024-04-08T06:23:06.801Z"
   },
   {
    "duration": 11,
    "start_time": "2024-04-08T06:23:06.816Z"
   },
   {
    "duration": 203,
    "start_time": "2024-04-08T06:23:06.829Z"
   },
   {
    "duration": 11,
    "start_time": "2024-04-08T06:23:07.034Z"
   },
   {
    "duration": 276,
    "start_time": "2024-04-08T06:23:07.047Z"
   },
   {
    "duration": 12,
    "start_time": "2024-04-08T06:23:07.339Z"
   },
   {
    "duration": 463,
    "start_time": "2024-04-08T06:23:07.353Z"
   },
   {
    "duration": 23,
    "start_time": "2024-04-08T06:23:07.822Z"
   },
   {
    "duration": 8,
    "start_time": "2024-04-08T06:23:07.846Z"
   },
   {
    "duration": 292,
    "start_time": "2024-04-08T06:23:07.858Z"
   },
   {
    "duration": 56,
    "start_time": "2024-04-08T06:23:08.152Z"
   },
   {
    "duration": 10,
    "start_time": "2024-04-08T06:23:08.223Z"
   },
   {
    "duration": 4,
    "start_time": "2024-04-08T06:23:08.235Z"
   },
   {
    "duration": 38,
    "start_time": "2024-04-08T06:23:08.240Z"
   },
   {
    "duration": 15,
    "start_time": "2024-04-08T06:23:08.279Z"
   },
   {
    "duration": 55,
    "start_time": "2024-04-08T06:23:08.297Z"
   },
   {
    "duration": 7,
    "start_time": "2024-04-08T06:23:08.354Z"
   },
   {
    "duration": 5,
    "start_time": "2024-04-08T06:23:08.362Z"
   },
   {
    "duration": 42,
    "start_time": "2024-04-08T06:23:08.368Z"
   },
   {
    "duration": 21,
    "start_time": "2024-04-08T06:23:08.412Z"
   },
   {
    "duration": 156,
    "start_time": "2024-04-08T06:23:08.435Z"
   },
   {
    "duration": 181,
    "start_time": "2024-04-08T06:23:08.593Z"
   },
   {
    "duration": 738,
    "start_time": "2024-04-08T06:23:08.780Z"
   },
   {
    "duration": 12,
    "start_time": "2024-04-08T06:23:09.522Z"
   },
   {
    "duration": 14,
    "start_time": "2024-04-08T06:23:09.536Z"
   },
   {
    "duration": 787,
    "start_time": "2024-04-08T06:23:09.552Z"
   },
   {
    "duration": 20,
    "start_time": "2024-04-08T06:23:10.341Z"
   },
   {
    "duration": 1208,
    "start_time": "2024-04-08T06:23:10.363Z"
   },
   {
    "duration": 16,
    "start_time": "2024-04-08T06:23:11.573Z"
   },
   {
    "duration": 11,
    "start_time": "2024-04-08T06:23:11.591Z"
   },
   {
    "duration": 18,
    "start_time": "2024-04-08T06:23:11.604Z"
   },
   {
    "duration": 27,
    "start_time": "2024-04-08T06:23:11.624Z"
   },
   {
    "duration": 319,
    "start_time": "2024-04-08T06:23:11.654Z"
   },
   {
    "duration": 19,
    "start_time": "2024-04-08T06:23:11.975Z"
   },
   {
    "duration": 81,
    "start_time": "2024-04-08T06:23:11.996Z"
   },
   {
    "duration": 0,
    "start_time": "2024-04-08T06:23:12.079Z"
   },
   {
    "duration": 0,
    "start_time": "2024-04-08T06:23:12.080Z"
   },
   {
    "duration": 0,
    "start_time": "2024-04-08T06:23:12.081Z"
   },
   {
    "duration": 0,
    "start_time": "2024-04-08T06:23:12.082Z"
   },
   {
    "duration": 0,
    "start_time": "2024-04-08T06:23:12.083Z"
   },
   {
    "duration": 0,
    "start_time": "2024-04-08T06:23:12.096Z"
   },
   {
    "duration": 18,
    "start_time": "2024-04-08T06:28:57.090Z"
   },
   {
    "duration": 20,
    "start_time": "2024-04-08T06:28:58.397Z"
   },
   {
    "duration": 34,
    "start_time": "2024-04-08T06:30:27.173Z"
   },
   {
    "duration": 14,
    "start_time": "2024-04-08T06:30:37.932Z"
   },
   {
    "duration": 12,
    "start_time": "2024-04-08T06:30:56.548Z"
   },
   {
    "duration": 29,
    "start_time": "2024-04-08T06:31:06.989Z"
   },
   {
    "duration": 17,
    "start_time": "2024-04-08T06:31:08.505Z"
   },
   {
    "duration": 4,
    "start_time": "2024-04-08T06:31:17.953Z"
   },
   {
    "duration": 14,
    "start_time": "2024-04-08T06:31:25.349Z"
   },
   {
    "duration": 19,
    "start_time": "2024-04-08T06:31:38.658Z"
   },
   {
    "duration": 23,
    "start_time": "2024-04-08T06:31:51.473Z"
   },
   {
    "duration": 28,
    "start_time": "2024-04-08T06:32:16.980Z"
   },
   {
    "duration": 10,
    "start_time": "2024-04-08T06:32:19.763Z"
   },
   {
    "duration": 8,
    "start_time": "2024-04-08T06:33:56.835Z"
   },
   {
    "duration": 8,
    "start_time": "2024-04-08T06:36:42.111Z"
   },
   {
    "duration": 12,
    "start_time": "2024-04-08T06:36:51.925Z"
   },
   {
    "duration": 177,
    "start_time": "2024-04-08T06:50:51.687Z"
   },
   {
    "duration": 205,
    "start_time": "2024-04-08T06:50:58.678Z"
   },
   {
    "duration": 83,
    "start_time": "2024-04-08T06:51:40.225Z"
   },
   {
    "duration": 86,
    "start_time": "2024-04-08T06:51:46.562Z"
   },
   {
    "duration": 82,
    "start_time": "2024-04-08T06:51:50.943Z"
   },
   {
    "duration": 176,
    "start_time": "2024-04-08T06:52:02.862Z"
   },
   {
    "duration": 83,
    "start_time": "2024-04-08T06:52:30.790Z"
   },
   {
    "duration": 10,
    "start_time": "2024-04-08T06:53:34.592Z"
   },
   {
    "duration": 1194,
    "start_time": "2024-04-08T06:54:36.271Z"
   },
   {
    "duration": 68,
    "start_time": "2024-04-08T06:54:37.467Z"
   },
   {
    "duration": 3,
    "start_time": "2024-04-08T06:54:37.537Z"
   },
   {
    "duration": 40,
    "start_time": "2024-04-08T06:54:37.544Z"
   },
   {
    "duration": 52,
    "start_time": "2024-04-08T06:54:37.586Z"
   },
   {
    "duration": 931,
    "start_time": "2024-04-08T06:54:37.640Z"
   },
   {
    "duration": 28,
    "start_time": "2024-04-08T06:54:38.580Z"
   },
   {
    "duration": 34,
    "start_time": "2024-04-08T06:54:38.610Z"
   },
   {
    "duration": 40,
    "start_time": "2024-04-08T06:54:38.645Z"
   },
   {
    "duration": 5,
    "start_time": "2024-04-08T06:54:38.688Z"
   },
   {
    "duration": 21,
    "start_time": "2024-04-08T06:54:38.695Z"
   },
   {
    "duration": 5,
    "start_time": "2024-04-08T06:54:38.718Z"
   },
   {
    "duration": 11,
    "start_time": "2024-04-08T06:54:38.725Z"
   },
   {
    "duration": 10,
    "start_time": "2024-04-08T06:54:38.738Z"
   },
   {
    "duration": 35,
    "start_time": "2024-04-08T06:54:38.750Z"
   },
   {
    "duration": 4,
    "start_time": "2024-04-08T06:54:38.787Z"
   },
   {
    "duration": 13,
    "start_time": "2024-04-08T06:54:38.793Z"
   },
   {
    "duration": 179,
    "start_time": "2024-04-08T06:54:38.808Z"
   },
   {
    "duration": 7,
    "start_time": "2024-04-08T06:54:38.988Z"
   },
   {
    "duration": 24,
    "start_time": "2024-04-08T06:54:38.998Z"
   },
   {
    "duration": 153,
    "start_time": "2024-04-08T06:54:39.023Z"
   },
   {
    "duration": 8,
    "start_time": "2024-04-08T06:54:39.179Z"
   },
   {
    "duration": 205,
    "start_time": "2024-04-08T06:54:39.189Z"
   },
   {
    "duration": 9,
    "start_time": "2024-04-08T06:54:39.396Z"
   },
   {
    "duration": 363,
    "start_time": "2024-04-08T06:54:39.406Z"
   },
   {
    "duration": 11,
    "start_time": "2024-04-08T06:54:39.771Z"
   },
   {
    "duration": 12,
    "start_time": "2024-04-08T06:54:39.784Z"
   },
   {
    "duration": 205,
    "start_time": "2024-04-08T06:54:39.799Z"
   },
   {
    "duration": 32,
    "start_time": "2024-04-08T06:54:40.006Z"
   },
   {
    "duration": 12,
    "start_time": "2024-04-08T06:54:40.040Z"
   },
   {
    "duration": 28,
    "start_time": "2024-04-08T06:54:40.053Z"
   },
   {
    "duration": 45,
    "start_time": "2024-04-08T06:54:40.084Z"
   },
   {
    "duration": 8,
    "start_time": "2024-04-08T06:54:40.131Z"
   },
   {
    "duration": 48,
    "start_time": "2024-04-08T06:54:40.141Z"
   },
   {
    "duration": 7,
    "start_time": "2024-04-08T06:54:40.190Z"
   },
   {
    "duration": 4,
    "start_time": "2024-04-08T06:54:40.199Z"
   },
   {
    "duration": 27,
    "start_time": "2024-04-08T06:54:40.205Z"
   },
   {
    "duration": 8,
    "start_time": "2024-04-08T06:54:40.234Z"
   },
   {
    "duration": 138,
    "start_time": "2024-04-08T06:54:40.244Z"
   },
   {
    "duration": 134,
    "start_time": "2024-04-08T06:54:40.384Z"
   },
   {
    "duration": 551,
    "start_time": "2024-04-08T06:54:40.520Z"
   },
   {
    "duration": 11,
    "start_time": "2024-04-08T06:54:41.079Z"
   },
   {
    "duration": 8,
    "start_time": "2024-04-08T06:54:41.092Z"
   },
   {
    "duration": 600,
    "start_time": "2024-04-08T06:54:41.102Z"
   },
   {
    "duration": 19,
    "start_time": "2024-04-08T06:54:41.703Z"
   },
   {
    "duration": 944,
    "start_time": "2024-04-08T06:54:41.723Z"
   },
   {
    "duration": 15,
    "start_time": "2024-04-08T06:54:42.669Z"
   },
   {
    "duration": 4,
    "start_time": "2024-04-08T06:54:42.686Z"
   },
   {
    "duration": 5,
    "start_time": "2024-04-08T06:54:42.692Z"
   },
   {
    "duration": 4,
    "start_time": "2024-04-08T06:54:42.698Z"
   },
   {
    "duration": 219,
    "start_time": "2024-04-08T06:54:42.703Z"
   },
   {
    "duration": 12,
    "start_time": "2024-04-08T06:54:42.923Z"
   },
   {
    "duration": 10,
    "start_time": "2024-04-08T06:54:42.936Z"
   },
   {
    "duration": 7,
    "start_time": "2024-04-08T06:54:42.948Z"
   },
   {
    "duration": 27,
    "start_time": "2024-04-08T06:54:42.956Z"
   },
   {
    "duration": 13,
    "start_time": "2024-04-08T06:54:42.985Z"
   },
   {
    "duration": 11,
    "start_time": "2024-04-08T06:54:43.000Z"
   },
   {
    "duration": 14,
    "start_time": "2024-04-08T06:54:43.013Z"
   },
   {
    "duration": 2,
    "start_time": "2024-04-08T06:54:43.029Z"
   },
   {
    "duration": 48,
    "start_time": "2024-04-08T06:55:45.559Z"
   },
   {
    "duration": 39,
    "start_time": "2024-04-08T06:55:50.899Z"
   },
   {
    "duration": 1190,
    "start_time": "2024-04-08T12:16:23.373Z"
   },
   {
    "duration": 299,
    "start_time": "2024-04-08T12:16:24.565Z"
   },
   {
    "duration": 2,
    "start_time": "2024-04-08T12:16:24.866Z"
   },
   {
    "duration": 19,
    "start_time": "2024-04-08T12:16:24.871Z"
   },
   {
    "duration": 48,
    "start_time": "2024-04-08T12:16:24.891Z"
   },
   {
    "duration": 745,
    "start_time": "2024-04-08T12:16:24.940Z"
   },
   {
    "duration": 34,
    "start_time": "2024-04-08T12:16:25.686Z"
   },
   {
    "duration": 37,
    "start_time": "2024-04-08T12:16:25.722Z"
   },
   {
    "duration": 11,
    "start_time": "2024-04-08T12:16:25.761Z"
   },
   {
    "duration": 6,
    "start_time": "2024-04-08T12:16:25.774Z"
   },
   {
    "duration": 39,
    "start_time": "2024-04-08T12:16:25.781Z"
   },
   {
    "duration": 25,
    "start_time": "2024-04-08T12:16:25.821Z"
   },
   {
    "duration": 14,
    "start_time": "2024-04-08T12:16:25.847Z"
   },
   {
    "duration": 14,
    "start_time": "2024-04-08T12:16:25.863Z"
   },
   {
    "duration": 21,
    "start_time": "2024-04-08T12:16:25.879Z"
   },
   {
    "duration": 12,
    "start_time": "2024-04-08T12:16:25.902Z"
   },
   {
    "duration": 14,
    "start_time": "2024-04-08T12:16:25.916Z"
   },
   {
    "duration": 166,
    "start_time": "2024-04-08T12:16:25.932Z"
   },
   {
    "duration": 10,
    "start_time": "2024-04-08T12:16:26.100Z"
   },
   {
    "duration": 22,
    "start_time": "2024-04-08T12:16:26.111Z"
   },
   {
    "duration": 137,
    "start_time": "2024-04-08T12:16:26.135Z"
   },
   {
    "duration": 8,
    "start_time": "2024-04-08T12:16:26.273Z"
   },
   {
    "duration": 185,
    "start_time": "2024-04-08T12:16:26.282Z"
   },
   {
    "duration": 8,
    "start_time": "2024-04-08T12:16:26.468Z"
   },
   {
    "duration": 304,
    "start_time": "2024-04-08T12:16:26.477Z"
   },
   {
    "duration": 8,
    "start_time": "2024-04-08T12:16:26.782Z"
   },
   {
    "duration": 30,
    "start_time": "2024-04-08T12:16:26.791Z"
   },
   {
    "duration": 167,
    "start_time": "2024-04-08T12:16:26.824Z"
   },
   {
    "duration": 30,
    "start_time": "2024-04-08T12:16:26.992Z"
   },
   {
    "duration": 42,
    "start_time": "2024-04-08T12:16:27.023Z"
   },
   {
    "duration": 6,
    "start_time": "2024-04-08T12:16:27.066Z"
   },
   {
    "duration": 35,
    "start_time": "2024-04-08T12:16:27.073Z"
   },
   {
    "duration": 8,
    "start_time": "2024-04-08T12:16:27.109Z"
   },
   {
    "duration": 37,
    "start_time": "2024-04-08T12:16:27.118Z"
   },
   {
    "duration": 6,
    "start_time": "2024-04-08T12:16:27.157Z"
   },
   {
    "duration": 4,
    "start_time": "2024-04-08T12:16:27.164Z"
   },
   {
    "duration": 10,
    "start_time": "2024-04-08T12:16:27.169Z"
   },
   {
    "duration": 7,
    "start_time": "2024-04-08T12:16:27.180Z"
   },
   {
    "duration": 108,
    "start_time": "2024-04-08T12:16:27.208Z"
   },
   {
    "duration": 114,
    "start_time": "2024-04-08T12:16:27.317Z"
   },
   {
    "duration": 446,
    "start_time": "2024-04-08T12:16:27.432Z"
   },
   {
    "duration": 8,
    "start_time": "2024-04-08T12:16:27.879Z"
   },
   {
    "duration": 14,
    "start_time": "2024-04-08T12:16:27.888Z"
   },
   {
    "duration": 510,
    "start_time": "2024-04-08T12:16:27.909Z"
   },
   {
    "duration": 17,
    "start_time": "2024-04-08T12:16:28.420Z"
   },
   {
    "duration": 748,
    "start_time": "2024-04-08T12:16:28.439Z"
   },
   {
    "duration": 7,
    "start_time": "2024-04-08T12:16:29.189Z"
   },
   {
    "duration": 15,
    "start_time": "2024-04-08T12:16:29.197Z"
   },
   {
    "duration": 17,
    "start_time": "2024-04-08T12:16:29.213Z"
   },
   {
    "duration": 5,
    "start_time": "2024-04-08T12:16:29.231Z"
   },
   {
    "duration": 178,
    "start_time": "2024-04-08T12:16:29.238Z"
   },
   {
    "duration": 10,
    "start_time": "2024-04-08T12:16:29.418Z"
   },
   {
    "duration": 9,
    "start_time": "2024-04-08T12:16:29.429Z"
   },
   {
    "duration": 7,
    "start_time": "2024-04-08T12:16:29.440Z"
   },
   {
    "duration": 6,
    "start_time": "2024-04-08T12:16:29.448Z"
   },
   {
    "duration": 5,
    "start_time": "2024-04-08T12:16:29.456Z"
   },
   {
    "duration": 5,
    "start_time": "2024-04-08T12:16:29.463Z"
   },
   {
    "duration": 45,
    "start_time": "2024-04-08T12:16:29.469Z"
   },
   {
    "duration": 2,
    "start_time": "2024-04-08T12:16:29.516Z"
   },
   {
    "duration": 9,
    "start_time": "2024-04-08T12:16:54.029Z"
   },
   {
    "duration": 7,
    "start_time": "2024-04-08T12:17:54.229Z"
   },
   {
    "duration": 87,
    "start_time": "2024-04-08T12:20:35.709Z"
   },
   {
    "duration": 16,
    "start_time": "2024-04-08T12:20:38.677Z"
   },
   {
    "duration": 5,
    "start_time": "2024-04-08T12:20:45.472Z"
   },
   {
    "duration": 4,
    "start_time": "2024-04-08T12:21:02.246Z"
   },
   {
    "duration": 8,
    "start_time": "2024-04-08T12:21:02.742Z"
   },
   {
    "duration": 678,
    "start_time": "2024-04-08T12:21:03.318Z"
   },
   {
    "duration": 1005,
    "start_time": "2024-04-08T12:22:03.939Z"
   },
   {
    "duration": 64,
    "start_time": "2024-04-08T12:22:04.946Z"
   },
   {
    "duration": 3,
    "start_time": "2024-04-08T12:22:05.011Z"
   },
   {
    "duration": 38,
    "start_time": "2024-04-08T12:22:05.017Z"
   },
   {
    "duration": 55,
    "start_time": "2024-04-08T12:22:05.057Z"
   },
   {
    "duration": 765,
    "start_time": "2024-04-08T12:22:05.113Z"
   },
   {
    "duration": 40,
    "start_time": "2024-04-08T12:22:05.880Z"
   },
   {
    "duration": 39,
    "start_time": "2024-04-08T12:22:05.921Z"
   },
   {
    "duration": 14,
    "start_time": "2024-04-08T12:22:05.962Z"
   },
   {
    "duration": 4,
    "start_time": "2024-04-08T12:22:06.009Z"
   },
   {
    "duration": 41,
    "start_time": "2024-04-08T12:22:06.014Z"
   },
   {
    "duration": 20,
    "start_time": "2024-04-08T12:22:06.056Z"
   },
   {
    "duration": 19,
    "start_time": "2024-04-08T12:22:06.077Z"
   },
   {
    "duration": 30,
    "start_time": "2024-04-08T12:22:06.098Z"
   },
   {
    "duration": 22,
    "start_time": "2024-04-08T12:22:06.129Z"
   },
   {
    "duration": 26,
    "start_time": "2024-04-08T12:22:06.153Z"
   },
   {
    "duration": 29,
    "start_time": "2024-04-08T12:22:06.181Z"
   },
   {
    "duration": 175,
    "start_time": "2024-04-08T12:22:06.212Z"
   },
   {
    "duration": 12,
    "start_time": "2024-04-08T12:22:06.388Z"
   },
   {
    "duration": 18,
    "start_time": "2024-04-08T12:22:06.401Z"
   },
   {
    "duration": 167,
    "start_time": "2024-04-08T12:22:06.420Z"
   },
   {
    "duration": 7,
    "start_time": "2024-04-08T12:22:06.588Z"
   },
   {
    "duration": 180,
    "start_time": "2024-04-08T12:22:06.596Z"
   },
   {
    "duration": 7,
    "start_time": "2024-04-08T12:22:06.777Z"
   },
   {
    "duration": 320,
    "start_time": "2024-04-08T12:22:06.786Z"
   },
   {
    "duration": 7,
    "start_time": "2024-04-08T12:22:07.108Z"
   },
   {
    "duration": 39,
    "start_time": "2024-04-08T12:22:07.116Z"
   },
   {
    "duration": 189,
    "start_time": "2024-04-08T12:22:07.159Z"
   },
   {
    "duration": 29,
    "start_time": "2024-04-08T12:22:07.350Z"
   },
   {
    "duration": 10,
    "start_time": "2024-04-08T12:22:07.380Z"
   },
   {
    "duration": 32,
    "start_time": "2024-04-08T12:22:07.392Z"
   },
   {
    "duration": 83,
    "start_time": "2024-04-08T12:22:07.426Z"
   },
   {
    "duration": 7,
    "start_time": "2024-04-08T12:22:07.511Z"
   },
   {
    "duration": 58,
    "start_time": "2024-04-08T12:22:07.519Z"
   },
   {
    "duration": 6,
    "start_time": "2024-04-08T12:22:07.579Z"
   },
   {
    "duration": 33,
    "start_time": "2024-04-08T12:22:07.586Z"
   },
   {
    "duration": 42,
    "start_time": "2024-04-08T12:22:07.621Z"
   },
   {
    "duration": 36,
    "start_time": "2024-04-08T12:22:07.664Z"
   },
   {
    "duration": 153,
    "start_time": "2024-04-08T12:22:07.702Z"
   },
   {
    "duration": 112,
    "start_time": "2024-04-08T12:22:07.857Z"
   },
   {
    "duration": 451,
    "start_time": "2024-04-08T12:22:07.971Z"
   },
   {
    "duration": 8,
    "start_time": "2024-04-08T12:22:08.423Z"
   },
   {
    "duration": 26,
    "start_time": "2024-04-08T12:22:08.432Z"
   },
   {
    "duration": 543,
    "start_time": "2024-04-08T12:22:08.459Z"
   },
   {
    "duration": 18,
    "start_time": "2024-04-08T12:22:09.004Z"
   },
   {
    "duration": 860,
    "start_time": "2024-04-08T12:22:09.023Z"
   },
   {
    "duration": 7,
    "start_time": "2024-04-08T12:22:09.885Z"
   },
   {
    "duration": 17,
    "start_time": "2024-04-08T12:22:09.894Z"
   },
   {
    "duration": 37,
    "start_time": "2024-04-08T12:22:09.912Z"
   },
   {
    "duration": 16,
    "start_time": "2024-04-08T12:22:09.950Z"
   },
   {
    "duration": 218,
    "start_time": "2024-04-08T12:22:09.967Z"
   },
   {
    "duration": 11,
    "start_time": "2024-04-08T12:22:10.187Z"
   },
   {
    "duration": 25,
    "start_time": "2024-04-08T12:22:10.208Z"
   },
   {
    "duration": 24,
    "start_time": "2024-04-08T12:22:10.235Z"
   },
   {
    "duration": 32,
    "start_time": "2024-04-08T12:22:10.260Z"
   },
   {
    "duration": 27,
    "start_time": "2024-04-08T12:22:10.293Z"
   },
   {
    "duration": 31,
    "start_time": "2024-04-08T12:22:10.321Z"
   },
   {
    "duration": 42,
    "start_time": "2024-04-08T12:22:10.353Z"
   },
   {
    "duration": 31,
    "start_time": "2024-04-08T12:22:10.396Z"
   },
   {
    "duration": 35,
    "start_time": "2024-04-08T12:22:10.429Z"
   },
   {
    "duration": 21,
    "start_time": "2024-04-08T12:22:10.465Z"
   },
   {
    "duration": 39,
    "start_time": "2024-04-08T12:22:10.488Z"
   },
   {
    "duration": 28,
    "start_time": "2024-04-08T12:22:10.528Z"
   },
   {
    "duration": 42,
    "start_time": "2024-04-08T12:22:10.558Z"
   },
   {
    "duration": 22,
    "start_time": "2024-04-08T12:22:10.601Z"
   },
   {
    "duration": 37,
    "start_time": "2024-04-08T12:22:10.624Z"
   },
   {
    "duration": 14,
    "start_time": "2024-04-08T12:22:10.662Z"
   },
   {
    "duration": 51,
    "start_time": "2024-04-08T12:22:10.677Z"
   },
   {
    "duration": 30,
    "start_time": "2024-04-08T12:22:10.730Z"
   },
   {
    "duration": 32,
    "start_time": "2024-04-08T12:22:10.762Z"
   },
   {
    "duration": 44,
    "start_time": "2024-04-08T12:22:10.796Z"
   },
   {
    "duration": 681,
    "start_time": "2024-04-08T12:22:10.841Z"
   },
   {
    "duration": 3,
    "start_time": "2024-04-08T12:22:11.523Z"
   },
   {
    "duration": 40,
    "start_time": "2024-04-08T12:22:11.527Z"
   },
   {
    "duration": 132,
    "start_time": "2024-04-08T12:22:11.568Z"
   },
   {
    "duration": 18,
    "start_time": "2024-04-08T12:22:11.702Z"
   },
   {
    "duration": 25,
    "start_time": "2024-04-08T12:22:11.722Z"
   },
   {
    "duration": 651,
    "start_time": "2024-04-08T12:22:11.749Z"
   },
   {
    "duration": 1114,
    "start_time": "2024-05-19T14:23:10.997Z"
   },
   {
    "duration": 197,
    "start_time": "2024-05-19T14:23:12.113Z"
   },
   {
    "duration": 2,
    "start_time": "2024-05-19T14:23:12.311Z"
   },
   {
    "duration": 19,
    "start_time": "2024-05-19T14:23:12.316Z"
   },
   {
    "duration": 35,
    "start_time": "2024-05-19T14:23:12.336Z"
   },
   {
    "duration": 653,
    "start_time": "2024-05-19T14:23:12.373Z"
   },
   {
    "duration": 20,
    "start_time": "2024-05-19T14:23:13.027Z"
   },
   {
    "duration": 53,
    "start_time": "2024-05-19T14:23:13.048Z"
   },
   {
    "duration": 11,
    "start_time": "2024-05-19T14:23:13.103Z"
   },
   {
    "duration": 9,
    "start_time": "2024-05-19T14:23:13.117Z"
   },
   {
    "duration": 15,
    "start_time": "2024-05-19T14:23:13.127Z"
   },
   {
    "duration": 4,
    "start_time": "2024-05-19T14:23:13.143Z"
   },
   {
    "duration": 14,
    "start_time": "2024-05-19T14:23:13.148Z"
   },
   {
    "duration": 3,
    "start_time": "2024-05-19T14:23:13.164Z"
   },
   {
    "duration": 8,
    "start_time": "2024-05-19T14:23:13.169Z"
   },
   {
    "duration": 4,
    "start_time": "2024-05-19T14:23:13.178Z"
   },
   {
    "duration": 18,
    "start_time": "2024-05-19T14:23:13.183Z"
   },
   {
    "duration": 223,
    "start_time": "2024-05-19T14:23:13.203Z"
   },
   {
    "duration": 129,
    "start_time": "2024-05-19T14:23:13.428Z"
   },
   {
    "duration": 5,
    "start_time": "2024-05-19T14:23:13.558Z"
   },
   {
    "duration": 15,
    "start_time": "2024-05-19T14:23:13.564Z"
   },
   {
    "duration": 128,
    "start_time": "2024-05-19T14:23:13.580Z"
   },
   {
    "duration": 6,
    "start_time": "2024-05-19T14:23:13.709Z"
   },
   {
    "duration": 145,
    "start_time": "2024-05-19T14:23:13.716Z"
   },
   {
    "duration": 6,
    "start_time": "2024-05-19T14:23:13.862Z"
   },
   {
    "duration": 254,
    "start_time": "2024-05-19T14:23:13.869Z"
   },
   {
    "duration": 6,
    "start_time": "2024-05-19T14:23:14.125Z"
   },
   {
    "duration": 8,
    "start_time": "2024-05-19T14:23:14.134Z"
   },
   {
    "duration": 162,
    "start_time": "2024-05-19T14:23:14.143Z"
   },
   {
    "duration": 25,
    "start_time": "2024-05-19T14:23:14.307Z"
   },
   {
    "duration": 7,
    "start_time": "2024-05-19T14:23:14.333Z"
   },
   {
    "duration": 3,
    "start_time": "2024-05-19T14:23:14.341Z"
   },
   {
    "duration": 29,
    "start_time": "2024-05-19T14:23:14.345Z"
   },
   {
    "duration": 27,
    "start_time": "2024-05-19T14:23:14.375Z"
   },
   {
    "duration": 27,
    "start_time": "2024-05-19T14:23:14.403Z"
   },
   {
    "duration": 7,
    "start_time": "2024-05-19T14:23:14.431Z"
   },
   {
    "duration": 2,
    "start_time": "2024-05-19T14:23:14.439Z"
   },
   {
    "duration": 6,
    "start_time": "2024-05-19T14:23:14.443Z"
   },
   {
    "duration": 5,
    "start_time": "2024-05-19T14:23:14.450Z"
   },
   {
    "duration": 118,
    "start_time": "2024-05-19T14:23:14.456Z"
   },
   {
    "duration": 100,
    "start_time": "2024-05-19T14:23:14.575Z"
   },
   {
    "duration": 399,
    "start_time": "2024-05-19T14:23:14.677Z"
   },
   {
    "duration": 7,
    "start_time": "2024-05-19T14:23:15.077Z"
   },
   {
    "duration": 26,
    "start_time": "2024-05-19T14:23:15.085Z"
   },
   {
    "duration": 438,
    "start_time": "2024-05-19T14:23:15.113Z"
   },
   {
    "duration": 14,
    "start_time": "2024-05-19T14:23:15.552Z"
   },
   {
    "duration": 753,
    "start_time": "2024-05-19T14:23:15.568Z"
   },
   {
    "duration": 6,
    "start_time": "2024-05-19T14:23:16.322Z"
   },
   {
    "duration": 9,
    "start_time": "2024-05-19T14:23:16.330Z"
   },
   {
    "duration": 12,
    "start_time": "2024-05-19T14:23:16.340Z"
   },
   {
    "duration": 4,
    "start_time": "2024-05-19T14:23:16.353Z"
   },
   {
    "duration": 206,
    "start_time": "2024-05-19T14:23:16.358Z"
   },
   {
    "duration": 11,
    "start_time": "2024-05-19T14:23:16.566Z"
   },
   {
    "duration": 9,
    "start_time": "2024-05-19T14:23:16.579Z"
   },
   {
    "duration": 14,
    "start_time": "2024-05-19T14:23:16.589Z"
   },
   {
    "duration": 7,
    "start_time": "2024-05-19T14:23:16.604Z"
   },
   {
    "duration": 5,
    "start_time": "2024-05-19T14:23:16.613Z"
   },
   {
    "duration": 8,
    "start_time": "2024-05-19T14:23:16.619Z"
   },
   {
    "duration": 8,
    "start_time": "2024-05-19T14:23:16.628Z"
   },
   {
    "duration": 19,
    "start_time": "2024-05-19T14:23:16.638Z"
   },
   {
    "duration": 9,
    "start_time": "2024-05-19T14:23:16.658Z"
   },
   {
    "duration": 4,
    "start_time": "2024-05-19T14:23:16.668Z"
   },
   {
    "duration": 28,
    "start_time": "2024-05-19T14:23:16.674Z"
   },
   {
    "duration": 11,
    "start_time": "2024-05-19T14:23:16.703Z"
   },
   {
    "duration": 13,
    "start_time": "2024-05-19T14:23:16.715Z"
   },
   {
    "duration": 16,
    "start_time": "2024-05-19T14:23:16.729Z"
   },
   {
    "duration": 11,
    "start_time": "2024-05-19T14:23:16.746Z"
   },
   {
    "duration": 6,
    "start_time": "2024-05-19T14:23:16.758Z"
   },
   {
    "duration": 19,
    "start_time": "2024-05-19T14:23:16.765Z"
   },
   {
    "duration": 4,
    "start_time": "2024-05-19T14:23:16.785Z"
   },
   {
    "duration": 3,
    "start_time": "2024-05-19T14:23:16.801Z"
   },
   {
    "duration": 23,
    "start_time": "2024-05-19T14:23:16.805Z"
   },
   {
    "duration": 551,
    "start_time": "2024-05-19T14:23:16.829Z"
   },
   {
    "duration": 3,
    "start_time": "2024-05-19T14:23:17.381Z"
   },
   {
    "duration": 17,
    "start_time": "2024-05-19T14:23:17.385Z"
   },
   {
    "duration": 89,
    "start_time": "2024-05-19T14:23:17.403Z"
   },
   {
    "duration": 15,
    "start_time": "2024-05-19T14:23:17.493Z"
   },
   {
    "duration": 7,
    "start_time": "2024-05-19T14:23:17.510Z"
   },
   {
    "duration": 800,
    "start_time": "2024-05-19T14:23:17.518Z"
   }
  ],
  "kernelspec": {
   "display_name": "Python 3 (ipykernel)",
   "language": "python",
   "name": "python3"
  },
  "language_info": {
   "codemirror_mode": {
    "name": "ipython",
    "version": 3
   },
   "file_extension": ".py",
   "mimetype": "text/x-python",
   "name": "python",
   "nbconvert_exporter": "python",
   "pygments_lexer": "ipython3",
   "version": "3.9.5"
  },
  "toc": {
   "base_numbering": 1,
   "nav_menu": {},
   "number_sections": true,
   "sideBar": true,
   "skip_h1_title": true,
   "title_cell": "Table of Contents",
   "title_sidebar": "Contents",
   "toc_cell": false,
   "toc_position": {},
   "toc_section_display": true,
   "toc_window_display": true
  }
 },
 "nbformat": 4,
 "nbformat_minor": 5
}
